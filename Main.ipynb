{
 "cells": [
  {
   "cell_type": "code",
   "execution_count": 23,
   "id": "1b2c365a",
   "metadata": {},
   "outputs": [],
   "source": [
    "# import os\n",
    "import json\n",
    "import gzip\n",
    "import pandas as pd\n",
    "# from urllib.request import urlopen"
   ]
  },
  {
   "cell_type": "code",
   "execution_count": 24,
   "id": "979d91cc",
   "metadata": {},
   "outputs": [],
   "source": [
    "# !wget https://datarepo.eng.ucsd.edu/mcauley_group/data/amazon_v2/categoryFilesSmall/AMAZON_FASHION_5.json.gz\n",
    "# Even if we use the link above, it will download the file to the local machine. So I put the file in the same directory as the notebook"
   ]
  },
  {
   "cell_type": "code",
   "execution_count": 25,
   "id": "71227ad8",
   "metadata": {},
   "outputs": [
    {
     "name": "stdout",
     "output_type": "stream",
     "text": [
      "Total number of items in the dataset:  12805\n",
      "{'overall': 4.0, 'verified': False, 'reviewTime': '10 20, 2010', 'reviewerID': 'A38NELQT98S4H8', 'asin': '0321719816', 'style': {'Format:': ' DVD-ROM'}, 'reviewerName': 'WB Halper', 'reviewText': \"I've been using Dreamweaver (and it's predecessor Macromedia's UltraDev) for many years.  For someone who is an experienced web designer, this course is a high-level review of the CS5 version of Dreamweaver, but it doesn't go into a great enough level of detail to find it very useful.\\n\\nOn the other hand, this is a great tool for someone who is a relative novice at web design.  It starts off with a basic overview of HTML and continues through the concepts necessary to build a modern web site.  Someone who goes through this course should exit with enough knowledge to create something that does what you want it do do...within reason.  Don't expect to go off and build an entire e-commerce system with only this class under your belt.\\n\\nIt's important to note that there's a long gap from site design to actual implementation.  This course teaches you how to implement a design.  The user interface and overall user experience is a different subject that isn't covered here...it's possible to do a great implementation of an absolutely abysmal design.  I speak from experience.  :)\\n\\nAs I said above, if you're a novice, a relative newcomer or just an experienced web designer who wants a refresher course, this is a good way to do it.\", 'summary': 'A solid overview of Dreamweaver CS5', 'unixReviewTime': 1287532800}\n"
     ]
    }
   ],
   "source": [
    "# Data is in the format: \n",
    "# \"overall\": 4.0,\n",
    "# \"verified\",\n",
    "# \"reviewTime\",\n",
    "# \"reviewerID\",\n",
    "# \"asin\",\n",
    "# \"style\": {\"Format:\"}\n",
    "# \"reviewerName\",\n",
    "# \"reviewText\"\n",
    "# \"summary\",\n",
    "# \"unixReviewTime\"\n",
    "\n",
    "### load the meta data\n",
    "data = []\n",
    "with gzip.open('Dataset/Software.json.gz') as f:\n",
    "    for l in f:\n",
    "        data.append(json.loads(l.strip()))\n",
    "    \n",
    "# total length of list, this number equals total number of products\n",
    "print(\"Total number of items in the dataset: \", len(data))\n",
    "\n",
    "# first row of the list\n",
    "print(data[0])"
   ]
  },
  {
   "cell_type": "code",
   "execution_count": 26,
   "metadata": {},
   "outputs": [
    {
     "name": "stdout",
     "output_type": "stream",
     "text": [
      "12805\n",
      "       overall  verified   reviewTime      reviewerID        asin  \\\n",
      "0          4.0     False  10 20, 2010  A38NELQT98S4H8  0321719816   \n",
      "1          4.0     False  10 18, 2010  A3QJU4FEN8PQSZ  0321719816   \n",
      "2          5.0     False  10 16, 2010   ACJT8MUC0LRF0  0321719816   \n",
      "3          5.0     False  10 12, 2010   AYUF7YETYOLNX  0321719816   \n",
      "4          5.0     False   10 7, 2010  A31ICLWQ9CSHRS  0321719816   \n",
      "...        ...       ...          ...             ...         ...   \n",
      "12800      4.0     False  07 16, 2016  A1E50L7PCVXLN4  B01FFVDY9M   \n",
      "12801      3.0     False  06 17, 2017   AVU1ILDDYW301  B01HAP3NUG   \n",
      "12802      4.0     False  01 24, 2017  A2LW5AL0KQ9P1M  B01HAP3NUG   \n",
      "12803      3.0     False  06 14, 2018   AZ515FFZ7I2P7  B01HAP47PQ   \n",
      "12804      4.0     False  04 16, 2018  A2WPL6Y08K6ZQH  B01HAP47PQ   \n",
      "\n",
      "                            style       reviewerName  \\\n",
      "0         {'Format:': ' DVD-ROM'}          WB Halper   \n",
      "1         {'Format:': ' DVD-ROM'}             Grimmy   \n",
      "2         {'Format:': ' DVD-ROM'}          D. Fowler   \n",
      "3         {'Format:': ' DVD-ROM'}       Bryan Newman   \n",
      "4         {'Format:': ' DVD-ROM'}         Al Swanson   \n",
      "...                           ...                ...   \n",
      "12800  {'Platform:': ' Key Card'}            Colinda   \n",
      "12801                         NaN           G. Hearn   \n",
      "12802                         NaN              Dr. E   \n",
      "12803   {'Platform:': ' PC Disc'}  Jerry Jackson Jr.   \n",
      "12804   {'Platform:': ' PC Disc'}        Narut Ujnat   \n",
      "\n",
      "                                              reviewText  \\\n",
      "0      I've been using Dreamweaver (and it's predeces...   \n",
      "1      The demo is done with the PC version, with ref...   \n",
      "2      If you've been wanting to learn how to create ...   \n",
      "3      I've been creating websites with Dreamweaver f...   \n",
      "4      I decided (after trying a number of other prod...   \n",
      "...                                                  ...   \n",
      "12800  When I ordered this it was listed as Photo Edi...   \n",
      "12801  This software has SO much going on.  Theres a ...   \n",
      "12802  I have used both more complex and less complex...   \n",
      "12803  Pinnacle Studio 20 Ultimate is a perfectly ser...   \n",
      "12804  A program that is fairly easy to use and provi...   \n",
      "\n",
      "                                                 summary  unixReviewTime vote  \\\n",
      "0                    A solid overview of Dreamweaver CS5      1287532800  NaN   \n",
      "1                                           A good value      1287360000  NaN   \n",
      "2      This is excellent software for those who want ...      1287187200    3   \n",
      "3      A Fantastic Overview of Dream Weaver and Web D...      1286841600  NaN   \n",
      "4                                   Excellent Tutorials!      1286409600  NaN   \n",
      "...                                                  ...             ...  ...   \n",
      "12800  File Management Software with Basic Editing Ca...      1468627200  NaN   \n",
      "12801                      Might not be for the \"novice\"      1497657600  NaN   \n",
      "12802  Great, Inexpensive Software for Those Who Have...      1485216000  NaN   \n",
      "12803  Gets the job done ... but not as easy as it sh...      1528934400  NaN   \n",
      "12804                              Good overall program.      1523836800  NaN   \n",
      "\n",
      "      image  \n",
      "0       NaN  \n",
      "1       NaN  \n",
      "2       NaN  \n",
      "3       NaN  \n",
      "4       NaN  \n",
      "...     ...  \n",
      "12800   NaN  \n",
      "12801   NaN  \n",
      "12802   NaN  \n",
      "12803   NaN  \n",
      "12804   NaN  \n",
      "\n",
      "[12805 rows x 12 columns]\n"
     ]
    }
   ],
   "source": [
    "# convert list into pandas dataframe\n",
    "\n",
    "df = pd.DataFrame.from_dict(data)\n",
    "\n",
    "print(len(df))\n",
    "print(df)"
   ]
  }
 ],
 "metadata": {
  "kernelspec": {
   "display_name": "Python 3 (ipykernel)",
   "language": "python",
   "name": "python3"
  },
  "language_info": {
   "codemirror_mode": {
    "name": "ipython",
    "version": 3
   },
   "file_extension": ".py",
   "mimetype": "text/x-python",
   "name": "python",
   "nbconvert_exporter": "python",
   "pygments_lexer": "ipython3",
   "version": "3.10.9"
  }
 },
 "nbformat": 4,
 "nbformat_minor": 5
}
