{
 "cells": [
  {
   "cell_type": "markdown",
   "id": "60e242cc21f08104",
   "metadata": {
    "collapsed": false
   },
   "source": [
    "# 02807 Final project: Recommendation system\n",
    "Recommendation system of products from __Digital Music__ category on __Amazon__. Products are suggested based on a short description inserted by a user.\n",
    "[**Data source**](https://cseweb.ucsd.edu/~jmcauley/datasets/amazon_v2/)"
   ]
  },
  {
   "cell_type": "markdown",
   "id": "586320e6b1f6d0c3",
   "metadata": {
    "collapsed": false
   },
   "source": [
    "## Data processing"
   ]
  },
  {
   "cell_type": "code",
   "execution_count": 1,
   "id": "5a1ad38c7912c0b9",
   "metadata": {
    "ExecuteTime": {
     "end_time": "2023-11-26T00:34:20.855370804Z",
     "start_time": "2023-11-26T00:34:17.797028805Z"
    }
   },
   "outputs": [],
   "source": [
    "# Imports\n",
    "import json\n",
    "import gzip\n",
    "import spacy\n",
    "import warnings\n",
    "import os\n",
    "import pandas as pd\n",
    "import numpy as np\n",
    "import torch\n",
    "from sklearn.decomposition import TruncatedSVD\n",
    "from sklearn.cluster import DBSCAN, KMeans\n",
    "from scipy import sparse\n",
    "from hdbscan import HDBSCAN\n",
    "from collections import Counter, defaultdict\n",
    "from lxml import html, etree\n",
    "from nrclex import NRCLex\n",
    "from transformers import AutoTokenizer, AutoModelWithLMHead"
   ]
  },
  {
   "cell_type": "code",
   "execution_count": 7,
   "id": "979d91cc",
   "metadata": {
    "ExecuteTime": {
     "end_time": "2023-11-25T22:33:27.760076069Z",
     "start_time": "2023-11-25T22:33:27.753425782Z"
    }
   },
   "outputs": [
    {
     "name": "stdout",
     "output_type": "stream",
     "text": [
      "Dataset already downloaded.\n"
     ]
    }
   ],
   "source": [
    "# Download dataset if it is not downloaded yet\n",
    "if not os.path.exists('Dataset/meta_Digital_Music.json.gz'):\n",
    "    !wget https://datarepo.eng.ucsd.edu/mcauley_group/data/amazon_v2/metaFiles2/meta_Digital_Music.json.gz -P ./Dataset\n",
    "else:\n",
    "    print('Dataset already downloaded.')"
   ]
  },
  {
   "cell_type": "markdown",
   "id": "8f9fe8c13463e2f2",
   "metadata": {
    "collapsed": false
   },
   "source": [
    "__Data format__\n",
    "   * `asin`: ID of the product, e.g. 0000031852\n",
    "   * `title`: name of the product\n",
    "   * `feature`: bullet-point format features of the product\n",
    "   * `description`: description of the product\n",
    "   * `price`: price in US dollars (at time of crawl)\n",
    "   * `imageURL`: url of the product image\n",
    "   * `imageURL`: url of the high resolution product image\n",
    "   * `related`: related products (also bought, also viewed, bought together, buy after viewing)\n",
    "   * `salesRank`: sales rank information\n",
    "   * `brand`: brand name\n",
    "   * `categories`: list of categories the product belongs to\n",
    "   * `tech1`: the first technical detail table of the product\n",
    "   * `tech2`: the second technical detail table of the product\n",
    "   * `similar`: similar product table\n",
    "\n",
    "_Note that there are usually multiple attributes left out blank for each product (specific attributes differs from product to product)._ \n"
   ]
  },
  {
   "cell_type": "code",
   "execution_count": 2,
   "id": "71227ad8",
   "metadata": {
    "ExecuteTime": {
     "end_time": "2023-11-26T00:34:23.019977881Z",
     "start_time": "2023-11-26T00:34:21.074474982Z"
    }
   },
   "outputs": [
    {
     "name": "stdout",
     "output_type": "stream",
     "text": [
      "Total number of items in the dataset:  74347\n"
     ]
    }
   ],
   "source": [
    "# Data is in the format: \n",
    "# \"overall\": 4.0,\n",
    "# \"verified\",\n",
    "# \"reviewTime\",\n",
    "# \"reviewerID\",\n",
    "# \"asin\",\n",
    "# \"style\": {\"Format:\"}\n",
    "# \"reviewerName\",\n",
    "# \"reviewText\"\n",
    "# \"summary\",\n",
    "# \"unixReviewTime\"\n",
    "\n",
    "### Load the meta data\n",
    "data = []\n",
    "with gzip.open('Dataset/meta_Digital_Music.json.gz') as f:\n",
    "    for l in f:\n",
    "        data.append(json.loads(l.strip()))\n",
    "    \n",
    "# Total length of list, this number equals total number of products\n",
    "print(\"Total number of items in the dataset: \", len(data))"
   ]
  },
  {
   "cell_type": "code",
   "execution_count": 3,
   "id": "1c4144d3174f5e6",
   "metadata": {
    "ExecuteTime": {
     "end_time": "2023-11-26T00:34:25.840312469Z",
     "start_time": "2023-11-26T00:34:24.223970373Z"
    }
   },
   "outputs": [
    {
     "data": {
      "text/plain": "   category tech1                                        description fit  \\\n4        []        1. Losing Game 2. I Can't Wait 3. Didn't He Sh...       \n10       []        The Music Connection by Silver Burdett Ginn is...       \n14       []        These entertaining, bright, joyous romps are f...       \n15       []        The KING JAMES BIBLE is part of our deepest cu...       \n17       []        Soothing background music and a female voice l...       \n\n                                                title  \\\n4                           Early Works - Dallas Holm   \n10                 The Music Connection Grade 3, CD 7   \n14  Chicka Chicka Boom Boom CD Trio- Set of Three ...   \n15                                        Speak To Me   \n17  <span class=\"a-size-medium a-color-secondary a...   \n\n                                             also_buy tech2  \\\n4   [B0002N4JP2, 0760131694, B00002EQ79, B00150K8J...         \n10                                                 []         \n14                                                 []         \n15                                                 []         \n17                                                 []         \n\n                                              brand feature  \\\n4                                       Dallas Holm      []   \n10                              Silver Burdett Ginn      []   \n14                                   Bill Martin Jr      []   \n15                                      David Teems      []   \n17  Benita A. Esposito and Steven Mark Kohn (music)      []   \n\n                            rank  \\\n4       399,269 in CDs & Vinyl (   \n10      694,369 in CDs & Vinyl (   \n14      564,433 in CDs & Vinyl (   \n15  506,806 in CDs &amp; Vinyl (   \n17  980,759 in CDs &amp; Vinyl (   \n\n                                            also_view  \\\n4   [B0002N4JP2, 0760131694, B00150K8JC, B003MTXNV...   \n10  [0382262948, 0382262875, 0382262891, 038226290...   \n14                                       [1481400568]   \n15                                                 []   \n17                                                 []   \n\n                                             main_cat similar_item date  \\\n4   <img src=\"https://images-na.ssl-images-amazon....                     \n10  <img src=\"https://images-na.ssl-images-amazon....                     \n14  <img src=\"https://images-na.ssl-images-amazon....                     \n15  <img src=\"https://images-na.ssl-images-amazon....                     \n17  <img src=\"https://images-na.ssl-images-amazon....                     \n\n      price        asin                                           imageURL  \\\n4            0001526146                                                 []   \n10   $18.79  0382262921  [https://images-na.ssl-images-amazon.com/image...   \n14           0545352886                                                 []   \n15  $500.00  0578077698  [https://images-na.ssl-images-amazon.com/image...   \n17           0615165982  [https://images-na.ssl-images-amazon.com/image...   \n\n                                      imageURLHighRes details  \n4                                                  []     NaN  \n10  [https://images-na.ssl-images-amazon.com/image...     NaN  \n14                                                 []     NaN  \n15  [https://images-na.ssl-images-amazon.com/image...     NaN  \n17  [https://images-na.ssl-images-amazon.com/image...     NaN  ",
      "text/html": "<div>\n<style scoped>\n    .dataframe tbody tr th:only-of-type {\n        vertical-align: middle;\n    }\n\n    .dataframe tbody tr th {\n        vertical-align: top;\n    }\n\n    .dataframe thead th {\n        text-align: right;\n    }\n</style>\n<table border=\"1\" class=\"dataframe\">\n  <thead>\n    <tr style=\"text-align: right;\">\n      <th></th>\n      <th>category</th>\n      <th>tech1</th>\n      <th>description</th>\n      <th>fit</th>\n      <th>title</th>\n      <th>also_buy</th>\n      <th>tech2</th>\n      <th>brand</th>\n      <th>feature</th>\n      <th>rank</th>\n      <th>also_view</th>\n      <th>main_cat</th>\n      <th>similar_item</th>\n      <th>date</th>\n      <th>price</th>\n      <th>asin</th>\n      <th>imageURL</th>\n      <th>imageURLHighRes</th>\n      <th>details</th>\n    </tr>\n  </thead>\n  <tbody>\n    <tr>\n      <th>4</th>\n      <td>[]</td>\n      <td></td>\n      <td>1. Losing Game 2. I Can't Wait 3. Didn't He Sh...</td>\n      <td></td>\n      <td>Early Works - Dallas Holm</td>\n      <td>[B0002N4JP2, 0760131694, B00002EQ79, B00150K8J...</td>\n      <td></td>\n      <td>Dallas Holm</td>\n      <td>[]</td>\n      <td>399,269 in CDs &amp; Vinyl (</td>\n      <td>[B0002N4JP2, 0760131694, B00150K8JC, B003MTXNV...</td>\n      <td>&lt;img src=\"https://images-na.ssl-images-amazon....</td>\n      <td></td>\n      <td></td>\n      <td></td>\n      <td>0001526146</td>\n      <td>[]</td>\n      <td>[]</td>\n      <td>NaN</td>\n    </tr>\n    <tr>\n      <th>10</th>\n      <td>[]</td>\n      <td></td>\n      <td>The Music Connection by Silver Burdett Ginn is...</td>\n      <td></td>\n      <td>The Music Connection Grade 3, CD 7</td>\n      <td>[]</td>\n      <td></td>\n      <td>Silver Burdett Ginn</td>\n      <td>[]</td>\n      <td>694,369 in CDs &amp; Vinyl (</td>\n      <td>[0382262948, 0382262875, 0382262891, 038226290...</td>\n      <td>&lt;img src=\"https://images-na.ssl-images-amazon....</td>\n      <td></td>\n      <td></td>\n      <td>$18.79</td>\n      <td>0382262921</td>\n      <td>[https://images-na.ssl-images-amazon.com/image...</td>\n      <td>[https://images-na.ssl-images-amazon.com/image...</td>\n      <td>NaN</td>\n    </tr>\n    <tr>\n      <th>14</th>\n      <td>[]</td>\n      <td></td>\n      <td>These entertaining, bright, joyous romps are f...</td>\n      <td></td>\n      <td>Chicka Chicka Boom Boom CD Trio- Set of Three ...</td>\n      <td>[]</td>\n      <td></td>\n      <td>Bill Martin Jr</td>\n      <td>[]</td>\n      <td>564,433 in CDs &amp; Vinyl (</td>\n      <td>[1481400568]</td>\n      <td>&lt;img src=\"https://images-na.ssl-images-amazon....</td>\n      <td></td>\n      <td></td>\n      <td></td>\n      <td>0545352886</td>\n      <td>[]</td>\n      <td>[]</td>\n      <td>NaN</td>\n    </tr>\n    <tr>\n      <th>15</th>\n      <td>[]</td>\n      <td></td>\n      <td>The KING JAMES BIBLE is part of our deepest cu...</td>\n      <td></td>\n      <td>Speak To Me</td>\n      <td>[]</td>\n      <td></td>\n      <td>David Teems</td>\n      <td>[]</td>\n      <td>506,806 in CDs &amp;amp; Vinyl (</td>\n      <td>[]</td>\n      <td>&lt;img src=\"https://images-na.ssl-images-amazon....</td>\n      <td></td>\n      <td></td>\n      <td>$500.00</td>\n      <td>0578077698</td>\n      <td>[https://images-na.ssl-images-amazon.com/image...</td>\n      <td>[https://images-na.ssl-images-amazon.com/image...</td>\n      <td>NaN</td>\n    </tr>\n    <tr>\n      <th>17</th>\n      <td>[]</td>\n      <td></td>\n      <td>Soothing background music and a female voice l...</td>\n      <td></td>\n      <td>&lt;span class=\"a-size-medium a-color-secondary a...</td>\n      <td>[]</td>\n      <td></td>\n      <td>Benita A. Esposito and Steven Mark Kohn (music)</td>\n      <td>[]</td>\n      <td>980,759 in CDs &amp;amp; Vinyl (</td>\n      <td>[]</td>\n      <td>&lt;img src=\"https://images-na.ssl-images-amazon....</td>\n      <td></td>\n      <td></td>\n      <td></td>\n      <td>0615165982</td>\n      <td>[https://images-na.ssl-images-amazon.com/image...</td>\n      <td>[https://images-na.ssl-images-amazon.com/image...</td>\n      <td>NaN</td>\n    </tr>\n  </tbody>\n</table>\n</div>"
     },
     "execution_count": 3,
     "metadata": {},
     "output_type": "execute_result"
    }
   ],
   "source": [
    "# Convert list into pandas dataframe\n",
    "df = pd.DataFrame.from_dict(data)\n",
    "\n",
    "# Change list to strings\n",
    "df.description = df.description.apply(lambda x: \". \".join(x))\n",
    "\n",
    "# A lot of the descriptions (and other features) contain HTML.\n",
    "# The function parses and \"translates\" into plain text descriptions more suitable for analysis\n",
    "def strip_html(s):\n",
    "    if not s or s.isspace(): \n",
    "        return ''\n",
    "    try:\n",
    "        return str(html.fromstring(s).text_content())\n",
    "    except etree.ParserError: # I am not able to find out why the error occur so i continued by catching the exception. Seem to happen on some empty description strings \n",
    "        return ''\n",
    "\n",
    "df.description = df.description.apply(lambda x: strip_html(x))\n",
    "\n",
    "# Filter out descriptions shorter than 100 chars\n",
    "df = df[df['description'].map(lambda d: len(d) >= 100)]\n",
    "\n",
    "df.head()"
   ]
  },
  {
   "cell_type": "code",
   "execution_count": 10,
   "id": "a69f516632291f35",
   "metadata": {
    "ExecuteTime": {
     "end_time": "2023-11-25T22:33:35.859940992Z",
     "start_time": "2023-11-25T22:33:35.846507598Z"
    }
   },
   "outputs": [
    {
     "name": "stdout",
     "output_type": "stream",
     "text": [
      "Total number of products after filtering out:  21911\n",
      "First three product description\n",
      "\n",
      "Early Works - Dallas Holm\n",
      "1. Losing Game 2. I Can't Wait 3. Didn't He Shine 4. Never Seen...Righteous... 5. A Broken Heart 6. Looking Back 7. Here We Are 8. I Saw The Lord 9. Jesus Is A River Of Love 10. Hittin' The Road 11. I've Never Been Out Of... 12. Jesus Gotta Hold Of My Life 13. Saved- Saved- Saved 14. What Will You Do? 15. Rise Again\n",
      "\n",
      "The Music Connection Grade 3, CD 7\n",
      "The Music Connection by Silver Burdett Ginn is a teaching aid for  \n",
      "an elementary music or a homeroom teacher. Created by authorities  \n",
      "in Music, The Music Connection: by Silver Burdett provides an  \n",
      "excellent foundation for Music studies. Silver Burdetts style is  \n",
      "suited towards Music studies, and will teach students the  \n",
      "material clearly without overcomplicating the subject. Contains a  \n",
      "variety of recordings such as vocal tracks, performance tracks,  \n",
      "pick-a-track, dance - practice tempo, & more.\n",
      "\n",
      "Chicka Chicka Boom Boom CD Trio- Set of Three Audio CDs Includes Chicka Chicka Boom Boom, Boom Chicka Rock &amp; Chicka Chicka 1, 2, 3 (Chicka Chicka Boom Boom)\n",
      "These entertaining, bright, joyous romps are filled with play, laughter, and learning! This set of audio CDs is a wonderful way to read along with the beloved stories.\n"
     ]
    }
   ],
   "source": [
    "print(\"Total number of products after filtering out: \", len(df))\n",
    "print(\"First three product description\")\n",
    "for i in range(3):\n",
    "    print()\n",
    "    print(df.iloc[i].title)\n",
    "    print(df.iloc[i].description)"
   ]
  },
  {
   "cell_type": "code",
   "execution_count": 4,
   "id": "b0a3f49bdd0d819c",
   "metadata": {
    "ExecuteTime": {
     "end_time": "2023-11-26T00:34:27.550421960Z",
     "start_time": "2023-11-26T00:34:27.448584952Z"
    }
   },
   "outputs": [
    {
     "data": {
      "text/plain": "   category                                        description  \\\n4        []  1. Losing Game 2. I Can't Wait 3. Didn't He Sh...   \n10       []  The Music Connection by Silver Burdett Ginn is...   \n14       []  These entertaining, bright, joyous romps are f...   \n15       []  The KING JAMES BIBLE is part of our deepest cu...   \n17       []  Soothing background music and a female voice l...   \n\n                                                title  \\\n4                           Early Works - Dallas Holm   \n10                 The Music Connection Grade 3, CD 7   \n14  Chicka Chicka Boom Boom CD Trio- Set of Three ...   \n15                                        Speak To Me   \n17  <span class=\"a-size-medium a-color-secondary a...   \n\n                                             also_buy  \\\n4   [B0002N4JP2, 0760131694, B00002EQ79, B00150K8J...   \n10                                                 []   \n14                                                 []   \n15                                                 []   \n17                                                 []   \n\n                                              brand feature  \\\n4                                       Dallas Holm      []   \n10                              Silver Burdett Ginn      []   \n14                                   Bill Martin Jr      []   \n15                                      David Teems      []   \n17  Benita A. Esposito and Steven Mark Kohn (music)      []   \n\n                            rank  \\\n4       399,269 in CDs & Vinyl (   \n10      694,369 in CDs & Vinyl (   \n14      564,433 in CDs & Vinyl (   \n15  506,806 in CDs &amp; Vinyl (   \n17  980,759 in CDs &amp; Vinyl (   \n\n                                            also_view  \\\n4   [B0002N4JP2, 0760131694, B00150K8JC, B003MTXNV...   \n10  [0382262948, 0382262875, 0382262891, 038226290...   \n14                                       [1481400568]   \n15                                                 []   \n17                                                 []   \n\n                                             main_cat date    price  \\\n4   <img src=\"https://images-na.ssl-images-amazon....  NaN      NaN   \n10  <img src=\"https://images-na.ssl-images-amazon....  NaN   $18.79   \n14  <img src=\"https://images-na.ssl-images-amazon....  NaN      NaN   \n15  <img src=\"https://images-na.ssl-images-amazon....  NaN  $500.00   \n17  <img src=\"https://images-na.ssl-images-amazon....  NaN      NaN   \n\n          asin                                           imageURL  \\\n4   0001526146                                                 []   \n10  0382262921  [https://images-na.ssl-images-amazon.com/image...   \n14  0545352886                                                 []   \n15  0578077698  [https://images-na.ssl-images-amazon.com/image...   \n17  0615165982  [https://images-na.ssl-images-amazon.com/image...   \n\n                                      imageURLHighRes details  \n4                                                  []     NaN  \n10  [https://images-na.ssl-images-amazon.com/image...     NaN  \n14                                                 []     NaN  \n15  [https://images-na.ssl-images-amazon.com/image...     NaN  \n17  [https://images-na.ssl-images-amazon.com/image...     NaN  ",
      "text/html": "<div>\n<style scoped>\n    .dataframe tbody tr th:only-of-type {\n        vertical-align: middle;\n    }\n\n    .dataframe tbody tr th {\n        vertical-align: top;\n    }\n\n    .dataframe thead th {\n        text-align: right;\n    }\n</style>\n<table border=\"1\" class=\"dataframe\">\n  <thead>\n    <tr style=\"text-align: right;\">\n      <th></th>\n      <th>category</th>\n      <th>description</th>\n      <th>title</th>\n      <th>also_buy</th>\n      <th>brand</th>\n      <th>feature</th>\n      <th>rank</th>\n      <th>also_view</th>\n      <th>main_cat</th>\n      <th>date</th>\n      <th>price</th>\n      <th>asin</th>\n      <th>imageURL</th>\n      <th>imageURLHighRes</th>\n      <th>details</th>\n    </tr>\n  </thead>\n  <tbody>\n    <tr>\n      <th>4</th>\n      <td>[]</td>\n      <td>1. Losing Game 2. I Can't Wait 3. Didn't He Sh...</td>\n      <td>Early Works - Dallas Holm</td>\n      <td>[B0002N4JP2, 0760131694, B00002EQ79, B00150K8J...</td>\n      <td>Dallas Holm</td>\n      <td>[]</td>\n      <td>399,269 in CDs &amp; Vinyl (</td>\n      <td>[B0002N4JP2, 0760131694, B00150K8JC, B003MTXNV...</td>\n      <td>&lt;img src=\"https://images-na.ssl-images-amazon....</td>\n      <td>NaN</td>\n      <td>NaN</td>\n      <td>0001526146</td>\n      <td>[]</td>\n      <td>[]</td>\n      <td>NaN</td>\n    </tr>\n    <tr>\n      <th>10</th>\n      <td>[]</td>\n      <td>The Music Connection by Silver Burdett Ginn is...</td>\n      <td>The Music Connection Grade 3, CD 7</td>\n      <td>[]</td>\n      <td>Silver Burdett Ginn</td>\n      <td>[]</td>\n      <td>694,369 in CDs &amp; Vinyl (</td>\n      <td>[0382262948, 0382262875, 0382262891, 038226290...</td>\n      <td>&lt;img src=\"https://images-na.ssl-images-amazon....</td>\n      <td>NaN</td>\n      <td>$18.79</td>\n      <td>0382262921</td>\n      <td>[https://images-na.ssl-images-amazon.com/image...</td>\n      <td>[https://images-na.ssl-images-amazon.com/image...</td>\n      <td>NaN</td>\n    </tr>\n    <tr>\n      <th>14</th>\n      <td>[]</td>\n      <td>These entertaining, bright, joyous romps are f...</td>\n      <td>Chicka Chicka Boom Boom CD Trio- Set of Three ...</td>\n      <td>[]</td>\n      <td>Bill Martin Jr</td>\n      <td>[]</td>\n      <td>564,433 in CDs &amp; Vinyl (</td>\n      <td>[1481400568]</td>\n      <td>&lt;img src=\"https://images-na.ssl-images-amazon....</td>\n      <td>NaN</td>\n      <td>NaN</td>\n      <td>0545352886</td>\n      <td>[]</td>\n      <td>[]</td>\n      <td>NaN</td>\n    </tr>\n    <tr>\n      <th>15</th>\n      <td>[]</td>\n      <td>The KING JAMES BIBLE is part of our deepest cu...</td>\n      <td>Speak To Me</td>\n      <td>[]</td>\n      <td>David Teems</td>\n      <td>[]</td>\n      <td>506,806 in CDs &amp;amp; Vinyl (</td>\n      <td>[]</td>\n      <td>&lt;img src=\"https://images-na.ssl-images-amazon....</td>\n      <td>NaN</td>\n      <td>$500.00</td>\n      <td>0578077698</td>\n      <td>[https://images-na.ssl-images-amazon.com/image...</td>\n      <td>[https://images-na.ssl-images-amazon.com/image...</td>\n      <td>NaN</td>\n    </tr>\n    <tr>\n      <th>17</th>\n      <td>[]</td>\n      <td>Soothing background music and a female voice l...</td>\n      <td>&lt;span class=\"a-size-medium a-color-secondary a...</td>\n      <td>[]</td>\n      <td>Benita A. Esposito and Steven Mark Kohn (music)</td>\n      <td>[]</td>\n      <td>980,759 in CDs &amp;amp; Vinyl (</td>\n      <td>[]</td>\n      <td>&lt;img src=\"https://images-na.ssl-images-amazon....</td>\n      <td>NaN</td>\n      <td>NaN</td>\n      <td>0615165982</td>\n      <td>[https://images-na.ssl-images-amazon.com/image...</td>\n      <td>[https://images-na.ssl-images-amazon.com/image...</td>\n      <td>NaN</td>\n    </tr>\n  </tbody>\n</table>\n</div>"
     },
     "execution_count": 4,
     "metadata": {},
     "output_type": "execute_result"
    }
   ],
   "source": [
    "# Remove empty columns\n",
    "df.replace(\"\", np.nan, inplace=True)\n",
    "df.dropna(how='all', axis=1, inplace=True)\n",
    "\n",
    "# Display final cleaned up pandas dataframe\n",
    "df.head()"
   ]
  },
  {
   "cell_type": "markdown",
   "id": "c86d78de3eb7ded3",
   "metadata": {
    "collapsed": false
   },
   "source": [
    "## Adding emotions characteristics of the description"
   ]
  },
  {
   "cell_type": "code",
   "execution_count": 12,
   "id": "68677d2ebfcdbe57",
   "metadata": {
    "ExecuteTime": {
     "end_time": "2023-11-25T22:34:09.333988169Z",
     "start_time": "2023-11-25T22:33:39.080339229Z"
    }
   },
   "outputs": [],
   "source": [
    "# Applying NRCLex emotions\n",
    "df['emotion_nrc'] = df.description.apply(lambda x: NRCLex(x).raw_emotion_scores) "
   ]
  },
  {
   "cell_type": "code",
   "execution_count": 9,
   "id": "681db33f280f26a2",
   "metadata": {
    "ExecuteTime": {
     "end_time": "2023-11-25T21:56:36.129169054Z",
     "start_time": "2023-11-25T21:54:29.407808530Z"
    }
   },
   "outputs": [],
   "source": [
    "# Suppressing warning about old version of spacy\n",
    "with warnings.catch_warnings():\n",
    "    warnings.simplefilter(\"ignore\")\n",
    "    # Applying Spacy affect model emotions\n",
    "    nlp_affect = spacy.load('submodules/Spacy-Affect-Model/affect_ner')\n",
    "    \n",
    "df['emotion_spacy'] = df.description.apply(lambda x: Counter([item.label_.lower() for item in nlp_affect(x).ents]))"
   ]
  },
  {
   "cell_type": "code",
   "execution_count": 10,
   "id": "e0e92828edcd356d",
   "metadata": {
    "ExecuteTime": {
     "end_time": "2023-11-25T21:56:41.306002683Z",
     "start_time": "2023-11-25T21:56:36.135476113Z"
    }
   },
   "outputs": [
    {
     "name": "stderr",
     "output_type": "stream",
     "text": [
      "You are using the default legacy behaviour of the <class 'transformers.models.t5.tokenization_t5.T5Tokenizer'>. If you see this, DO NOT PANIC! This is expected, and simply means that the `legacy` (previous) behavior will be used so nothing changes for you. If you want to use the new behaviour, set `legacy=False`. This should only be set if you understand what it means, and thouroughly read the reason why this was added as explained in https://github.com/huggingface/transformers/pull/24565\n",
      "/home/misarond/.local/lib/python3.10/site-packages/transformers/models/auto/modeling_auto.py:1479: FutureWarning: The class `AutoModelWithLMHead` is deprecated and will be removed in a future version. Please use `AutoModelForCausalLM` for causal language models, `AutoModelForMaskedLM` for masked language models and `AutoModelForSeq2SeqLM` for encoder-decoder models.\n",
      "  warnings.warn(\n"
     ]
    }
   ],
   "source": [
    "# Transformer method for emotion recognition\n",
    "device = torch.device('cuda') if torch.cuda.is_available() else torch.device('cpu')\n",
    "tokenizer = AutoTokenizer.from_pretrained(\"mrm8488/t5-base-finetuned-emotion\")\n",
    "model = AutoModelWithLMHead.from_pretrained(\"mrm8488/t5-base-finetuned-emotion\")\n",
    "model.to(device)\n",
    "\n",
    "def get_emotion(text):\n",
    "  input_ids = tokenizer.encode(text + '</s>', return_tensors='pt').to(device)\n",
    "  output = model.generate(input_ids=input_ids,\n",
    "               max_length=2)\n",
    "  dec = [tokenizer.decode(ids) for ids in output]\n",
    "  label = dec[0]\n",
    "  return label"
   ]
  },
  {
   "cell_type": "code",
   "execution_count": 11,
   "id": "6b38ca22a5644b59",
   "metadata": {
    "ExecuteTime": {
     "end_time": "2023-11-25T21:56:47.755449736Z",
     "start_time": "2023-11-25T21:56:41.308917323Z"
    }
   },
   "outputs": [
    {
     "name": "stderr",
     "output_type": "stream",
     "text": [
      "Token indices sequence length is longer than the specified maximum sequence length for this model (583 > 512). Running this sequence through the model will result in indexing errors\n"
     ]
    }
   ],
   "source": [
    "# Applying the transformer method on our dataset\n",
    "df['emotion_transformer'] = df.description[:100].apply(lambda x: get_emotion(x)[6:])"
   ]
  },
  {
   "cell_type": "code",
   "execution_count": 12,
   "id": "5b28fe3da46d0b9",
   "metadata": {
    "ExecuteTime": {
     "end_time": "2023-11-25T21:56:48.492065643Z",
     "start_time": "2023-11-25T21:56:47.768208052Z"
    }
   },
   "outputs": [],
   "source": [
    "# Extracting most significant emotion of a particular description\n",
    "def get_most_significant_emotion(emotions):\n",
    "    try:\n",
    "        sign_emotion = max(emotions, key=emotions.get)\n",
    "    except ValueError:\n",
    "        sign_emotion = None\n",
    "    return sign_emotion\n",
    "\n",
    "df['most_significant_emotion_nrc'] = df.emotion_nrc.apply(lambda x: get_most_significant_emotion(x))\n",
    "df['most_significant_emotion_spacy'] = df.emotion_spacy.apply(lambda x: get_most_significant_emotion(x))\n",
    "\n",
    "df.head(100)\n",
    "save_csv = False\n",
    "if save_csv:\n",
    "    df.to_csv('digital_music.csv')"
   ]
  },
  {
   "cell_type": "markdown",
   "id": "1bd7f5158ad89132",
   "metadata": {
    "collapsed": false
   },
   "source": [
    "## Similar items"
   ]
  },
  {
   "cell_type": "code",
   "execution_count": null,
   "id": "53f40f954faeaa36",
   "metadata": {},
   "outputs": [],
   "source": [
    "dfdescription = df.description\n",
    "descr = defaultdict(list)\n",
    " \n",
    "for idx, row in df.iterrows():\n",
    "    if row.description in descr[row.asin]:\n",
    "        print(idx, row.asin, row.description)\n",
    "    else:\n",
    "        descr[row.asin].append(row.description)"
   ]
  },
  {
   "cell_type": "code",
   "execution_count": null,
   "id": "5bc0a08bcfdacdc4",
   "metadata": {},
   "outputs": [],
   "source": [
    "descr"
   ]
  },
  {
   "cell_type": "code",
   "execution_count": null,
   "id": "89feb2e137dc825a",
   "metadata": {},
   "outputs": [],
   "source": [
    "for key, value in descr.items():\n",
    "    print(type(value))\n",
    "    # if len(elem.values())  >1:\n",
    "    #     print(elem)d"
   ]
  },
  {
   "cell_type": "code",
   "execution_count": null,
   "id": "defe40f28c89c571",
   "metadata": {},
   "outputs": [],
   "source": [
    "display(descr)"
   ]
  },
  {
   "cell_type": "code",
   "execution_count": null,
   "id": "740138949207c724",
   "metadata": {},
   "outputs": [],
   "source": [
    "def shingle(aString, q, delimiter=' '):\n",
    "    \"\"\"\n",
    "    Input:\n",
    "        - aString (str): string to split into shingles\n",
    "        - q (int)\n",
    "        - delimiter (str): string of the delimiter to consider to split the input string (default: space)\n",
    "    Return: list of unique shingles\n",
    "    \"\"\"\n",
    "    all_shingles = []\n",
    "    if delimiter != '':\n",
    "        words_list = aString.split(delimiter)\n",
    "    else:\n",
    "        words_list = aString\n",
    "    for i in range (len(words_list)-q+1):\n",
    "        all_shingles.append(delimiter.join(words_list[i:i+q]))\n",
    "    return list(set(all_shingles))"
   ]
  },
  {
   "cell_type": "code",
   "execution_count": null,
   "id": "4918ff303174343",
   "metadata": {},
   "outputs": [],
   "source": [
    "ex_string, q = dfdescription.iloc[0], 2\n",
    "# ex_string, q = \"Latin rhythms that will get your kids singing in Spanish. \", 2\n",
    "ex_shingles = shingle(ex_string, q)\n",
    "# assert len(ex_shingles) == 7\n",
    "print('\\nInitial string:', ex_string)\n",
    "print(f'>> Shingles with q = {q} :',ex_shingles)"
   ]
  },
  {
   "cell_type": "code",
   "execution_count": null,
   "id": "323ed1c7db3871bd",
   "metadata": {},
   "outputs": [],
   "source": [
    "print(len(dfdescription))\n",
    "dfdescription.drop_duplicates(inplace=True)\n",
    "print(len(dfdescription))\n",
    "# dfdescription"
   ]
  },
  {
   "cell_type": "code",
   "execution_count": null,
   "id": "49ac1261f9afbbe3",
   "metadata": {},
   "outputs": [],
   "source": [
    "df.head()"
   ]
  },
  {
   "cell_type": "code",
   "execution_count": null,
   "id": "af5ccb007f061d2a",
   "metadata": {},
   "outputs": [],
   "source": [
    "# Merge description to reviews data using 'asin'\n",
    "\n",
    "merged_df = df.merge(df[['asin', 'description']], on='asin', how='left')"
   ]
  },
  {
   "cell_type": "code",
   "execution_count": null,
   "id": "a41847305b093267",
   "metadata": {},
   "outputs": [],
   "source": [
    "merged_df.iloc[15:200]"
   ]
  },
  {
   "cell_type": "markdown",
   "source": [
    "## Adding clustering based on users purchases"
   ],
   "metadata": {
    "collapsed": false
   },
   "id": "86d63c833064a29"
  },
  {
   "cell_type": "code",
   "execution_count": 13,
   "outputs": [
    {
     "name": "stdout",
     "output_type": "stream",
     "text": [
      "Dataset already downloaded.\n"
     ]
    }
   ],
   "source": [
    "# Download dataset if it is not downloaded yet\n",
    "if not os.path.exists('Dataset/Digital_Music.csv'):\n",
    "    !wget https://datarepo.eng.ucsd.edu/mcauley_group/data/amazon_v2/categoryFilesSmall/Digital_Music.csv -P ./Dataset\n",
    "else:\n",
    "    print('Dataset already downloaded.')"
   ],
   "metadata": {
    "collapsed": false,
    "ExecuteTime": {
     "end_time": "2023-11-25T21:56:48.503777413Z",
     "start_time": "2023-11-25T21:56:48.494488094Z"
    }
   },
   "id": "76866173077e8215"
  },
  {
   "cell_type": "code",
   "execution_count": 5,
   "outputs": [],
   "source": [
    "# Get all of the used products 'asin' (unique identifier)\n",
    "unique_asin = set(df.asin)\n",
    "# Load the ratings from users to pandas dataframe\n",
    "df_ratings = pd.read_csv('Dataset/Digital_Music.csv', header=None)\n",
    "df_ratings.columns = ['asin', 'user', 'rating', 'timestamp']\n",
    "# Filter out only products which are used in previous parts\n",
    "df_ratings = df_ratings.loc[df_ratings['asin'].isin(unique_asin)]\n",
    "# Get all unique users\n",
    "unique_user = set(df_ratings.user)\n",
    "# Crete dicts, which maps user id (product asin) -> number (index in matrix)\n",
    "products = {product: idx for idx, product in enumerate(unique_asin)}\n",
    "users = {user: idx for idx, user in enumerate(unique_user)}\n",
    "# Create sparse matrix, where rows contain products and each column represents one user\n",
    "product_user_matrix = np.zeros((len(products), len(users)))\n",
    "for _, row in df_ratings.iterrows():\n",
    "    product_user_matrix[products[row.asin], users[row.user]] = 1"
   ],
   "metadata": {
    "collapsed": false,
    "ExecuteTime": {
     "end_time": "2023-11-26T00:34:39.639180869Z",
     "start_time": "2023-11-26T00:34:34.982116026Z"
    }
   },
   "id": "760bc1037ec2daac"
  },
  {
   "cell_type": "markdown",
   "source": [
    "__Applying clustering algo__"
   ],
   "metadata": {
    "collapsed": false
   },
   "id": "d747a99048a615ea"
  },
  {
   "cell_type": "code",
   "execution_count": 11,
   "outputs": [
    {
     "name": "stdout",
     "output_type": "stream",
     "text": [
      "(19972, 1000)\n",
      "1000\n",
      "0.4433658231459868\n"
     ]
    }
   ],
   "source": [
    "# Reduce dimensionality\n",
    "sparse_matrix = sparse.dok_matrix(product_user_matrix)\n",
    "svd = TruncatedSVD(n_components=1000, n_iter=10, random_state=42)\n",
    "reduced_matrix = svd.fit_transform(sparse_matrix)\n",
    "print(reduced_matrix.shape)\n",
    "print(len(svd.explained_variance_ratio_))\n",
    "print(sum(svd.explained_variance_ratio_))"
   ],
   "metadata": {
    "collapsed": false,
    "ExecuteTime": {
     "end_time": "2023-11-26T00:49:36.155903359Z",
     "start_time": "2023-11-26T00:48:47.475574262Z"
    }
   },
   "id": "297cf4a6b47eb51a"
  },
  {
   "cell_type": "code",
   "execution_count": 12,
   "outputs": [],
   "source": [
    "clustering = KMeans(n_clusters=1000, n_init='auto', random_state=42).fit_predict(reduced_matrix)"
   ],
   "metadata": {
    "collapsed": false,
    "ExecuteTime": {
     "end_time": "2023-11-26T00:50:20.261197945Z",
     "start_time": "2023-11-26T00:49:36.145095935Z"
    }
   },
   "id": "f5b4fedadc0b4f18"
  },
  {
   "cell_type": "code",
   "execution_count": 14,
   "outputs": [
    {
     "data": {
      "text/plain": "Counter({199: 13,\n         0: 17148,\n         126: 49,\n         473: 13,\n         933: 2,\n         132: 69,\n         291: 1,\n         907: 8,\n         839: 9,\n         63: 79,\n         62: 6,\n         359: 13,\n         241: 14,\n         238: 1,\n         794: 1,\n         103: 40,\n         915: 11,\n         121: 91,\n         26: 1,\n         287: 1,\n         159: 38,\n         354: 18,\n         385: 16,\n         977: 9,\n         18: 46,\n         90: 36,\n         329: 1,\n         705: 10,\n         985: 8,\n         560: 12,\n         218: 1,\n         468: 1,\n         935: 1,\n         655: 2,\n         363: 15,\n         749: 1,\n         375: 27,\n         582: 9,\n         854: 8,\n         573: 11,\n         471: 14,\n         968: 11,\n         648: 11,\n         954: 3,\n         955: 1,\n         353: 17,\n         658: 12,\n         970: 5,\n         190: 1,\n         135: 19,\n         434: 13,\n         914: 1,\n         336: 1,\n         808: 9,\n         384: 1,\n         188: 1,\n         116: 34,\n         462: 1,\n         714: 9,\n         813: 1,\n         706: 1,\n         179: 21,\n         722: 1,\n         691: 1,\n         851: 7,\n         537: 2,\n         643: 11,\n         163: 1,\n         710: 1,\n         495: 11,\n         161: 1,\n         457: 1,\n         754: 8,\n         634: 1,\n         637: 1,\n         614: 11,\n         458: 1,\n         91: 63,\n         160: 26,\n         908: 1,\n         483: 11,\n         766: 9,\n         41: 34,\n         150: 26,\n         863: 1,\n         932: 7,\n         207: 1,\n         358: 1,\n         981: 5,\n         657: 11,\n         952: 6,\n         223: 1,\n         309: 1,\n         919: 2,\n         947: 3,\n         686: 11,\n         265: 3,\n         396: 14,\n         969: 8,\n         745: 1,\n         743: 9,\n         485: 1,\n         379: 17,\n         416: 11,\n         279: 1,\n         925: 1,\n         769: 10,\n         258: 1,\n         528: 13,\n         684: 9,\n         436: 1,\n         314: 9,\n         803: 1,\n         234: 12,\n         411: 14,\n         514: 1,\n         903: 3,\n         891: 1,\n         539: 12,\n         214: 1,\n         910: 7,\n         149: 3,\n         858: 1,\n         875: 1,\n         130: 1,\n         993: 5,\n         361: 15,\n         466: 1,\n         694: 1,\n         845: 2,\n         263: 19,\n         847: 7,\n         131: 27,\n         723: 6,\n         949: 1,\n         899: 7,\n         211: 17,\n         367: 19,\n         193: 21,\n         942: 1,\n         972: 11,\n         666: 10,\n         250: 1,\n         857: 7,\n         670: 11,\n         548: 1,\n         482: 13,\n         775: 9,\n         850: 8,\n         612: 1,\n         567: 11,\n         268: 17,\n         776: 1,\n         321: 1,\n         923: 11,\n         967: 7,\n         243: 1,\n         47: 1,\n         753: 1,\n         950: 6,\n         320: 1,\n         267: 1,\n         444: 1,\n         552: 11,\n         206: 1,\n         113: 1,\n         9: 1,\n         141: 1,\n         578: 13,\n         225: 1,\n         437: 1,\n         201: 17,\n         784: 1,\n         951: 9,\n         904: 3,\n         843: 1,\n         639: 1,\n         994: 8,\n         55: 1,\n         426: 1,\n         636: 1,\n         719: 1,\n         216: 1,\n         518: 1,\n         521: 1,\n         611: 1,\n         922: 1,\n         773: 1,\n         799: 9,\n         986: 4,\n         123: 1,\n         810: 2,\n         327: 1,\n         871: 2,\n         901: 1,\n         527: 11,\n         474: 1,\n         288: 1,\n         460: 1,\n         407: 1,\n         911: 2,\n         572: 12,\n         402: 1,\n         592: 1,\n         489: 14,\n         85: 1,\n         87: 1,\n         292: 1,\n         579: 1,\n         600: 1,\n         529: 13,\n         472: 1,\n         449: 1,\n         102: 1,\n         928: 8,\n         716: 2,\n         681: 1,\n         770: 1,\n         983: 1,\n         74: 1,\n         861: 1,\n         936: 2,\n         338: 1,\n         138: 23,\n         774: 1,\n         281: 3,\n         424: 14,\n         70: 1,\n         606: 2,\n         748: 9,\n         980: 3,\n         5: 1,\n         325: 1,\n         252: 1,\n         892: 1,\n         744: 1,\n         452: 1,\n         912: 1,\n         984: 6,\n         815: 1,\n         890: 6,\n         902: 1,\n         33: 1,\n         957: 1,\n         224: 1,\n         878: 3,\n         454: 1,\n         604: 1,\n         982: 3,\n         467: 1,\n         956: 1,\n         627: 1,\n         249: 1,\n         403: 1,\n         888: 1,\n         459: 1,\n         504: 1,\n         546: 1,\n         45: 1,\n         532: 1,\n         152: 1,\n         318: 13,\n         493: 1,\n         88: 1,\n         909: 7,\n         816: 1,\n         746: 8,\n         940: 5,\n         451: 1,\n         661: 1,\n         181: 1,\n         943: 1,\n         272: 1,\n         674: 8,\n         787: 8,\n         84: 1,\n         22: 1,\n         853: 1,\n         171: 1,\n         75: 1,\n         747: 1,\n         837: 1,\n         811: 8,\n         366: 1,\n         111: 1,\n         447: 1,\n         761: 1,\n         918: 6,\n         916: 1,\n         78: 1,\n         549: 1,\n         609: 1,\n         390: 1,\n         306: 1,\n         349: 1,\n         107: 1,\n         313: 2,\n         237: 1,\n         290: 17,\n         974: 2,\n         260: 18,\n         382: 1,\n         228: 1,\n         834: 1,\n         547: 1,\n         259: 1,\n         820: 1,\n         755: 1,\n         559: 1,\n         2: 1,\n         673: 9,\n         256: 5,\n         979: 7,\n         453: 1,\n         752: 4,\n         964: 1,\n         508: 1,\n         543: 1,\n         122: 1,\n         59: 1,\n         440: 10,\n         880: 1,\n         987: 6,\n         428: 1,\n         68: 1,\n         442: 1,\n         703: 1,\n         990: 7,\n         893: 2,\n         895: 1,\n         735: 1,\n         127: 1,\n         556: 2,\n         571: 1,\n         597: 1,\n         879: 1,\n         389: 1,\n         913: 1,\n         894: 8,\n         346: 1,\n         404: 1,\n         554: 1,\n         236: 1,\n         623: 1,\n         352: 1,\n         975: 2,\n         596: 1,\n         80: 1,\n         251: 1,\n         24: 1,\n         551: 1,\n         930: 1,\n         667: 1,\n         740: 1,\n         350: 1,\n         844: 1,\n         421: 1,\n         687: 1,\n         502: 1,\n         924: 1,\n         963: 1,\n         96: 1,\n         368: 1,\n         307: 1,\n         397: 3,\n         14: 1,\n         824: 1,\n         200: 1,\n         577: 10,\n         996: 1,\n         66: 1,\n         491: 1,\n         286: 1,\n         380: 1,\n         39: 1,\n         28: 1,\n         713: 1,\n         264: 1,\n         61: 1,\n         605: 1,\n         278: 1,\n         832: 1,\n         725: 1,\n         927: 3,\n         715: 1,\n         262: 1,\n         118: 1,\n         377: 1,\n         227: 1,\n         226: 1,\n         712: 1,\n         276: 1,\n         564: 1,\n         563: 1,\n         701: 1,\n         926: 2,\n         659: 1,\n         191: 1,\n         213: 1,\n         513: 1,\n         296: 1,\n         801: 1,\n         645: 1,\n         683: 2,\n         273: 1,\n         898: 2,\n         613: 1,\n         419: 1,\n         475: 1,\n         13: 1,\n         523: 1,\n         833: 1,\n         742: 1,\n         93: 1,\n         283: 1,\n         934: 1,\n         174: 1,\n         326: 1,\n         590: 1,\n         244: 1,\n         53: 1,\n         151: 1,\n         836: 1,\n         759: 1,\n         6: 1,\n         917: 2,\n         762: 1,\n         876: 1,\n         897: 1,\n         615: 1,\n         672: 1,\n         204: 1,\n         789: 1,\n         812: 1,\n         146: 1,\n         465: 1,\n         785: 1,\n         881: 1,\n         148: 1,\n         682: 1,\n         443: 1,\n         778: 1,\n         941: 1,\n         72: 1,\n         23: 1,\n         270: 1,\n         42: 1,\n         791: 9,\n         675: 1,\n         764: 1,\n         610: 1,\n         476: 1,\n         562: 2,\n         246: 1,\n         357: 1,\n         788: 1,\n         866: 1,\n         948: 5,\n         293: 1,\n         343: 1,\n         394: 1,\n         677: 1,\n         20: 1,\n         294: 1,\n         757: 1,\n         355: 1,\n         76: 1,\n         650: 1,\n         732: 1,\n         971: 1,\n         49: 1,\n         603: 1,\n         299: 1,\n         372: 1,\n         212: 1,\n         535: 1,\n         767: 1,\n         727: 1,\n         173: 1,\n         702: 1,\n         303: 1,\n         400: 1,\n         405: 1,\n         408: 1,\n         341: 1,\n         289: 1,\n         533: 1,\n         568: 2,\n         490: 1,\n         308: 1,\n         8: 1,\n         319: 1,\n         92: 1,\n         802: 2,\n         756: 2,\n         588: 1,\n         720: 1,\n         217: 1,\n         598: 1,\n         154: 1,\n         97: 1,\n         406: 1,\n         503: 1,\n         248: 1,\n         169: 1,\n         481: 1,\n         133: 1,\n         931: 9,\n         469: 1,\n         484: 1,\n         953: 1,\n         231: 1,\n         395: 1,\n         848: 1,\n         921: 2,\n         423: 1,\n         617: 1,\n         538: 1,\n         498: 1,\n         215: 1,\n         115: 1,\n         348: 1,\n         628: 1,\n         488: 1,\n         52: 1,\n         108: 1,\n         233: 1,\n         534: 1,\n         760: 1,\n         257: 1,\n         522: 1,\n         656: 1,\n         699: 1,\n         332: 1,\n         531: 1,\n         589: 1,\n         999: 6,\n         370: 1,\n         414: 1,\n         441: 1,\n         961: 1,\n         58: 1,\n         221: 1,\n         99: 1,\n         620: 1,\n         640: 1,\n         512: 1,\n         700: 1,\n         796: 1,\n         660: 1,\n         877: 1,\n         750: 1,\n         737: 1,\n         284: 1,\n         415: 1,\n         12: 1,\n         859: 1,\n         448: 1,\n         455: 1,\n         678: 1,\n         862: 1,\n         43: 1,\n         479: 1,\n         167: 1,\n         143: 1,\n         599: 1,\n         360: 1,\n         175: 2,\n         178: 1,\n         302: 1,\n         870: 1,\n         420: 1,\n         500: 1,\n         960: 1,\n         733: 1,\n         3: 1,\n         966: 4,\n         819: 1,\n         688: 1,\n         202: 1,\n         587: 1,\n         137: 1,\n         989: 1,\n         825: 1,\n         520: 1,\n         219: 1,\n         632: 1,\n         205: 1,\n         229: 1,\n         198: 1,\n         431: 1,\n         729: 1,\n         186: 1,\n         772: 1,\n         835: 1,\n         140: 1,\n         17: 1,\n         194: 1,\n         692: 1,\n         261: 1,\n         704: 1,\n         392: 1,\n         792: 1,\n         164: 1,\n         978: 1,\n         4: 1,\n         305: 1,\n         641: 1,\n         373: 1,\n         36: 1,\n         782: 1,\n         988: 1,\n         838: 1,\n         46: 1,\n         558: 1,\n         642: 1,\n         786: 1,\n         668: 1,\n         409: 1,\n         758: 1,\n         638: 1,\n         830: 1,\n         427: 1,\n         376: 1,\n         821: 1,\n         57: 1,\n         654: 1,\n         446: 1,\n         128: 1,\n         734: 1,\n         790: 1,\n         242: 1,\n         393: 1,\n         730: 1,\n         312: 1,\n         450: 1,\n         429: 1,\n         631: 1,\n         884: 1,\n         235: 1,\n         856: 1,\n         323: 1,\n         187: 1,\n         125: 1,\n         82: 1,\n         477: 1,\n         37: 1,\n         383: 1,\n         818: 1,\n         71: 1,\n         192: 1,\n         430: 1,\n         391: 1,\n         652: 1,\n         89: 1,\n         496: 1,\n         517: 1,\n         635: 1,\n         509: 1,\n         83: 1,\n         536: 1,\n         807: 1,\n         664: 1,\n         945: 1,\n         19: 1,\n         726: 1,\n         751: 1,\n         147: 1,\n         101: 1,\n         619: 1,\n         738: 1,\n         445: 1,\n         885: 1,\n         958: 2,\n         867: 1,\n         779: 1,\n         651: 1,\n         511: 1,\n         492: 1,\n         697: 1,\n         44: 1,\n         886: 1,\n         544: 1,\n         433: 1,\n         11: 1,\n         905: 1,\n         724: 1,\n         73: 1,\n         183: 1,\n         929: 1,\n         94: 1,\n         300: 1,\n         285: 1,\n         780: 1,\n         793: 1,\n         365: 1,\n         868: 1,\n         30: 1,\n         679: 1,\n         962: 1,\n         717: 1,\n         387: 1,\n         765: 1,\n         98: 1,\n         417: 1,\n         280: 1,\n         887: 3,\n         109: 1,\n         344: 1,\n         266: 1,\n         330: 1,\n         386: 1,\n         271: 1,\n         696: 1,\n         337: 1,\n         669: 1,\n         959: 1,\n         106: 1,\n         119: 1,\n         222: 1,\n         432: 1,\n         324: 1,\n         829: 1,\n         685: 1,\n         896: 1,\n         920: 1,\n         695: 1,\n         463: 1,\n         516: 1,\n         157: 1,\n         369: 1,\n         487: 1,\n         297: 1,\n         510: 1,\n         180: 1,\n         480: 1,\n         728: 1,\n         124: 1,\n         739: 1,\n         470: 1,\n         557: 1,\n         581: 1,\n         269: 1,\n         662: 1,\n         27: 1,\n         629: 1,\n         334: 1,\n         34: 1,\n         464: 1,\n         48: 1,\n         998: 1,\n         624: 1,\n         144: 1,\n         240: 1,\n         524: 1,\n         79: 1,\n         583: 1,\n         170: 1,\n         315: 1,\n         110: 1,\n         295: 1,\n         38: 1,\n         197: 1,\n         497: 1,\n         806: 1,\n         804: 1,\n         381: 1,\n         515: 1,\n         653: 1,\n         438: 1,\n         616: 1,\n         168: 1,\n         574: 1,\n         731: 1,\n         707: 1,\n         388: 1,\n         872: 1,\n         519: 1,\n         134: 1,\n         356: 1,\n         823: 1,\n         525: 1,\n         711: 1,\n         575: 1,\n         561: 1,\n         900: 1,\n         992: 1,\n         145: 1,\n         797: 1,\n         1: 1,\n         185: 1,\n         189: 1,\n         456: 1,\n         860: 1,\n         10: 1,\n         781: 1,\n         852: 1,\n         809: 1,\n         422: 1,\n         501: 1,\n         378: 1,\n         69: 1,\n         741: 1,\n         663: 1,\n         840: 1,\n         196: 1,\n         331: 1,\n         805: 1,\n         530: 1,\n         7: 1,\n         210: 1,\n         768: 1,\n         50: 1,\n         245: 1,\n         25: 1,\n         410: 1,\n         274: 1,\n         374: 1,\n         310: 1,\n         81: 1,\n         507: 1,\n         576: 1,\n         814: 1,\n         35: 1,\n         95: 1,\n         347: 1,\n         158: 1,\n         690: 1,\n         162: 1,\n         831: 1,\n         339: 1,\n         316: 1,\n         594: 1,\n         973: 1,\n         67: 1,\n         647: 1,\n         708: 1,\n         618: 1,\n         398: 1,\n         625: 1,\n         882: 1,\n         777: 1,\n         580: 1,\n         139: 1,\n         165: 1,\n         569: 1,\n         842: 1,\n         826: 1,\n         541: 1,\n         114: 1,\n         15: 1,\n         277: 1,\n         282: 1,\n         247: 1,\n         718: 1,\n         317: 1,\n         542: 1,\n         478: 1,\n         828: 1,\n         680: 1,\n         995: 1,\n         40: 1,\n         21: 1,\n         798: 1,\n         944: 1,\n         117: 1,\n         232: 1,\n         626: 1,\n         156: 1,\n         709: 1,\n         176: 1,\n         849: 1,\n         591: 1,\n         841: 1,\n         142: 1,\n         783: 1,\n         550: 1,\n         112: 1,\n         172: 1,\n         506: 1,\n         401: 1,\n         602: 1,\n         873: 1,\n         298: 1,\n         129: 1,\n         275: 1,\n         155: 1,\n         976: 1,\n         16: 1,\n         77: 1,\n         693: 1,\n         311: 1,\n         800: 1,\n         177: 1,\n         938: 1,\n         166: 1,\n         864: 1,\n         136: 1,\n         763: 1,\n         209: 1,\n         239: 1,\n         991: 1,\n         184: 1,\n         54: 1,\n         362: 1,\n         29: 1,\n         499: 1,\n         827: 1,\n         412: 1,\n         906: 1,\n         195: 1,\n         584: 1,\n         333: 1,\n         608: 1,\n         540: 1,\n         345: 1,\n         418: 1,\n         937: 1,\n         51: 1,\n         889: 1,\n         335: 1,\n         846: 1,\n         566: 1,\n         622: 1,\n         253: 1,\n         105: 1,\n         869: 1,\n         565: 1,\n         120: 1,\n         644: 1,\n         104: 1,\n         100: 1,\n         601: 1,\n         736: 1,\n         328: 1,\n         86: 1,\n         399: 1,\n         208: 1,\n         689: 1,\n         633: 1,\n         630: 1,\n         32: 1,\n         822: 1,\n         555: 1,\n         865: 1,\n         230: 1,\n         182: 1,\n         817: 1,\n         461: 1,\n         322: 1,\n         649: 1,\n         570: 1,\n         721: 1,\n         486: 1,\n         64: 1,\n         946: 1,\n         586: 1,\n         342: 1,\n         351: 1,\n         31: 1,\n         153: 1,\n         676: 1,\n         883: 1,\n         874: 1,\n         665: 1,\n         553: 1,\n         304: 1,\n         545: 1,\n         203: 1,\n         435: 1,\n         220: 1,\n         965: 1,\n         526: 1,\n         585: 1,\n         621: 1,\n         795: 1,\n         855: 1,\n         439: 1,\n         255: 1,\n         364: 1,\n         340: 1,\n         494: 1,\n         698: 1,\n         607: 1,\n         371: 1,\n         254: 1,\n         65: 1,\n         646: 1,\n         771: 1,\n         997: 1,\n         595: 1,\n         56: 1,\n         301: 1,\n         671: 1,\n         60: 1,\n         505: 1,\n         593: 1,\n         425: 1,\n         413: 1,\n         939: 1})"
     },
     "execution_count": 14,
     "metadata": {},
     "output_type": "execute_result"
    }
   ],
   "source": [
    "Counter(clustering)"
   ],
   "metadata": {
    "collapsed": false,
    "ExecuteTime": {
     "end_time": "2023-11-26T00:55:42.972658542Z",
     "start_time": "2023-11-26T00:55:42.957436754Z"
    }
   },
   "id": "1f952e00fca1dab0"
  }
 ],
 "metadata": {
  "language_info": {
   "name": "python"
  },
  "kernelspec": {
   "name": "python3",
   "language": "python",
   "display_name": "Python 3 (ipykernel)"
  }
 },
 "nbformat": 4,
 "nbformat_minor": 5
}
