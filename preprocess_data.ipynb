{
 "cells": [
  {
   "cell_type": "markdown",
   "metadata": {},
   "source": [
    "### Preprocess data "
   ]
  },
  {
   "cell_type": "code",
   "execution_count": null,
   "metadata": {},
   "outputs": [],
   "source": [
    "import json\n",
    "from collections import defaultdict\n",
    "import gzip\n",
    "import pandas as pd\n",
    "from lxml import html,etree\n",
    "import numpy as np\n",
    "import ipywidgets as widgets\n",
    "import re\n",
    "from nltk.tokenize import word_tokenize\n",
    "from nltk.corpus import stopwords\n",
    "import nltk\n",
    "from nltk.stem import PorterStemmer\n",
    "from mlxtend.preprocessing import TransactionEncoder\n",
    "from mlxtend.frequent_patterns import apriori\n",
    "import os\n",
    "\n",
    "# set stopwords vocabulary\n",
    "nltk.download('stopwords')\n",
    "\n",
    "# set tokenizer\n",
    "nltk.download('punkt')"
   ]
  },
  {
   "cell_type": "markdown",
   "metadata": {},
   "source": [
    "## Preprocess data for sentiment analysis and similar items"
   ]
  },
  {
   "cell_type": "code",
   "execution_count": null,
   "metadata": {},
   "outputs": [],
   "source": [
    "# A lot of the descriptions (and other features) contain HTML.\n",
    "# The function parses and \"translates\" into plain text descriptions more suitable for analysis.\n",
    "\n",
    "def preprocess_data(s):\n",
    "    stop_words = set(stopwords.words('english'))\n",
    "    stemmer= PorterStemmer()\n",
    "    if not s or s.isspace(): \n",
    "        # print(\"Empty description\", s, \"empty\")\n",
    "        return ''\n",
    "    try:\n",
    "        # remove html tags \n",
    "        strr = str(html.fromstring(s).text_content())\n",
    "        # remove URLs\n",
    "        strr = re.sub(r\"(https|http|href)?:\\/\\/(\\w|\\.|\\/|\\?|\\=|\\&|\\%)*\\b\", ' ', strr)\n",
    "        # remove html hidden carachters \n",
    "        strr = strr.replace('\\n', ' ').replace('\\t', ' ').replace(\"&nbsp\", ' ').replace('\\r', ' ')\n",
    "        # remove punctuation\n",
    "        strr = re.sub(r'[^\\w\\s]|[_+]', ' ', strr)\n",
    "        # remove numbers\n",
    "        strr = re.sub(r'\\d+', '', strr)\n",
    "        # lowercase\n",
    "        strr = strr.lower()\n",
    "        # remove stop words\n",
    "        tokens = nltk.word_tokenize(strr)\n",
    "        strr = [i for i in tokens if not i in stop_words]\n",
    "        # stemming\n",
    "        strr = [stemmer.stem(word) for word in strr]\n",
    "        strr = ' '.join(strr)\n",
    "        return strr \n",
    "    except etree.ParserError: \n",
    "        return ''"
   ]
  }
 ],
 "metadata": {
  "language_info": {
   "name": "python"
  }
 },
 "nbformat": 4,
 "nbformat_minor": 2
}
