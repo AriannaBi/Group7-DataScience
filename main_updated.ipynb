{
 "cells": [
  {
   "cell_type": "markdown",
   "metadata": {},
   "source": [
    "# 02807 Final project: Recommendation system\n",
    "Recommendation system of products from __Digital Music__ category on __Amazon__. Products are suggested based on a short description inserted by a user.\n",
    "[**Data source**](https://cseweb.ucsd.edu/~jmcauley/datasets/amazon_v2/)"
   ]
  },
  {
   "cell_type": "code",
   "execution_count": 32,
   "metadata": {},
   "outputs": [],
   "source": [
    "# Imports\n",
    "import os\n",
    "os.environ[\"KMP_DUPLICATE_LIB_OK\"]=\"TRUE\"\n",
    "import json\n",
    "import gzip\n",
    "import spacy\n",
    "import warnings\n",
    "# import os\n",
    "import pandas as pd\n",
    "import numpy as np\n",
    "# import torch\n",
    "from sklearn.decomposition import TruncatedSVD\n",
    "from sklearn.cluster import DBSCAN, KMeans\n",
    "from scipy import sparse\n",
    "from hdbscan import HDBSCAN\n",
    "from collections import Counter, defaultdict\n",
    "from lxml import html, etree\n",
    "from nrclex import NRCLex\n",
    "from transformers import AutoTokenizer, AutoModelWithLMHead\n",
    "from preprocess_data import *\n",
    "# from preprocess_data import pre_process_for_description"
   ]
  },
  {
   "cell_type": "markdown",
   "metadata": {},
   "source": [
    "# Load the data "
   ]
  },
  {
   "cell_type": "code",
   "execution_count": 33,
   "metadata": {},
   "outputs": [
    {
     "name": "stdout",
     "output_type": "stream",
     "text": [
      "Dataset already downloaded.\n"
     ]
    }
   ],
   "source": [
    "# Download dataset if it is not downloaded yet\n",
    "if not os.path.exists('Dataset/meta_Digital_Music.json.gz'):\n",
    "    !wget https://datarepo.eng.ucsd.edu/mcauley_group/data/amazon_v2/metaFiles2/meta_Digital_Music.json.gz -P ./Dataset\n",
    "else:\n",
    "    print('Dataset already downloaded.')"
   ]
  },
  {
   "cell_type": "markdown",
   "metadata": {},
   "source": [
    "__Data format__\n",
    "   * `asin`: ID of the product, e.g. 0000031852\n",
    "   * `title`: name of the product\n",
    "   * `feature`: bullet-point format features of the product\n",
    "   * `description`: description of the product\n",
    "   * `price`: price in US dollars (at time of crawl)\n",
    "   * `imageURL`: url of the product image\n",
    "   * `imageURL`: url of the high resolution product image\n",
    "   * `related`: related products (also bought, also viewed, bought together, buy after viewing)\n",
    "   * `salesRank`: sales rank information\n",
    "   * `brand`: brand name\n",
    "   * `categories`: list of categories the product belongs to\n",
    "   * `tech1`: the first technical detail table of the product\n",
    "   * `tech2`: the second technical detail table of the product\n",
    "   * `similar`: similar product table\n",
    "\n",
    "_Note that there are usually multiple attributes left out blank for each product (specific attributes differs from product to product)._ \n"
   ]
  },
  {
   "cell_type": "code",
   "execution_count": 34,
   "metadata": {},
   "outputs": [
    {
     "name": "stdout",
     "output_type": "stream",
     "text": [
      "Total number of items in the dataset:  74347\n"
     ]
    }
   ],
   "source": [
    "### Load the meta data\n",
    "data = []\n",
    "with gzip.open('Dataset/meta_Digital_Music.json.gz') as f:\n",
    "    for l in f:\n",
    "        data.append(json.loads(l.strip()))\n",
    "    \n",
    "# Total length of list, this number equals total number of products\n",
    "print(\"Total number of items in the dataset: \", len(data))"
   ]
  },
  {
   "cell_type": "code",
   "execution_count": 35,
   "metadata": {},
   "outputs": [
    {
     "name": "stdout",
     "output_type": "stream",
     "text": [
      "Columns of the dataset:  Index(['category', 'tech1', 'description', 'fit', 'title', 'also_buy', 'tech2',\n",
      "       'brand', 'feature', 'rank', 'also_view', 'main_cat', 'similar_item',\n",
      "       'date', 'price', 'asin', 'imageURL', 'imageURLHighRes', 'details'],\n",
      "      dtype='object')\n"
     ]
    }
   ],
   "source": [
    "# convert list into pandas dataframe\n",
    "df = pd.DataFrame.from_dict(data)\n",
    "\n",
    "# set size of display in pandas\n",
    "pd.set_option('display.max_colwidth', 300)\n",
    "pd.set_option('display.max_rows', 20 )\n",
    "\n",
    "# first row of the list\n",
    "print(\"Columns of the dataset: \", df.columns)\n",
    "\n",
    "# show dataframe with columns and rows\n",
    "# df.head()\n",
    "# df2.info()"
   ]
  },
  {
   "cell_type": "markdown",
   "metadata": {},
   "source": [
    "# Data processing"
   ]
  },
  {
   "cell_type": "markdown",
   "metadata": {},
   "source": [
    "- Remove empty description\n",
    "- Remove HTML tag\n",
    "- Remove URLs\n",
    "- Remove HTML hidden carachters\n",
    "- Remove punctuation\n",
    "- Remove numbers\n",
    "- Transform every word into lowercase\n",
    "- Remove stop words\n",
    "- Perform stemming "
   ]
  },
  {
   "cell_type": "code",
   "execution_count": 36,
   "metadata": {},
   "outputs": [
    {
     "data": {
      "text/plain": [
       "4        [1. Losing Game 2. I Can't Wait 3. Didn't He Shine 4. Never Seen...Righteous... 5. A Broken Heart 6. Looking Back 7. Here We Are 8. I Saw The Lord 9. Jesus Is A River Of Love 10. Hittin' The Road 11. I've Never Been Out Of... 12. Jesus Gotta Hold Of My Life 13. Saved- Saved- Saved 14. What Will ...\n",
       "9                                                                                                                                                                                                                                                                                                                [.]\n",
       "10       [The Music Connection by Silver Burdett Ginn is a teaching aid for  \\nan elementary music or a homeroom teacher. Created by authorities  \\nin Music, The Music Connection: by Silver Burdett provides an  \\nexcellent foundation for Music studies. Silver Burdetts style is  \\nsuited towards Music stu...\n",
       "12                                                                                                                                                                                                                                        [Spanish Before You Know It - Gold Edition. Learn Spanish in a Flash!, , ]\n",
       "13                                                                                                                                                                                                                       [Just the CD. The Book has long since vanished. I great condition and it is a classic., , ]\n",
       "                                                                                                                                                            ...                                                                                                                                                     \n",
       "74336                                                                                          [track listing: 1. Butter Ball 2. Zaq Attack 3. Zona 4. Walk Like the Guv 5. Sentimental 6. Pacific Daylight 7. Trombone Institute of Technology 8. San Jose 9. Fog City 10. Show Up 11. CRBs 76 Trombones 12. Giant]\n",
       "74338    [Coldplay A HEAD FULL OF DREAMS TOUR Live at Etihad Stadium, Manchester, England, June 4th, 2016--- CD1: 01. Intro 02. A Head Full of Dreams 03. Yellow 04. Every Teardrop Is A Waterfall 05. The Scientist 06. Birds 07. Paradise 08. Everglow 09. Lovers In Japan 10. Magic 11. Clocks 12. Midnight 13...\n",
       "74339                                                                                                                                                   [only KNOWN LIVE VERSIONS OF THATS THE WAY LIFE GOES AND STEAM ON THE BLACKTOP WITHA DEMO VERSION OF SUPERFICIAL LOVE SANG BY HUGHIE INSTEAD OF CHRIS HICKS]\n",
       "74342    [1. \"Free At Last\" Southside 1:21 2. \"Never Gon Lose\" 3:07 3. \"Purple Coming In\" Southside 4:23 4. \"Diamonds from Africa\" Southside 2:46 5. \"Now\" Southside 2:42 6. \"No Compadre\" Southside 3:33 7. \"March Madness\" Tarentino 4:42 8. \"Trap Niggas\" Southside 2:55 9. \"Da Fam on da Gram\" (skit) Southsi...\n",
       "74346                                                                                                                          [album 2016: 01.Autogram 02.Dobrotvorne svrhe 03.Didule 04.Metar odavde 05.Luda za sebe 06.Trepni 07.Netaan odgovor 08.Jadna ti je moja mo 09.Cigani 10.Aneo drugog reda 11.Nevinost]\n",
       "Name: description, Length: 36526, dtype: object"
      ]
     },
     "execution_count": 36,
     "metadata": {},
     "output_type": "execute_result"
    }
   ],
   "source": [
    "# Drop rows with no description (description is empty)\n",
    "df = df[df['description'].map(lambda d: len(d)) > 0]\n",
    "df.description\n",
    "# df2.head()"
   ]
  },
  {
   "cell_type": "code",
   "execution_count": 37,
   "metadata": {},
   "outputs": [
    {
     "data": {
      "text/plain": [
       "\"1. Losing Game 2. I Can't Wait 3. Didn't He Shine 4. Never Seen...Righteous... 5. A Broken Heart 6. Looking Back 7. Here We Are 8. I Saw The Lord 9. Jesus Is A River Of Love 10. Hittin' The Road 11. I've Never Been Out Of... 12. Jesus Gotta Hold Of My Life 13. Saved- Saved- Saved 14. What Will You Do? 15. Rise Again\""
      ]
     },
     "execution_count": 37,
     "metadata": {},
     "output_type": "execute_result"
    }
   ],
   "source": [
    "# each description is a list of strings,we want to remove the empty strings, and join the list of strings into one string\n",
    "df.description = df.description.apply(lambda x: [string for string in x if string != \"\"])\n",
    "df.description = df.description.apply(lambda x: \" \".join(x))\n",
    "df.iloc[0].description\n"
   ]
  },
  {
   "cell_type": "code",
   "execution_count": 38,
   "metadata": {},
   "outputs": [
    {
     "name": "stdout",
     "output_type": "stream",
     "text": [
      "Example of description before preprocessing: \n",
      "4    1. Losing Game 2. I Can't Wait 3. Didn't He Shine 4. Never Seen...Righteous... 5. A Broken Heart 6. Looking Back 7. Here We Are 8. I Saw The Lord 9. Jesus Is A River Of Love 10. Hittin' The Road 11. I've Never Been Out Of... 12. Jesus Gotta Hold Of My Life 13. Saved- Saved- Saved 14. What Will Y...\n",
      "9                                                                                                                                                                                                                                                                                                              .\n",
      "Name: description, dtype: object\n",
      "\n",
      "Example of description after preprocessing: \n",
      "4    lose game wait shine never seen righteou broken heart look back saw lord jesu river love hittin road never jesu got ta hold life save save save rise\n",
      "9                                                                                                                                                        \n",
      "Name: description, dtype: object\n"
     ]
    }
   ],
   "source": [
    "# f = open(\"descriptionHTMLbefore.txt\", \"w\")\n",
    "# for i in range(5000):\n",
    "#     f.write(df2.iloc[i].description)\n",
    "# f.close()\n",
    "df_similarity_scores = df.copy()\n",
    "\n",
    "print(\"Example of description before preprocessing: \")\n",
    "print(df.description.iloc[0:2])\n",
    "df.description = df.description.apply(lambda x: preprocess_data(x))\n",
    "print()\n",
    "print(\"Example of description after preprocessing: \")\n",
    "print(df.description.iloc[0:2])\n",
    "\n",
    "# f = open(\"descriptionHTMLafter.txt\", \"w\")\n",
    "# for i in range(5000):\n",
    "#     f.write(df2.iloc[i].description)\n",
    "# f.close()\n",
    "\n"
   ]
  },
  {
   "cell_type": "markdown",
   "metadata": {},
   "source": [
    "## Does any product contain different descriptions?  \n",
    "There exists products which are not unique. The asin and the descriptions are duplicated. \n",
    "We process the data in order to have unique products."
   ]
  },
  {
   "cell_type": "markdown",
   "metadata": {},
   "source": [
    "Removing the duplicates products -> now each product is unique"
   ]
  },
  {
   "cell_type": "code",
   "execution_count": 39,
   "metadata": {},
   "outputs": [
    {
     "data": {
      "text/html": [
       "<div>\n",
       "<style scoped>\n",
       "    .dataframe tbody tr th:only-of-type {\n",
       "        vertical-align: middle;\n",
       "    }\n",
       "\n",
       "    .dataframe tbody tr th {\n",
       "        vertical-align: top;\n",
       "    }\n",
       "\n",
       "    .dataframe thead th {\n",
       "        text-align: right;\n",
       "    }\n",
       "</style>\n",
       "<table border=\"1\" class=\"dataframe\">\n",
       "  <thead>\n",
       "    <tr style=\"text-align: right;\">\n",
       "      <th></th>\n",
       "      <th>asin</th>\n",
       "      <th>description</th>\n",
       "    </tr>\n",
       "  </thead>\n",
       "  <tbody>\n",
       "    <tr>\n",
       "      <th>4</th>\n",
       "      <td>0001526146</td>\n",
       "      <td>lose game wait shine never seen righteou broken heart look back saw lord jesu river love hittin road never jesu got ta hold life save save save rise</td>\n",
       "    </tr>\n",
       "    <tr>\n",
       "      <th>9</th>\n",
       "      <td>0159024684</td>\n",
       "      <td></td>\n",
       "    </tr>\n",
       "    <tr>\n",
       "      <th>10</th>\n",
       "      <td>0382262921</td>\n",
       "      <td>music connect silver burdett ginn teach aid elementari music homeroom teacher creat author music music connect silver burdett provid excel foundat music studi silver burdett style suit toward music studi teach student materi clearli without overcompl subject contain varieti record vocal track pe...</td>\n",
       "    </tr>\n",
       "    <tr>\n",
       "      <th>12</th>\n",
       "      <td>0545069882</td>\n",
       "      <td>spanish know gold edit learn spanish flash</td>\n",
       "    </tr>\n",
       "    <tr>\n",
       "      <th>13</th>\n",
       "      <td>0545109620</td>\n",
       "      <td>cd book long sinc vanish great condit classic</td>\n",
       "    </tr>\n",
       "    <tr>\n",
       "      <th>...</th>\n",
       "      <td>...</td>\n",
       "      <td>...</td>\n",
       "    </tr>\n",
       "    <tr>\n",
       "      <th>74336</th>\n",
       "      <td>B01HG2DW1I</td>\n",
       "      <td>track list butter ball zaq attack zona walk like guv sentiment pacif daylight trombon institut technolog san jose fog citi show crb trombon giant</td>\n",
       "    </tr>\n",
       "    <tr>\n",
       "      <th>74338</th>\n",
       "      <td>B01HH5R7LK</td>\n",
       "      <td>coldplay head full dream tour live etihad stadium manchest england june th cd intro head full dream yellow everi teardrop waterfal scientist bird paradis everglow lover japan magic clock midnight charli brown hymn weekend fix hero viva la vida cd adventur lifetim kaleidoscop troubl see soon amaz...</td>\n",
       "    </tr>\n",
       "    <tr>\n",
       "      <th>74339</th>\n",
       "      <td>B01HH68B96</td>\n",
       "      <td>known live version that way life goe steam blacktop witha demo version superfici love sang hughi instead chri hick</td>\n",
       "    </tr>\n",
       "    <tr>\n",
       "      <th>74342</th>\n",
       "      <td>B01HH7D5KU</td>\n",
       "      <td>free last southsid never gon lose purpl come southsid diamond africa southsid southsid compadr southsid march mad tarentino trap nigga southsid da fam da gram skit southsid night southsid total length</td>\n",
       "    </tr>\n",
       "    <tr>\n",
       "      <th>74346</th>\n",
       "      <td>B01HIT3KZC</td>\n",
       "      <td>album autogram dobrotvorn svrhe didul metar odavd luda za sebe trepni netaan odgovor jadna ti je moja mo cigani aneo drugog reda nevinost</td>\n",
       "    </tr>\n",
       "  </tbody>\n",
       "</table>\n",
       "<p>26856 rows × 2 columns</p>\n",
       "</div>"
      ],
      "text/plain": [
       "             asin  \\\n",
       "4      0001526146   \n",
       "9      0159024684   \n",
       "10     0382262921   \n",
       "12     0545069882   \n",
       "13     0545109620   \n",
       "...           ...   \n",
       "74336  B01HG2DW1I   \n",
       "74338  B01HH5R7LK   \n",
       "74339  B01HH68B96   \n",
       "74342  B01HH7D5KU   \n",
       "74346  B01HIT3KZC   \n",
       "\n",
       "                                                                                                                                                                                                                                                                                                       description  \n",
       "4                                                                                                                                                             lose game wait shine never seen righteou broken heart look back saw lord jesu river love hittin road never jesu got ta hold life save save save rise  \n",
       "9                                                                                                                                                                                                                                                                                                                   \n",
       "10     music connect silver burdett ginn teach aid elementari music homeroom teacher creat author music music connect silver burdett provid excel foundat music studi silver burdett style suit toward music studi teach student materi clearli without overcompl subject contain varieti record vocal track pe...  \n",
       "12                                                                                                                                                                                                                                                                      spanish know gold edit learn spanish flash  \n",
       "13                                                                                                                                                                                                                                                                   cd book long sinc vanish great condit classic  \n",
       "...                                                                                                                                                                                                                                                                                                            ...  \n",
       "74336                                                                                                                                                            track list butter ball zaq attack zona walk like guv sentiment pacif daylight trombon institut technolog san jose fog citi show crb trombon giant  \n",
       "74338  coldplay head full dream tour live etihad stadium manchest england june th cd intro head full dream yellow everi teardrop waterfal scientist bird paradis everglow lover japan magic clock midnight charli brown hymn weekend fix hero viva la vida cd adventur lifetim kaleidoscop troubl see soon amaz...  \n",
       "74339                                                                                                                                                                                           known live version that way life goe steam blacktop witha demo version superfici love sang hughi instead chri hick  \n",
       "74342                                                                                                     free last southsid never gon lose purpl come southsid diamond africa southsid southsid compadr southsid march mad tarentino trap nigga southsid da fam da gram skit southsid night southsid total length  \n",
       "74346                                                                                                                                                                    album autogram dobrotvorn svrhe didul metar odavd luda za sebe trepni netaan odgovor jadna ti je moja mo cigani aneo drugog reda nevinost  \n",
       "\n",
       "[26856 rows x 2 columns]"
      ]
     },
     "execution_count": 39,
     "metadata": {},
     "output_type": "execute_result"
    }
   ],
   "source": [
    "df_asin_description = df[[\"asin\",\"description\"]].copy()\n",
    "df_asin_description.drop_duplicates(subset = \"description\", inplace=True)\n",
    "# print(len(df_asin_description))\n",
    "df_asin_description"
   ]
  },
  {
   "cell_type": "markdown",
   "metadata": {},
   "source": [
    "# Sentiment Analysis"
   ]
  },
  {
   "cell_type": "code",
   "execution_count": 40,
   "metadata": {},
   "outputs": [
    {
     "data": {
      "text/html": [
       "<div>\n",
       "<style scoped>\n",
       "    .dataframe tbody tr th:only-of-type {\n",
       "        vertical-align: middle;\n",
       "    }\n",
       "\n",
       "    .dataframe tbody tr th {\n",
       "        vertical-align: top;\n",
       "    }\n",
       "\n",
       "    .dataframe thead th {\n",
       "        text-align: right;\n",
       "    }\n",
       "</style>\n",
       "<table border=\"1\" class=\"dataframe\">\n",
       "  <thead>\n",
       "    <tr style=\"text-align: right;\">\n",
       "      <th></th>\n",
       "      <th>asin</th>\n",
       "      <th>description</th>\n",
       "    </tr>\n",
       "  </thead>\n",
       "  <tbody>\n",
       "    <tr>\n",
       "      <th>4</th>\n",
       "      <td>0001526146</td>\n",
       "      <td>lose game wait shine never seen righteou broken heart look back saw lord jesu river love hittin road never jesu got ta hold life save save save rise</td>\n",
       "    </tr>\n",
       "    <tr>\n",
       "      <th>9</th>\n",
       "      <td>0159024684</td>\n",
       "      <td></td>\n",
       "    </tr>\n",
       "    <tr>\n",
       "      <th>10</th>\n",
       "      <td>0382262921</td>\n",
       "      <td>music connect silver burdett ginn teach aid elementari music homeroom teacher creat author music music connect silver burdett provid excel foundat music studi silver burdett style suit toward music studi teach student materi clearli without overcompl subject contain varieti record vocal track pe...</td>\n",
       "    </tr>\n",
       "    <tr>\n",
       "      <th>12</th>\n",
       "      <td>0545069882</td>\n",
       "      <td>spanish know gold edit learn spanish flash</td>\n",
       "    </tr>\n",
       "    <tr>\n",
       "      <th>13</th>\n",
       "      <td>0545109620</td>\n",
       "      <td>cd book long sinc vanish great condit classic</td>\n",
       "    </tr>\n",
       "  </tbody>\n",
       "</table>\n",
       "</div>"
      ],
      "text/plain": [
       "          asin  \\\n",
       "4   0001526146   \n",
       "9   0159024684   \n",
       "10  0382262921   \n",
       "12  0545069882   \n",
       "13  0545109620   \n",
       "\n",
       "                                                                                                                                                                                                                                                                                                    description  \n",
       "4                                                                                                                                                          lose game wait shine never seen righteou broken heart look back saw lord jesu river love hittin road never jesu got ta hold life save save save rise  \n",
       "9                                                                                                                                                                                                                                                                                                                \n",
       "10  music connect silver burdett ginn teach aid elementari music homeroom teacher creat author music music connect silver burdett provid excel foundat music studi silver burdett style suit toward music studi teach student materi clearli without overcompl subject contain varieti record vocal track pe...  \n",
       "12                                                                                                                                                                                                                                                                   spanish know gold edit learn spanish flash  \n",
       "13                                                                                                                                                                                                                                                                cd book long sinc vanish great condit classic  "
      ]
     },
     "execution_count": 40,
     "metadata": {},
     "output_type": "execute_result"
    }
   ],
   "source": [
    "df_process = df_asin_description\n",
    "df_process.head()"
   ]
  },
  {
   "cell_type": "code",
   "execution_count": 41,
   "metadata": {},
   "outputs": [],
   "source": [
    "# Suppressing warning about old version of spacy\n",
    "with warnings.catch_warnings():\n",
    "    warnings.simplefilter(\"ignore\")\n",
    "    # Applying Spacy affect model emotions\n",
    "    nlp_affect = spacy.load('Spacy-Affect-Model/affect_ner')\n",
    "\n",
    "    \n",
    "df_process['emotion_spacy'] = df_process.description.apply(lambda x: Counter([item.label_.lower() for item in nlp_affect(x).ents]))"
   ]
  },
  {
   "cell_type": "code",
   "execution_count": 42,
   "metadata": {},
   "outputs": [],
   "source": [
    "# Applying NRCLex emotions\n",
    "#df['emotion_nrc'] = df.description.apply(lambda x: NRCLex(x).raw_emotion_scores) "
   ]
  },
  {
   "cell_type": "code",
   "execution_count": 43,
   "metadata": {},
   "outputs": [],
   "source": [
    "\n",
    "# Extracting most significant emotion of a particular description\n",
    "def get_most_significant_emotion(emotions):\n",
    "    try:\n",
    "        sign_emotion = max(emotions, key=emotions.get)\n",
    "    except ValueError:\n",
    "        sign_emotion = None\n",
    "    return sign_emotion\n",
    "\n",
    "#df['most_significant_emotion_nrc'] = df.emotion_nrc.apply(lambda x: get_most_significant_emotion(x))\n",
    "df_process['most_significant_emotion_spacy'] = df_process.emotion_spacy.apply(lambda x: get_most_significant_emotion(x))\n",
    "\n",
    "df_process.head(100)\n",
    "save_csv = True\n",
    "if save_csv:\n",
    "    df_process.to_csv('digital_music.csv')\n",
    "\n"
   ]
  },
  {
   "cell_type": "code",
   "execution_count": 44,
   "metadata": {},
   "outputs": [
    {
     "name": "stderr",
     "output_type": "stream",
     "text": [
      "/Users/ariannabianchi/anaconda3/envs/myenv/lib/python3.10/site-packages/spacy/util.py:887: UserWarning: [W095] Model 'en_affect_ner' (0.0.0) was trained with spaCy v3.4 and may not be 100% compatible with the current version (3.5.3). If you see errors or degraded performance, download a newer compatible model or retrain your custom model with the current spaCy version. For more details and available updates, run: python -m spacy validate\n",
      "  warnings.warn(warn_msg)\n"
     ]
    },
    {
     "name": "stdout",
     "output_type": "stream",
     "text": [
      "positive\n"
     ]
    }
   ],
   "source": [
    "\n",
    "# Output of user emotion based on input.txt\n",
    "file_input = open(\"input.txt\", \"r\")\n",
    "text = file_input.read()\n",
    "nlp_affect = spacy.load('Spacy-Affect-Model/affect_ner')\n",
    "\n",
    "def measure_affect_score(sentence : str, nlp_affect):\n",
    "    affect_percent = {'fear': 0.0, 'anger': 0.0, 'anticipation': 0.0, 'trust': 0.0, 'surprise': 0.0, 'positive': 0.0,\n",
    "                      'negative': 0.0, 'sadness': 0.0, 'disgust': 0.0, 'joy': 0.0}\n",
    "    emotions = []\n",
    "    doc = nlp_affect(sentence)\n",
    "    if len(doc.ents) != 0:\n",
    "        for ent in doc.ents:\n",
    "            emotions.append(ent.label_.lower())\n",
    "        affect_counts = Counter()\n",
    "        for emotion in emotions:\n",
    "            affect_counts[emotion] += 1\n",
    "        sum_values = sum(affect_counts.values())\n",
    "        for key in affect_counts.keys():\n",
    "            affect_percent.update({key: float(affect_counts[key]) / float(sum_values)})\n",
    "    return affect_percent\n",
    "\n",
    "user_emotion_scores = measure_affect_score(text,nlp_affect)\n",
    "max_emotion = max(user_emotion_scores, key=user_emotion_scores.get)\n",
    "user_emotion = max_emotion\n",
    "\n",
    "print(user_emotion)"
   ]
  },
  {
   "cell_type": "code",
   "execution_count": 45,
   "metadata": {},
   "outputs": [],
   "source": [
    "# Find all items with the emotion \"anticipation\"\n",
    "import pandas as pd\n",
    "\n",
    "# read file with all emotions \n",
    "df_emotion = pd.read_csv('digital_music.csv')  \n",
    "# filter satisfied lines（emotion == anticipation）\n",
    "filtered_df = df_emotion[df_emotion['most_significant_emotion_spacy'] == user_emotion]\n",
    "\n",
    "# generated new lines \n",
    "filtered_df.to_csv('grouped_emotion.csv', index=False) \n",
    "\n"
   ]
  },
  {
   "cell_type": "code",
   "execution_count": 56,
   "metadata": {},
   "outputs": [
    {
     "data": {
      "text/plain": [
       "Index(['Unnamed: 0', 'asin', 'description', 'emotion_spacy',\n",
       "       'most_significant_emotion_spacy'],\n",
       "      dtype='object')"
      ]
     },
     "execution_count": 56,
     "metadata": {},
     "output_type": "execute_result"
    }
   ],
   "source": [
    "df_emotion.columns"
   ]
  },
  {
   "cell_type": "markdown",
   "metadata": {},
   "source": [
    "# Similar Items System\n",
    "Program that reads the dataset, preprocess the data and output the most similar items based on a user description of a product."
   ]
  },
  {
   "cell_type": "code",
   "execution_count": 46,
   "metadata": {},
   "outputs": [
    {
     "name": "stderr",
     "output_type": "stream",
     "text": [
      "[nltk_data] Downloading package stopwords to\n",
      "[nltk_data]     /Users/ariannabianchi/nltk_data...\n",
      "[nltk_data]   Package stopwords is already up-to-date!\n",
      "[nltk_data] Downloading package punkt to\n",
      "[nltk_data]     /Users/ariannabianchi/nltk_data...\n",
      "[nltk_data]   Package punkt is already up-to-date!\n"
     ]
    },
    {
     "data": {
      "text/plain": [
       "True"
      ]
     },
     "execution_count": 46,
     "metadata": {},
     "output_type": "execute_result"
    }
   ],
   "source": [
    "import json\n",
    "from collections import defaultdict\n",
    "import gzip\n",
    "import pandas as pd\n",
    "from lxml import html,etree\n",
    "import numpy as np\n",
    "import ipywidgets as widgets\n",
    "import re\n",
    "from nltk.tokenize import word_tokenize\n",
    "from nltk.corpus import stopwords\n",
    "import nltk\n",
    "from nltk.stem import PorterStemmer\n",
    "from mlxtend.preprocessing import TransactionEncoder\n",
    "from mlxtend.frequent_patterns import apriori\n",
    "import os\n",
    "from preprocess_data import preprocess_data\n",
    "\n",
    "\n",
    "# set stopwords vocabulary\n",
    "nltk.download('stopwords')\n",
    "\n",
    "# set tokenizer\n",
    "nltk.download('punkt')"
   ]
  },
  {
   "cell_type": "code",
   "execution_count": 58,
   "metadata": {},
   "outputs": [
    {
     "data": {
      "text/html": [
       "<div>\n",
       "<style scoped>\n",
       "    .dataframe tbody tr th:only-of-type {\n",
       "        vertical-align: middle;\n",
       "    }\n",
       "\n",
       "    .dataframe tbody tr th {\n",
       "        vertical-align: top;\n",
       "    }\n",
       "\n",
       "    .dataframe thead th {\n",
       "        text-align: right;\n",
       "    }\n",
       "</style>\n",
       "<table border=\"1\" class=\"dataframe\">\n",
       "  <thead>\n",
       "    <tr style=\"text-align: right;\">\n",
       "      <th></th>\n",
       "      <th>asin</th>\n",
       "      <th>description</th>\n",
       "    </tr>\n",
       "  </thead>\n",
       "  <tbody>\n",
       "    <tr>\n",
       "      <th>0</th>\n",
       "      <td>0001526146</td>\n",
       "      <td>lose game wait shine never seen righteou broken heart look back saw lord jesu river love hittin road never jesu got ta hold life save save save rise</td>\n",
       "    </tr>\n",
       "    <tr>\n",
       "      <th>2</th>\n",
       "      <td>0382262921</td>\n",
       "      <td>music connect silver burdett ginn teach aid elementari music homeroom teacher creat author music music connect silver burdett provid excel foundat music studi silver burdett style suit toward music studi teach student materi clearli without overcompl subject contain varieti record vocal track pe...</td>\n",
       "    </tr>\n",
       "    <tr>\n",
       "      <th>3</th>\n",
       "      <td>0545069882</td>\n",
       "      <td>spanish know gold edit learn spanish flash</td>\n",
       "    </tr>\n",
       "    <tr>\n",
       "      <th>4</th>\n",
       "      <td>0545109620</td>\n",
       "      <td>cd book long sinc vanish great condit classic</td>\n",
       "    </tr>\n",
       "    <tr>\n",
       "      <th>5</th>\n",
       "      <td>0545352886</td>\n",
       "      <td>entertain bright joyou romp fill play laughter learn set audio cd wonder way read along belov stori</td>\n",
       "    </tr>\n",
       "    <tr>\n",
       "      <th>...</th>\n",
       "      <td>...</td>\n",
       "      <td>...</td>\n",
       "    </tr>\n",
       "    <tr>\n",
       "      <th>26851</th>\n",
       "      <td>B01HG2DW1I</td>\n",
       "      <td>track list butter ball zaq attack zona walk like guv sentiment pacif daylight trombon institut technolog san jose fog citi show crb trombon giant</td>\n",
       "    </tr>\n",
       "    <tr>\n",
       "      <th>26852</th>\n",
       "      <td>B01HH5R7LK</td>\n",
       "      <td>coldplay head full dream tour live etihad stadium manchest england june th cd intro head full dream yellow everi teardrop waterfal scientist bird paradis everglow lover japan magic clock midnight charli brown hymn weekend fix hero viva la vida cd adventur lifetim kaleidoscop troubl see soon amaz...</td>\n",
       "    </tr>\n",
       "    <tr>\n",
       "      <th>26853</th>\n",
       "      <td>B01HH68B96</td>\n",
       "      <td>known live version that way life goe steam blacktop witha demo version superfici love sang hughi instead chri hick</td>\n",
       "    </tr>\n",
       "    <tr>\n",
       "      <th>26854</th>\n",
       "      <td>B01HH7D5KU</td>\n",
       "      <td>free last southsid never gon lose purpl come southsid diamond africa southsid southsid compadr southsid march mad tarentino trap nigga southsid da fam da gram skit southsid night southsid total length</td>\n",
       "    </tr>\n",
       "    <tr>\n",
       "      <th>26855</th>\n",
       "      <td>B01HIT3KZC</td>\n",
       "      <td>album autogram dobrotvorn svrhe didul metar odavd luda za sebe trepni netaan odgovor jadna ti je moja mo cigani aneo drugog reda nevinost</td>\n",
       "    </tr>\n",
       "  </tbody>\n",
       "</table>\n",
       "<p>26855 rows × 2 columns</p>\n",
       "</div>"
      ],
      "text/plain": [
       "             asin  \\\n",
       "0      0001526146   \n",
       "2      0382262921   \n",
       "3      0545069882   \n",
       "4      0545109620   \n",
       "5      0545352886   \n",
       "...           ...   \n",
       "26851  B01HG2DW1I   \n",
       "26852  B01HH5R7LK   \n",
       "26853  B01HH68B96   \n",
       "26854  B01HH7D5KU   \n",
       "26855  B01HIT3KZC   \n",
       "\n",
       "                                                                                                                                                                                                                                                                                                       description  \n",
       "0                                                                                                                                                             lose game wait shine never seen righteou broken heart look back saw lord jesu river love hittin road never jesu got ta hold life save save save rise  \n",
       "2      music connect silver burdett ginn teach aid elementari music homeroom teacher creat author music music connect silver burdett provid excel foundat music studi silver burdett style suit toward music studi teach student materi clearli without overcompl subject contain varieti record vocal track pe...  \n",
       "3                                                                                                                                                                                                                                                                       spanish know gold edit learn spanish flash  \n",
       "4                                                                                                                                                                                                                                                                    cd book long sinc vanish great condit classic  \n",
       "5                                                                                                                                                                                                              entertain bright joyou romp fill play laughter learn set audio cd wonder way read along belov stori  \n",
       "...                                                                                                                                                                                                                                                                                                            ...  \n",
       "26851                                                                                                                                                            track list butter ball zaq attack zona walk like guv sentiment pacif daylight trombon institut technolog san jose fog citi show crb trombon giant  \n",
       "26852  coldplay head full dream tour live etihad stadium manchest england june th cd intro head full dream yellow everi teardrop waterfal scientist bird paradis everglow lover japan magic clock midnight charli brown hymn weekend fix hero viva la vida cd adventur lifetim kaleidoscop troubl see soon amaz...  \n",
       "26853                                                                                                                                                                                           known live version that way life goe steam blacktop witha demo version superfici love sang hughi instead chri hick  \n",
       "26854                                                                                                     free last southsid never gon lose purpl come southsid diamond africa southsid southsid compadr southsid march mad tarentino trap nigga southsid da fam da gram skit southsid night southsid total length  \n",
       "26855                                                                                                                                                                    album autogram dobrotvorn svrhe didul metar odavd luda za sebe trepni netaan odgovor jadna ti je moja mo cigani aneo drugog reda nevinost  \n",
       "\n",
       "[26855 rows x 2 columns]"
      ]
     },
     "execution_count": 58,
     "metadata": {},
     "output_type": "execute_result"
    }
   ],
   "source": [
    "df_asin_description = df_emotion[[\"asin\",\"description\"]].copy()\n",
    "df_asin_description.drop_duplicates(subset = \"description\", inplace=True)\n",
    "df_asin_description.dropna(subset=['description'], inplace=True)\n",
    "# print(len(df_asin_description))\n",
    "df_asin_description"
   ]
  },
  {
   "cell_type": "code",
   "execution_count": 59,
   "metadata": {},
   "outputs": [
    {
     "data": {
      "text/html": [
       "<div>\n",
       "<style scoped>\n",
       "    .dataframe tbody tr th:only-of-type {\n",
       "        vertical-align: middle;\n",
       "    }\n",
       "\n",
       "    .dataframe tbody tr th {\n",
       "        vertical-align: top;\n",
       "    }\n",
       "\n",
       "    .dataframe thead th {\n",
       "        text-align: right;\n",
       "    }\n",
       "</style>\n",
       "<table border=\"1\" class=\"dataframe\">\n",
       "  <thead>\n",
       "    <tr style=\"text-align: right;\">\n",
       "      <th></th>\n",
       "      <th>asin</th>\n",
       "      <th>description</th>\n",
       "    </tr>\n",
       "  </thead>\n",
       "  <tbody>\n",
       "    <tr>\n",
       "      <th>0</th>\n",
       "      <td>0001526146</td>\n",
       "      <td>lose game wait shine never seen righteou broken heart look back saw lord jesu river love hittin road never jesu got ta hold life save save save rise</td>\n",
       "    </tr>\n",
       "    <tr>\n",
       "      <th>2</th>\n",
       "      <td>0382262921</td>\n",
       "      <td>music connect silver burdett ginn teach aid elementari music homeroom teacher creat author music music connect silver burdett provid excel foundat music studi silver burdett style suit toward music studi teach student materi clearli without overcompl subject contain varieti record vocal track pe...</td>\n",
       "    </tr>\n",
       "    <tr>\n",
       "      <th>3</th>\n",
       "      <td>0545069882</td>\n",
       "      <td>spanish know gold edit learn spanish flash</td>\n",
       "    </tr>\n",
       "    <tr>\n",
       "      <th>4</th>\n",
       "      <td>0545109620</td>\n",
       "      <td>cd book long sinc vanish great condit classic</td>\n",
       "    </tr>\n",
       "    <tr>\n",
       "      <th>5</th>\n",
       "      <td>0545352886</td>\n",
       "      <td>entertain bright joyou romp fill play laughter learn set audio cd wonder way read along belov stori</td>\n",
       "    </tr>\n",
       "  </tbody>\n",
       "</table>\n",
       "</div>"
      ],
      "text/plain": [
       "         asin  \\\n",
       "0  0001526146   \n",
       "2  0382262921   \n",
       "3  0545069882   \n",
       "4  0545109620   \n",
       "5  0545352886   \n",
       "\n",
       "                                                                                                                                                                                                                                                                                                   description  \n",
       "0                                                                                                                                                         lose game wait shine never seen righteou broken heart look back saw lord jesu river love hittin road never jesu got ta hold life save save save rise  \n",
       "2  music connect silver burdett ginn teach aid elementari music homeroom teacher creat author music music connect silver burdett provid excel foundat music studi silver burdett style suit toward music studi teach student materi clearli without overcompl subject contain varieti record vocal track pe...  \n",
       "3                                                                                                                                                                                                                                                                   spanish know gold edit learn spanish flash  \n",
       "4                                                                                                                                                                                                                                                                cd book long sinc vanish great condit classic  \n",
       "5                                                                                                                                                                                                          entertain bright joyou romp fill play laughter learn set audio cd wonder way read along belov stori  "
      ]
     },
     "execution_count": 59,
     "metadata": {},
     "output_type": "execute_result"
    }
   ],
   "source": [
    "df_asin_description.head()"
   ]
  },
  {
   "cell_type": "markdown",
   "metadata": {},
   "source": [
    "## Creating shingles"
   ]
  },
  {
   "cell_type": "code",
   "execution_count": 60,
   "metadata": {},
   "outputs": [],
   "source": [
    "# Given a string input, return the list of shingles\n",
    "def shingle(s, q, delimiter=' '):\n",
    "    all_shingles = []\n",
    "    if isinstance(s, float):\n",
    "        print(s)\n",
    "    if delimiter != '':\n",
    "        words_list = s.split(delimiter)\n",
    "    else:\n",
    "        words_list = s\n",
    "    for i in range (len(words_list)-q+1):\n",
    "        all_shingles.append(delimiter.join(words_list[i:i+q]))\n",
    "    return list(set(all_shingles))"
   ]
  },
  {
   "cell_type": "code",
   "execution_count": 62,
   "metadata": {},
   "outputs": [],
   "source": [
    "# Apply shingles to the df_asin_description\n",
    "df_asin_description[\"shingles\"] = df_asin_description[\"description\"].apply(lambda x: shingle(x, 3))\n",
    "# aaa = df_asin_description[\"description\"].apply(lambda x: shingle(x, 3))\n",
    "# df_asin_description"
   ]
  },
  {
   "cell_type": "markdown",
   "metadata": {},
   "source": [
    "### Similarity of sets\n",
    "Computing Jaccuard similarity"
   ]
  },
  {
   "cell_type": "code",
   "execution_count": 63,
   "metadata": {},
   "outputs": [],
   "source": [
    "# function that takes an intersection set and a union set and returns the Jaccard similarity\n",
    "def similarity(intersection_set, union_set):\n",
    "    return len(intersection_set)/len(union_set)"
   ]
  },
  {
   "cell_type": "code",
   "execution_count": 64,
   "metadata": {},
   "outputs": [],
   "source": [
    "# input = \"In the dynamic landscape of higher education, universities are continually redefining the traditional boundaries of learning. The integration of arts, music, and literature has become a cornerstone in fostering a holistic educational experience. At the heart of this transformation is the commitment to connect students with a diverse range of disciplines, preparing them not only for academic success but also for a life enriched by creativity and cultural understanding. In this context, universities such as New School are pioneering integrated learning models that transcend conventional subject silos. Their innovative approach, backed by cutting-edge teaching methodologies, empowers students to explore the intersections of arts, music, and literature. The vision goes beyond a mere confluence of disciplines; it seeks to create an immersive educational environment where students can seamlessly weave their academic pursuits into the fabric of their daily lives. One key player in this educational evolution is McGraw, a renowned arts author whose work has become a guiding light for both educators and students alike. McGraw's contributions extend beyond the conventional boundaries of a university classroom, resonating with a global audience. His writings not only inspire a love for the arts but also emphasize the transformative power of integrated learning in shaping well-rounded individuals. The concept of an integrated learning environment transcends the boundaries of time and space. It is not confined to the four walls of a classroom; rather, it permeates every facet of a student's journey. In this dynamic world, students are no longer passive recipients of knowledge but active participants in a vibrant community of learners. The university becomes a nexus where diverse ideas converge, fostering a collaborative spirit that extends far beyond graduation. In this interconnected world, the New School's commitment to integrated learning is a beacon of innovation. Students are not just acquiring knowledge; they are forging connections between seemingly disparate fields, discovering the harmonies between arts and sciences, and navigating the rhythms of a multicultural world. This transformative journey prepares them to navigate the complexities of the modern world with a deep appreciation for diversity and a keen sense of intellectual curiosity. As we stand at the intersection of arts, music, and literature, the integrated learning paradigm championed by universities like New School, guided by visionary authors such as McGraw, is shaping the future of education. It is a testament to the idea that learning is not a compartmentalized experience but a symphony of knowledge, where every note, every discipline, plays a crucial role in the harmonious melody of life.\"\n",
    "\n",
    "file_input = open(\"input.txt\", \"r\")\n",
    "input = file_input.read()\n",
    "# print(input)\n",
    "user_description = preprocess_data(input)\n",
    "user_description = shingle(user_description, 3)  \n",
    "# intersection_set = set(user_description).intersection(set(df_asin_description.shingles.iloc[0]))\n",
    "# union_set = set(user_description).union(set(df_asin_description.shingles.iloc[0]))\n",
    "# # perform similarity\n",
    "# sim = similarity(intersection_set, union_set)\n",
    "# print(sim)\n"
   ]
  },
  {
   "cell_type": "code",
   "execution_count": 65,
   "metadata": {},
   "outputs": [
    {
     "data": {
      "text/html": [
       "<div>\n",
       "<style scoped>\n",
       "    .dataframe tbody tr th:only-of-type {\n",
       "        vertical-align: middle;\n",
       "    }\n",
       "\n",
       "    .dataframe tbody tr th {\n",
       "        vertical-align: top;\n",
       "    }\n",
       "\n",
       "    .dataframe thead th {\n",
       "        text-align: right;\n",
       "    }\n",
       "</style>\n",
       "<table border=\"1\" class=\"dataframe\">\n",
       "  <thead>\n",
       "    <tr style=\"text-align: right;\">\n",
       "      <th></th>\n",
       "      <th>asin</th>\n",
       "      <th>description</th>\n",
       "      <th>shingles</th>\n",
       "      <th>similarity</th>\n",
       "    </tr>\n",
       "  </thead>\n",
       "  <tbody>\n",
       "    <tr>\n",
       "      <th>0</th>\n",
       "      <td>0001526146</td>\n",
       "      <td>lose game wait shine never seen righteou broken heart look back saw lord jesu river love hittin road never jesu got ta hold life save save save rise</td>\n",
       "      <td>[look back saw, never jesu got, river love hittin, never seen righteou, righteou broken heart, jesu river love, back saw lord, love hittin road, heart look back, lord jesu river, broken heart look, seen righteou broken, life save save, game wait shine, save save rise, ta hold life, road never je...</td>\n",
       "      <td>0.0</td>\n",
       "    </tr>\n",
       "    <tr>\n",
       "      <th>2</th>\n",
       "      <td>0382262921</td>\n",
       "      <td>music connect silver burdett ginn teach aid elementari music homeroom teacher creat author music music connect silver burdett provid excel foundat music studi silver burdett style suit toward music studi teach student materi clearli without overcompl subject contain varieti record vocal track pe...</td>\n",
       "      <td>[burdett style suit, record vocal track, pick track danc, suit toward music, creat author music, studi teach student, ginn teach aid, homeroom teacher creat, teach aid elementari, excel foundat music, foundat music studi, burdett ginn teach, contain varieti record, perform track pick, author mus...</td>\n",
       "      <td>0.0</td>\n",
       "    </tr>\n",
       "    <tr>\n",
       "      <th>3</th>\n",
       "      <td>0545069882</td>\n",
       "      <td>spanish know gold edit learn spanish flash</td>\n",
       "      <td>[know gold edit, edit learn spanish, spanish know gold, learn spanish flash, gold edit learn]</td>\n",
       "      <td>0.0</td>\n",
       "    </tr>\n",
       "    <tr>\n",
       "      <th>4</th>\n",
       "      <td>0545109620</td>\n",
       "      <td>cd book long sinc vanish great condit classic</td>\n",
       "      <td>[sinc vanish great, long sinc vanish, cd book long, great condit classic, book long sinc, vanish great condit]</td>\n",
       "      <td>0.0</td>\n",
       "    </tr>\n",
       "    <tr>\n",
       "      <th>5</th>\n",
       "      <td>0545352886</td>\n",
       "      <td>entertain bright joyou romp fill play laughter learn set audio cd wonder way read along belov stori</td>\n",
       "      <td>[entertain bright joyou, way read along, play laughter learn, joyou romp fill, audio cd wonder, fill play laughter, romp fill play, learn set audio, set audio cd, cd wonder way, laughter learn set, along belov stori, read along belov, bright joyou romp, wonder way read]</td>\n",
       "      <td>0.0</td>\n",
       "    </tr>\n",
       "    <tr>\n",
       "      <th>...</th>\n",
       "      <td>...</td>\n",
       "      <td>...</td>\n",
       "      <td>...</td>\n",
       "      <td>...</td>\n",
       "    </tr>\n",
       "    <tr>\n",
       "      <th>26851</th>\n",
       "      <td>B01HG2DW1I</td>\n",
       "      <td>track list butter ball zaq attack zona walk like guv sentiment pacif daylight trombon institut technolog san jose fog citi show crb trombon giant</td>\n",
       "      <td>[guv sentiment pacif, san jose fog, show crb trombon, walk like guv, track list butter, fog citi show, technolog san jose, jose fog citi, citi show crb, like guv sentiment, crb trombon giant, zaq attack zona, pacif daylight trombon, attack zona walk, institut technolog san, trombon institut tech...</td>\n",
       "      <td>0.0</td>\n",
       "    </tr>\n",
       "    <tr>\n",
       "      <th>26852</th>\n",
       "      <td>B01HH5R7LK</td>\n",
       "      <td>coldplay head full dream tour live etihad stadium manchest england june th cd intro head full dream yellow everi teardrop waterfal scientist bird paradis everglow lover japan magic clock midnight charli brown hymn weekend fix hero viva la vida cd adventur lifetim kaleidoscop troubl see soon amaz...</td>\n",
       "      <td>[manchest england june, lover japan magic, day sky full, nme award viva, cd intro head, weekend fix hero, teardrop waterfal scientist, viva la vida, midnight charli brown, paradis everglow lover, head full dream, live etihad stadium, troubl see soon, vida charli brown, magic clock midnight, etih...</td>\n",
       "      <td>0.0</td>\n",
       "    </tr>\n",
       "    <tr>\n",
       "      <th>26853</th>\n",
       "      <td>B01HH68B96</td>\n",
       "      <td>known live version that way life goe steam blacktop witha demo version superfici love sang hughi instead chri hick</td>\n",
       "      <td>[that way life, love sang hughi, demo version superfici, steam blacktop witha, superfici love sang, sang hughi instead, version superfici love, way life goe, instead chri hick, goe steam blacktop, blacktop witha demo, known live version, witha demo version, life goe steam, hughi instead chri, ve...</td>\n",
       "      <td>0.0</td>\n",
       "    </tr>\n",
       "    <tr>\n",
       "      <th>26854</th>\n",
       "      <td>B01HH7D5KU</td>\n",
       "      <td>free last southsid never gon lose purpl come southsid diamond africa southsid southsid compadr southsid march mad tarentino trap nigga southsid da fam da gram skit southsid night southsid total length</td>\n",
       "      <td>[mad tarentino trap, gram skit southsid, march mad tarentino, come southsid diamond, gon lose purpl, night southsid total, purpl come southsid, trap nigga southsid, lose purpl come, southsid total length, diamond africa southsid, da fam da, tarentino trap nigga, free last southsid, southsid diam...</td>\n",
       "      <td>0.0</td>\n",
       "    </tr>\n",
       "    <tr>\n",
       "      <th>26855</th>\n",
       "      <td>B01HIT3KZC</td>\n",
       "      <td>album autogram dobrotvorn svrhe didul metar odavd luda za sebe trepni netaan odgovor jadna ti je moja mo cigani aneo drugog reda nevinost</td>\n",
       "      <td>[sebe trepni netaan, za sebe trepni, album autogram dobrotvorn, je moja mo, ti je moja, autogram dobrotvorn svrhe, cigani aneo drugog, mo cigani aneo, trepni netaan odgovor, netaan odgovor jadna, aneo drugog reda, odavd luda za, didul metar odavd, metar odavd luda, moja mo cigani, drugog reda ne...</td>\n",
       "      <td>0.0</td>\n",
       "    </tr>\n",
       "  </tbody>\n",
       "</table>\n",
       "<p>26855 rows × 4 columns</p>\n",
       "</div>"
      ],
      "text/plain": [
       "             asin  \\\n",
       "0      0001526146   \n",
       "2      0382262921   \n",
       "3      0545069882   \n",
       "4      0545109620   \n",
       "5      0545352886   \n",
       "...           ...   \n",
       "26851  B01HG2DW1I   \n",
       "26852  B01HH5R7LK   \n",
       "26853  B01HH68B96   \n",
       "26854  B01HH7D5KU   \n",
       "26855  B01HIT3KZC   \n",
       "\n",
       "                                                                                                                                                                                                                                                                                                       description  \\\n",
       "0                                                                                                                                                             lose game wait shine never seen righteou broken heart look back saw lord jesu river love hittin road never jesu got ta hold life save save save rise   \n",
       "2      music connect silver burdett ginn teach aid elementari music homeroom teacher creat author music music connect silver burdett provid excel foundat music studi silver burdett style suit toward music studi teach student materi clearli without overcompl subject contain varieti record vocal track pe...   \n",
       "3                                                                                                                                                                                                                                                                       spanish know gold edit learn spanish flash   \n",
       "4                                                                                                                                                                                                                                                                    cd book long sinc vanish great condit classic   \n",
       "5                                                                                                                                                                                                              entertain bright joyou romp fill play laughter learn set audio cd wonder way read along belov stori   \n",
       "...                                                                                                                                                                                                                                                                                                            ...   \n",
       "26851                                                                                                                                                            track list butter ball zaq attack zona walk like guv sentiment pacif daylight trombon institut technolog san jose fog citi show crb trombon giant   \n",
       "26852  coldplay head full dream tour live etihad stadium manchest england june th cd intro head full dream yellow everi teardrop waterfal scientist bird paradis everglow lover japan magic clock midnight charli brown hymn weekend fix hero viva la vida cd adventur lifetim kaleidoscop troubl see soon amaz...   \n",
       "26853                                                                                                                                                                                           known live version that way life goe steam blacktop witha demo version superfici love sang hughi instead chri hick   \n",
       "26854                                                                                                     free last southsid never gon lose purpl come southsid diamond africa southsid southsid compadr southsid march mad tarentino trap nigga southsid da fam da gram skit southsid night southsid total length   \n",
       "26855                                                                                                                                                                    album autogram dobrotvorn svrhe didul metar odavd luda za sebe trepni netaan odgovor jadna ti je moja mo cigani aneo drugog reda nevinost   \n",
       "\n",
       "                                                                                                                                                                                                                                                                                                          shingles  \\\n",
       "0      [look back saw, never jesu got, river love hittin, never seen righteou, righteou broken heart, jesu river love, back saw lord, love hittin road, heart look back, lord jesu river, broken heart look, seen righteou broken, life save save, game wait shine, save save rise, ta hold life, road never je...   \n",
       "2      [burdett style suit, record vocal track, pick track danc, suit toward music, creat author music, studi teach student, ginn teach aid, homeroom teacher creat, teach aid elementari, excel foundat music, foundat music studi, burdett ginn teach, contain varieti record, perform track pick, author mus...   \n",
       "3                                                                                                                                                                                                                    [know gold edit, edit learn spanish, spanish know gold, learn spanish flash, gold edit learn]   \n",
       "4                                                                                                                                                                                                   [sinc vanish great, long sinc vanish, cd book long, great condit classic, book long sinc, vanish great condit]   \n",
       "5                                   [entertain bright joyou, way read along, play laughter learn, joyou romp fill, audio cd wonder, fill play laughter, romp fill play, learn set audio, set audio cd, cd wonder way, laughter learn set, along belov stori, read along belov, bright joyou romp, wonder way read]   \n",
       "...                                                                                                                                                                                                                                                                                                            ...   \n",
       "26851  [guv sentiment pacif, san jose fog, show crb trombon, walk like guv, track list butter, fog citi show, technolog san jose, jose fog citi, citi show crb, like guv sentiment, crb trombon giant, zaq attack zona, pacif daylight trombon, attack zona walk, institut technolog san, trombon institut tech...   \n",
       "26852  [manchest england june, lover japan magic, day sky full, nme award viva, cd intro head, weekend fix hero, teardrop waterfal scientist, viva la vida, midnight charli brown, paradis everglow lover, head full dream, live etihad stadium, troubl see soon, vida charli brown, magic clock midnight, etih...   \n",
       "26853  [that way life, love sang hughi, demo version superfici, steam blacktop witha, superfici love sang, sang hughi instead, version superfici love, way life goe, instead chri hick, goe steam blacktop, blacktop witha demo, known live version, witha demo version, life goe steam, hughi instead chri, ve...   \n",
       "26854  [mad tarentino trap, gram skit southsid, march mad tarentino, come southsid diamond, gon lose purpl, night southsid total, purpl come southsid, trap nigga southsid, lose purpl come, southsid total length, diamond africa southsid, da fam da, tarentino trap nigga, free last southsid, southsid diam...   \n",
       "26855  [sebe trepni netaan, za sebe trepni, album autogram dobrotvorn, je moja mo, ti je moja, autogram dobrotvorn svrhe, cigani aneo drugog, mo cigani aneo, trepni netaan odgovor, netaan odgovor jadna, aneo drugog reda, odavd luda za, didul metar odavd, metar odavd luda, moja mo cigani, drugog reda ne...   \n",
       "\n",
       "       similarity  \n",
       "0             0.0  \n",
       "2             0.0  \n",
       "3             0.0  \n",
       "4             0.0  \n",
       "5             0.0  \n",
       "...           ...  \n",
       "26851         0.0  \n",
       "26852         0.0  \n",
       "26853         0.0  \n",
       "26854         0.0  \n",
       "26855         0.0  \n",
       "\n",
       "[26855 rows x 4 columns]"
      ]
     },
     "execution_count": 65,
     "metadata": {},
     "output_type": "execute_result"
    }
   ],
   "source": [
    "# df_asin_description\n",
    "df_asin_description[\"similarity\"] = df_asin_description[\"shingles\"].apply(lambda x: similarity(set(user_description).intersection(set(x)), set(user_description).union(set(x))))\n",
    "df_asin_description\n"
   ]
  },
  {
   "cell_type": "markdown",
   "metadata": {},
   "source": [
    "Dataframe sorted by similarity"
   ]
  },
  {
   "cell_type": "code",
   "execution_count": 66,
   "metadata": {},
   "outputs": [
    {
     "data": {
      "text/html": [
       "<div>\n",
       "<style scoped>\n",
       "    .dataframe tbody tr th:only-of-type {\n",
       "        vertical-align: middle;\n",
       "    }\n",
       "\n",
       "    .dataframe tbody tr th {\n",
       "        vertical-align: top;\n",
       "    }\n",
       "\n",
       "    .dataframe thead th {\n",
       "        text-align: right;\n",
       "    }\n",
       "</style>\n",
       "<table border=\"1\" class=\"dataframe\">\n",
       "  <thead>\n",
       "    <tr style=\"text-align: right;\">\n",
       "      <th></th>\n",
       "      <th>asin</th>\n",
       "      <th>description</th>\n",
       "      <th>shingles</th>\n",
       "      <th>similarity</th>\n",
       "    </tr>\n",
       "  </thead>\n",
       "  <tbody>\n",
       "    <tr>\n",
       "      <th>3471</th>\n",
       "      <td>B00032N1V0</td>\n",
       "      <td>grand daddi tap cd short repeat piano orchestr select design meet need teach tap techniqu build routin note contain technic exercis tap fundament terminolog grade routin doubl length cd note avail</td>\n",
       "      <td>[teach tap techniqu, techniqu build routin, build routin note, grade routin doubl, tap cd short, terminolog grade routin, piano orchestr select, routin note contain, orchestr select design, repeat piano orchestr, select design meet, cd short repeat, contain technic exercis, exercis tap fundament...</td>\n",
       "      <td>0.010000</td>\n",
       "    </tr>\n",
       "    <tr>\n",
       "      <th>24162</th>\n",
       "      <td>B00M8B98SO</td>\n",
       "      <td>music companion book best sell author max lucado collect wonder backdrop prayer person devot offer song chosen perfectli complement book also includ new song darlen zschech paul rita baloch written specif project</td>\n",
       "      <td>[offer song chosen, song chosen perfectli, also includ new, darlen zschech paul, paul rita baloch, zschech paul rita, devot offer song, book also includ, collect wonder backdrop, companion book best, sell author max, rita baloch written, complement book also, baloch written specif, includ new so...</td>\n",
       "      <td>0.009901</td>\n",
       "    </tr>\n",
       "    <tr>\n",
       "      <th>26</th>\n",
       "      <td>0829736522</td>\n",
       "      <td>combin style rock ska zona releas new product song fill posit messag theme hope motiv touch live young peopl life chang way vision goal group album also includ new version neblina one hit previou product</td>\n",
       "      <td>[goal group album, hit previou product, life chang way, also includ new, combin style rock, album also includ, group album also, motiv touch live, ska zona releas, way vision goal, includ new version, style rock ska, live young peopl, touch live young, theme hope motiv, rock ska zona, messag the...</td>\n",
       "      <td>0.009615</td>\n",
       "    </tr>\n",
       "    <tr>\n",
       "      <th>21741</th>\n",
       "      <td>B00B18ULGS</td>\n",
       "      <td>livetun song collect year featur hatsun miku come also includ new song subject chang come bonu dvd unreleas music clip previou song four repres clip subject chang edit avail may dvd disc encod region japan europ middl east subtitl includ</td>\n",
       "      <td>[europ middl east, music clip previou, also includ new, may dvd disc, east subtitl includ, year featur hatsun, song four repres, dvd unreleas music, repres clip subject, come bonu dvd, subject chang come, japan europ middl, collect year featur, song collect year, disc encod region, miku come als...</td>\n",
       "      <td>0.009174</td>\n",
       "    </tr>\n",
       "    <tr>\n",
       "      <th>20104</th>\n",
       "      <td>B006BAVVFQ</td>\n",
       "      <td>meet alzheim companionship journey inform inspir holist introduct alzheim diseas uniqu audio resourc design meet need busi caregiv provid critic inform engag access format assimil distil mani book resourc meet alzheim compassion bring forth critic point care someon dementia goal reduc caregiv st...</td>\n",
       "      <td>[qualiti life caregiv, metaphor art sensit, poetri myth metaphor, dementia goal reduc, teresa avila meet, thing think much, need busi caregiv, caregiv symptom alzheim, caregiv stress improv, someon dementia goal, resourc design meet, meet alzheim companionship, care someon dementia, alzheim comp...</td>\n",
       "      <td>0.006329</td>\n",
       "    </tr>\n",
       "    <tr>\n",
       "      <th>...</th>\n",
       "      <td>...</td>\n",
       "      <td>...</td>\n",
       "      <td>...</td>\n",
       "      <td>...</td>\n",
       "    </tr>\n",
       "    <tr>\n",
       "      <th>8951</th>\n",
       "      <td>B000RC4W32</td>\n",
       "      <td>black tulip record present royalett singl collect featur origin record track big thing yesterday lover willi wolf blue summer come goe cri gone watch happen poor boy gon na take miracl sight mind want meet never bring lone big mistak better know affair rememb want one summer gone love without en...</td>\n",
       "      <td>[take miracl bonu, sight mind want, happen poor boy, wolf blue summer, na take miracl, lone big mistak, record track big, present royalett singl, featur origin record, boy gon na, want meet never, bring lone big, miracl sight mind, never bring lone, know affair rememb, take miracl sight, watch h...</td>\n",
       "      <td>0.000000</td>\n",
       "    </tr>\n",
       "    <tr>\n",
       "      <th>8950</th>\n",
       "      <td>B000RC9692</td>\n",
       "      <td>trombolin jack across way chilli wind shannon kansa citi railroad blue land lincoln waltz g bill blue come along jodi northern white cloud right right waltz c golden west frog lilypad lloyd loar front back smoki mountain schottisch old mountain rocki run</td>\n",
       "      <td>[smoki mountain schottisch, northern white cloud, blue land lincoln, frog lilypad lloyd, right right waltz, chilli wind shannon, c golden west, waltz c golden, lincoln waltz g, mountain rocki run, cloud right right, golden west frog, back smoki mountain, citi railroad blue, old mountain rocki, f...</td>\n",
       "      <td>0.000000</td>\n",
       "    </tr>\n",
       "    <tr>\n",
       "      <th>8949</th>\n",
       "      <td>B000RC8FMG</td>\n",
       "      <td>koli shema mi ha ish ori veyishi betza bedami matai hayom lekha dodi mizmor ledavid al taster im zmirot amar hashem leyaakov karev yom yedid nefesh et ruhi tifdeh medley vehu yoshieni lemaan achai vereai zion zion</td>\n",
       "      <td>[hashem leyaakov karev, tifdeh medley vehu, taster im zmirot, zmirot amar hashem, bedami matai hayom, vehu yoshieni lemaan, veyishi betza bedami, vereai zion zion, leyaakov karev yom, shema mi ha, koli shema mi, mi ha ish, et ruhi tifdeh, ruhi tifdeh medley, yom yedid nefesh, ha ish ori, mizmor ...</td>\n",
       "      <td>0.000000</td>\n",
       "    </tr>\n",
       "    <tr>\n",
       "      <th>8948</th>\n",
       "      <td>B000RC8J7M</td>\n",
       "      <td>deryn pur ei di r deryn du ar fore dydd nadolig mordaith america dacw nghariad donald ym mhontypridd yr eneth glaf cariad cyntaf even prayer glomen hiraeth feirion yr eneth gadd ei gwrthod llangollen market cyfri r geifr</td>\n",
       "      <td>[even prayer glomen, glaf cariad cyntaf, r deryn du, yr eneth glaf, deryn du ar, deryn pur ei, cyfri r geifr, market cyfri r, glomen hiraeth feirion, di r deryn, nghariad donald ym, prayer glomen hiraeth, llangollen market cyfri, eneth gadd ei, gadd ei gwrthod, dacw nghariad donald, eneth glaf c...</td>\n",
       "      <td>0.000000</td>\n",
       "    </tr>\n",
       "    <tr>\n",
       "      <th>26855</th>\n",
       "      <td>B01HIT3KZC</td>\n",
       "      <td>album autogram dobrotvorn svrhe didul metar odavd luda za sebe trepni netaan odgovor jadna ti je moja mo cigani aneo drugog reda nevinost</td>\n",
       "      <td>[sebe trepni netaan, za sebe trepni, album autogram dobrotvorn, je moja mo, ti je moja, autogram dobrotvorn svrhe, cigani aneo drugog, mo cigani aneo, trepni netaan odgovor, netaan odgovor jadna, aneo drugog reda, odavd luda za, didul metar odavd, metar odavd luda, moja mo cigani, drugog reda ne...</td>\n",
       "      <td>0.000000</td>\n",
       "    </tr>\n",
       "  </tbody>\n",
       "</table>\n",
       "<p>26855 rows × 4 columns</p>\n",
       "</div>"
      ],
      "text/plain": [
       "             asin  \\\n",
       "3471   B00032N1V0   \n",
       "24162  B00M8B98SO   \n",
       "26     0829736522   \n",
       "21741  B00B18ULGS   \n",
       "20104  B006BAVVFQ   \n",
       "...           ...   \n",
       "8951   B000RC4W32   \n",
       "8950   B000RC9692   \n",
       "8949   B000RC8FMG   \n",
       "8948   B000RC8J7M   \n",
       "26855  B01HIT3KZC   \n",
       "\n",
       "                                                                                                                                                                                                                                                                                                       description  \\\n",
       "3471                                                                                                          grand daddi tap cd short repeat piano orchestr select design meet need teach tap techniqu build routin note contain technic exercis tap fundament terminolog grade routin doubl length cd note avail   \n",
       "24162                                                                                         music companion book best sell author max lucado collect wonder backdrop prayer person devot offer song chosen perfectli complement book also includ new song darlen zschech paul rita baloch written specif project   \n",
       "26                                                                                                     combin style rock ska zona releas new product song fill posit messag theme hope motiv touch live young peopl life chang way vision goal group album also includ new version neblina one hit previou product   \n",
       "21741                                                                livetun song collect year featur hatsun miku come also includ new song subject chang come bonu dvd unreleas music clip previou song four repres clip subject chang edit avail may dvd disc encod region japan europ middl east subtitl includ   \n",
       "20104  meet alzheim companionship journey inform inspir holist introduct alzheim diseas uniqu audio resourc design meet need busi caregiv provid critic inform engag access format assimil distil mani book resourc meet alzheim compassion bring forth critic point care someon dementia goal reduc caregiv st...   \n",
       "...                                                                                                                                                                                                                                                                                                            ...   \n",
       "8951   black tulip record present royalett singl collect featur origin record track big thing yesterday lover willi wolf blue summer come goe cri gone watch happen poor boy gon na take miracl sight mind want meet never bring lone big mistak better know affair rememb want one summer gone love without en...   \n",
       "8950                                                trombolin jack across way chilli wind shannon kansa citi railroad blue land lincoln waltz g bill blue come along jodi northern white cloud right right waltz c golden west frog lilypad lloyd loar front back smoki mountain schottisch old mountain rocki run   \n",
       "8949                                                                                         koli shema mi ha ish ori veyishi betza bedami matai hayom lekha dodi mizmor ledavid al taster im zmirot amar hashem leyaakov karev yom yedid nefesh et ruhi tifdeh medley vehu yoshieni lemaan achai vereai zion zion   \n",
       "8948                                                                                  deryn pur ei di r deryn du ar fore dydd nadolig mordaith america dacw nghariad donald ym mhontypridd yr eneth glaf cariad cyntaf even prayer glomen hiraeth feirion yr eneth gadd ei gwrthod llangollen market cyfri r geifr   \n",
       "26855                                                                                                                                                                    album autogram dobrotvorn svrhe didul metar odavd luda za sebe trepni netaan odgovor jadna ti je moja mo cigani aneo drugog reda nevinost   \n",
       "\n",
       "                                                                                                                                                                                                                                                                                                          shingles  \\\n",
       "3471   [teach tap techniqu, techniqu build routin, build routin note, grade routin doubl, tap cd short, terminolog grade routin, piano orchestr select, routin note contain, orchestr select design, repeat piano orchestr, select design meet, cd short repeat, contain technic exercis, exercis tap fundament...   \n",
       "24162  [offer song chosen, song chosen perfectli, also includ new, darlen zschech paul, paul rita baloch, zschech paul rita, devot offer song, book also includ, collect wonder backdrop, companion book best, sell author max, rita baloch written, complement book also, baloch written specif, includ new so...   \n",
       "26     [goal group album, hit previou product, life chang way, also includ new, combin style rock, album also includ, group album also, motiv touch live, ska zona releas, way vision goal, includ new version, style rock ska, live young peopl, touch live young, theme hope motiv, rock ska zona, messag the...   \n",
       "21741  [europ middl east, music clip previou, also includ new, may dvd disc, east subtitl includ, year featur hatsun, song four repres, dvd unreleas music, repres clip subject, come bonu dvd, subject chang come, japan europ middl, collect year featur, song collect year, disc encod region, miku come als...   \n",
       "20104  [qualiti life caregiv, metaphor art sensit, poetri myth metaphor, dementia goal reduc, teresa avila meet, thing think much, need busi caregiv, caregiv symptom alzheim, caregiv stress improv, someon dementia goal, resourc design meet, meet alzheim companionship, care someon dementia, alzheim comp...   \n",
       "...                                                                                                                                                                                                                                                                                                            ...   \n",
       "8951   [take miracl bonu, sight mind want, happen poor boy, wolf blue summer, na take miracl, lone big mistak, record track big, present royalett singl, featur origin record, boy gon na, want meet never, bring lone big, miracl sight mind, never bring lone, know affair rememb, take miracl sight, watch h...   \n",
       "8950   [smoki mountain schottisch, northern white cloud, blue land lincoln, frog lilypad lloyd, right right waltz, chilli wind shannon, c golden west, waltz c golden, lincoln waltz g, mountain rocki run, cloud right right, golden west frog, back smoki mountain, citi railroad blue, old mountain rocki, f...   \n",
       "8949   [hashem leyaakov karev, tifdeh medley vehu, taster im zmirot, zmirot amar hashem, bedami matai hayom, vehu yoshieni lemaan, veyishi betza bedami, vereai zion zion, leyaakov karev yom, shema mi ha, koli shema mi, mi ha ish, et ruhi tifdeh, ruhi tifdeh medley, yom yedid nefesh, ha ish ori, mizmor ...   \n",
       "8948   [even prayer glomen, glaf cariad cyntaf, r deryn du, yr eneth glaf, deryn du ar, deryn pur ei, cyfri r geifr, market cyfri r, glomen hiraeth feirion, di r deryn, nghariad donald ym, prayer glomen hiraeth, llangollen market cyfri, eneth gadd ei, gadd ei gwrthod, dacw nghariad donald, eneth glaf c...   \n",
       "26855  [sebe trepni netaan, za sebe trepni, album autogram dobrotvorn, je moja mo, ti je moja, autogram dobrotvorn svrhe, cigani aneo drugog, mo cigani aneo, trepni netaan odgovor, netaan odgovor jadna, aneo drugog reda, odavd luda za, didul metar odavd, metar odavd luda, moja mo cigani, drugog reda ne...   \n",
       "\n",
       "       similarity  \n",
       "3471     0.010000  \n",
       "24162    0.009901  \n",
       "26       0.009615  \n",
       "21741    0.009174  \n",
       "20104    0.006329  \n",
       "...           ...  \n",
       "8951     0.000000  \n",
       "8950     0.000000  \n",
       "8949     0.000000  \n",
       "8948     0.000000  \n",
       "26855    0.000000  \n",
       "\n",
       "[26855 rows x 4 columns]"
      ]
     },
     "execution_count": 66,
     "metadata": {},
     "output_type": "execute_result"
    }
   ],
   "source": [
    "\n",
    "df_asin_description.sort_values(by=\"similarity\", ascending=False, inplace=True)\n",
    "df_asin_description\n",
    "\n",
    "\n",
    "# if os.path.exists(\"10RecommendedItems.csv\"):\n",
    "#   os.remove(\"10RecommendedItems.csv\")\n",
    "# df_asin_description[:11].to_csv('10RecommendedItems.csv', index=False)"
   ]
  },
  {
   "cell_type": "code",
   "execution_count": 67,
   "metadata": {},
   "outputs": [
    {
     "name": "stdout",
     "output_type": "stream",
     "text": [
      "Similarity of items\n",
      "3471     0.010000\n",
      "24162    0.009901\n",
      "26       0.009615\n",
      "21741    0.009174\n",
      "20104    0.006329\n",
      "           ...   \n",
      "8951     0.000000\n",
      "8950     0.000000\n",
      "8949     0.000000\n",
      "8948     0.000000\n",
      "26855    0.000000\n",
      "Name: similarity, Length: 26855, dtype: float64\n"
     ]
    }
   ],
   "source": [
    "print(\"Similarity of items\")\n",
    "print(df_asin_description.similarity)"
   ]
  }
 ],
 "metadata": {
  "kernelspec": {
   "display_name": "computationaltool",
   "language": "python",
   "name": "python3"
  },
  "language_info": {
   "codemirror_mode": {
    "name": "ipython",
    "version": 3
   },
   "file_extension": ".py",
   "mimetype": "text/x-python",
   "name": "python",
   "nbconvert_exporter": "python",
   "pygments_lexer": "ipython3",
   "version": "3.10.0"
  }
 },
 "nbformat": 4,
 "nbformat_minor": 2
}
