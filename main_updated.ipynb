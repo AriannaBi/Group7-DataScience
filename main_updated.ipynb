{
 "cells": [
  {
   "cell_type": "markdown",
   "metadata": {},
   "source": [
    "# 02807 Final project: Recommendation system\n",
    "Recommendation system of products from __Digital Music__ category on __Amazon__. Products are suggested based on a short description inserted by a user.\n",
    "[**Data source**](https://cseweb.ucsd.edu/~jmcauley/datasets/amazon_v2/)"
   ]
  },
  {
   "cell_type": "code",
   "execution_count": 2,
   "metadata": {},
   "outputs": [
    {
     "name": "stdout",
     "output_type": "stream",
     "text": [
      "Intel MKL WARNING: Support of Intel(R) Streaming SIMD Extensions 4.2 (Intel(R) SSE4.2) enabled only processors has been deprecated. Intel oneAPI Math Kernel Library 2025.0 will require Intel(R) Advanced Vector Extensions (Intel(R) AVX) instructions.\n",
      "Intel MKL WARNING: Support of Intel(R) Streaming SIMD Extensions 4.2 (Intel(R) SSE4.2) enabled only processors has been deprecated. Intel oneAPI Math Kernel Library 2025.0 will require Intel(R) Advanced Vector Extensions (Intel(R) AVX) instructions.\n"
     ]
    },
    {
     "name": "stderr",
     "output_type": "stream",
     "text": [
      "None of PyTorch, TensorFlow >= 2.0, or Flax have been found. Models won't be available and only tokenizers, configuration and file/data utilities can be used.\n",
      "[nltk_data] Downloading package stopwords to\n",
      "[nltk_data]     /Users/yuetingguan/nltk_data...\n",
      "[nltk_data]   Package stopwords is already up-to-date!\n",
      "[nltk_data] Downloading package punkt to\n",
      "[nltk_data]     /Users/yuetingguan/nltk_data...\n",
      "[nltk_data]   Package punkt is already up-to-date!\n"
     ]
    }
   ],
   "source": [
    "# Imports\n",
    "import json\n",
    "import gzip\n",
    "import spacy\n",
    "import warnings\n",
    "import os\n",
    "import pandas as pd\n",
    "import numpy as np\n",
    "# import torch\n",
    "from sklearn.decomposition import TruncatedSVD\n",
    "from sklearn.cluster import DBSCAN, KMeans\n",
    "from scipy import sparse\n",
    "from hdbscan import HDBSCAN\n",
    "from collections import Counter, defaultdict\n",
    "from lxml import html, etree\n",
    "from nrclex import NRCLex\n",
    "from transformers import AutoTokenizer, AutoModelWithLMHead\n",
    "from preprocess_data import *\n",
    "from preprocess_data import pre_process_for_description"
   ]
  },
  {
   "cell_type": "markdown",
   "metadata": {},
   "source": [
    "# Load the data "
   ]
  },
  {
   "cell_type": "code",
   "execution_count": 3,
   "metadata": {},
   "outputs": [
    {
     "name": "stdout",
     "output_type": "stream",
     "text": [
      "Dataset already downloaded.\n"
     ]
    }
   ],
   "source": [
    "# Download dataset if it is not downloaded yet\n",
    "if not os.path.exists('Dataset/meta_Digital_Music.json.gz'):\n",
    "    !wget https://datarepo.eng.ucsd.edu/mcauley_group/data/amazon_v2/metaFiles2/meta_Digital_Music.json.gz -P ./Dataset\n",
    "else:\n",
    "    print('Dataset already downloaded.')"
   ]
  },
  {
   "cell_type": "markdown",
   "metadata": {},
   "source": [
    "__Data format__\n",
    "   * `asin`: ID of the product, e.g. 0000031852\n",
    "   * `title`: name of the product\n",
    "   * `feature`: bullet-point format features of the product\n",
    "   * `description`: description of the product\n",
    "   * `price`: price in US dollars (at time of crawl)\n",
    "   * `imageURL`: url of the product image\n",
    "   * `imageURL`: url of the high resolution product image\n",
    "   * `related`: related products (also bought, also viewed, bought together, buy after viewing)\n",
    "   * `salesRank`: sales rank information\n",
    "   * `brand`: brand name\n",
    "   * `categories`: list of categories the product belongs to\n",
    "   * `tech1`: the first technical detail table of the product\n",
    "   * `tech2`: the second technical detail table of the product\n",
    "   * `similar`: similar product table\n",
    "\n",
    "_Note that there are usually multiple attributes left out blank for each product (specific attributes differs from product to product)._ \n"
   ]
  },
  {
   "cell_type": "code",
   "execution_count": 4,
   "metadata": {},
   "outputs": [
    {
     "name": "stdout",
     "output_type": "stream",
     "text": [
      "Total number of items in the dataset:  74347\n"
     ]
    }
   ],
   "source": [
    "### Load the meta data\n",
    "data = []\n",
    "with gzip.open('Dataset/meta_Digital_Music.json.gz') as f:\n",
    "    for l in f:\n",
    "        data.append(json.loads(l.strip()))\n",
    "    \n",
    "# Total length of list, this number equals total number of products\n",
    "print(\"Total number of items in the dataset: \", len(data))"
   ]
  },
  {
   "cell_type": "code",
   "execution_count": 5,
   "metadata": {},
   "outputs": [
    {
     "name": "stdout",
     "output_type": "stream",
     "text": [
      "Columns of the dataset:  Index(['category', 'tech1', 'description', 'fit', 'title', 'also_buy', 'tech2',\n",
      "       'brand', 'feature', 'rank', 'also_view', 'main_cat', 'similar_item',\n",
      "       'date', 'price', 'asin', 'imageURL', 'imageURLHighRes', 'details'],\n",
      "      dtype='object')\n"
     ]
    }
   ],
   "source": [
    "# convert list into pandas dataframe\n",
    "df = pd.DataFrame.from_dict(data)\n",
    "\n",
    "# set size of display in pandas\n",
    "pd.set_option('display.max_colwidth', 300)\n",
    "pd.set_option('display.max_rows', 20 )\n",
    "\n",
    "# first row of the list\n",
    "print(\"Columns of the dataset: \", df.columns)\n",
    "\n",
    "# show dataframe with columns and rows\n",
    "# df.head()\n",
    "# df2.info()"
   ]
  },
  {
   "cell_type": "markdown",
   "metadata": {},
   "source": [
    "# Data processing"
   ]
  },
  {
   "cell_type": "markdown",
   "metadata": {},
   "source": [
    "- Remove empty description\n",
    "- Remove HTML tag\n",
    "- Remove URLs\n",
    "- Remove HTML hidden carachters\n",
    "- Remove punctuation\n",
    "- Remove numbers\n",
    "- Transform every word into lowercase\n",
    "- Remove stop words\n",
    "- Perform stemming "
   ]
  },
  {
   "cell_type": "code",
   "execution_count": 6,
   "metadata": {},
   "outputs": [
    {
     "data": {
      "text/plain": [
       "4        [1. Losing Game 2. I Can't Wait 3. Didn't He Shine 4. Never Seen...Righteous... 5. A Broken Heart 6. Looking Back 7. Here We Are 8. I Saw The Lord 9. Jesus Is A River Of Love 10. Hittin' The Road 11. I've Never Been Out Of... 12. Jesus Gotta Hold Of My Life 13. Saved- Saved- Saved 14. What Will ...\n",
       "9                                                                                                                                                                                                                                                                                                                [.]\n",
       "10       [The Music Connection by Silver Burdett Ginn is a teaching aid for  \\nan elementary music or a homeroom teacher. Created by authorities  \\nin Music, The Music Connection: by Silver Burdett provides an  \\nexcellent foundation for Music studies. Silver Burdetts style is  \\nsuited towards Music stu...\n",
       "12                                                                                                                                                                                                                                        [Spanish Before You Know It - Gold Edition. Learn Spanish in a Flash!, , ]\n",
       "13                                                                                                                                                                                                                       [Just the CD. The Book has long since vanished. I great condition and it is a classic., , ]\n",
       "                                                                                                                                                            ...                                                                                                                                                     \n",
       "74336                                                                                          [track listing: 1. Butter Ball 2. Zaq Attack 3. Zona 4. Walk Like the Guv 5. Sentimental 6. Pacific Daylight 7. Trombone Institute of Technology 8. San Jose 9. Fog City 10. Show Up 11. CRBs 76 Trombones 12. Giant]\n",
       "74338    [Coldplay A HEAD FULL OF DREAMS TOUR Live at Etihad Stadium, Manchester, England, June 4th, 2016--- CD1: 01. Intro 02. A Head Full of Dreams 03. Yellow 04. Every Teardrop Is A Waterfall 05. The Scientist 06. Birds 07. Paradise 08. Everglow 09. Lovers In Japan 10. Magic 11. Clocks 12. Midnight 13...\n",
       "74339                                                                                                                                                   [only KNOWN LIVE VERSIONS OF THATS THE WAY LIFE GOES AND STEAM ON THE BLACKTOP WITHA DEMO VERSION OF SUPERFICIAL LOVE SANG BY HUGHIE INSTEAD OF CHRIS HICKS]\n",
       "74342    [1. \"Free At Last\" Southside 1:21 2. \"Never Gon Lose\" 3:07 3. \"Purple Coming In\" Southside 4:23 4. \"Diamonds from Africa\" Southside 2:46 5. \"Now\" Southside 2:42 6. \"No Compadre\" Southside 3:33 7. \"March Madness\" Tarentino 4:42 8. \"Trap Niggas\" Southside 2:55 9. \"Da Fam on da Gram\" (skit) Southsi...\n",
       "74346                                                                                                                          [album 2016: 01.Autogram 02.Dobrotvorne svrhe 03.Didule 04.Metar odavde 05.Luda za sebe 06.Trepni 07.Netaan odgovor 08.Jadna ti je moja mo 09.Cigani 10.Aneo drugog reda 11.Nevinost]\n",
       "Name: description, Length: 36526, dtype: object"
      ]
     },
     "execution_count": 6,
     "metadata": {},
     "output_type": "execute_result"
    }
   ],
   "source": [
    "# Drop rows with no description (description is empty)\n",
    "df = df[df['description'].map(lambda d: len(d)) > 0]\n",
    "df.description\n",
    "# df2.head()"
   ]
  },
  {
   "cell_type": "code",
   "execution_count": 7,
   "metadata": {},
   "outputs": [
    {
     "data": {
      "text/plain": [
       "\"1. Losing Game 2. I Can't Wait 3. Didn't He Shine 4. Never Seen...Righteous... 5. A Broken Heart 6. Looking Back 7. Here We Are 8. I Saw The Lord 9. Jesus Is A River Of Love 10. Hittin' The Road 11. I've Never Been Out Of... 12. Jesus Gotta Hold Of My Life 13. Saved- Saved- Saved 14. What Will You Do? 15. Rise Again\""
      ]
     },
     "execution_count": 7,
     "metadata": {},
     "output_type": "execute_result"
    }
   ],
   "source": [
    "# each description is a list of strings,we want to remove the empty strings, and join the list of strings into one string\n",
    "df.description = df.description.apply(lambda x: [string for string in x if string != \"\"])\n",
    "df.description = df.description.apply(lambda x: \" \".join(x))\n",
    "df.iloc[0].description\n"
   ]
  },
  {
   "cell_type": "code",
   "execution_count": 8,
   "metadata": {},
   "outputs": [
    {
     "name": "stdout",
     "output_type": "stream",
     "text": [
      "Example of description before preprocessing: \n",
      "4    1. Losing Game 2. I Can't Wait 3. Didn't He Shine 4. Never Seen...Righteous... 5. A Broken Heart 6. Looking Back 7. Here We Are 8. I Saw The Lord 9. Jesus Is A River Of Love 10. Hittin' The Road 11. I've Never Been Out Of... 12. Jesus Gotta Hold Of My Life 13. Saved- Saved- Saved 14. What Will Y...\n",
      "9                                                                                                                                                                                                                                                                                                              .\n",
      "Name: description, dtype: object\n",
      "\n",
      "Example of description after preprocessing: \n",
      "4    losing game wait shine never seen righteous broken heart looking back saw lord jesus river love hittin road never jesus got ta hold life saved saved saved rise\n",
      "9                                                                                                                                                                   \n",
      "Name: description, dtype: object\n"
     ]
    }
   ],
   "source": [
    "# f = open(\"descriptionHTMLbefore.txt\", \"w\")\n",
    "# for i in range(5000):\n",
    "#     f.write(df2.iloc[i].description)\n",
    "# f.close()\n",
    "df_similarity_scores = df.copy()\n",
    "\n",
    "print(\"Example of description before preprocessing: \")\n",
    "print(df.description.iloc[0:2])\n",
    "df.description = df.description.apply(lambda x: pre_process_for_description(x))\n",
    "print()\n",
    "print(\"Example of description after preprocessing: \")\n",
    "print(df.description.iloc[0:2])\n",
    "\n",
    "# f = open(\"descriptionHTMLafter.txt\", \"w\")\n",
    "# for i in range(5000):\n",
    "#     f.write(df2.iloc[i].description)\n",
    "# f.close()\n",
    "\n"
   ]
  },
  {
   "cell_type": "markdown",
   "metadata": {},
   "source": []
  },
  {
   "cell_type": "markdown",
   "metadata": {},
   "source": [
    "## Does any product contain different descriptions?  \n",
    "There exists products which are not unique. The asin and the descriptions are duplicated. \n",
    "We process the data in order to have unique products."
   ]
  },
  {
   "cell_type": "code",
   "execution_count": 67,
   "metadata": {},
   "outputs": [],
   "source": [
    "# Counting occurence of unique \"asin\"\n",
    "#asin_count = df['asin'].value_counts()\n",
    "# print(asin_count)\n",
    "#asin_more_than_once = asin_count[asin_count > 1].index\n",
    "# print(asin_more_than_once)\n",
    "# Step 2: Filter df2 to keep rows where 'asin' is in asin_more_than_once\n",
    "#filtered_df = df[df['asin'].isin(asin_more_than_once)]\n",
    "#filtered_df = filtered_df[[\"asin\",\"description\"]].sort_values(by=\"asin\")\n",
    "# Visual confirmation of duplicates \n",
    "#filtered_df"
   ]
  },
  {
   "cell_type": "code",
   "execution_count": 68,
   "metadata": {},
   "outputs": [
    {
     "data": {
      "text/plain": [
       "' # If \"asin\" and \"description\" match -> drop\\nfiltered_df.drop_duplicates(inplace=True)\\n\\n# How many unique \"asin\" ?\\nlen(filtered_df.asin.unique())\\nfiltered_df '"
      ]
     },
     "execution_count": 68,
     "metadata": {},
     "output_type": "execute_result"
    }
   ],
   "source": [
    "\"\"\" # If \"asin\" and \"description\" match -> drop\n",
    "filtered_df.drop_duplicates(inplace=True)\n",
    "\n",
    "# How many unique \"asin\" ?\n",
    "len(filtered_df.asin.unique())\n",
    "filtered_df \"\"\""
   ]
  },
  {
   "cell_type": "markdown",
   "metadata": {},
   "source": [
    "Removing the duplicates products -> now each product is unique"
   ]
  },
  {
   "cell_type": "code",
   "execution_count": 9,
   "metadata": {},
   "outputs": [
    {
     "data": {
      "text/html": [
       "<div>\n",
       "<style scoped>\n",
       "    .dataframe tbody tr th:only-of-type {\n",
       "        vertical-align: middle;\n",
       "    }\n",
       "\n",
       "    .dataframe tbody tr th {\n",
       "        vertical-align: top;\n",
       "    }\n",
       "\n",
       "    .dataframe thead th {\n",
       "        text-align: right;\n",
       "    }\n",
       "</style>\n",
       "<table border=\"1\" class=\"dataframe\">\n",
       "  <thead>\n",
       "    <tr style=\"text-align: right;\">\n",
       "      <th></th>\n",
       "      <th>asin</th>\n",
       "      <th>description</th>\n",
       "    </tr>\n",
       "  </thead>\n",
       "  <tbody>\n",
       "    <tr>\n",
       "      <th>4</th>\n",
       "      <td>0001526146</td>\n",
       "      <td>losing game wait shine never seen righteous broken heart looking back saw lord jesus river love hittin road never jesus got ta hold life saved saved saved rise</td>\n",
       "    </tr>\n",
       "    <tr>\n",
       "      <th>9</th>\n",
       "      <td>0159024684</td>\n",
       "      <td></td>\n",
       "    </tr>\n",
       "    <tr>\n",
       "      <th>10</th>\n",
       "      <td>0382262921</td>\n",
       "      <td>music connection silver burdett ginn teaching aid elementary music homeroom teacher created authorities music music connection silver burdett provides excellent foundation music studies silver burdetts style suited towards music studies teach students material clearly without overcomplicating su...</td>\n",
       "    </tr>\n",
       "    <tr>\n",
       "      <th>12</th>\n",
       "      <td>0545069882</td>\n",
       "      <td>spanish know gold edition learn spanish flash</td>\n",
       "    </tr>\n",
       "    <tr>\n",
       "      <th>13</th>\n",
       "      <td>0545109620</td>\n",
       "      <td>cd book long since vanished great condition classic</td>\n",
       "    </tr>\n",
       "    <tr>\n",
       "      <th>...</th>\n",
       "      <td>...</td>\n",
       "      <td>...</td>\n",
       "    </tr>\n",
       "    <tr>\n",
       "      <th>74336</th>\n",
       "      <td>B01HG2DW1I</td>\n",
       "      <td>track listing butter ball zaq attack zona walk like guv sentimental pacific daylight trombone institute technology san jose fog city show crbs trombones giant</td>\n",
       "    </tr>\n",
       "    <tr>\n",
       "      <th>74338</th>\n",
       "      <td>B01HH5R7LK</td>\n",
       "      <td>coldplay head full dreams tour live etihad stadium manchester england june th cd intro head full dreams yellow every teardrop waterfall scientist birds paradise everglow lovers japan magic clocks midnight charlie brown hymn weekend fix heroes viva la vida cd adventure lifetime kaleidoscope troub...</td>\n",
       "    </tr>\n",
       "    <tr>\n",
       "      <th>74339</th>\n",
       "      <td>B01HH68B96</td>\n",
       "      <td>known live versions thats way life goes steam blacktop witha demo version superficial love sang hughie instead chris hicks</td>\n",
       "    </tr>\n",
       "    <tr>\n",
       "      <th>74342</th>\n",
       "      <td>B01HH7D5KU</td>\n",
       "      <td>free last southside never gon lose purple coming southside diamonds africa southside southside compadre southside march madness tarentino trap niggas southside da fam da gram skit southside nights southside total length</td>\n",
       "    </tr>\n",
       "    <tr>\n",
       "      <th>74346</th>\n",
       "      <td>B01HIT3KZC</td>\n",
       "      <td>album autogram dobrotvorne svrhe didule metar odavde luda za sebe trepni netaan odgovor jadna ti je moja mo cigani aneo drugog reda nevinost</td>\n",
       "    </tr>\n",
       "  </tbody>\n",
       "</table>\n",
       "<p>26888 rows × 2 columns</p>\n",
       "</div>"
      ],
      "text/plain": [
       "             asin  \\\n",
       "4      0001526146   \n",
       "9      0159024684   \n",
       "10     0382262921   \n",
       "12     0545069882   \n",
       "13     0545109620   \n",
       "...           ...   \n",
       "74336  B01HG2DW1I   \n",
       "74338  B01HH5R7LK   \n",
       "74339  B01HH68B96   \n",
       "74342  B01HH7D5KU   \n",
       "74346  B01HIT3KZC   \n",
       "\n",
       "                                                                                                                                                                                                                                                                                                       description  \n",
       "4                                                                                                                                                  losing game wait shine never seen righteous broken heart looking back saw lord jesus river love hittin road never jesus got ta hold life saved saved saved rise  \n",
       "9                                                                                                                                                                                                                                                                                                                   \n",
       "10     music connection silver burdett ginn teaching aid elementary music homeroom teacher created authorities music music connection silver burdett provides excellent foundation music studies silver burdetts style suited towards music studies teach students material clearly without overcomplicating su...  \n",
       "12                                                                                                                                                                                                                                                                   spanish know gold edition learn spanish flash  \n",
       "13                                                                                                                                                                                                                                                             cd book long since vanished great condition classic  \n",
       "...                                                                                                                                                                                                                                                                                                            ...  \n",
       "74336                                                                                                                                               track listing butter ball zaq attack zona walk like guv sentimental pacific daylight trombone institute technology san jose fog city show crbs trombones giant  \n",
       "74338  coldplay head full dreams tour live etihad stadium manchester england june th cd intro head full dreams yellow every teardrop waterfall scientist birds paradise everglow lovers japan magic clocks midnight charlie brown hymn weekend fix heroes viva la vida cd adventure lifetime kaleidoscope troub...  \n",
       "74339                                                                                                                                                                                   known live versions thats way life goes steam blacktop witha demo version superficial love sang hughie instead chris hicks  \n",
       "74342                                                                                  free last southside never gon lose purple coming southside diamonds africa southside southside compadre southside march madness tarentino trap niggas southside da fam da gram skit southside nights southside total length  \n",
       "74346                                                                                                                                                                 album autogram dobrotvorne svrhe didule metar odavde luda za sebe trepni netaan odgovor jadna ti je moja mo cigani aneo drugog reda nevinost  \n",
       "\n",
       "[26888 rows x 2 columns]"
      ]
     },
     "execution_count": 9,
     "metadata": {},
     "output_type": "execute_result"
    }
   ],
   "source": [
    "df_asin_description = df[[\"asin\",\"description\"]].copy()\n",
    "df_asin_description.drop_duplicates(subset = \"description\", inplace=True)\n",
    "# print(len(df_asin_description))\n",
    "df_asin_description"
   ]
  },
  {
   "cell_type": "markdown",
   "metadata": {},
   "source": [
    "## Creating shingles"
   ]
  },
  {
   "cell_type": "code",
   "execution_count": 10,
   "metadata": {},
   "outputs": [],
   "source": [
    "# Given a string input, return the list of shingles\n",
    "def shingle(s, q, delimiter=' '):\n",
    "    all_shingles = []\n",
    "    if delimiter != '':\n",
    "        words_list = s.split(delimiter)\n",
    "    else:\n",
    "        words_list = s\n",
    "    for i in range (len(words_list)-q+1):\n",
    "        all_shingles.append(delimiter.join(words_list[i:i+q]))\n",
    "    return list(set(all_shingles))"
   ]
  },
  {
   "cell_type": "code",
   "execution_count": 11,
   "metadata": {},
   "outputs": [],
   "source": [
    "# Apply shingles to the df_asin_description\n",
    "df_asin_description[\"shingles\"] = df_asin_description[\"description\"].apply(lambda x: shingle(x, 3))\n",
    "# df_asin_description"
   ]
  },
  {
   "cell_type": "markdown",
   "metadata": {},
   "source": [
    "# Sentiment Analysis"
   ]
  },
  {
   "cell_type": "code",
   "execution_count": 12,
   "metadata": {},
   "outputs": [
    {
     "data": {
      "text/html": [
       "<div>\n",
       "<style scoped>\n",
       "    .dataframe tbody tr th:only-of-type {\n",
       "        vertical-align: middle;\n",
       "    }\n",
       "\n",
       "    .dataframe tbody tr th {\n",
       "        vertical-align: top;\n",
       "    }\n",
       "\n",
       "    .dataframe thead th {\n",
       "        text-align: right;\n",
       "    }\n",
       "</style>\n",
       "<table border=\"1\" class=\"dataframe\">\n",
       "  <thead>\n",
       "    <tr style=\"text-align: right;\">\n",
       "      <th></th>\n",
       "      <th>asin</th>\n",
       "      <th>description</th>\n",
       "      <th>shingles</th>\n",
       "    </tr>\n",
       "  </thead>\n",
       "  <tbody>\n",
       "    <tr>\n",
       "      <th>4</th>\n",
       "      <td>0001526146</td>\n",
       "      <td>losing game wait shine never seen righteous broken heart looking back saw lord jesus river love hittin road never jesus got ta hold life saved saved saved rise</td>\n",
       "      <td>[back saw lord, heart looking back, righteous broken heart, ta hold life, hold life saved, looking back saw, never seen righteous, losing game wait, game wait shine, never jesus got, river love hittin, road never jesus, hittin road never, wait shine never, love hittin road, seen righteous broken...</td>\n",
       "    </tr>\n",
       "    <tr>\n",
       "      <th>9</th>\n",
       "      <td>0159024684</td>\n",
       "      <td></td>\n",
       "      <td>[]</td>\n",
       "    </tr>\n",
       "    <tr>\n",
       "      <th>10</th>\n",
       "      <td>0382262921</td>\n",
       "      <td>music connection silver burdett ginn teaching aid elementary music homeroom teacher created authorities music music connection silver burdett provides excellent foundation music studies silver burdetts style suited towards music studies teach students material clearly without overcomplicating su...</td>\n",
       "      <td>[style suited towards, towards music studies, recordings vocal tracks, foundation music studies, pick track dance, tracks pick track, without overcomplicating subject, suited towards music, dance practice tempo, silver burdett ginn, silver burdett provides, teaching aid elementary, burdett ginn ...</td>\n",
       "    </tr>\n",
       "    <tr>\n",
       "      <th>12</th>\n",
       "      <td>0545069882</td>\n",
       "      <td>spanish know gold edition learn spanish flash</td>\n",
       "      <td>[gold edition learn, edition learn spanish, spanish know gold, learn spanish flash, know gold edition]</td>\n",
       "    </tr>\n",
       "    <tr>\n",
       "      <th>13</th>\n",
       "      <td>0545109620</td>\n",
       "      <td>cd book long since vanished great condition classic</td>\n",
       "      <td>[long since vanished, vanished great condition, great condition classic, since vanished great, book long since, cd book long]</td>\n",
       "    </tr>\n",
       "  </tbody>\n",
       "</table>\n",
       "</div>"
      ],
      "text/plain": [
       "          asin  \\\n",
       "4   0001526146   \n",
       "9   0159024684   \n",
       "10  0382262921   \n",
       "12  0545069882   \n",
       "13  0545109620   \n",
       "\n",
       "                                                                                                                                                                                                                                                                                                    description  \\\n",
       "4                                                                                                                                               losing game wait shine never seen righteous broken heart looking back saw lord jesus river love hittin road never jesus got ta hold life saved saved saved rise   \n",
       "9                                                                                                                                                                                                                                                                                                                 \n",
       "10  music connection silver burdett ginn teaching aid elementary music homeroom teacher created authorities music music connection silver burdett provides excellent foundation music studies silver burdetts style suited towards music studies teach students material clearly without overcomplicating su...   \n",
       "12                                                                                                                                                                                                                                                                spanish know gold edition learn spanish flash   \n",
       "13                                                                                                                                                                                                                                                          cd book long since vanished great condition classic   \n",
       "\n",
       "                                                                                                                                                                                                                                                                                                       shingles  \n",
       "4   [back saw lord, heart looking back, righteous broken heart, ta hold life, hold life saved, looking back saw, never seen righteous, losing game wait, game wait shine, never jesus got, river love hittin, road never jesus, hittin road never, wait shine never, love hittin road, seen righteous broken...  \n",
       "9                                                                                                                                                                                                                                                                                                            []  \n",
       "10  [style suited towards, towards music studies, recordings vocal tracks, foundation music studies, pick track dance, tracks pick track, without overcomplicating subject, suited towards music, dance practice tempo, silver burdett ginn, silver burdett provides, teaching aid elementary, burdett ginn ...  \n",
       "12                                                                                                                                                                                                       [gold edition learn, edition learn spanish, spanish know gold, learn spanish flash, know gold edition]  \n",
       "13                                                                                                                                                                                [long since vanished, vanished great condition, great condition classic, since vanished great, book long since, cd book long]  "
      ]
     },
     "execution_count": 12,
     "metadata": {},
     "output_type": "execute_result"
    }
   ],
   "source": [
    "df_process = df_asin_description\n",
    "df_process.head()"
   ]
  },
  {
   "cell_type": "code",
   "execution_count": 14,
   "metadata": {},
   "outputs": [],
   "source": [
    "# Suppressing warning about old version of spacy\n",
    "with warnings.catch_warnings():\n",
    "    warnings.simplefilter(\"ignore\")\n",
    "    # Applying Spacy affect model emotions\n",
    "    nlp_affect = spacy.load('Spacy-Affect-Model/affect_ner')\n",
    "\n",
    "    \n",
    "df_process['emotion_spacy'] = df_process.description.apply(lambda x: Counter([item.label_.lower() for item in nlp_affect(x).ents]))"
   ]
  },
  {
   "cell_type": "code",
   "execution_count": null,
   "metadata": {},
   "outputs": [],
   "source": [
    "# Applying NRCLex emotions\n",
    "#df['emotion_nrc'] = df.description.apply(lambda x: NRCLex(x).raw_emotion_scores) "
   ]
  },
  {
   "cell_type": "code",
   "execution_count": 16,
   "metadata": {},
   "outputs": [],
   "source": [
    "\n",
    "# Extracting most significant emotion of a particular description\n",
    "def get_most_significant_emotion(emotions):\n",
    "    try:\n",
    "        sign_emotion = max(emotions, key=emotions.get)\n",
    "    except ValueError:\n",
    "        sign_emotion = None\n",
    "    return sign_emotion\n",
    "\n",
    "#df['most_significant_emotion_nrc'] = df.emotion_nrc.apply(lambda x: get_most_significant_emotion(x))\n",
    "df_process['most_significant_emotion_spacy'] = df_process.emotion_spacy.apply(lambda x: get_most_significant_emotion(x))\n",
    "\n",
    "df_process.head(100)\n",
    "save_csv = True\n",
    "if save_csv:\n",
    "    df_process.to_csv('digital_music.csv')\n",
    "\n"
   ]
  },
  {
   "cell_type": "code",
   "execution_count": 17,
   "metadata": {},
   "outputs": [
    {
     "name": "stderr",
     "output_type": "stream",
     "text": [
      "/Users/yuetingguan/opt/anaconda3/envs/computationaltool/lib/python3.12/site-packages/spacy/util.py:910: UserWarning: [W095] Model 'en_affect_ner' (0.0.0) was trained with spaCy v3.4.1 and may not be 100% compatible with the current version (3.7.2). If you see errors or degraded performance, download a newer compatible model or retrain your custom model with the current spaCy version. For more details and available updates, run: python -m spacy validate\n",
      "  warnings.warn(warn_msg)\n"
     ]
    },
    {
     "name": "stdout",
     "output_type": "stream",
     "text": [
      "positive\n"
     ]
    }
   ],
   "source": [
    "\n",
    "# Output of user emotion based on input.txt\n",
    "file_input = open(\"input.txt\", \"r\")\n",
    "text = file_input.read()\n",
    "nlp_affect = spacy.load('Spacy-Affect-Model/affect_ner')\n",
    "\n",
    "def measure_affect_score(sentence : str, nlp_affect):\n",
    "    affect_percent = {'fear': 0.0, 'anger': 0.0, 'anticipation': 0.0, 'trust': 0.0, 'surprise': 0.0, 'positive': 0.0,\n",
    "                      'negative': 0.0, 'sadness': 0.0, 'disgust': 0.0, 'joy': 0.0}\n",
    "    emotions = []\n",
    "    doc = nlp_affect(sentence)\n",
    "    if len(doc.ents) != 0:\n",
    "        for ent in doc.ents:\n",
    "            emotions.append(ent.label_.lower())\n",
    "        affect_counts = Counter()\n",
    "        for emotion in emotions:\n",
    "            affect_counts[emotion] += 1\n",
    "        sum_values = sum(affect_counts.values())\n",
    "        for key in affect_counts.keys():\n",
    "            affect_percent.update({key: float(affect_counts[key]) / float(sum_values)})\n",
    "    return affect_percent\n",
    "\n",
    "user_emotion_scores = measure_affect_score(text,nlp_affect)\n",
    "max_emotion = max(user_emotion_scores, key=user_emotion_scores.get)\n",
    "user_emotion = max_emotion\n",
    "\n",
    "print(user_emotion)"
   ]
  },
  {
   "cell_type": "code",
   "execution_count": 19,
   "metadata": {},
   "outputs": [],
   "source": [
    "# Find all items with the emotion \"anticipation\"\n",
    "import pandas as pd\n",
    "\n",
    "# read file with all emotions \n",
    "df_emotion = pd.read_csv('digital_music.csv')  \n",
    "# filter satisfied lines（emotion == anticipation）\n",
    "filtered_df = df_emotion[df_emotion['most_significant_emotion_spacy'] == user_emotion]\n",
    "\n",
    "# generated new lines \n",
    "filtered_df.to_csv('grouped_emotion.csv', index=False) \n",
    "\n"
   ]
  },
  {
   "cell_type": "markdown",
   "metadata": {},
   "source": [
    "# Similar Items System\n",
    "Program that reads the dataset, preprocess the data and output the most similar items based on a user description of a product."
   ]
  },
  {
   "cell_type": "code",
   "execution_count": 20,
   "metadata": {},
   "outputs": [
    {
     "name": "stderr",
     "output_type": "stream",
     "text": [
      "[nltk_data] Downloading package stopwords to\n",
      "[nltk_data]     /Users/yuetingguan/nltk_data...\n",
      "[nltk_data]   Package stopwords is already up-to-date!\n",
      "[nltk_data] Downloading package punkt to\n",
      "[nltk_data]     /Users/yuetingguan/nltk_data...\n",
      "[nltk_data]   Package punkt is already up-to-date!\n"
     ]
    },
    {
     "data": {
      "text/plain": [
       "True"
      ]
     },
     "execution_count": 20,
     "metadata": {},
     "output_type": "execute_result"
    }
   ],
   "source": [
    "import json\n",
    "from collections import defaultdict\n",
    "import gzip\n",
    "import pandas as pd\n",
    "from lxml import html,etree\n",
    "import numpy as np\n",
    "import ipywidgets as widgets\n",
    "import re\n",
    "from nltk.tokenize import word_tokenize\n",
    "from nltk.corpus import stopwords\n",
    "import nltk\n",
    "from nltk.stem import PorterStemmer\n",
    "from mlxtend.preprocessing import TransactionEncoder\n",
    "from mlxtend.frequent_patterns import apriori\n",
    "import os\n",
    "from preprocess_data import preprocess_data\n",
    "\n",
    "\n",
    "# set stopwords vocabulary\n",
    "nltk.download('stopwords')\n",
    "\n",
    "# set tokenizer\n",
    "nltk.download('punkt')"
   ]
  },
  {
   "cell_type": "code",
   "execution_count": 23,
   "metadata": {},
   "outputs": [
    {
     "data": {
      "text/html": [
       "<div>\n",
       "<style scoped>\n",
       "    .dataframe tbody tr th:only-of-type {\n",
       "        vertical-align: middle;\n",
       "    }\n",
       "\n",
       "    .dataframe tbody tr th {\n",
       "        vertical-align: top;\n",
       "    }\n",
       "\n",
       "    .dataframe thead th {\n",
       "        text-align: right;\n",
       "    }\n",
       "</style>\n",
       "<table border=\"1\" class=\"dataframe\">\n",
       "  <thead>\n",
       "    <tr style=\"text-align: right;\">\n",
       "      <th></th>\n",
       "      <th>asin</th>\n",
       "      <th>description</th>\n",
       "    </tr>\n",
       "  </thead>\n",
       "  <tbody>\n",
       "    <tr>\n",
       "      <th>0</th>\n",
       "      <td>0001526146</td>\n",
       "      <td>losing game wait shine never seen righteous broken heart looking back saw lord jesus river love hittin road never jesus got ta hold life saved saved saved rise</td>\n",
       "    </tr>\n",
       "    <tr>\n",
       "      <th>1</th>\n",
       "      <td>0159024684</td>\n",
       "      <td>NaN</td>\n",
       "    </tr>\n",
       "    <tr>\n",
       "      <th>2</th>\n",
       "      <td>0382262921</td>\n",
       "      <td>music connection silver burdett ginn teaching aid elementary music homeroom teacher created authorities music music connection silver burdett provides excellent foundation music studies silver burdetts style suited towards music studies teach students material clearly without overcomplicating su...</td>\n",
       "    </tr>\n",
       "    <tr>\n",
       "      <th>3</th>\n",
       "      <td>0545069882</td>\n",
       "      <td>spanish know gold edition learn spanish flash</td>\n",
       "    </tr>\n",
       "    <tr>\n",
       "      <th>4</th>\n",
       "      <td>0545109620</td>\n",
       "      <td>cd book long since vanished great condition classic</td>\n",
       "    </tr>\n",
       "    <tr>\n",
       "      <th>...</th>\n",
       "      <td>...</td>\n",
       "      <td>...</td>\n",
       "    </tr>\n",
       "    <tr>\n",
       "      <th>26883</th>\n",
       "      <td>B01HG2DW1I</td>\n",
       "      <td>track listing butter ball zaq attack zona walk like guv sentimental pacific daylight trombone institute technology san jose fog city show crbs trombones giant</td>\n",
       "    </tr>\n",
       "    <tr>\n",
       "      <th>26884</th>\n",
       "      <td>B01HH5R7LK</td>\n",
       "      <td>coldplay head full dreams tour live etihad stadium manchester england june th cd intro head full dreams yellow every teardrop waterfall scientist birds paradise everglow lovers japan magic clocks midnight charlie brown hymn weekend fix heroes viva la vida cd adventure lifetime kaleidoscope troub...</td>\n",
       "    </tr>\n",
       "    <tr>\n",
       "      <th>26885</th>\n",
       "      <td>B01HH68B96</td>\n",
       "      <td>known live versions thats way life goes steam blacktop witha demo version superficial love sang hughie instead chris hicks</td>\n",
       "    </tr>\n",
       "    <tr>\n",
       "      <th>26886</th>\n",
       "      <td>B01HH7D5KU</td>\n",
       "      <td>free last southside never gon lose purple coming southside diamonds africa southside southside compadre southside march madness tarentino trap niggas southside da fam da gram skit southside nights southside total length</td>\n",
       "    </tr>\n",
       "    <tr>\n",
       "      <th>26887</th>\n",
       "      <td>B01HIT3KZC</td>\n",
       "      <td>album autogram dobrotvorne svrhe didule metar odavde luda za sebe trepni netaan odgovor jadna ti je moja mo cigani aneo drugog reda nevinost</td>\n",
       "    </tr>\n",
       "  </tbody>\n",
       "</table>\n",
       "<p>26888 rows × 2 columns</p>\n",
       "</div>"
      ],
      "text/plain": [
       "             asin  \\\n",
       "0      0001526146   \n",
       "1      0159024684   \n",
       "2      0382262921   \n",
       "3      0545069882   \n",
       "4      0545109620   \n",
       "...           ...   \n",
       "26883  B01HG2DW1I   \n",
       "26884  B01HH5R7LK   \n",
       "26885  B01HH68B96   \n",
       "26886  B01HH7D5KU   \n",
       "26887  B01HIT3KZC   \n",
       "\n",
       "                                                                                                                                                                                                                                                                                                       description  \n",
       "0                                                                                                                                                  losing game wait shine never seen righteous broken heart looking back saw lord jesus river love hittin road never jesus got ta hold life saved saved saved rise  \n",
       "1                                                                                                                                                                                                                                                                                                              NaN  \n",
       "2      music connection silver burdett ginn teaching aid elementary music homeroom teacher created authorities music music connection silver burdett provides excellent foundation music studies silver burdetts style suited towards music studies teach students material clearly without overcomplicating su...  \n",
       "3                                                                                                                                                                                                                                                                    spanish know gold edition learn spanish flash  \n",
       "4                                                                                                                                                                                                                                                              cd book long since vanished great condition classic  \n",
       "...                                                                                                                                                                                                                                                                                                            ...  \n",
       "26883                                                                                                                                               track listing butter ball zaq attack zona walk like guv sentimental pacific daylight trombone institute technology san jose fog city show crbs trombones giant  \n",
       "26884  coldplay head full dreams tour live etihad stadium manchester england june th cd intro head full dreams yellow every teardrop waterfall scientist birds paradise everglow lovers japan magic clocks midnight charlie brown hymn weekend fix heroes viva la vida cd adventure lifetime kaleidoscope troub...  \n",
       "26885                                                                                                                                                                                   known live versions thats way life goes steam blacktop witha demo version superficial love sang hughie instead chris hicks  \n",
       "26886                                                                                  free last southside never gon lose purple coming southside diamonds africa southside southside compadre southside march madness tarentino trap niggas southside da fam da gram skit southside nights southside total length  \n",
       "26887                                                                                                                                                                 album autogram dobrotvorne svrhe didule metar odavde luda za sebe trepni netaan odgovor jadna ti je moja mo cigani aneo drugog reda nevinost  \n",
       "\n",
       "[26888 rows x 2 columns]"
      ]
     },
     "execution_count": 23,
     "metadata": {},
     "output_type": "execute_result"
    }
   ],
   "source": [
    "df_asin_description = df_emotion[[\"asin\",\"description\",\"shingle\"]].copy()\n",
    "df_asin_description.drop_duplicates(subset = \"description\", inplace=True)\n",
    "# print(len(df_asin_description))\n",
    "df_asin_description"
   ]
  },
  {
   "cell_type": "markdown",
   "metadata": {},
   "source": [
    "### Similarity of sets\n",
    "Computing Jaccuard similarity"
   ]
  },
  {
   "cell_type": "code",
   "execution_count": 24,
   "metadata": {},
   "outputs": [],
   "source": [
    "# function that takes an intersection set and a union set and returns the Jaccard similarity\n",
    "def similarity(intersection_set, union_set):\n",
    "    return len(intersection_set)/len(union_set)"
   ]
  },
  {
   "cell_type": "code",
   "execution_count": 25,
   "metadata": {},
   "outputs": [],
   "source": [
    "# input = \"In the dynamic landscape of higher education, universities are continually redefining the traditional boundaries of learning. The integration of arts, music, and literature has become a cornerstone in fostering a holistic educational experience. At the heart of this transformation is the commitment to connect students with a diverse range of disciplines, preparing them not only for academic success but also for a life enriched by creativity and cultural understanding. In this context, universities such as New School are pioneering integrated learning models that transcend conventional subject silos. Their innovative approach, backed by cutting-edge teaching methodologies, empowers students to explore the intersections of arts, music, and literature. The vision goes beyond a mere confluence of disciplines; it seeks to create an immersive educational environment where students can seamlessly weave their academic pursuits into the fabric of their daily lives. One key player in this educational evolution is McGraw, a renowned arts author whose work has become a guiding light for both educators and students alike. McGraw's contributions extend beyond the conventional boundaries of a university classroom, resonating with a global audience. His writings not only inspire a love for the arts but also emphasize the transformative power of integrated learning in shaping well-rounded individuals. The concept of an integrated learning environment transcends the boundaries of time and space. It is not confined to the four walls of a classroom; rather, it permeates every facet of a student's journey. In this dynamic world, students are no longer passive recipients of knowledge but active participants in a vibrant community of learners. The university becomes a nexus where diverse ideas converge, fostering a collaborative spirit that extends far beyond graduation. In this interconnected world, the New School's commitment to integrated learning is a beacon of innovation. Students are not just acquiring knowledge; they are forging connections between seemingly disparate fields, discovering the harmonies between arts and sciences, and navigating the rhythms of a multicultural world. This transformative journey prepares them to navigate the complexities of the modern world with a deep appreciation for diversity and a keen sense of intellectual curiosity. As we stand at the intersection of arts, music, and literature, the integrated learning paradigm championed by universities like New School, guided by visionary authors such as McGraw, is shaping the future of education. It is a testament to the idea that learning is not a compartmentalized experience but a symphony of knowledge, where every note, every discipline, plays a crucial role in the harmonious melody of life.\"\n",
    "\n",
    "file_input = open(\"input.txt\", \"r\")\n",
    "input = file_input.read()\n",
    "# print(input)\n",
    "user_description = preprocess_data(input)\n",
    "user_description = shingle(user_description, 3)  \n",
    "# intersection_set = set(user_description).intersection(set(df_asin_description.shingles.iloc[0]))\n",
    "# union_set = set(user_description).union(set(df_asin_description.shingles.iloc[0]))\n",
    "# # perform similarity\n",
    "# sim = similarity(intersection_set, union_set)\n",
    "# print(sim)\n"
   ]
  },
  {
   "cell_type": "code",
   "execution_count": 26,
   "metadata": {},
   "outputs": [
    {
     "ename": "KeyError",
     "evalue": "'shingles'",
     "output_type": "error",
     "traceback": [
      "\u001b[0;31m---------------------------------------------------------------------------\u001b[0m",
      "\u001b[0;31mKeyError\u001b[0m                                  Traceback (most recent call last)",
      "File \u001b[0;32m~/opt/anaconda3/envs/computationaltool/lib/python3.12/site-packages/pandas/core/indexes/base.py:3790\u001b[0m, in \u001b[0;36mIndex.get_loc\u001b[0;34m(self, key)\u001b[0m\n\u001b[1;32m   3789\u001b[0m \u001b[39mtry\u001b[39;00m:\n\u001b[0;32m-> 3790\u001b[0m     \u001b[39mreturn\u001b[39;00m \u001b[39mself\u001b[39;49m\u001b[39m.\u001b[39;49m_engine\u001b[39m.\u001b[39;49mget_loc(casted_key)\n\u001b[1;32m   3791\u001b[0m \u001b[39mexcept\u001b[39;00m \u001b[39mKeyError\u001b[39;00m \u001b[39mas\u001b[39;00m err:\n",
      "File \u001b[0;32mindex.pyx:152\u001b[0m, in \u001b[0;36mpandas._libs.index.IndexEngine.get_loc\u001b[0;34m()\u001b[0m\n",
      "File \u001b[0;32mindex.pyx:181\u001b[0m, in \u001b[0;36mpandas._libs.index.IndexEngine.get_loc\u001b[0;34m()\u001b[0m\n",
      "File \u001b[0;32mpandas/_libs/hashtable_class_helper.pxi:7080\u001b[0m, in \u001b[0;36mpandas._libs.hashtable.PyObjectHashTable.get_item\u001b[0;34m()\u001b[0m\n",
      "File \u001b[0;32mpandas/_libs/hashtable_class_helper.pxi:7088\u001b[0m, in \u001b[0;36mpandas._libs.hashtable.PyObjectHashTable.get_item\u001b[0;34m()\u001b[0m\n",
      "\u001b[0;31mKeyError\u001b[0m: 'shingles'",
      "\nThe above exception was the direct cause of the following exception:\n",
      "\u001b[0;31mKeyError\u001b[0m                                  Traceback (most recent call last)",
      "\u001b[1;32m/Users/yuetingguan/Group7-DataScience-2/main_updated.ipynb Cell 35\u001b[0m line \u001b[0;36m2\n\u001b[1;32m      <a href='vscode-notebook-cell:/Users/yuetingguan/Group7-DataScience-2/main_updated.ipynb#X34sZmlsZQ%3D%3D?line=0'>1</a>\u001b[0m \u001b[39m# df_asin_description\u001b[39;00m\n\u001b[0;32m----> <a href='vscode-notebook-cell:/Users/yuetingguan/Group7-DataScience-2/main_updated.ipynb#X34sZmlsZQ%3D%3D?line=1'>2</a>\u001b[0m df_asin_description[\u001b[39m\"\u001b[39m\u001b[39msimilarity\u001b[39m\u001b[39m\"\u001b[39m] \u001b[39m=\u001b[39m df_asin_description[\u001b[39m\"\u001b[39;49m\u001b[39mshingles\u001b[39;49m\u001b[39m\"\u001b[39;49m]\u001b[39m.\u001b[39mapply(\u001b[39mlambda\u001b[39;00m x: similarity(\u001b[39mset\u001b[39m(user_description)\u001b[39m.\u001b[39mintersection(\u001b[39mset\u001b[39m(x)), \u001b[39mset\u001b[39m(user_description)\u001b[39m.\u001b[39munion(\u001b[39mset\u001b[39m(x))))\n\u001b[1;32m      <a href='vscode-notebook-cell:/Users/yuetingguan/Group7-DataScience-2/main_updated.ipynb#X34sZmlsZQ%3D%3D?line=2'>3</a>\u001b[0m df_asin_description\n",
      "File \u001b[0;32m~/opt/anaconda3/envs/computationaltool/lib/python3.12/site-packages/pandas/core/frame.py:3896\u001b[0m, in \u001b[0;36mDataFrame.__getitem__\u001b[0;34m(self, key)\u001b[0m\n\u001b[1;32m   3894\u001b[0m \u001b[39mif\u001b[39;00m \u001b[39mself\u001b[39m\u001b[39m.\u001b[39mcolumns\u001b[39m.\u001b[39mnlevels \u001b[39m>\u001b[39m \u001b[39m1\u001b[39m:\n\u001b[1;32m   3895\u001b[0m     \u001b[39mreturn\u001b[39;00m \u001b[39mself\u001b[39m\u001b[39m.\u001b[39m_getitem_multilevel(key)\n\u001b[0;32m-> 3896\u001b[0m indexer \u001b[39m=\u001b[39m \u001b[39mself\u001b[39;49m\u001b[39m.\u001b[39;49mcolumns\u001b[39m.\u001b[39;49mget_loc(key)\n\u001b[1;32m   3897\u001b[0m \u001b[39mif\u001b[39;00m is_integer(indexer):\n\u001b[1;32m   3898\u001b[0m     indexer \u001b[39m=\u001b[39m [indexer]\n",
      "File \u001b[0;32m~/opt/anaconda3/envs/computationaltool/lib/python3.12/site-packages/pandas/core/indexes/base.py:3797\u001b[0m, in \u001b[0;36mIndex.get_loc\u001b[0;34m(self, key)\u001b[0m\n\u001b[1;32m   3792\u001b[0m     \u001b[39mif\u001b[39;00m \u001b[39misinstance\u001b[39m(casted_key, \u001b[39mslice\u001b[39m) \u001b[39mor\u001b[39;00m (\n\u001b[1;32m   3793\u001b[0m         \u001b[39misinstance\u001b[39m(casted_key, abc\u001b[39m.\u001b[39mIterable)\n\u001b[1;32m   3794\u001b[0m         \u001b[39mand\u001b[39;00m \u001b[39many\u001b[39m(\u001b[39misinstance\u001b[39m(x, \u001b[39mslice\u001b[39m) \u001b[39mfor\u001b[39;00m x \u001b[39min\u001b[39;00m casted_key)\n\u001b[1;32m   3795\u001b[0m     ):\n\u001b[1;32m   3796\u001b[0m         \u001b[39mraise\u001b[39;00m InvalidIndexError(key)\n\u001b[0;32m-> 3797\u001b[0m     \u001b[39mraise\u001b[39;00m \u001b[39mKeyError\u001b[39;00m(key) \u001b[39mfrom\u001b[39;00m \u001b[39merr\u001b[39;00m\n\u001b[1;32m   3798\u001b[0m \u001b[39mexcept\u001b[39;00m \u001b[39mTypeError\u001b[39;00m:\n\u001b[1;32m   3799\u001b[0m     \u001b[39m# If we have a listlike key, _check_indexing_error will raise\u001b[39;00m\n\u001b[1;32m   3800\u001b[0m     \u001b[39m#  InvalidIndexError. Otherwise we fall through and re-raise\u001b[39;00m\n\u001b[1;32m   3801\u001b[0m     \u001b[39m#  the TypeError.\u001b[39;00m\n\u001b[1;32m   3802\u001b[0m     \u001b[39mself\u001b[39m\u001b[39m.\u001b[39m_check_indexing_error(key)\n",
      "\u001b[0;31mKeyError\u001b[0m: 'shingles'"
     ]
    }
   ],
   "source": [
    "# df_asin_description\n",
    "df_asin_description[\"similarity\"] = df_asin_description[\"shingles\"].apply(lambda x: similarity(set(user_description).intersection(set(x)), set(user_description).union(set(x))))\n",
    "df_asin_description\n"
   ]
  },
  {
   "cell_type": "markdown",
   "metadata": {},
   "source": [
    "Dataframe sorted by similarity"
   ]
  },
  {
   "cell_type": "code",
   "execution_count": null,
   "metadata": {},
   "outputs": [],
   "source": [
    "\n",
    "df_asin_description.sort_values(by=\"similarity\", ascending=False, inplace=True)\n",
    "df_asin_description\n",
    "\n",
    "\n",
    "# if os.path.exists(\"10RecommendedItems.csv\"):\n",
    "#   os.remove(\"10RecommendedItems.csv\")\n",
    "# df_asin_description[:11].to_csv('10RecommendedItems.csv', index=False)"
   ]
  },
  {
   "cell_type": "code",
   "execution_count": null,
   "metadata": {},
   "outputs": [],
   "source": [
    "print(\"Similarity of items\")\n",
    "print(df_asin_description.similarity)"
   ]
  }
 ],
 "metadata": {
  "kernelspec": {
   "display_name": "computationaltool",
   "language": "python",
   "name": "python3"
  },
  "language_info": {
   "codemirror_mode": {
    "name": "ipython",
    "version": 3
   },
   "file_extension": ".py",
   "mimetype": "text/x-python",
   "name": "python",
   "nbconvert_exporter": "python",
   "pygments_lexer": "ipython3",
   "version": "3.12.0"
  }
 },
 "nbformat": 4,
 "nbformat_minor": 2
}
