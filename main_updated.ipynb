{
 "cells": [
  {
   "cell_type": "markdown",
   "metadata": {},
   "source": [
    "# 02807 Final project: Recommendation system\n",
    "Recommendation system of products from __Digital Music__ category on __Amazon__. Products are suggested based on a short description inserted by a user.\n",
    "[**Data source**](https://cseweb.ucsd.edu/~jmcauley/datasets/amazon_v2/)"
   ]
  },
  {
   "cell_type": "code",
   "execution_count": 587,
   "metadata": {},
   "outputs": [],
   "source": [
    "# Imports\n",
    "import os\n",
    "os.environ[\"KMP_DUPLICATE_LIB_OK\"]=\"TRUE\"\n",
    "import json\n",
    "import gzip\n",
    "import spacy\n",
    "import warnings\n",
    "# import os\n",
    "import pandas as pd\n",
    "import numpy as np\n",
    "# import torch\n",
    "from sklearn.decomposition import TruncatedSVD\n",
    "from sklearn.cluster import DBSCAN, KMeans\n",
    "from scipy import sparse\n",
    "from hdbscan import HDBSCAN\n",
    "from collections import Counter, defaultdict\n",
    "from lxml import html, etree\n",
    "from nrclex import NRCLex\n",
    "from transformers import AutoTokenizer, AutoModelWithLMHead\n",
    "import preprocess_data as pre_process_data\n"
   ]
  },
  {
   "cell_type": "markdown",
   "metadata": {},
   "source": [
    "# Load the data "
   ]
  },
  {
   "cell_type": "code",
   "execution_count": 588,
   "metadata": {},
   "outputs": [
    {
     "name": "stdout",
     "output_type": "stream",
     "text": [
      "Dataset already downloaded.\n"
     ]
    }
   ],
   "source": [
    "# Download dataset if it is not downloaded yet\n",
    "if not os.path.exists('Dataset/meta_Digital_Music.json.gz'):\n",
    "    !wget https://datarepo.eng.ucsd.edu/mcauley_group/data/amazon_v2/metaFiles2/meta_Digital_Music.json.gz -P ./Dataset\n",
    "else:\n",
    "    print('Dataset already downloaded.')"
   ]
  },
  {
   "cell_type": "markdown",
   "metadata": {},
   "source": [
    "__Data format__\n",
    "   * `asin`: ID of the product, e.g. 0000031852\n",
    "   * `title`: name of the product\n",
    "   * `feature`: bullet-point format features of the product\n",
    "   * `description`: description of the product\n",
    "   * `price`: price in US dollars (at time of crawl)\n",
    "   * `imageURL`: url of the product image\n",
    "   * `imageURL`: url of the high resolution product image\n",
    "   * `related`: related products (also bought, also viewed, bought together, buy after viewing)\n",
    "   * `salesRank`: sales rank information\n",
    "   * `brand`: brand name\n",
    "   * `categories`: list of categories the product belongs to\n",
    "   * `tech1`: the first technical detail table of the product\n",
    "   * `tech2`: the second technical detail table of the product\n",
    "   * `similar`: similar product table\n",
    "\n",
    "_Note that there are usually multiple attributes left out blank for each product (specific attributes differs from product to product)._ \n"
   ]
  },
  {
   "cell_type": "code",
   "execution_count": 589,
   "metadata": {},
   "outputs": [
    {
     "name": "stdout",
     "output_type": "stream",
     "text": [
      "Total number of items in the dataset:  74347\n"
     ]
    }
   ],
   "source": [
    "### Load the meta data\n",
    "data = []\n",
    "with gzip.open('Dataset/meta_Digital_Music.json.gz') as f:\n",
    "    for l in f:\n",
    "        data.append(json.loads(l.strip()))\n",
    "    \n",
    "# Total length of list, this number equals total number of products\n",
    "print(\"Total number of items in the dataset: \", len(data))"
   ]
  },
  {
   "cell_type": "code",
   "execution_count": 590,
   "metadata": {},
   "outputs": [
    {
     "name": "stdout",
     "output_type": "stream",
     "text": [
      "Columns of the dataset:  Index(['category', 'tech1', 'description', 'fit', 'title', 'also_buy', 'tech2',\n",
      "       'brand', 'feature', 'rank', 'also_view', 'main_cat', 'similar_item',\n",
      "       'date', 'price', 'asin', 'imageURL', 'imageURLHighRes', 'details'],\n",
      "      dtype='object')\n",
      "Totale length of the dataset:  74347\n"
     ]
    }
   ],
   "source": [
    "# convert list into pandas dataframe\n",
    "df = pd.DataFrame.from_dict(data)\n",
    "\n",
    "# set size of display in pandas\n",
    "pd.set_option('display.max_colwidth', 300)\n",
    "pd.set_option('display.max_rows', 20 )\n",
    "\n",
    "# first row of the list\n",
    "print(\"Columns of the dataset: \", df.columns)\n",
    "\n",
    "print(\"Totale length of the dataset: \", len(df))\n",
    "# show dataframe with columns and rows\n",
    "# df.head()\n",
    "# df2.info()"
   ]
  },
  {
   "cell_type": "markdown",
   "metadata": {},
   "source": [
    "Filter the products based on the asin in asin.cv. \n",
    "This step is necessary because the dataset for the cluster is different from the dataset for sentiment analysis and similar items. "
   ]
  },
  {
   "cell_type": "code",
   "execution_count": 591,
   "metadata": {},
   "outputs": [
    {
     "name": "stdout",
     "output_type": "stream",
     "text": [
      "Totale length of the dataset after the update with asin 45139\n",
      "Index(['category', 'tech1', 'description', 'fit', 'title', 'also_buy', 'tech2',\n",
      "       'brand', 'feature', 'rank', 'also_view', 'main_cat', 'similar_item',\n",
      "       'date', 'price', 'asin', 'imageURL', 'imageURLHighRes', 'details'],\n",
      "      dtype='object')\n",
      "<class 'pandas.core.frame.DataFrame'>\n"
     ]
    }
   ],
   "source": [
    "# drop columns that are not needed because the products are not in asin.cv\n",
    "asins = pd.read_csv('Dataset/asin.csv')\n",
    "df = df[df['asin'].isin(asins['asin'])]\n",
    "\n",
    "print(\"Totale length of the dataset after the update with asin\", len(df))\n",
    "print(df.columns)\n",
    "print(type(df))"
   ]
  },
  {
   "cell_type": "markdown",
   "metadata": {},
   "source": [
    "# Data pre-processing"
   ]
  },
  {
   "cell_type": "markdown",
   "metadata": {},
   "source": [
    "- Remove empty description\n",
    "- Remove HTML tag\n",
    "- Remove URLs\n",
    "- Remove HTML hidden carachters\n",
    "- Remove punctuation\n",
    "- Remove numbers\n",
    "- Transform every word into lowercase\n",
    "- Remove stop words\n",
    "- Perform stemming "
   ]
  },
  {
   "cell_type": "code",
   "execution_count": 592,
   "metadata": {},
   "outputs": [],
   "source": [
    "# Drop rows with no description (description is empty)\n",
    "df = df[df['description'].map(lambda d: len(d)) > 0]\n",
    "# df2.head()"
   ]
  },
  {
   "cell_type": "code",
   "execution_count": 593,
   "metadata": {},
   "outputs": [
    {
     "data": {
      "text/html": [
       "<div>\n",
       "<style scoped>\n",
       "    .dataframe tbody tr th:only-of-type {\n",
       "        vertical-align: middle;\n",
       "    }\n",
       "\n",
       "    .dataframe tbody tr th {\n",
       "        vertical-align: top;\n",
       "    }\n",
       "\n",
       "    .dataframe thead th {\n",
       "        text-align: right;\n",
       "    }\n",
       "</style>\n",
       "<table border=\"1\" class=\"dataframe\">\n",
       "  <thead>\n",
       "    <tr style=\"text-align: right;\">\n",
       "      <th></th>\n",
       "      <th>category</th>\n",
       "      <th>tech1</th>\n",
       "      <th>description</th>\n",
       "      <th>fit</th>\n",
       "      <th>title</th>\n",
       "      <th>also_buy</th>\n",
       "      <th>tech2</th>\n",
       "      <th>brand</th>\n",
       "      <th>feature</th>\n",
       "      <th>rank</th>\n",
       "      <th>also_view</th>\n",
       "      <th>main_cat</th>\n",
       "      <th>similar_item</th>\n",
       "      <th>date</th>\n",
       "      <th>price</th>\n",
       "      <th>asin</th>\n",
       "      <th>imageURL</th>\n",
       "      <th>imageURLHighRes</th>\n",
       "      <th>details</th>\n",
       "    </tr>\n",
       "  </thead>\n",
       "  <tbody>\n",
       "    <tr>\n",
       "      <th>4</th>\n",
       "      <td>[]</td>\n",
       "      <td></td>\n",
       "      <td>[1. Losing Game 2. I Can't Wait 3. Didn't He Shine 4. Never Seen...Righteous... 5. A Broken Heart 6. Looking Back 7. Here We Are 8. I Saw The Lord 9. Jesus Is A River Of Love 10. Hittin' The Road 11. I've Never Been Out Of... 12. Jesus Gotta Hold Of My Life 13. Saved- Saved- Saved 14. What Will ...</td>\n",
       "      <td></td>\n",
       "      <td>Early Works - Dallas Holm</td>\n",
       "      <td>[B0002N4JP2, 0760131694, B00002EQ79, B00150K8JC, B00007E8SE, B00000387A, B000I0QKB0, B000025Q0M, B000008QP3, B000FAMYIG, B0009WA252, B0016CP2GS, B016E9NE9Y, B000002UEN, B000T5MJN2, B003H8F4NA, B00004RC05, B000A0GP04, B00004RC01, B00004YNA4, B016E9NEN0, B00BS96UG0, B00BS96XJY, B00BS96Y9S, B00BS96...</td>\n",
       "      <td></td>\n",
       "      <td>Dallas Holm</td>\n",
       "      <td>[]</td>\n",
       "      <td>399,269 in CDs &amp; Vinyl (</td>\n",
       "      <td>[B0002N4JP2, 0760131694, B00150K8JC, B003MTXNVE, B00007E8SE, B00000DPJN, B00000387A, B0009WA252, B000008QP3, B00KYVH4VI]</td>\n",
       "      <td>&lt;img src=\"https://images-na.ssl-images-amazon.com/images/G/01/digital/music/logos/amzn_music_logo_subnav._CB471835632_.png\" class=\"nav-categ-image\" alt=\"Digital Music\"/&gt;</td>\n",
       "      <td></td>\n",
       "      <td></td>\n",
       "      <td></td>\n",
       "      <td>0001526146</td>\n",
       "      <td>[]</td>\n",
       "      <td>[]</td>\n",
       "      <td>NaN</td>\n",
       "    </tr>\n",
       "    <tr>\n",
       "      <th>12</th>\n",
       "      <td>[]</td>\n",
       "      <td></td>\n",
       "      <td>[Spanish Before You Know It - Gold Edition. Learn Spanish in a Flash!, , ]</td>\n",
       "      <td></td>\n",
       "      <td>Spanish Before You Know It - Gold Edition</td>\n",
       "      <td>[]</td>\n",
       "      <td></td>\n",
       "      <td>Transparent Language</td>\n",
       "      <td>[]</td>\n",
       "      <td>1,153,345 in CDs &amp;amp; Vinyl (</td>\n",
       "      <td>[]</td>\n",
       "      <td>&lt;img src=\"https://images-na.ssl-images-amazon.com/images/G/01/digital/music/logos/amzn_music_logo_subnav._CB471835632_.png\" class=\"nav-categ-image\" alt=\"Digital Music\" /&gt;</td>\n",
       "      <td></td>\n",
       "      <td></td>\n",
       "      <td>$9,600.61</td>\n",
       "      <td>0545069882</td>\n",
       "      <td>[https://images-na.ssl-images-amazon.com/images/I/510aGyfLO5L._SS40_.jpg]</td>\n",
       "      <td>[https://images-na.ssl-images-amazon.com/images/I/510aGyfLO5L.jpg]</td>\n",
       "      <td>NaN</td>\n",
       "    </tr>\n",
       "    <tr>\n",
       "      <th>13</th>\n",
       "      <td>[]</td>\n",
       "      <td></td>\n",
       "      <td>[Just the CD. The Book has long since vanished. I great condition and it is a classic., , ]</td>\n",
       "      <td></td>\n",
       "      <td>Puff the Magic Dragon</td>\n",
       "      <td>[]</td>\n",
       "      <td></td>\n",
       "      <td></td>\n",
       "      <td>[]</td>\n",
       "      <td>242,922 in CDs &amp;amp; Vinyl (</td>\n",
       "      <td>[B00YZ82TPW, B0009YA39U, 1402747829, B00U1CES3M, B000051NSZ, B00514KN3E]</td>\n",
       "      <td>&lt;img src=\"https://images-na.ssl-images-amazon.com/images/G/01/digital/music/logos/amzn_music_logo_subnav._CB471835632_.png\" class=\"nav-categ-image\" alt=\"Digital Music\" /&gt;</td>\n",
       "      <td></td>\n",
       "      <td></td>\n",
       "      <td>$6.14</td>\n",
       "      <td>0545109620</td>\n",
       "      <td>[https://images-na.ssl-images-amazon.com/images/I/51n5-HdJCCL._SS40_.jpg]</td>\n",
       "      <td>[https://images-na.ssl-images-amazon.com/images/I/51n5-HdJCCL.jpg]</td>\n",
       "      <td>NaN</td>\n",
       "    </tr>\n",
       "    <tr>\n",
       "      <th>19</th>\n",
       "      <td>[]</td>\n",
       "      <td></td>\n",
       "      <td>[The seasons are changing and life slows down in the forest. Or does it? Join Mindy and her friends in Bluebell Woods as they scrabble for the biggest, juiciest blackberries ... carve the silliest and scariest jack-o-lanterns ... and share the true spirit of giving when they're snowed in for thr...</td>\n",
       "      <td></td>\n",
       "      <td>The Tales of Mindy Mousekins: Adventures Through the Seasons, Autumn - Winter</td>\n",
       "      <td>[0692384251, B004HVKAAI]</td>\n",
       "      <td></td>\n",
       "      <td>Jacqueline Houston</td>\n",
       "      <td>[]</td>\n",
       "      <td>200,626 in CDs &amp;amp; Vinyl (</td>\n",
       "      <td>[0692384251]</td>\n",
       "      <td>&lt;img src=\"https://images-na.ssl-images-amazon.com/images/G/01/digital/music/logos/amzn_music_logo_subnav._CB471835632_.png\" class=\"nav-categ-image\" alt=\"Digital Music\" /&gt;</td>\n",
       "      <td></td>\n",
       "      <td></td>\n",
       "      <td></td>\n",
       "      <td>0615897398</td>\n",
       "      <td>[https://images-na.ssl-images-amazon.com/images/I/610CCoHtMyL._SS40_.jpg, https://images-na.ssl-images-amazon.com/images/I/619zvyeoqwL._SS40_.jpg, https://images-na.ssl-images-amazon.com/images/I/61d0wtGHDZL._SS40_.jpg, https://images-na.ssl-images-amazon.com/images/I/516OvXY0TdL._SS40_.jpg]</td>\n",
       "      <td>[https://images-na.ssl-images-amazon.com/images/I/610CCoHtMyL.jpg, https://images-na.ssl-images-amazon.com/images/I/619zvyeoqwL.jpg, https://images-na.ssl-images-amazon.com/images/I/61d0wtGHDZL.jpg, https://images-na.ssl-images-amazon.com/images/I/516OvXY0TdL.jpg]</td>\n",
       "      <td>NaN</td>\n",
       "    </tr>\n",
       "    <tr>\n",
       "      <th>20</th>\n",
       "      <td>[]</td>\n",
       "      <td></td>\n",
       "      <td>[The Msica del mundo hispano Audio CD includes authentic music from around the Spanish-speaking world. Lyrics are included in the liner notes., , ]</td>\n",
       "      <td></td>\n",
       "      <td>Avancemos! Musica del mundo hispano</td>\n",
       "      <td>[0618753222]</td>\n",
       "      <td></td>\n",
       "      <td>Various Artists</td>\n",
       "      <td>[]</td>\n",
       "      <td>521,475 in CDs &amp;amp; Vinyl (</td>\n",
       "      <td>[]</td>\n",
       "      <td>&lt;img src=\"https://images-na.ssl-images-amazon.com/images/G/01/digital/music/logos/amzn_music_logo_subnav._CB471835632_.png\" class=\"nav-categ-image\" alt=\"Digital Music\" /&gt;</td>\n",
       "      <td></td>\n",
       "      <td></td>\n",
       "      <td>$1.00</td>\n",
       "      <td>0618866760</td>\n",
       "      <td>[https://images-na.ssl-images-amazon.com/images/I/512M0WP5tNL._SS40_.jpg]</td>\n",
       "      <td>[https://images-na.ssl-images-amazon.com/images/I/512M0WP5tNL.jpg]</td>\n",
       "      <td>NaN</td>\n",
       "    </tr>\n",
       "  </tbody>\n",
       "</table>\n",
       "</div>"
      ],
      "text/plain": [
       "   category tech1  \\\n",
       "4        []         \n",
       "12       []         \n",
       "13       []         \n",
       "19       []         \n",
       "20       []         \n",
       "\n",
       "                                                                                                                                                                                                                                                                                                    description  \\\n",
       "4   [1. Losing Game 2. I Can't Wait 3. Didn't He Shine 4. Never Seen...Righteous... 5. A Broken Heart 6. Looking Back 7. Here We Are 8. I Saw The Lord 9. Jesus Is A River Of Love 10. Hittin' The Road 11. I've Never Been Out Of... 12. Jesus Gotta Hold Of My Life 13. Saved- Saved- Saved 14. What Will ...   \n",
       "12                                                                                                                                                                                                                                   [Spanish Before You Know It - Gold Edition. Learn Spanish in a Flash!, , ]   \n",
       "13                                                                                                                                                                                                                  [Just the CD. The Book has long since vanished. I great condition and it is a classic., , ]   \n",
       "19  [The seasons are changing and life slows down in the forest. Or does it? Join Mindy and her friends in Bluebell Woods as they scrabble for the biggest, juiciest blackberries ... carve the silliest and scariest jack-o-lanterns ... and share the true spirit of giving when they're snowed in for thr...   \n",
       "20                                                                                                                                                          [The Msica del mundo hispano Audio CD includes authentic music from around the Spanish-speaking world. Lyrics are included in the liner notes., , ]   \n",
       "\n",
       "   fit  \\\n",
       "4        \n",
       "12       \n",
       "13       \n",
       "19       \n",
       "20       \n",
       "\n",
       "                                                                            title  \\\n",
       "4                                                       Early Works - Dallas Holm   \n",
       "12                                      Spanish Before You Know It - Gold Edition   \n",
       "13                                                          Puff the Magic Dragon   \n",
       "19  The Tales of Mindy Mousekins: Adventures Through the Seasons, Autumn - Winter   \n",
       "20                                            Avancemos! Musica del mundo hispano   \n",
       "\n",
       "                                                                                                                                                                                                                                                                                                       also_buy  \\\n",
       "4   [B0002N4JP2, 0760131694, B00002EQ79, B00150K8JC, B00007E8SE, B00000387A, B000I0QKB0, B000025Q0M, B000008QP3, B000FAMYIG, B0009WA252, B0016CP2GS, B016E9NE9Y, B000002UEN, B000T5MJN2, B003H8F4NA, B00004RC05, B000A0GP04, B00004RC01, B00004YNA4, B016E9NEN0, B00BS96UG0, B00BS96XJY, B00BS96Y9S, B00BS96...   \n",
       "12                                                                                                                                                                                                                                                                                                           []   \n",
       "13                                                                                                                                                                                                                                                                                                           []   \n",
       "19                                                                                                                                                                                                                                                                                     [0692384251, B004HVKAAI]   \n",
       "20                                                                                                                                                                                                                                                                                                 [0618753222]   \n",
       "\n",
       "   tech2                 brand feature                            rank  \\\n",
       "4                  Dallas Holm      []        399,269 in CDs & Vinyl (   \n",
       "12        Transparent Language      []  1,153,345 in CDs &amp; Vinyl (   \n",
       "13                                  []    242,922 in CDs &amp; Vinyl (   \n",
       "19          Jacqueline Houston      []    200,626 in CDs &amp; Vinyl (   \n",
       "20             Various Artists      []    521,475 in CDs &amp; Vinyl (   \n",
       "\n",
       "                                                                                                                   also_view  \\\n",
       "4   [B0002N4JP2, 0760131694, B00150K8JC, B003MTXNVE, B00007E8SE, B00000DPJN, B00000387A, B0009WA252, B000008QP3, B00KYVH4VI]   \n",
       "12                                                                                                                        []   \n",
       "13                                                  [B00YZ82TPW, B0009YA39U, 1402747829, B00U1CES3M, B000051NSZ, B00514KN3E]   \n",
       "19                                                                                                              [0692384251]   \n",
       "20                                                                                                                        []   \n",
       "\n",
       "                                                                                                                                                                      main_cat  \\\n",
       "4    <img src=\"https://images-na.ssl-images-amazon.com/images/G/01/digital/music/logos/amzn_music_logo_subnav._CB471835632_.png\" class=\"nav-categ-image\" alt=\"Digital Music\"/>   \n",
       "12  <img src=\"https://images-na.ssl-images-amazon.com/images/G/01/digital/music/logos/amzn_music_logo_subnav._CB471835632_.png\" class=\"nav-categ-image\" alt=\"Digital Music\" />   \n",
       "13  <img src=\"https://images-na.ssl-images-amazon.com/images/G/01/digital/music/logos/amzn_music_logo_subnav._CB471835632_.png\" class=\"nav-categ-image\" alt=\"Digital Music\" />   \n",
       "19  <img src=\"https://images-na.ssl-images-amazon.com/images/G/01/digital/music/logos/amzn_music_logo_subnav._CB471835632_.png\" class=\"nav-categ-image\" alt=\"Digital Music\" />   \n",
       "20  <img src=\"https://images-na.ssl-images-amazon.com/images/G/01/digital/music/logos/amzn_music_logo_subnav._CB471835632_.png\" class=\"nav-categ-image\" alt=\"Digital Music\" />   \n",
       "\n",
       "   similar_item date      price        asin  \\\n",
       "4                                0001526146   \n",
       "12                    $9,600.61  0545069882   \n",
       "13                        $6.14  0545109620   \n",
       "19                               0615897398   \n",
       "20                        $1.00  0618866760   \n",
       "\n",
       "                                                                                                                                                                                                                                                                                                imageURL  \\\n",
       "4                                                                                                                                                                                                                                                                                                     []   \n",
       "12                                                                                                                                                                                                                             [https://images-na.ssl-images-amazon.com/images/I/510aGyfLO5L._SS40_.jpg]   \n",
       "13                                                                                                                                                                                                                             [https://images-na.ssl-images-amazon.com/images/I/51n5-HdJCCL._SS40_.jpg]   \n",
       "19  [https://images-na.ssl-images-amazon.com/images/I/610CCoHtMyL._SS40_.jpg, https://images-na.ssl-images-amazon.com/images/I/619zvyeoqwL._SS40_.jpg, https://images-na.ssl-images-amazon.com/images/I/61d0wtGHDZL._SS40_.jpg, https://images-na.ssl-images-amazon.com/images/I/516OvXY0TdL._SS40_.jpg]   \n",
       "20                                                                                                                                                                                                                             [https://images-na.ssl-images-amazon.com/images/I/512M0WP5tNL._SS40_.jpg]   \n",
       "\n",
       "                                                                                                                                                                                                                                                             imageURLHighRes  \\\n",
       "4                                                                                                                                                                                                                                                                         []   \n",
       "12                                                                                                                                                                                                        [https://images-na.ssl-images-amazon.com/images/I/510aGyfLO5L.jpg]   \n",
       "13                                                                                                                                                                                                        [https://images-na.ssl-images-amazon.com/images/I/51n5-HdJCCL.jpg]   \n",
       "19  [https://images-na.ssl-images-amazon.com/images/I/610CCoHtMyL.jpg, https://images-na.ssl-images-amazon.com/images/I/619zvyeoqwL.jpg, https://images-na.ssl-images-amazon.com/images/I/61d0wtGHDZL.jpg, https://images-na.ssl-images-amazon.com/images/I/516OvXY0TdL.jpg]   \n",
       "20                                                                                                                                                                                                        [https://images-na.ssl-images-amazon.com/images/I/512M0WP5tNL.jpg]   \n",
       "\n",
       "   details  \n",
       "4      NaN  \n",
       "12     NaN  \n",
       "13     NaN  \n",
       "19     NaN  \n",
       "20     NaN  "
      ]
     },
     "execution_count": 593,
     "metadata": {},
     "output_type": "execute_result"
    }
   ],
   "source": [
    "df.head()"
   ]
  },
  {
   "cell_type": "code",
   "execution_count": 594,
   "metadata": {},
   "outputs": [
    {
     "data": {
      "text/plain": [
       "\"1. Losing Game 2. I Can't Wait 3. Didn't He Shine 4. Never Seen...Righteous... 5. A Broken Heart 6. Looking Back 7. Here We Are 8. I Saw The Lord 9. Jesus Is A River Of Love 10. Hittin' The Road 11. I've Never Been Out Of... 12. Jesus Gotta Hold Of My Life 13. Saved- Saved- Saved 14. What Will You Do? 15. Rise Again\""
      ]
     },
     "execution_count": 594,
     "metadata": {},
     "output_type": "execute_result"
    }
   ],
   "source": [
    "# each description is a list of strings,we want to remove the empty strings, and join the list of strings into one string\n",
    "df.description = df.description.apply(lambda x: [string for string in x if string != \"\"])\n",
    "df.description = df.description.apply(lambda x: \" \".join(x))\n",
    "df.iloc[0].description\n"
   ]
  },
  {
   "cell_type": "code",
   "execution_count": 595,
   "metadata": {},
   "outputs": [
    {
     "name": "stdout",
     "output_type": "stream",
     "text": [
      "Example of description before preprocessing: \n",
      "4    1. Losing Game 2. I Can't Wait 3. Didn't He Shine 4. Never Seen...Righteous... 5. A Broken Heart 6. Looking Back 7. Here We Are 8. I Saw The Lord 9. Jesus Is A River Of Love 10. Hittin' The Road 11. I've Never Been Out Of... 12. Jesus Gotta Hold Of My Life 13. Saved- Saved- Saved 14. What Will Y...\n",
      "Name: description, dtype: object\n",
      "\n",
      "Example of description after preprocessing: \n",
      "4    losing game wait shine never seen righteous broken heart looking back saw lord jesus river love hittin road never jesus got ta hold life saved saved saved rise\n",
      "Name: description, dtype: object\n"
     ]
    }
   ],
   "source": [
    "df_similarity_scores = df.copy()\n",
    "\n",
    "print(\"Example of description before preprocessing: \")\n",
    "print(df.description.iloc[0:1])\n",
    "df.description = df.description.apply(lambda x: pre_process_data.user_description_sentiment_analysis(x))\n",
    "\n",
    "print()\n",
    "print(\"Example of description after preprocessing: \")\n",
    "print(df.description.iloc[0:1])\n"
   ]
  },
  {
   "cell_type": "markdown",
   "metadata": {},
   "source": [
    "## Does any product contain different descriptions?  \n",
    "There exists products which are not unique. The asin and the descriptions are duplicated. \n",
    "We process the data in order to have unique products."
   ]
  },
  {
   "cell_type": "markdown",
   "metadata": {},
   "source": [
    "Removing the duplicates products -> now each product is unique"
   ]
  },
  {
   "cell_type": "code",
   "execution_count": 596,
   "metadata": {},
   "outputs": [
    {
     "data": {
      "text/html": [
       "<div>\n",
       "<style scoped>\n",
       "    .dataframe tbody tr th:only-of-type {\n",
       "        vertical-align: middle;\n",
       "    }\n",
       "\n",
       "    .dataframe tbody tr th {\n",
       "        vertical-align: top;\n",
       "    }\n",
       "\n",
       "    .dataframe thead th {\n",
       "        text-align: right;\n",
       "    }\n",
       "</style>\n",
       "<table border=\"1\" class=\"dataframe\">\n",
       "  <thead>\n",
       "    <tr style=\"text-align: right;\">\n",
       "      <th></th>\n",
       "      <th>asin</th>\n",
       "      <th>description</th>\n",
       "    </tr>\n",
       "  </thead>\n",
       "  <tbody>\n",
       "    <tr>\n",
       "      <th>4</th>\n",
       "      <td>0001526146</td>\n",
       "      <td>losing game wait shine never seen righteous broken heart looking back saw lord jesus river love hittin road never jesus got ta hold life saved saved saved rise</td>\n",
       "    </tr>\n",
       "    <tr>\n",
       "      <th>12</th>\n",
       "      <td>0545069882</td>\n",
       "      <td>spanish know gold edition learn spanish flash</td>\n",
       "    </tr>\n",
       "    <tr>\n",
       "      <th>13</th>\n",
       "      <td>0545109620</td>\n",
       "      <td>cd book long since vanished great condition classic</td>\n",
       "    </tr>\n",
       "    <tr>\n",
       "      <th>19</th>\n",
       "      <td>0615897398</td>\n",
       "      <td>seasons changing life slows forest join mindy friends bluebell woods scrabble biggest juiciest blackberries carve silliest scariest jack lanterns share true spirit giving snowed three whole days master storyteller jacqueline houston brings mindy mousekins world alive heartwarming tales fun adven...</td>\n",
       "    </tr>\n",
       "    <tr>\n",
       "      <th>20</th>\n",
       "      <td>0618866760</td>\n",
       "      <td>msica del mundo hispano audio cd includes authentic music around spanish speaking world lyrics included liner notes</td>\n",
       "    </tr>\n",
       "    <tr>\n",
       "      <th>...</th>\n",
       "      <td>...</td>\n",
       "      <td>...</td>\n",
       "    </tr>\n",
       "    <tr>\n",
       "      <th>74333</th>\n",
       "      <td>B01HDZM264</td>\n",
       "      <td>dub infused post punk nyu punk professor music label staubgold</td>\n",
       "    </tr>\n",
       "    <tr>\n",
       "      <th>74336</th>\n",
       "      <td>B01HG2DW1I</td>\n",
       "      <td>track listing butter ball zaq attack zona walk like guv sentimental pacific daylight trombone institute technology san jose fog city show crbs trombones giant</td>\n",
       "    </tr>\n",
       "    <tr>\n",
       "      <th>74338</th>\n",
       "      <td>B01HH5R7LK</td>\n",
       "      <td>coldplay head full dreams tour live etihad stadium manchester england june th cd intro head full dreams yellow every teardrop waterfall scientist birds paradise everglow lovers japan magic clocks midnight charlie brown hymn weekend fix heroes viva la vida cd adventure lifetime kaleidoscope troub...</td>\n",
       "    </tr>\n",
       "    <tr>\n",
       "      <th>74339</th>\n",
       "      <td>B01HH68B96</td>\n",
       "      <td>known live versions thats way life goes steam blacktop witha demo version superficial love sang hughie instead chris hicks</td>\n",
       "    </tr>\n",
       "    <tr>\n",
       "      <th>74342</th>\n",
       "      <td>B01HH7D5KU</td>\n",
       "      <td>free last southside never gon lose purple coming southside diamonds africa southside southside compadre southside march madness tarentino trap niggas southside da fam da gram skit southside nights southside total length</td>\n",
       "    </tr>\n",
       "  </tbody>\n",
       "</table>\n",
       "<p>16116 rows × 2 columns</p>\n",
       "</div>"
      ],
      "text/plain": [
       "             asin  \\\n",
       "4      0001526146   \n",
       "12     0545069882   \n",
       "13     0545109620   \n",
       "19     0615897398   \n",
       "20     0618866760   \n",
       "...           ...   \n",
       "74333  B01HDZM264   \n",
       "74336  B01HG2DW1I   \n",
       "74338  B01HH5R7LK   \n",
       "74339  B01HH68B96   \n",
       "74342  B01HH7D5KU   \n",
       "\n",
       "                                                                                                                                                                                                                                                                                                       description  \n",
       "4                                                                                                                                                  losing game wait shine never seen righteous broken heart looking back saw lord jesus river love hittin road never jesus got ta hold life saved saved saved rise  \n",
       "12                                                                                                                                                                                                                                                                   spanish know gold edition learn spanish flash  \n",
       "13                                                                                                                                                                                                                                                             cd book long since vanished great condition classic  \n",
       "19     seasons changing life slows forest join mindy friends bluebell woods scrabble biggest juiciest blackberries carve silliest scariest jack lanterns share true spirit giving snowed three whole days master storyteller jacqueline houston brings mindy mousekins world alive heartwarming tales fun adven...  \n",
       "20                                                                                                                                                                                             msica del mundo hispano audio cd includes authentic music around spanish speaking world lyrics included liner notes  \n",
       "...                                                                                                                                                                                                                                                                                                            ...  \n",
       "74333                                                                                                                                                                                                                                               dub infused post punk nyu punk professor music label staubgold  \n",
       "74336                                                                                                                                               track listing butter ball zaq attack zona walk like guv sentimental pacific daylight trombone institute technology san jose fog city show crbs trombones giant  \n",
       "74338  coldplay head full dreams tour live etihad stadium manchester england june th cd intro head full dreams yellow every teardrop waterfall scientist birds paradise everglow lovers japan magic clocks midnight charlie brown hymn weekend fix heroes viva la vida cd adventure lifetime kaleidoscope troub...  \n",
       "74339                                                                                                                                                                                   known live versions thats way life goes steam blacktop witha demo version superficial love sang hughie instead chris hicks  \n",
       "74342                                                                                  free last southside never gon lose purple coming southside diamonds africa southside southside compadre southside march madness tarentino trap niggas southside da fam da gram skit southside nights southside total length  \n",
       "\n",
       "[16116 rows x 2 columns]"
      ]
     },
     "execution_count": 596,
     "metadata": {},
     "output_type": "execute_result"
    }
   ],
   "source": [
    "df_asin_description = df[[\"asin\",\"description\"]].copy()\n",
    "df_asin_description.drop_duplicates(subset = \"description\", inplace=True)\n",
    "\n",
    "df_asin_description"
   ]
  },
  {
   "cell_type": "markdown",
   "metadata": {},
   "source": [
    "# Sentiment Analysis"
   ]
  },
  {
   "cell_type": "code",
   "execution_count": 597,
   "metadata": {},
   "outputs": [
    {
     "data": {
      "text/html": [
       "<div>\n",
       "<style scoped>\n",
       "    .dataframe tbody tr th:only-of-type {\n",
       "        vertical-align: middle;\n",
       "    }\n",
       "\n",
       "    .dataframe tbody tr th {\n",
       "        vertical-align: top;\n",
       "    }\n",
       "\n",
       "    .dataframe thead th {\n",
       "        text-align: right;\n",
       "    }\n",
       "</style>\n",
       "<table border=\"1\" class=\"dataframe\">\n",
       "  <thead>\n",
       "    <tr style=\"text-align: right;\">\n",
       "      <th></th>\n",
       "      <th>asin</th>\n",
       "      <th>description</th>\n",
       "    </tr>\n",
       "  </thead>\n",
       "  <tbody>\n",
       "    <tr>\n",
       "      <th>4</th>\n",
       "      <td>0001526146</td>\n",
       "      <td>losing game wait shine never seen righteous broken heart looking back saw lord jesus river love hittin road never jesus got ta hold life saved saved saved rise</td>\n",
       "    </tr>\n",
       "    <tr>\n",
       "      <th>12</th>\n",
       "      <td>0545069882</td>\n",
       "      <td>spanish know gold edition learn spanish flash</td>\n",
       "    </tr>\n",
       "    <tr>\n",
       "      <th>13</th>\n",
       "      <td>0545109620</td>\n",
       "      <td>cd book long since vanished great condition classic</td>\n",
       "    </tr>\n",
       "    <tr>\n",
       "      <th>19</th>\n",
       "      <td>0615897398</td>\n",
       "      <td>seasons changing life slows forest join mindy friends bluebell woods scrabble biggest juiciest blackberries carve silliest scariest jack lanterns share true spirit giving snowed three whole days master storyteller jacqueline houston brings mindy mousekins world alive heartwarming tales fun adven...</td>\n",
       "    </tr>\n",
       "    <tr>\n",
       "      <th>20</th>\n",
       "      <td>0618866760</td>\n",
       "      <td>msica del mundo hispano audio cd includes authentic music around spanish speaking world lyrics included liner notes</td>\n",
       "    </tr>\n",
       "  </tbody>\n",
       "</table>\n",
       "</div>"
      ],
      "text/plain": [
       "          asin  \\\n",
       "4   0001526146   \n",
       "12  0545069882   \n",
       "13  0545109620   \n",
       "19  0615897398   \n",
       "20  0618866760   \n",
       "\n",
       "                                                                                                                                                                                                                                                                                                    description  \n",
       "4                                                                                                                                               losing game wait shine never seen righteous broken heart looking back saw lord jesus river love hittin road never jesus got ta hold life saved saved saved rise  \n",
       "12                                                                                                                                                                                                                                                                spanish know gold edition learn spanish flash  \n",
       "13                                                                                                                                                                                                                                                          cd book long since vanished great condition classic  \n",
       "19  seasons changing life slows forest join mindy friends bluebell woods scrabble biggest juiciest blackberries carve silliest scariest jack lanterns share true spirit giving snowed three whole days master storyteller jacqueline houston brings mindy mousekins world alive heartwarming tales fun adven...  \n",
       "20                                                                                                                                                                                          msica del mundo hispano audio cd includes authentic music around spanish speaking world lyrics included liner notes  "
      ]
     },
     "execution_count": 597,
     "metadata": {},
     "output_type": "execute_result"
    }
   ],
   "source": [
    "df_process = df_asin_description\n",
    "df_process.head()"
   ]
  },
  {
   "cell_type": "code",
   "execution_count": 598,
   "metadata": {},
   "outputs": [],
   "source": [
    "# Suppressing warning about old version of spacy\n",
    "with warnings.catch_warnings():\n",
    "    warnings.simplefilter(\"ignore\")\n",
    "    # Applying Spacy affect model emotions\n",
    "    nlp_affect = spacy.load('Spacy-Affect-Model/affect_ner')\n",
    "\n",
    "    \n",
    "df_process['emotion_spacy'] = df_process.description.apply(lambda x: Counter([item.label_.lower() for item in nlp_affect(x).ents]))"
   ]
  },
  {
   "cell_type": "code",
   "execution_count": 599,
   "metadata": {},
   "outputs": [],
   "source": [
    "\n",
    "# Extracting most significant emotion of a particular description\n",
    "def get_most_significant_emotion(emotions):\n",
    "    try:\n",
    "        sign_emotion = max(emotions, key=emotions.get)\n",
    "    except ValueError:\n",
    "        sign_emotion = None\n",
    "    return sign_emotion\n",
    "\n",
    "df_process['most_significant_emotion_spacy'] = df_process.emotion_spacy.apply(lambda x: get_most_significant_emotion(x))\n",
    "\n",
    "df_process.head(100)\n",
    "save_csv = True\n",
    "if save_csv:\n",
    "    df_process.to_csv('digital_music.csv')\n",
    "\n"
   ]
  },
  {
   "cell_type": "code",
   "execution_count": 600,
   "metadata": {},
   "outputs": [
    {
     "name": "stderr",
     "output_type": "stream",
     "text": [
      "/Users/ariannabianchi/anaconda3/envs/myenv/lib/python3.10/site-packages/spacy/util.py:887: UserWarning: [W095] Model 'en_affect_ner' (0.0.0) was trained with spaCy v3.4 and may not be 100% compatible with the current version (3.5.3). If you see errors or degraded performance, download a newer compatible model or retrain your custom model with the current spaCy version. For more details and available updates, run: python -m spacy validate\n",
      "  warnings.warn(warn_msg)\n"
     ]
    },
    {
     "name": "stdout",
     "output_type": "stream",
     "text": [
      "anticipation\n"
     ]
    }
   ],
   "source": [
    "\n",
    "# Output of user emotion based on input.txt\n",
    "file_input = open(\"input.txt\", \"r\")\n",
    "text = file_input.read()\n",
    "nlp_affect = spacy.load('Spacy-Affect-Model/affect_ner')\n",
    "\n",
    "def measure_affect_score(sentence : str, nlp_affect):\n",
    "    affect_percent = {'fear': 0.0, 'anger': 0.0, 'anticipation': 0.0, 'trust': 0.0, 'surprise': 0.0, 'positive': 0.0,\n",
    "                      'negative': 0.0, 'sadness': 0.0, 'disgust': 0.0, 'joy': 0.0}\n",
    "    emotions = []\n",
    "    doc = nlp_affect(sentence)\n",
    "    if len(doc.ents) != 0:\n",
    "        for ent in doc.ents:\n",
    "            emotions.append(ent.label_.lower())\n",
    "        affect_counts = Counter()\n",
    "        for emotion in emotions:\n",
    "            affect_counts[emotion] += 1\n",
    "        sum_values = sum(affect_counts.values())\n",
    "        for key in affect_counts.keys():\n",
    "            affect_percent.update({key: float(affect_counts[key]) / float(sum_values)})\n",
    "    return affect_percent\n",
    "\n",
    "user_emotion_scores = measure_affect_score(text,nlp_affect)\n",
    "max_emotion = max(user_emotion_scores, key=user_emotion_scores.get)\n",
    "user_emotion = max_emotion\n",
    "\n",
    "print(user_emotion)"
   ]
  },
  {
   "cell_type": "code",
   "execution_count": 601,
   "metadata": {},
   "outputs": [],
   "source": [
    "# Find all items with the emotion \"anticipation\"\n",
    "import pandas as pd\n",
    "\n",
    "# read file with all emotions \n",
    "df_emotion = pd.read_csv('digital_music.csv')  \n",
    "# filter satisfied lines（emotion == anticipation）\n",
    "filtered_df = df_emotion[df_emotion['most_significant_emotion_spacy'] == user_emotion]\n",
    "\n",
    "# generated new lines \n",
    "filtered_df.to_csv('grouped_emotion.csv', index=False) \n",
    "\n"
   ]
  },
  {
   "cell_type": "code",
   "execution_count": 602,
   "metadata": {},
   "outputs": [
    {
     "data": {
      "text/plain": [
       "Index(['Unnamed: 0', 'asin', 'description', 'emotion_spacy',\n",
       "       'most_significant_emotion_spacy'],\n",
       "      dtype='object')"
      ]
     },
     "execution_count": 602,
     "metadata": {},
     "output_type": "execute_result"
    }
   ],
   "source": [
    "df_emotion.columns"
   ]
  },
  {
   "cell_type": "markdown",
   "metadata": {},
   "source": [
    "# Similar Items System\n",
    "Program that reads the dataset, preprocess the data and output the most similar items based on a user description of a product."
   ]
  },
  {
   "cell_type": "code",
   "execution_count": 603,
   "metadata": {},
   "outputs": [
    {
     "name": "stderr",
     "output_type": "stream",
     "text": [
      "[nltk_data] Downloading package stopwords to\n",
      "[nltk_data]     /Users/ariannabianchi/nltk_data...\n",
      "[nltk_data]   Package stopwords is already up-to-date!\n",
      "[nltk_data] Downloading package punkt to\n",
      "[nltk_data]     /Users/ariannabianchi/nltk_data...\n",
      "[nltk_data]   Package punkt is already up-to-date!\n"
     ]
    },
    {
     "data": {
      "text/plain": [
       "True"
      ]
     },
     "execution_count": 603,
     "metadata": {},
     "output_type": "execute_result"
    }
   ],
   "source": [
    "import json\n",
    "from collections import defaultdict\n",
    "import gzip\n",
    "import pandas as pd\n",
    "from lxml import html,etree\n",
    "import numpy as np\n",
    "import ipywidgets as widgets\n",
    "import re\n",
    "from nltk.tokenize import word_tokenize\n",
    "from nltk.corpus import stopwords\n",
    "import nltk\n",
    "from nltk.stem import PorterStemmer\n",
    "from mlxtend.preprocessing import TransactionEncoder\n",
    "from mlxtend.frequent_patterns import apriori\n",
    "import os\n",
    "\n",
    "\n",
    "# set stopwords vocabulary\n",
    "nltk.download('stopwords')\n",
    "\n",
    "# set tokenizer\n",
    "nltk.download('punkt')"
   ]
  },
  {
   "cell_type": "code",
   "execution_count": 604,
   "metadata": {},
   "outputs": [
    {
     "data": {
      "text/html": [
       "<div>\n",
       "<style scoped>\n",
       "    .dataframe tbody tr th:only-of-type {\n",
       "        vertical-align: middle;\n",
       "    }\n",
       "\n",
       "    .dataframe tbody tr th {\n",
       "        vertical-align: top;\n",
       "    }\n",
       "\n",
       "    .dataframe thead th {\n",
       "        text-align: right;\n",
       "    }\n",
       "</style>\n",
       "<table border=\"1\" class=\"dataframe\">\n",
       "  <thead>\n",
       "    <tr style=\"text-align: right;\">\n",
       "      <th></th>\n",
       "      <th>asin</th>\n",
       "      <th>description</th>\n",
       "    </tr>\n",
       "  </thead>\n",
       "  <tbody>\n",
       "    <tr>\n",
       "      <th>0</th>\n",
       "      <td>0001526146</td>\n",
       "      <td>losing game wait shine never seen righteous broken heart looking back saw lord jesus river love hittin road never jesus got ta hold life saved saved saved rise</td>\n",
       "    </tr>\n",
       "    <tr>\n",
       "      <th>1</th>\n",
       "      <td>0545069882</td>\n",
       "      <td>spanish know gold edition learn spanish flash</td>\n",
       "    </tr>\n",
       "    <tr>\n",
       "      <th>2</th>\n",
       "      <td>0545109620</td>\n",
       "      <td>cd book long since vanished great condition classic</td>\n",
       "    </tr>\n",
       "    <tr>\n",
       "      <th>3</th>\n",
       "      <td>0615897398</td>\n",
       "      <td>seasons changing life slows forest join mindy friends bluebell woods scrabble biggest juiciest blackberries carve silliest scariest jack lanterns share true spirit giving snowed three whole days master storyteller jacqueline houston brings mindy mousekins world alive heartwarming tales fun adven...</td>\n",
       "    </tr>\n",
       "    <tr>\n",
       "      <th>4</th>\n",
       "      <td>0618866760</td>\n",
       "      <td>msica del mundo hispano audio cd includes authentic music around spanish speaking world lyrics included liner notes</td>\n",
       "    </tr>\n",
       "    <tr>\n",
       "      <th>...</th>\n",
       "      <td>...</td>\n",
       "      <td>...</td>\n",
       "    </tr>\n",
       "    <tr>\n",
       "      <th>16111</th>\n",
       "      <td>B01HDZM264</td>\n",
       "      <td>dub infused post punk nyu punk professor music label staubgold</td>\n",
       "    </tr>\n",
       "    <tr>\n",
       "      <th>16112</th>\n",
       "      <td>B01HG2DW1I</td>\n",
       "      <td>track listing butter ball zaq attack zona walk like guv sentimental pacific daylight trombone institute technology san jose fog city show crbs trombones giant</td>\n",
       "    </tr>\n",
       "    <tr>\n",
       "      <th>16113</th>\n",
       "      <td>B01HH5R7LK</td>\n",
       "      <td>coldplay head full dreams tour live etihad stadium manchester england june th cd intro head full dreams yellow every teardrop waterfall scientist birds paradise everglow lovers japan magic clocks midnight charlie brown hymn weekend fix heroes viva la vida cd adventure lifetime kaleidoscope troub...</td>\n",
       "    </tr>\n",
       "    <tr>\n",
       "      <th>16114</th>\n",
       "      <td>B01HH68B96</td>\n",
       "      <td>known live versions thats way life goes steam blacktop witha demo version superficial love sang hughie instead chris hicks</td>\n",
       "    </tr>\n",
       "    <tr>\n",
       "      <th>16115</th>\n",
       "      <td>B01HH7D5KU</td>\n",
       "      <td>free last southside never gon lose purple coming southside diamonds africa southside southside compadre southside march madness tarentino trap niggas southside da fam da gram skit southside nights southside total length</td>\n",
       "    </tr>\n",
       "  </tbody>\n",
       "</table>\n",
       "<p>16115 rows × 2 columns</p>\n",
       "</div>"
      ],
      "text/plain": [
       "             asin  \\\n",
       "0      0001526146   \n",
       "1      0545069882   \n",
       "2      0545109620   \n",
       "3      0615897398   \n",
       "4      0618866760   \n",
       "...           ...   \n",
       "16111  B01HDZM264   \n",
       "16112  B01HG2DW1I   \n",
       "16113  B01HH5R7LK   \n",
       "16114  B01HH68B96   \n",
       "16115  B01HH7D5KU   \n",
       "\n",
       "                                                                                                                                                                                                                                                                                                       description  \n",
       "0                                                                                                                                                  losing game wait shine never seen righteous broken heart looking back saw lord jesus river love hittin road never jesus got ta hold life saved saved saved rise  \n",
       "1                                                                                                                                                                                                                                                                    spanish know gold edition learn spanish flash  \n",
       "2                                                                                                                                                                                                                                                              cd book long since vanished great condition classic  \n",
       "3      seasons changing life slows forest join mindy friends bluebell woods scrabble biggest juiciest blackberries carve silliest scariest jack lanterns share true spirit giving snowed three whole days master storyteller jacqueline houston brings mindy mousekins world alive heartwarming tales fun adven...  \n",
       "4                                                                                                                                                                                              msica del mundo hispano audio cd includes authentic music around spanish speaking world lyrics included liner notes  \n",
       "...                                                                                                                                                                                                                                                                                                            ...  \n",
       "16111                                                                                                                                                                                                                                               dub infused post punk nyu punk professor music label staubgold  \n",
       "16112                                                                                                                                               track listing butter ball zaq attack zona walk like guv sentimental pacific daylight trombone institute technology san jose fog city show crbs trombones giant  \n",
       "16113  coldplay head full dreams tour live etihad stadium manchester england june th cd intro head full dreams yellow every teardrop waterfall scientist birds paradise everglow lovers japan magic clocks midnight charlie brown hymn weekend fix heroes viva la vida cd adventure lifetime kaleidoscope troub...  \n",
       "16114                                                                                                                                                                                   known live versions thats way life goes steam blacktop witha demo version superficial love sang hughie instead chris hicks  \n",
       "16115                                                                                  free last southside never gon lose purple coming southside diamonds africa southside southside compadre southside march madness tarentino trap niggas southside da fam da gram skit southside nights southside total length  \n",
       "\n",
       "[16115 rows x 2 columns]"
      ]
     },
     "execution_count": 604,
     "metadata": {},
     "output_type": "execute_result"
    }
   ],
   "source": [
    "df_asin_description = df_emotion[[\"asin\",\"description\"]].copy()\n",
    "df_asin_description.drop_duplicates(subset = \"description\", inplace=True)\n",
    "df_asin_description.dropna(subset=['description'], inplace=True)\n",
    "\n",
    "df_asin_description"
   ]
  },
  {
   "cell_type": "code",
   "execution_count": 605,
   "metadata": {},
   "outputs": [
    {
     "data": {
      "text/html": [
       "<div>\n",
       "<style scoped>\n",
       "    .dataframe tbody tr th:only-of-type {\n",
       "        vertical-align: middle;\n",
       "    }\n",
       "\n",
       "    .dataframe tbody tr th {\n",
       "        vertical-align: top;\n",
       "    }\n",
       "\n",
       "    .dataframe thead th {\n",
       "        text-align: right;\n",
       "    }\n",
       "</style>\n",
       "<table border=\"1\" class=\"dataframe\">\n",
       "  <thead>\n",
       "    <tr style=\"text-align: right;\">\n",
       "      <th></th>\n",
       "      <th>asin</th>\n",
       "      <th>description</th>\n",
       "    </tr>\n",
       "  </thead>\n",
       "  <tbody>\n",
       "    <tr>\n",
       "      <th>0</th>\n",
       "      <td>0001526146</td>\n",
       "      <td>losing game wait shine never seen righteous broken heart looking back saw lord jesus river love hittin road never jesus got ta hold life saved saved saved rise</td>\n",
       "    </tr>\n",
       "    <tr>\n",
       "      <th>1</th>\n",
       "      <td>0545069882</td>\n",
       "      <td>spanish know gold edition learn spanish flash</td>\n",
       "    </tr>\n",
       "    <tr>\n",
       "      <th>2</th>\n",
       "      <td>0545109620</td>\n",
       "      <td>cd book long since vanished great condition classic</td>\n",
       "    </tr>\n",
       "    <tr>\n",
       "      <th>3</th>\n",
       "      <td>0615897398</td>\n",
       "      <td>seasons changing life slows forest join mindy friends bluebell woods scrabble biggest juiciest blackberries carve silliest scariest jack lanterns share true spirit giving snowed three whole days master storyteller jacqueline houston brings mindy mousekins world alive heartwarming tales fun adven...</td>\n",
       "    </tr>\n",
       "    <tr>\n",
       "      <th>4</th>\n",
       "      <td>0618866760</td>\n",
       "      <td>msica del mundo hispano audio cd includes authentic music around spanish speaking world lyrics included liner notes</td>\n",
       "    </tr>\n",
       "  </tbody>\n",
       "</table>\n",
       "</div>"
      ],
      "text/plain": [
       "         asin  \\\n",
       "0  0001526146   \n",
       "1  0545069882   \n",
       "2  0545109620   \n",
       "3  0615897398   \n",
       "4  0618866760   \n",
       "\n",
       "                                                                                                                                                                                                                                                                                                   description  \n",
       "0                                                                                                                                              losing game wait shine never seen righteous broken heart looking back saw lord jesus river love hittin road never jesus got ta hold life saved saved saved rise  \n",
       "1                                                                                                                                                                                                                                                                spanish know gold edition learn spanish flash  \n",
       "2                                                                                                                                                                                                                                                          cd book long since vanished great condition classic  \n",
       "3  seasons changing life slows forest join mindy friends bluebell woods scrabble biggest juiciest blackberries carve silliest scariest jack lanterns share true spirit giving snowed three whole days master storyteller jacqueline houston brings mindy mousekins world alive heartwarming tales fun adven...  \n",
       "4                                                                                                                                                                                          msica del mundo hispano audio cd includes authentic music around spanish speaking world lyrics included liner notes  "
      ]
     },
     "execution_count": 605,
     "metadata": {},
     "output_type": "execute_result"
    }
   ],
   "source": [
    "df_asin_description.head()"
   ]
  },
  {
   "cell_type": "markdown",
   "metadata": {},
   "source": [
    "### Last step of preprocessing: stemming\n",
    "Stemming is useful for comparing similar words."
   ]
  },
  {
   "cell_type": "code",
   "execution_count": 606,
   "metadata": {},
   "outputs": [],
   "source": [
    "# stemming of the words in descriptions\n",
    "def stemming_data(s):\n",
    "    stemmer= PorterStemmer()\n",
    "    if not s or s.isspace(): \n",
    "        # print(\"Empty description\", s, \"empty\")\n",
    "        return ''\n",
    "    try:\n",
    "        strr = word_tokenize(s)\n",
    "        strr = [stemmer.stem(word) for word in strr]\n",
    "        strr = ' '.join(strr)\n",
    "        return strr \n",
    "    except etree.ParserError: \n",
    "        return ''"
   ]
  },
  {
   "cell_type": "code",
   "execution_count": 607,
   "metadata": {},
   "outputs": [
    {
     "name": "stdout",
     "output_type": "stream",
     "text": [
      "0    losing game wait shine never seen righteous broken heart looking back saw lord jesus river love hittin road never jesus got ta hold life saved saved saved rise\n",
      "Name: description, dtype: object\n"
     ]
    }
   ],
   "source": [
    "print(df_asin_description.description.iloc[0:1])"
   ]
  },
  {
   "cell_type": "code",
   "execution_count": 608,
   "metadata": {},
   "outputs": [],
   "source": [
    "df_asin_description.description = df_asin_description.description.apply(lambda x: stemming_data(x))"
   ]
  },
  {
   "cell_type": "code",
   "execution_count": 609,
   "metadata": {},
   "outputs": [
    {
     "name": "stdout",
     "output_type": "stream",
     "text": [
      "0    lose game wait shine never seen righteou broken heart look back saw lord jesu river love hittin road never jesu got ta hold life save save save rise\n",
      "Name: description, dtype: object\n"
     ]
    }
   ],
   "source": [
    "print(df_asin_description.description.iloc[0:1])"
   ]
  },
  {
   "cell_type": "markdown",
   "metadata": {},
   "source": [
    "## Creating shingles"
   ]
  },
  {
   "cell_type": "code",
   "execution_count": 610,
   "metadata": {},
   "outputs": [],
   "source": [
    "# Given a string input, return the list of shingles\n",
    "def shingle(s, q, delimiter=' '):\n",
    "    all_shingles = []\n",
    "    if isinstance(s, float):\n",
    "        print(s)\n",
    "    if delimiter != '':\n",
    "        words_list = s.split(delimiter)\n",
    "    else:\n",
    "        words_list = s\n",
    "    for i in range (len(words_list)-q+1):\n",
    "        all_shingles.append(delimiter.join(words_list[i:i+q]))\n",
    "    return list(set(all_shingles))"
   ]
  },
  {
   "cell_type": "code",
   "execution_count": 611,
   "metadata": {},
   "outputs": [],
   "source": [
    "# Apply shingles to the df_asin_description\n",
    "df_asin_description[\"shingles\"] = df_asin_description[\"description\"].apply(lambda x: shingle(x, 3))\n",
    "# aaa = df_asin_description[\"description\"].apply(lambda x: shingle(x, 3))\n",
    "# df_asin_description"
   ]
  },
  {
   "cell_type": "markdown",
   "metadata": {},
   "source": [
    "### Similarity of sets\n",
    "Computing Jaccuard similarity"
   ]
  },
  {
   "cell_type": "code",
   "execution_count": 612,
   "metadata": {},
   "outputs": [],
   "source": [
    "# function that takes an intersection set and a union set and returns the Jaccard similarity\n",
    "def similarity(intersection_set, union_set):\n",
    "    return len(intersection_set)/len(union_set)"
   ]
  },
  {
   "cell_type": "markdown",
   "metadata": {},
   "source": [
    "### Read the user description, pre process it, and compute the Jaccard similarity with the dataset's descriptions."
   ]
  },
  {
   "cell_type": "code",
   "execution_count": 613,
   "metadata": {},
   "outputs": [],
   "source": [
    "file_input = open(\"input.txt\", \"r\")\n",
    "input = file_input.read()\n",
    "# print(input)\n",
    "user_description = pre_process_data.user_description_sentiment_analysis(input)\n",
    "user_description = shingle(user_description, 3)  \n"
   ]
  },
  {
   "cell_type": "code",
   "execution_count": 614,
   "metadata": {},
   "outputs": [
    {
     "data": {
      "text/html": [
       "<div>\n",
       "<style scoped>\n",
       "    .dataframe tbody tr th:only-of-type {\n",
       "        vertical-align: middle;\n",
       "    }\n",
       "\n",
       "    .dataframe tbody tr th {\n",
       "        vertical-align: top;\n",
       "    }\n",
       "\n",
       "    .dataframe thead th {\n",
       "        text-align: right;\n",
       "    }\n",
       "</style>\n",
       "<table border=\"1\" class=\"dataframe\">\n",
       "  <thead>\n",
       "    <tr style=\"text-align: right;\">\n",
       "      <th></th>\n",
       "      <th>asin</th>\n",
       "      <th>description</th>\n",
       "      <th>shingles</th>\n",
       "      <th>similarity</th>\n",
       "    </tr>\n",
       "  </thead>\n",
       "  <tbody>\n",
       "    <tr>\n",
       "      <th>0</th>\n",
       "      <td>0001526146</td>\n",
       "      <td>lose game wait shine never seen righteou broken heart look back saw lord jesu river love hittin road never jesu got ta hold life save save save rise</td>\n",
       "      <td>[look back saw, wait shine never, jesu got ta, never seen righteou, saw lord jesu, got ta hold, jesu river love, seen righteou broken, river love hittin, hittin road never, save save rise, love hittin road, lose game wait, game wait shine, road never jesu, shine never seen, ta hold life, broken ...</td>\n",
       "      <td>0.0</td>\n",
       "    </tr>\n",
       "    <tr>\n",
       "      <th>1</th>\n",
       "      <td>0545069882</td>\n",
       "      <td>spanish know gold edit learn spanish flash</td>\n",
       "      <td>[gold edit learn, spanish know gold, edit learn spanish, know gold edit, learn spanish flash]</td>\n",
       "      <td>0.0</td>\n",
       "    </tr>\n",
       "    <tr>\n",
       "      <th>2</th>\n",
       "      <td>0545109620</td>\n",
       "      <td>cd book long sinc vanish great condit classic</td>\n",
       "      <td>[cd book long, book long sinc, great condit classic, long sinc vanish, vanish great condit, sinc vanish great]</td>\n",
       "      <td>0.0</td>\n",
       "    </tr>\n",
       "    <tr>\n",
       "      <th>3</th>\n",
       "      <td>0615897398</td>\n",
       "      <td>season chang life slow forest join mindi friend bluebel wood scrabbl biggest juiciest blackberri carv silliest scariest jack lantern share true spirit give snow three whole day master storytel jacquelin houston bring mindi mousekin world aliv heartwarm tale fun adventur</td>\n",
       "      <td>[tale fun adventur, scrabbl biggest juiciest, houston bring mindi, forest join mindi, scariest jack lantern, day master storytel, whole day master, juiciest blackberri carv, spirit give snow, aliv heartwarm tale, heartwarm tale fun, lantern share true, give snow three, slow forest join, bring mi...</td>\n",
       "      <td>0.0</td>\n",
       "    </tr>\n",
       "    <tr>\n",
       "      <th>4</th>\n",
       "      <td>0618866760</td>\n",
       "      <td>msica del mundo hispano audio cd includ authent music around spanish speak world lyric includ liner note</td>\n",
       "      <td>[audio cd includ, authent music around, lyric includ liner, spanish speak world, includ liner note, hispano audio cd, speak world lyric, del mundo hispano, cd includ authent, mundo hispano audio, includ authent music, music around spanish, world lyric includ, msica del mundo, around spanish speak]</td>\n",
       "      <td>0.0</td>\n",
       "    </tr>\n",
       "    <tr>\n",
       "      <th>...</th>\n",
       "      <td>...</td>\n",
       "      <td>...</td>\n",
       "      <td>...</td>\n",
       "      <td>...</td>\n",
       "    </tr>\n",
       "    <tr>\n",
       "      <th>16111</th>\n",
       "      <td>B01HDZM264</td>\n",
       "      <td>dub infus post punk nyu punk professor music label staubgold</td>\n",
       "      <td>[professor music label, nyu punk professor, infus post punk, punk nyu punk, punk professor music, music label staubgold, dub infus post, post punk nyu]</td>\n",
       "      <td>0.0</td>\n",
       "    </tr>\n",
       "    <tr>\n",
       "      <th>16112</th>\n",
       "      <td>B01HG2DW1I</td>\n",
       "      <td>track list butter ball zaq attack zona walk like guv sentiment pacif daylight trombon institut technolog san jose fog citi show crb trombon giant</td>\n",
       "      <td>[crb trombon giant, guv sentiment pacif, daylight trombon institut, like guv sentiment, track list butter, citi show crb, sentiment pacif daylight, pacif daylight trombon, san jose fog, jose fog citi, ball zaq attack, attack zona walk, zaq attack zona, show crb trombon, butter ball zaq, list but...</td>\n",
       "      <td>0.0</td>\n",
       "    </tr>\n",
       "    <tr>\n",
       "      <th>16113</th>\n",
       "      <td>B01HH5R7LK</td>\n",
       "      <td>coldplay head full dream tour live etihad stadium manchest england june th cd intro head full dream yellow everi teardrop waterfal scientist bird paradis everglow lover japan magic clock midnight charli brown hymn weekend fix hero viva la vida cd adventur lifetim kaleidoscop troubl see soon amaz...</td>\n",
       "      <td>[day sky full, live etihad stadium, nme award viva, vida charli brown, stadium manchest england, brown hymn weekend, feat beyonc bruno, clock midnight charli, waterfal scientist bird, kaleidoscop troubl see, england june th, coldplay full super, fix hero viva, vida cd adventur, troubl see soon, ...</td>\n",
       "      <td>0.0</td>\n",
       "    </tr>\n",
       "    <tr>\n",
       "      <th>16114</th>\n",
       "      <td>B01HH68B96</td>\n",
       "      <td>known live version that way life goe steam blacktop witha demo version superfici love sang hughi instead chri hick</td>\n",
       "      <td>[superfici love sang, instead chri hick, witha demo version, known live version, steam blacktop witha, love sang hughi, hughi instead chri, goe steam blacktop, way life goe, live version that, version superfici love, sang hughi instead, demo version superfici, life goe steam, version that way, b...</td>\n",
       "      <td>0.0</td>\n",
       "    </tr>\n",
       "    <tr>\n",
       "      <th>16115</th>\n",
       "      <td>B01HH7D5KU</td>\n",
       "      <td>free last southsid never gon lose purpl come southsid diamond africa southsid southsid compadr southsid march mad tarentino trap nigga southsid da fam da gram skit southsid night southsid total length</td>\n",
       "      <td>[gon lose purpl, southsid da fam, gram skit southsid, last southsid never, southsid night southsid, come southsid diamond, skit southsid night, march mad tarentino, night southsid total, southsid never gon, africa southsid southsid, tarentino trap nigga, southsid total length, southsid march mad...</td>\n",
       "      <td>0.0</td>\n",
       "    </tr>\n",
       "  </tbody>\n",
       "</table>\n",
       "<p>16115 rows × 4 columns</p>\n",
       "</div>"
      ],
      "text/plain": [
       "             asin  \\\n",
       "0      0001526146   \n",
       "1      0545069882   \n",
       "2      0545109620   \n",
       "3      0615897398   \n",
       "4      0618866760   \n",
       "...           ...   \n",
       "16111  B01HDZM264   \n",
       "16112  B01HG2DW1I   \n",
       "16113  B01HH5R7LK   \n",
       "16114  B01HH68B96   \n",
       "16115  B01HH7D5KU   \n",
       "\n",
       "                                                                                                                                                                                                                                                                                                       description  \\\n",
       "0                                                                                                                                                             lose game wait shine never seen righteou broken heart look back saw lord jesu river love hittin road never jesu got ta hold life save save save rise   \n",
       "1                                                                                                                                                                                                                                                                       spanish know gold edit learn spanish flash   \n",
       "2                                                                                                                                                                                                                                                                    cd book long sinc vanish great condit classic   \n",
       "3                                   season chang life slow forest join mindi friend bluebel wood scrabbl biggest juiciest blackberri carv silliest scariest jack lantern share true spirit give snow three whole day master storytel jacquelin houston bring mindi mousekin world aliv heartwarm tale fun adventur   \n",
       "4                                                                                                                                                                                                         msica del mundo hispano audio cd includ authent music around spanish speak world lyric includ liner note   \n",
       "...                                                                                                                                                                                                                                                                                                            ...   \n",
       "16111                                                                                                                                                                                                                                                 dub infus post punk nyu punk professor music label staubgold   \n",
       "16112                                                                                                                                                            track list butter ball zaq attack zona walk like guv sentiment pacif daylight trombon institut technolog san jose fog citi show crb trombon giant   \n",
       "16113  coldplay head full dream tour live etihad stadium manchest england june th cd intro head full dream yellow everi teardrop waterfal scientist bird paradis everglow lover japan magic clock midnight charli brown hymn weekend fix hero viva la vida cd adventur lifetim kaleidoscop troubl see soon amaz...   \n",
       "16114                                                                                                                                                                                           known live version that way life goe steam blacktop witha demo version superfici love sang hughi instead chri hick   \n",
       "16115                                                                                                     free last southsid never gon lose purpl come southsid diamond africa southsid southsid compadr southsid march mad tarentino trap nigga southsid da fam da gram skit southsid night southsid total length   \n",
       "\n",
       "                                                                                                                                                                                                                                                                                                          shingles  \\\n",
       "0      [look back saw, wait shine never, jesu got ta, never seen righteou, saw lord jesu, got ta hold, jesu river love, seen righteou broken, river love hittin, hittin road never, save save rise, love hittin road, lose game wait, game wait shine, road never jesu, shine never seen, ta hold life, broken ...   \n",
       "1                                                                                                                                                                                                                    [gold edit learn, spanish know gold, edit learn spanish, know gold edit, learn spanish flash]   \n",
       "2                                                                                                                                                                                                   [cd book long, book long sinc, great condit classic, long sinc vanish, vanish great condit, sinc vanish great]   \n",
       "3      [tale fun adventur, scrabbl biggest juiciest, houston bring mindi, forest join mindi, scariest jack lantern, day master storytel, whole day master, juiciest blackberri carv, spirit give snow, aliv heartwarm tale, heartwarm tale fun, lantern share true, give snow three, slow forest join, bring mi...   \n",
       "4       [audio cd includ, authent music around, lyric includ liner, spanish speak world, includ liner note, hispano audio cd, speak world lyric, del mundo hispano, cd includ authent, mundo hispano audio, includ authent music, music around spanish, world lyric includ, msica del mundo, around spanish speak]   \n",
       "...                                                                                                                                                                                                                                                                                                            ...   \n",
       "16111                                                                                                                                                      [professor music label, nyu punk professor, infus post punk, punk nyu punk, punk professor music, music label staubgold, dub infus post, post punk nyu]   \n",
       "16112  [crb trombon giant, guv sentiment pacif, daylight trombon institut, like guv sentiment, track list butter, citi show crb, sentiment pacif daylight, pacif daylight trombon, san jose fog, jose fog citi, ball zaq attack, attack zona walk, zaq attack zona, show crb trombon, butter ball zaq, list but...   \n",
       "16113  [day sky full, live etihad stadium, nme award viva, vida charli brown, stadium manchest england, brown hymn weekend, feat beyonc bruno, clock midnight charli, waterfal scientist bird, kaleidoscop troubl see, england june th, coldplay full super, fix hero viva, vida cd adventur, troubl see soon, ...   \n",
       "16114  [superfici love sang, instead chri hick, witha demo version, known live version, steam blacktop witha, love sang hughi, hughi instead chri, goe steam blacktop, way life goe, live version that, version superfici love, sang hughi instead, demo version superfici, life goe steam, version that way, b...   \n",
       "16115  [gon lose purpl, southsid da fam, gram skit southsid, last southsid never, southsid night southsid, come southsid diamond, skit southsid night, march mad tarentino, night southsid total, southsid never gon, africa southsid southsid, tarentino trap nigga, southsid total length, southsid march mad...   \n",
       "\n",
       "       similarity  \n",
       "0             0.0  \n",
       "1             0.0  \n",
       "2             0.0  \n",
       "3             0.0  \n",
       "4             0.0  \n",
       "...           ...  \n",
       "16111         0.0  \n",
       "16112         0.0  \n",
       "16113         0.0  \n",
       "16114         0.0  \n",
       "16115         0.0  \n",
       "\n",
       "[16115 rows x 4 columns]"
      ]
     },
     "execution_count": 614,
     "metadata": {},
     "output_type": "execute_result"
    }
   ],
   "source": [
    "# df_asin_description\n",
    "df_asin_description[\"similarity\"] = df_asin_description[\"shingles\"].apply(lambda x: similarity(set(user_description).intersection(set(x)), set(user_description).union(set(x))))\n",
    "df_asin_description\n"
   ]
  },
  {
   "cell_type": "markdown",
   "metadata": {},
   "source": [
    "Dataframe sorted by similarity"
   ]
  },
  {
   "cell_type": "code",
   "execution_count": 615,
   "metadata": {},
   "outputs": [
    {
     "data": {
      "text/html": [
       "<div>\n",
       "<style scoped>\n",
       "    .dataframe tbody tr th:only-of-type {\n",
       "        vertical-align: middle;\n",
       "    }\n",
       "\n",
       "    .dataframe tbody tr th {\n",
       "        vertical-align: top;\n",
       "    }\n",
       "\n",
       "    .dataframe thead th {\n",
       "        text-align: right;\n",
       "    }\n",
       "</style>\n",
       "<table border=\"1\" class=\"dataframe\">\n",
       "  <thead>\n",
       "    <tr style=\"text-align: right;\">\n",
       "      <th></th>\n",
       "      <th>asin</th>\n",
       "      <th>description</th>\n",
       "      <th>shingles</th>\n",
       "      <th>similarity</th>\n",
       "    </tr>\n",
       "  </thead>\n",
       "  <tbody>\n",
       "    <tr>\n",
       "      <th>9811</th>\n",
       "      <td>B002IAV3YM</td>\n",
       "      <td>rare print first album matisyahu jdub record chop em tzama l chol nafshi got water king without crown interlud father forset interlud aish tamid short nigun candl close eye interlud exalt refug interlud warrior outro</td>\n",
       "      <td>[print first album, tzama l chol, interlud father forset, close eye interlud, short nigun candl, rare print first, without crown interlud, first album matisyahu, interlud exalt refug, chop em tzama, l chol nafshi, album matisyahu jdub, father forset interlud, water king without, chol nafshi got,...</td>\n",
       "      <td>0.008929</td>\n",
       "    </tr>\n",
       "    <tr>\n",
       "      <th>13104</th>\n",
       "      <td>B00AUUEA7O</td>\n",
       "      <td>cult album titel track avenu smokey sing night murder love think rage regret ark angel king without crown bad blood jealou lover one day avenu z minneapoli smokey sing miami mix night murder love whole stori chicago abridg</td>\n",
       "      <td>[without crown bad, regret ark angel, murder love think, night murder love, think rage regret, avenu z minneapoli, angel king without, rage regret ark, one day avenu, lover one day, jealou lover one, sing miami mix, bad blood jealou, love think rage, day avenu z, miami mix night, minneapoli smok...</td>\n",
       "      <td>0.008772</td>\n",
       "    </tr>\n",
       "    <tr>\n",
       "      <th>159</th>\n",
       "      <td>9321432531</td>\n",
       "      <td>cd king without crown chop em smash lie jerusalem fight close eye late night zion youth ancient lullabi short nigun dark light silenc candl light fire heaven altar earth got water natur warrior cd time song one day dispatch troop wp hi lo exalt uniqu dove shalom saalam aish tamid refug indestruc...</td>\n",
       "      <td>[night zion youth, silenc candl light, ancient lullabi short, lullabi short nigun, jerusalem fight close, water natur warrior, one day dispatch, tzama l chol, nafshi psalm motiv, wp hi lo, fight close eye, close eye late, hi lo exalt, father forest walk, nigun dark light, chop em smash, eye late...</td>\n",
       "      <td>0.006803</td>\n",
       "    </tr>\n",
       "    <tr>\n",
       "      <th>10748</th>\n",
       "      <td>B00401NFVG</td>\n",
       "      <td>make mine countri charley pride vinyl lp</td>\n",
       "      <td>[make mine countri, charley pride vinyl, pride vinyl lp, countri charley pride, mine countri charley]</td>\n",
       "      <td>0.000000</td>\n",
       "    </tr>\n",
       "    <tr>\n",
       "      <th>10746</th>\n",
       "      <td>B00400IA80</td>\n",
       "      <td>asin bia titl ball treasuri turn centuri popular song lp record label name nonesuch marketplac us</td>\n",
       "      <td>[treasuri turn centuri, song lp record, lp record label, record label name, ball treasuri turn, nonesuch marketplac us, popular song lp, name nonesuch marketplac, turn centuri popular, titl ball treasuri, centuri popular song, label name nonesuch, asin bia titl, bia titl ball]</td>\n",
       "      <td>0.000000</td>\n",
       "    </tr>\n",
       "    <tr>\n",
       "      <th>...</th>\n",
       "      <td>...</td>\n",
       "      <td>...</td>\n",
       "      <td>...</td>\n",
       "      <td>...</td>\n",
       "    </tr>\n",
       "    <tr>\n",
       "      <th>5378</th>\n",
       "      <td>B000QW5SJK</td>\n",
       "      <td>old peopl whisper bossi man hit girl renaiss fair knock knock bug thrift store blue last time car flora fauna devil slow danc cat know place go sweet understand dragon pirat heart winter true delici</td>\n",
       "      <td>[blue last time, go sweet understand, knock bug thrift, fair knock knock, understand dragon pirat, knock knock bug, heart winter true, slow danc cat, danc cat know, store blue last, man hit girl, thrift store blue, bossi man hit, cat know place, sweet understand dragon, hit girl renaiss, fauna d...</td>\n",
       "      <td>0.000000</td>\n",
       "    </tr>\n",
       "    <tr>\n",
       "      <th>5379</th>\n",
       "      <td>B000QWC89I</td>\n",
       "      <td>contain song like avalon look love mood indigo want littl girl</td>\n",
       "      <td>[want littl girl, avalon look love, like avalon look, song like avalon, contain song like, mood indigo want, indigo want littl, love mood indigo, look love mood]</td>\n",
       "      <td>0.000000</td>\n",
       "    </tr>\n",
       "    <tr>\n",
       "      <th>5380</th>\n",
       "      <td>B000QWBXNU</td>\n",
       "      <td>includ navi hymn day holi holi holi lead kindli light prais god bless flow fairest lord jesu nearer god thee onward christian soldier mighti fortress stand jesu old rug cross abid rock age friend jesu</td>\n",
       "      <td>[day holi holi, mighti fortress stand, flow fairest lord, navi hymn day, prais god bless, light prais god, bless flow fairest, holi holi lead, god bless flow, hymn day holi, nearer god thee, god thee onward, includ navi hymn, stand jesu old, fortress stand jesu, rock age friend, soldier mighti f...</td>\n",
       "      <td>0.000000</td>\n",
       "    </tr>\n",
       "    <tr>\n",
       "      <th>5381</th>\n",
       "      <td>B000QWHEGK</td>\n",
       "      <td>contain song like wish knew new know love noth</td>\n",
       "      <td>[know love noth, wish knew new, song like wish, contain song like, new know love, knew new know, like wish knew]</td>\n",
       "      <td>0.000000</td>\n",
       "    </tr>\n",
       "    <tr>\n",
       "      <th>16115</th>\n",
       "      <td>B01HH7D5KU</td>\n",
       "      <td>free last southsid never gon lose purpl come southsid diamond africa southsid southsid compadr southsid march mad tarentino trap nigga southsid da fam da gram skit southsid night southsid total length</td>\n",
       "      <td>[gon lose purpl, southsid da fam, gram skit southsid, last southsid never, southsid night southsid, come southsid diamond, skit southsid night, march mad tarentino, night southsid total, southsid never gon, africa southsid southsid, tarentino trap nigga, southsid total length, southsid march mad...</td>\n",
       "      <td>0.000000</td>\n",
       "    </tr>\n",
       "  </tbody>\n",
       "</table>\n",
       "<p>16115 rows × 4 columns</p>\n",
       "</div>"
      ],
      "text/plain": [
       "             asin  \\\n",
       "9811   B002IAV3YM   \n",
       "13104  B00AUUEA7O   \n",
       "159    9321432531   \n",
       "10748  B00401NFVG   \n",
       "10746  B00400IA80   \n",
       "...           ...   \n",
       "5378   B000QW5SJK   \n",
       "5379   B000QWC89I   \n",
       "5380   B000QWBXNU   \n",
       "5381   B000QWHEGK   \n",
       "16115  B01HH7D5KU   \n",
       "\n",
       "                                                                                                                                                                                                                                                                                                       description  \\\n",
       "9811                                                                                      rare print first album matisyahu jdub record chop em tzama l chol nafshi got water king without crown interlud father forset interlud aish tamid short nigun candl close eye interlud exalt refug interlud warrior outro   \n",
       "13104                                                                               cult album titel track avenu smokey sing night murder love think rage regret ark angel king without crown bad blood jealou lover one day avenu z minneapoli smokey sing miami mix night murder love whole stori chicago abridg   \n",
       "159    cd king without crown chop em smash lie jerusalem fight close eye late night zion youth ancient lullabi short nigun dark light silenc candl light fire heaven altar earth got water natur warrior cd time song one day dispatch troop wp hi lo exalt uniqu dove shalom saalam aish tamid refug indestruc...   \n",
       "10748                                                                                                                                                                                                                                                                     make mine countri charley pride vinyl lp   \n",
       "10746                                                                                                                                                                                                            asin bia titl ball treasuri turn centuri popular song lp record label name nonesuch marketplac us   \n",
       "...                                                                                                                                                                                                                                                                                                            ...   \n",
       "5378                                                                                                        old peopl whisper bossi man hit girl renaiss fair knock knock bug thrift store blue last time car flora fauna devil slow danc cat know place go sweet understand dragon pirat heart winter true delici   \n",
       "5379                                                                                                                                                                                                                                                contain song like avalon look love mood indigo want littl girl   \n",
       "5380                                                                                                      includ navi hymn day holi holi holi lead kindli light prais god bless flow fairest lord jesu nearer god thee onward christian soldier mighti fortress stand jesu old rug cross abid rock age friend jesu   \n",
       "5381                                                                                                                                                                                                                                                                contain song like wish knew new know love noth   \n",
       "16115                                                                                                     free last southsid never gon lose purpl come southsid diamond africa southsid southsid compadr southsid march mad tarentino trap nigga southsid da fam da gram skit southsid night southsid total length   \n",
       "\n",
       "                                                                                                                                                                                                                                                                                                          shingles  \\\n",
       "9811   [print first album, tzama l chol, interlud father forset, close eye interlud, short nigun candl, rare print first, without crown interlud, first album matisyahu, interlud exalt refug, chop em tzama, l chol nafshi, album matisyahu jdub, father forset interlud, water king without, chol nafshi got,...   \n",
       "13104  [without crown bad, regret ark angel, murder love think, night murder love, think rage regret, avenu z minneapoli, angel king without, rage regret ark, one day avenu, lover one day, jealou lover one, sing miami mix, bad blood jealou, love think rage, day avenu z, miami mix night, minneapoli smok...   \n",
       "159    [night zion youth, silenc candl light, ancient lullabi short, lullabi short nigun, jerusalem fight close, water natur warrior, one day dispatch, tzama l chol, nafshi psalm motiv, wp hi lo, fight close eye, close eye late, hi lo exalt, father forest walk, nigun dark light, chop em smash, eye late...   \n",
       "10748                                                                                                                                                                                                        [make mine countri, charley pride vinyl, pride vinyl lp, countri charley pride, mine countri charley]   \n",
       "10746                        [treasuri turn centuri, song lp record, lp record label, record label name, ball treasuri turn, nonesuch marketplac us, popular song lp, name nonesuch marketplac, turn centuri popular, titl ball treasuri, centuri popular song, label name nonesuch, asin bia titl, bia titl ball]   \n",
       "...                                                                                                                                                                                                                                                                                                            ...   \n",
       "5378   [blue last time, go sweet understand, knock bug thrift, fair knock knock, understand dragon pirat, knock knock bug, heart winter true, slow danc cat, danc cat know, store blue last, man hit girl, thrift store blue, bossi man hit, cat know place, sweet understand dragon, hit girl renaiss, fauna d...   \n",
       "5379                                                                                                                                             [want littl girl, avalon look love, like avalon look, song like avalon, contain song like, mood indigo want, indigo want littl, love mood indigo, look love mood]   \n",
       "5380   [day holi holi, mighti fortress stand, flow fairest lord, navi hymn day, prais god bless, light prais god, bless flow fairest, holi holi lead, god bless flow, hymn day holi, nearer god thee, god thee onward, includ navi hymn, stand jesu old, fortress stand jesu, rock age friend, soldier mighti f...   \n",
       "5381                                                                                                                                                                                              [know love noth, wish knew new, song like wish, contain song like, new know love, knew new know, like wish knew]   \n",
       "16115  [gon lose purpl, southsid da fam, gram skit southsid, last southsid never, southsid night southsid, come southsid diamond, skit southsid night, march mad tarentino, night southsid total, southsid never gon, africa southsid southsid, tarentino trap nigga, southsid total length, southsid march mad...   \n",
       "\n",
       "       similarity  \n",
       "9811     0.008929  \n",
       "13104    0.008772  \n",
       "159      0.006803  \n",
       "10748    0.000000  \n",
       "10746    0.000000  \n",
       "...           ...  \n",
       "5378     0.000000  \n",
       "5379     0.000000  \n",
       "5380     0.000000  \n",
       "5381     0.000000  \n",
       "16115    0.000000  \n",
       "\n",
       "[16115 rows x 4 columns]"
      ]
     },
     "execution_count": 615,
     "metadata": {},
     "output_type": "execute_result"
    }
   ],
   "source": [
    "\n",
    "df_asin_description.sort_values(by=\"similarity\", ascending=False, inplace=True)\n",
    "df_asin_description"
   ]
  },
  {
   "cell_type": "code",
   "execution_count": 616,
   "metadata": {},
   "outputs": [],
   "source": [
    "asin_most_similar = df_asin_description.asin.iloc[0]"
   ]
  },
  {
   "cell_type": "code",
   "execution_count": 617,
   "metadata": {},
   "outputs": [
    {
     "name": "stdout",
     "output_type": "stream",
     "text": [
      "Similarity of items\n",
      "9811     0.008929\n",
      "13104    0.008772\n",
      "159      0.006803\n",
      "10748    0.000000\n",
      "10746    0.000000\n",
      "10745    0.000000\n",
      "10744    0.000000\n",
      "10743    0.000000\n",
      "10742    0.000000\n",
      "0        0.000000\n",
      "10741    0.000000\n",
      "10740    0.000000\n",
      "10739    0.000000\n",
      "10738    0.000000\n",
      "10737    0.000000\n",
      "10736    0.000000\n",
      "10735    0.000000\n",
      "10747    0.000000\n",
      "10750    0.000000\n",
      "10749    0.000000\n",
      "Name: similarity, dtype: float64\n"
     ]
    }
   ],
   "source": [
    "print(\"Similarity of items\")\n",
    "print(df_asin_description.iloc[:20].similarity)"
   ]
  },
  {
   "cell_type": "markdown",
   "metadata": {},
   "source": [
    "### Create csv file with asin, description, emotion and similarity"
   ]
  },
  {
   "cell_type": "code",
   "execution_count": 618,
   "metadata": {},
   "outputs": [
    {
     "data": {
      "text/plain": [
       "Index(['asin', 'description', 'similarity'], dtype='object')"
      ]
     },
     "execution_count": 618,
     "metadata": {},
     "output_type": "execute_result"
    }
   ],
   "source": [
    "# from preprocess_data import html_url_hidden_chars\n",
    "df_similarity_scores.description = df_similarity_scores.description.apply(lambda x: pre_process_data.html_url_hidden_chars(x))\n",
    "# df_similarity_scores.iloc[:2].description\n",
    "# (pd.merge(df1, df2, on='company')\n",
    "df_1 = df_similarity_scores[[\"asin\",\"description\"]].copy()\n",
    "df_2 = df_asin_description[[\"asin\",\"similarity\"]].copy()\n",
    "similarity_df = pd.merge(df_1, df_2, on='asin')\n",
    "# similarity_df = pd.merge(df_similarity_scores, df_asin_description, on='asin')\n",
    "similarity_df.columns\n",
    "# similarity_df.sort_values(by=\"similarity\", ascending=False, inplace=True)\n",
    "# similarity_df.head()"
   ]
  },
  {
   "cell_type": "code",
   "execution_count": 619,
   "metadata": {},
   "outputs": [
    {
     "data": {
      "text/html": [
       "<div>\n",
       "<style scoped>\n",
       "    .dataframe tbody tr th:only-of-type {\n",
       "        vertical-align: middle;\n",
       "    }\n",
       "\n",
       "    .dataframe tbody tr th {\n",
       "        vertical-align: top;\n",
       "    }\n",
       "\n",
       "    .dataframe thead th {\n",
       "        text-align: right;\n",
       "    }\n",
       "</style>\n",
       "<table border=\"1\" class=\"dataframe\">\n",
       "  <thead>\n",
       "    <tr style=\"text-align: right;\">\n",
       "      <th></th>\n",
       "      <th>asin</th>\n",
       "      <th>description</th>\n",
       "      <th>similarity</th>\n",
       "    </tr>\n",
       "  </thead>\n",
       "  <tbody>\n",
       "    <tr>\n",
       "      <th>0</th>\n",
       "      <td>0001526146</td>\n",
       "      <td>1. Losing Game 2. I Can't Wait 3. Didn't He Shine 4. Never Seen...Righteous... 5. A Broken Heart 6. Looking Back 7. Here We Are 8. I Saw The Lord 9. Jesus Is A River Of Love 10. Hittin' The Road 11. I've Never Been Out Of... 12. Jesus Gotta Hold Of My Life 13. Saved- Saved- Saved 14. What Will Y...</td>\n",
       "      <td>0.0</td>\n",
       "    </tr>\n",
       "    <tr>\n",
       "      <th>1</th>\n",
       "      <td>0545069882</td>\n",
       "      <td>Spanish Before You Know It - Gold Edition. Learn Spanish in a Flash!</td>\n",
       "      <td>0.0</td>\n",
       "    </tr>\n",
       "    <tr>\n",
       "      <th>2</th>\n",
       "      <td>0545109620</td>\n",
       "      <td>Just the CD. The Book has long since vanished. I great condition and it is a classic.</td>\n",
       "      <td>0.0</td>\n",
       "    </tr>\n",
       "    <tr>\n",
       "      <th>3</th>\n",
       "      <td>0615897398</td>\n",
       "      <td>The seasons are changing and life slows down in the forest. Or does it? Join Mindy and her friends in Bluebell Woods as they scrabble for the biggest, juiciest blackberries ... carve the silliest and scariest jack-o-lanterns ... and share the true spirit of giving when they're snowed in for thre...</td>\n",
       "      <td>0.0</td>\n",
       "    </tr>\n",
       "    <tr>\n",
       "      <th>4</th>\n",
       "      <td>0618866760</td>\n",
       "      <td>The Msica del mundo hispano Audio CD includes authentic music from around the Spanish-speaking world. Lyrics are included in the liner notes.</td>\n",
       "      <td>0.0</td>\n",
       "    </tr>\n",
       "  </tbody>\n",
       "</table>\n",
       "</div>"
      ],
      "text/plain": [
       "         asin  \\\n",
       "0  0001526146   \n",
       "1  0545069882   \n",
       "2  0545109620   \n",
       "3  0615897398   \n",
       "4  0618866760   \n",
       "\n",
       "                                                                                                                                                                                                                                                                                                   description  \\\n",
       "0  1. Losing Game 2. I Can't Wait 3. Didn't He Shine 4. Never Seen...Righteous... 5. A Broken Heart 6. Looking Back 7. Here We Are 8. I Saw The Lord 9. Jesus Is A River Of Love 10. Hittin' The Road 11. I've Never Been Out Of... 12. Jesus Gotta Hold Of My Life 13. Saved- Saved- Saved 14. What Will Y...   \n",
       "1                                                                                                                                                                                                                                         Spanish Before You Know It - Gold Edition. Learn Spanish in a Flash!   \n",
       "2                                                                                                                                                                                                                        Just the CD. The Book has long since vanished. I great condition and it is a classic.   \n",
       "3  The seasons are changing and life slows down in the forest. Or does it? Join Mindy and her friends in Bluebell Woods as they scrabble for the biggest, juiciest blackberries ... carve the silliest and scariest jack-o-lanterns ... and share the true spirit of giving when they're snowed in for thre...   \n",
       "4                                                                                                                                                                The Msica del mundo hispano Audio CD includes authentic music from around the Spanish-speaking world. Lyrics are included in the liner notes.   \n",
       "\n",
       "   similarity  \n",
       "0         0.0  \n",
       "1         0.0  \n",
       "2         0.0  \n",
       "3         0.0  \n",
       "4         0.0  "
      ]
     },
     "execution_count": 619,
     "metadata": {},
     "output_type": "execute_result"
    }
   ],
   "source": [
    "similarity_df.head()"
   ]
  },
  {
   "cell_type": "code",
   "execution_count": 620,
   "metadata": {},
   "outputs": [
    {
     "data": {
      "text/html": [
       "<div>\n",
       "<style scoped>\n",
       "    .dataframe tbody tr th:only-of-type {\n",
       "        vertical-align: middle;\n",
       "    }\n",
       "\n",
       "    .dataframe tbody tr th {\n",
       "        vertical-align: top;\n",
       "    }\n",
       "\n",
       "    .dataframe thead th {\n",
       "        text-align: right;\n",
       "    }\n",
       "</style>\n",
       "<table border=\"1\" class=\"dataframe\">\n",
       "  <thead>\n",
       "    <tr style=\"text-align: right;\">\n",
       "      <th></th>\n",
       "      <th>asin</th>\n",
       "      <th>description</th>\n",
       "      <th>similarity</th>\n",
       "    </tr>\n",
       "  </thead>\n",
       "  <tbody>\n",
       "    <tr>\n",
       "      <th>11373</th>\n",
       "      <td>B002IAV3YM</td>\n",
       "      <td>RARE and out-of-print first album by Matisyahu from 2004 on JDub Records.1. Chop 'em Down2. Tzama L'chol Nafshi3. Got No Water4. King Without A Crown5. Interlude6. Father In The Forset7. Interlude8. Aish Tamid9. Short Nigun10. Candle11. Close My Eyes12. Interlude13. Exaltation14. Refuge15. Inter...</td>\n",
       "      <td>0.008929</td>\n",
       "    </tr>\n",
       "    <tr>\n",
       "      <th>14666</th>\n",
       "      <td>B00AUUEA7O</td>\n",
       "      <td>Cult Album from 1987 [15 Titel/Tracks]: Avenue A When Smokey Sings , The Night You Murdered Love , Think Again , Rage And Then Regret, Ark-Angel , King Without A Crown , Bad Blood , Jealous Lover , One Day, Avenue Z , Minneapolis , When Smokey Sings (The Miami Mix) , The Night You Murdered Love ...</td>\n",
       "      <td>0.008772</td>\n",
       "    </tr>\n",
       "    <tr>\n",
       "      <th>158</th>\n",
       "      <td>9321432531</td>\n",
       "      <td>CD 1 1. King Without A Crown 2. Chop 'Em Down 3. Smash Lies 4. Jerusalem 5. What I'm Fighting For 6. Close My Eyes 7. Late Night In Zion 8. Youth 9. Ancient Lullaby 10. Short Nigun 11. For You 12. Darkness Into Light 13. Silence 14. Candle 15. I Will Be Light 16. Fire of Heaven - Altar Of Earth ...</td>\n",
       "      <td>0.006803</td>\n",
       "    </tr>\n",
       "    <tr>\n",
       "      <th>11776</th>\n",
       "      <td>B0033B7XF8</td>\n",
       "      <td>Cole Porter's \"Let's Face It, Red Hot and Blue, Leave it to Me! Smithsonian American Musical Theater Series 1979 Vinyl LP</td>\n",
       "      <td>0.000000</td>\n",
       "    </tr>\n",
       "    <tr>\n",
       "      <th>11790</th>\n",
       "      <td>B0034ZQWMI</td>\n",
       "      <td>Songs: (1) Who's In The Mood  (2) I Just Want You  (3) Rockin' Years  (4) God Gave Me You  (5) I Hurt  (6) Guilty  (7) Hard Times For Lovers  (8) Couple Of Dreamers  (9) Everybody's Gonna Want What We Got  (10) Old Time Lovers</td>\n",
       "      <td>0.000000</td>\n",
       "    </tr>\n",
       "  </tbody>\n",
       "</table>\n",
       "</div>"
      ],
      "text/plain": [
       "             asin  \\\n",
       "11373  B002IAV3YM   \n",
       "14666  B00AUUEA7O   \n",
       "158    9321432531   \n",
       "11776  B0033B7XF8   \n",
       "11790  B0034ZQWMI   \n",
       "\n",
       "                                                                                                                                                                                                                                                                                                       description  \\\n",
       "11373  RARE and out-of-print first album by Matisyahu from 2004 on JDub Records.1. Chop 'em Down2. Tzama L'chol Nafshi3. Got No Water4. King Without A Crown5. Interlude6. Father In The Forset7. Interlude8. Aish Tamid9. Short Nigun10. Candle11. Close My Eyes12. Interlude13. Exaltation14. Refuge15. Inter...   \n",
       "14666  Cult Album from 1987 [15 Titel/Tracks]: Avenue A When Smokey Sings , The Night You Murdered Love , Think Again , Rage And Then Regret, Ark-Angel , King Without A Crown , Bad Blood , Jealous Lover , One Day, Avenue Z , Minneapolis , When Smokey Sings (The Miami Mix) , The Night You Murdered Love ...   \n",
       "158    CD 1 1. King Without A Crown 2. Chop 'Em Down 3. Smash Lies 4. Jerusalem 5. What I'm Fighting For 6. Close My Eyes 7. Late Night In Zion 8. Youth 9. Ancient Lullaby 10. Short Nigun 11. For You 12. Darkness Into Light 13. Silence 14. Candle 15. I Will Be Light 16. Fire of Heaven - Altar Of Earth ...   \n",
       "11776                                                                                                                                                                                    Cole Porter's \"Let's Face It, Red Hot and Blue, Leave it to Me! Smithsonian American Musical Theater Series 1979 Vinyl LP   \n",
       "11790                                                                           Songs: (1) Who's In The Mood  (2) I Just Want You  (3) Rockin' Years  (4) God Gave Me You  (5) I Hurt  (6) Guilty  (7) Hard Times For Lovers  (8) Couple Of Dreamers  (9) Everybody's Gonna Want What We Got  (10) Old Time Lovers   \n",
       "\n",
       "       similarity  \n",
       "11373    0.008929  \n",
       "14666    0.008772  \n",
       "158      0.006803  \n",
       "11776    0.000000  \n",
       "11790    0.000000  "
      ]
     },
     "execution_count": 620,
     "metadata": {},
     "output_type": "execute_result"
    }
   ],
   "source": [
    "similarity_dfd = similarity_df.sort_values(by=\"similarity\", ascending=False, inplace=False)\n",
    "similarity_dfd.head()"
   ]
  },
  {
   "cell_type": "code",
   "execution_count": 621,
   "metadata": {},
   "outputs": [],
   "source": [
    "similarity_dfd.iloc[:30].to_csv(\"similarity_results.csv\", sep='\\t')"
   ]
  },
  {
   "cell_type": "markdown",
   "metadata": {},
   "source": [
    "## Adding clustering based on users reviews"
   ]
  },
  {
   "cell_type": "code",
   "execution_count": 622,
   "metadata": {},
   "outputs": [],
   "source": [
    "# Imports\n",
    "import json\n",
    "import gzip\n",
    "import os\n",
    "import pandas as pd\n",
    "from scipy.sparse import dok_matrix\n",
    "from sklearn.decomposition import NMF\n",
    "from sklearn.metrics.pairwise import cosine_similarity\n",
    "from collections import Counter"
   ]
  },
  {
   "cell_type": "code",
   "execution_count": 623,
   "metadata": {},
   "outputs": [],
   "source": [
    "# Loading the df example\n",
    "# df = pd.read_pickle('df_example.pkl')\n",
    "df = similarity_dfd.copy()"
   ]
  },
  {
   "cell_type": "code",
   "execution_count": 624,
   "metadata": {},
   "outputs": [
    {
     "name": "stdout",
     "output_type": "stream",
     "text": [
      "Dataset already downloaded.\n"
     ]
    }
   ],
   "source": [
    "import numpy as np\n",
    "\n",
    "# Download dataset if it is not downloaded yet\n",
    "if not os.path.exists('Dataset/Digital_Music.json.gz'):\n",
    "    !wget https://datarepo.eng.ucsd.edu/mcauley_group/data/amazon_v2/categoryFiles/Digital_Music.json.gz -P ./Dataset\n",
    "else:\n",
    "    print('Dataset already downloaded.')"
   ]
  },
  {
   "cell_type": "markdown",
   "metadata": {},
   "source": [
    "### Unpacking the reviews dataset and getting only the ratings"
   ]
  },
  {
   "cell_type": "code",
   "execution_count": 625,
   "metadata": {},
   "outputs": [
    {
     "name": "stdout",
     "output_type": "stream",
     "text": [
      "Total number of items in the dataset:  1584082\n"
     ]
    }
   ],
   "source": [
    "data = []\n",
    "with gzip.open('Dataset/Digital_Music.json.gz') as f:\n",
    "    for l in f:\n",
    "        data.append(json.loads(l.strip()))\n",
    "    \n",
    "# Total length of list, this number equals total number of products\n",
    "print(\"Total number of items in the dataset: \", len(data))\n",
    "# Convert list into pandas dataframe\n",
    "df_rating = pd.DataFrame.from_dict(data)\n",
    "df_rating = df_rating[['overall', 'reviewerID', 'asin']]"
   ]
  },
  {
   "cell_type": "markdown",
   "metadata": {},
   "source": [
    "### Filters used for narrowing down the user reviews\n",
    "* Using only products from the previous parts (they must have defined the description, etc.)\n",
    "* Using only 'positive' reviews (overall rating > 3)\n",
    "* Using only users with more than 1 review"
   ]
  },
  {
   "cell_type": "code",
   "execution_count": 626,
   "metadata": {},
   "outputs": [
    {
     "name": "stdout",
     "output_type": "stream",
     "text": [
      "Number of users:  20715\n",
      "Number of products:  16115\n"
     ]
    }
   ],
   "source": [
    "# Get all of the used products 'asin' (unique identifier)\n",
    "unique_asin = set(df.asin)\n",
    "# Filter out only products which are used in previous parts\n",
    "idxs = [df_rating.asin[i] in unique_asin for i in range(len(df_rating))]\n",
    "# Filter out only 'positive' reviews (overall >= 3)\n",
    "positive_ratings = df_rating.overall >= 3\n",
    "# Filter out only users with more than 1 review\n",
    "unique_user = [key for key, value in Counter(df_rating.reviewerID).items() if value > 1]\n",
    "experienced_users = df_rating.reviewerID.isin(unique_user)\n",
    "# Putting all filters together\n",
    "all_filters = idxs * np.array(positive_ratings) * np.array(experienced_users)\n",
    "\n",
    "# Applying the filters\n",
    "df_rating = df_rating[all_filters]\n",
    "\n",
    "# Update the set of rated products\n",
    "unique_asin = set(df_rating.asin)\n",
    "unique_user = set(df_rating.reviewerID)\n",
    "print('Number of users: ', len(unique_user))\n",
    "print('Number of products: ', len(unique_asin))"
   ]
  },
  {
   "cell_type": "code",
   "execution_count": 627,
   "metadata": {},
   "outputs": [
    {
     "name": "stdout",
     "output_type": "stream",
     "text": [
      "Matrix size:  (20715, 16115)\n"
     ]
    }
   ],
   "source": [
    "# Create dicts, which maps user id (product asin) -> number (index in matrix) and the other way around\n",
    "product2idx = {}\n",
    "idx2product = []\n",
    "user2idx = {}\n",
    "idx2user = []\n",
    "for idx, product in enumerate(unique_asin):\n",
    "    product2idx[product] = idx\n",
    "    idx2product.append(product)\n",
    "for idx, user in enumerate(unique_user):\n",
    "    user2idx[user] = idx\n",
    "    idx2user.append(user)\n",
    "# Create sparse matrix, where rows contain users and each column represents one product\n",
    "product_user_matrix = dok_matrix((len(user2idx), len(product2idx)), dtype=np.float16)\n",
    "for _, row in df_rating.iterrows():\n",
    "    product_user_matrix[user2idx[row.reviewerID], product2idx[row.asin]] = 1\n",
    "print('Matrix size: ', product_user_matrix.shape)"
   ]
  },
  {
   "cell_type": "markdown",
   "metadata": {},
   "source": [
    "### Applying clustering algo"
   ]
  },
  {
   "cell_type": "code",
   "execution_count": 628,
   "metadata": {},
   "outputs": [],
   "source": [
    "# Perform NMF to get clusters\n",
    "model = NMF(n_components=10, verbose=False, max_iter=1000, random_state=42)\n",
    "W = model.fit_transform(product_user_matrix)\n",
    "H = model.components_"
   ]
  },
  {
   "cell_type": "code",
   "execution_count": 629,
   "metadata": {},
   "outputs": [
    {
     "name": "stdout",
     "output_type": "stream",
     "text": [
      "True\n"
     ]
    }
   ],
   "source": [
    "# Check that there is not a product which is not assigned to any cluster\n",
    "non_zeros_cols = np.count_nonzero(H, axis=0)\n",
    "print((non_zeros_cols > 0).sum() == len(unique_asin))\n",
    "# Transposing the H matrix\n",
    "H = H.transpose()"
   ]
  },
  {
   "cell_type": "code",
   "execution_count": 630,
   "metadata": {},
   "outputs": [],
   "source": [
    "# Normalizing the H matrix and applying cosine similarity\n",
    "row_sums = H.sum(axis=1)\n",
    "H_normalized = H / row_sums[:, np.newaxis]\n",
    "similarities = cosine_similarity(H_normalized)"
   ]
  },
  {
   "cell_type": "code",
   "execution_count": 631,
   "metadata": {},
   "outputs": [],
   "source": [
    "n = 5\n",
    "suggested_product_idx = product2idx[asin_most_similar]\n",
    "suggested_product = idx2product[suggested_product_idx]\n",
    "# Getting the index of 5 nearest neighbors\n",
    "ind = np.argpartition(similarities[:, suggested_product_idx], -n)[-n:]\n",
    "# Check for the same product\n",
    "if suggested_product_idx in ind:\n",
    "    ind = np.argpartition(similarities[:, suggested_product_idx], -n-1)[-n-1:]\n",
    "    ind = np.delete(ind, np.where(ind == suggested_product_idx))"
   ]
  },
  {
   "cell_type": "code",
   "execution_count": 632,
   "metadata": {},
   "outputs": [
    {
     "data": {
      "text/plain": [
       "11373    RARE and out-of-print first album by Matisyahu from 2004 on JDub Records.1. Chop 'em Down2. Tzama L'chol Nafshi3. Got No Water4. King Without A Crown5. Interlude6. Father In The Forset7. Interlude8. Aish Tamid9. Short Nigun10. Candle11. Close My Eyes12. Interlude13. Exaltation14. Refuge15. Inter...\n",
       "Name: description, dtype: object"
      ]
     },
     "execution_count": 632,
     "metadata": {},
     "output_type": "execute_result"
    }
   ],
   "source": [
    "# Suggested product description\n",
    "df.loc[df.asin == idx2product[suggested_product_idx]].description"
   ]
  },
  {
   "cell_type": "code",
   "execution_count": 633,
   "metadata": {},
   "outputs": [
    {
     "data": {
      "text/html": [
       "<div>\n",
       "<style scoped>\n",
       "    .dataframe tbody tr th:only-of-type {\n",
       "        vertical-align: middle;\n",
       "    }\n",
       "\n",
       "    .dataframe tbody tr th {\n",
       "        vertical-align: top;\n",
       "    }\n",
       "\n",
       "    .dataframe thead th {\n",
       "        text-align: right;\n",
       "    }\n",
       "</style>\n",
       "<table border=\"1\" class=\"dataframe\">\n",
       "  <thead>\n",
       "    <tr style=\"text-align: right;\">\n",
       "      <th></th>\n",
       "      <th>asin</th>\n",
       "      <th>description</th>\n",
       "      <th>similarity</th>\n",
       "    </tr>\n",
       "  </thead>\n",
       "  <tbody>\n",
       "    <tr>\n",
       "      <th>11373</th>\n",
       "      <td>B002IAV3YM</td>\n",
       "      <td>RARE and out-of-print first album by Matisyahu from 2004 on JDub Records.1. Chop 'em Down2. Tzama L'chol Nafshi3. Got No Water4. King Without A Crown5. Interlude6. Father In The Forset7. Interlude8. Aish Tamid9. Short Nigun10. Candle11. Close My Eyes12. Interlude13. Exaltation14. Refuge15. Inter...</td>\n",
       "      <td>0.008929</td>\n",
       "    </tr>\n",
       "    <tr>\n",
       "      <th>14666</th>\n",
       "      <td>B00AUUEA7O</td>\n",
       "      <td>Cult Album from 1987 [15 Titel/Tracks]: Avenue A When Smokey Sings , The Night You Murdered Love , Think Again , Rage And Then Regret, Ark-Angel , King Without A Crown , Bad Blood , Jealous Lover , One Day, Avenue Z , Minneapolis , When Smokey Sings (The Miami Mix) , The Night You Murdered Love ...</td>\n",
       "      <td>0.008772</td>\n",
       "    </tr>\n",
       "    <tr>\n",
       "      <th>158</th>\n",
       "      <td>9321432531</td>\n",
       "      <td>CD 1 1. King Without A Crown 2. Chop 'Em Down 3. Smash Lies 4. Jerusalem 5. What I'm Fighting For 6. Close My Eyes 7. Late Night In Zion 8. Youth 9. Ancient Lullaby 10. Short Nigun 11. For You 12. Darkness Into Light 13. Silence 14. Candle 15. I Will Be Light 16. Fire of Heaven - Altar Of Earth ...</td>\n",
       "      <td>0.006803</td>\n",
       "    </tr>\n",
       "    <tr>\n",
       "      <th>11776</th>\n",
       "      <td>B0033B7XF8</td>\n",
       "      <td>Cole Porter's \"Let's Face It, Red Hot and Blue, Leave it to Me! Smithsonian American Musical Theater Series 1979 Vinyl LP</td>\n",
       "      <td>0.000000</td>\n",
       "    </tr>\n",
       "    <tr>\n",
       "      <th>11790</th>\n",
       "      <td>B0034ZQWMI</td>\n",
       "      <td>Songs: (1) Who's In The Mood  (2) I Just Want You  (3) Rockin' Years  (4) God Gave Me You  (5) I Hurt  (6) Guilty  (7) Hard Times For Lovers  (8) Couple Of Dreamers  (9) Everybody's Gonna Want What We Got  (10) Old Time Lovers</td>\n",
       "      <td>0.000000</td>\n",
       "    </tr>\n",
       "  </tbody>\n",
       "</table>\n",
       "</div>"
      ],
      "text/plain": [
       "             asin  \\\n",
       "11373  B002IAV3YM   \n",
       "14666  B00AUUEA7O   \n",
       "158    9321432531   \n",
       "11776  B0033B7XF8   \n",
       "11790  B0034ZQWMI   \n",
       "\n",
       "                                                                                                                                                                                                                                                                                                       description  \\\n",
       "11373  RARE and out-of-print first album by Matisyahu from 2004 on JDub Records.1. Chop 'em Down2. Tzama L'chol Nafshi3. Got No Water4. King Without A Crown5. Interlude6. Father In The Forset7. Interlude8. Aish Tamid9. Short Nigun10. Candle11. Close My Eyes12. Interlude13. Exaltation14. Refuge15. Inter...   \n",
       "14666  Cult Album from 1987 [15 Titel/Tracks]: Avenue A When Smokey Sings , The Night You Murdered Love , Think Again , Rage And Then Regret, Ark-Angel , King Without A Crown , Bad Blood , Jealous Lover , One Day, Avenue Z , Minneapolis , When Smokey Sings (The Miami Mix) , The Night You Murdered Love ...   \n",
       "158    CD 1 1. King Without A Crown 2. Chop 'Em Down 3. Smash Lies 4. Jerusalem 5. What I'm Fighting For 6. Close My Eyes 7. Late Night In Zion 8. Youth 9. Ancient Lullaby 10. Short Nigun 11. For You 12. Darkness Into Light 13. Silence 14. Candle 15. I Will Be Light 16. Fire of Heaven - Altar Of Earth ...   \n",
       "11776                                                                                                                                                                                    Cole Porter's \"Let's Face It, Red Hot and Blue, Leave it to Me! Smithsonian American Musical Theater Series 1979 Vinyl LP   \n",
       "11790                                                                           Songs: (1) Who's In The Mood  (2) I Just Want You  (3) Rockin' Years  (4) God Gave Me You  (5) I Hurt  (6) Guilty  (7) Hard Times For Lovers  (8) Couple Of Dreamers  (9) Everybody's Gonna Want What We Got  (10) Old Time Lovers   \n",
       "\n",
       "       similarity  \n",
       "11373    0.008929  \n",
       "14666    0.008772  \n",
       "158      0.006803  \n",
       "11776    0.000000  \n",
       "11790    0.000000  "
      ]
     },
     "execution_count": 633,
     "metadata": {},
     "output_type": "execute_result"
    }
   ],
   "source": [
    "# 5 nearest neighbors description\n",
    "# df.loc[df.asin.isin([idx2product[i] for i in ind])].description\n",
    "df.head()"
   ]
  },
  {
   "cell_type": "code",
   "execution_count": 634,
   "metadata": {},
   "outputs": [
    {
     "name": "stdout",
     "output_type": "stream",
     "text": [
      "2378\n",
      "10163\n",
      "1480\n",
      "15262\n",
      "5347\n"
     ]
    }
   ],
   "source": [
    "# Output the cluster result to output.txt\n",
    "file = open(\"output.txt\", \"w\")\n",
    "for i in range(0,5):\n",
    "    print(ind[i])\n",
    "    file.write(str(df.loc[df.asin == idx2product[ind[i]]].description))\n",
    "    file.write(\"\\n\")\n",
    "file.close()"
   ]
  }
 ],
 "metadata": {
  "kernelspec": {
   "display_name": "computationaltool",
   "language": "python",
   "name": "python3"
  },
  "language_info": {
   "codemirror_mode": {
    "name": "ipython",
    "version": 3
   },
   "file_extension": ".py",
   "mimetype": "text/x-python",
   "name": "python",
   "nbconvert_exporter": "python",
   "pygments_lexer": "ipython3",
   "version": "3.10.0"
  }
 },
 "nbformat": 4,
 "nbformat_minor": 2
}
