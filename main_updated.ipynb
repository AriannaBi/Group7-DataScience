{
 "cells": [
  {
   "cell_type": "markdown",
   "metadata": {},
   "source": [
    "# 02807 Final project: Recommendation system\n",
    "Recommendation system of products from __Digital Music__ category on __Amazon__. Products are suggested based on a short description inserted by a user.\n",
    "[**Data source**](https://cseweb.ucsd.edu/~jmcauley/datasets/amazon_v2/)"
   ]
  },
  {
   "cell_type": "code",
   "execution_count": 368,
   "metadata": {},
   "outputs": [],
   "source": [
    "# Imports\n",
    "import os\n",
    "os.environ[\"KMP_DUPLICATE_LIB_OK\"]=\"TRUE\"\n",
    "import json\n",
    "import gzip\n",
    "import spacy\n",
    "import warnings\n",
    "# import os\n",
    "import pandas as pd\n",
    "import numpy as np\n",
    "# import torch\n",
    "from sklearn.decomposition import TruncatedSVD\n",
    "from sklearn.cluster import DBSCAN, KMeans\n",
    "from scipy import sparse\n",
    "from hdbscan import HDBSCAN\n",
    "from collections import Counter, defaultdict\n",
    "from lxml import html, etree\n",
    "from nrclex import NRCLex\n",
    "from transformers import AutoTokenizer, AutoModelWithLMHead\n",
    "import preprocess_data as pre_process_data\n",
    "# from preprocess_data import pre_process_for_description"
   ]
  },
  {
   "cell_type": "markdown",
   "metadata": {},
   "source": [
    "# Load the data "
   ]
  },
  {
   "cell_type": "code",
   "execution_count": 369,
   "metadata": {},
   "outputs": [
    {
     "name": "stdout",
     "output_type": "stream",
     "text": [
      "Dataset already downloaded.\n"
     ]
    }
   ],
   "source": [
    "# Download dataset if it is not downloaded yet\n",
    "if not os.path.exists('Dataset/meta_Digital_Music.json.gz'):\n",
    "    !wget https://datarepo.eng.ucsd.edu/mcauley_group/data/amazon_v2/metaFiles2/meta_Digital_Music.json.gz -P ./Dataset\n",
    "else:\n",
    "    print('Dataset already downloaded.')"
   ]
  },
  {
   "cell_type": "markdown",
   "metadata": {},
   "source": [
    "__Data format__\n",
    "   * `asin`: ID of the product, e.g. 0000031852\n",
    "   * `title`: name of the product\n",
    "   * `feature`: bullet-point format features of the product\n",
    "   * `description`: description of the product\n",
    "   * `price`: price in US dollars (at time of crawl)\n",
    "   * `imageURL`: url of the product image\n",
    "   * `imageURL`: url of the high resolution product image\n",
    "   * `related`: related products (also bought, also viewed, bought together, buy after viewing)\n",
    "   * `salesRank`: sales rank information\n",
    "   * `brand`: brand name\n",
    "   * `categories`: list of categories the product belongs to\n",
    "   * `tech1`: the first technical detail table of the product\n",
    "   * `tech2`: the second technical detail table of the product\n",
    "   * `similar`: similar product table\n",
    "\n",
    "_Note that there are usually multiple attributes left out blank for each product (specific attributes differs from product to product)._ \n"
   ]
  },
  {
   "cell_type": "code",
   "execution_count": 370,
   "metadata": {},
   "outputs": [
    {
     "name": "stdout",
     "output_type": "stream",
     "text": [
      "Total number of items in the dataset:  74347\n"
     ]
    }
   ],
   "source": [
    "### Load the meta data\n",
    "data = []\n",
    "with gzip.open('Dataset/meta_Digital_Music.json.gz') as f:\n",
    "    for l in f:\n",
    "        data.append(json.loads(l.strip()))\n",
    "    \n",
    "# Total length of list, this number equals total number of products\n",
    "print(\"Total number of items in the dataset: \", len(data))"
   ]
  },
  {
   "cell_type": "code",
   "execution_count": 371,
   "metadata": {},
   "outputs": [
    {
     "name": "stdout",
     "output_type": "stream",
     "text": [
      "Columns of the dataset:  Index(['category', 'tech1', 'description', 'fit', 'title', 'also_buy', 'tech2',\n",
      "       'brand', 'feature', 'rank', 'also_view', 'main_cat', 'similar_item',\n",
      "       'date', 'price', 'asin', 'imageURL', 'imageURLHighRes', 'details'],\n",
      "      dtype='object')\n"
     ]
    }
   ],
   "source": [
    "# convert list into pandas dataframe\n",
    "df = pd.DataFrame.from_dict(data)\n",
    "\n",
    "# set size of display in pandas\n",
    "pd.set_option('display.max_colwidth', 300)\n",
    "pd.set_option('display.max_rows', 20 )\n",
    "\n",
    "# first row of the list\n",
    "print(\"Columns of the dataset: \", df.columns)\n",
    "\n",
    "# show dataframe with columns and rows\n",
    "# df.head()\n",
    "# df2.info()"
   ]
  },
  {
   "cell_type": "markdown",
   "metadata": {},
   "source": [
    "Filter the products based on the asin in asin.cv. \n",
    "This step is necessary because the dataset for the cluster is different from the dataset for sentiment analysis and similar items. "
   ]
  },
  {
   "cell_type": "code",
   "execution_count": 372,
   "metadata": {},
   "outputs": [
    {
     "name": "stdout",
     "output_type": "stream",
     "text": [
      "Index(['category', 'tech1', 'description', 'fit', 'title', 'also_buy', 'tech2',\n",
      "       'brand', 'feature', 'rank', 'also_view', 'main_cat', 'similar_item',\n",
      "       'date', 'price', 'asin', 'imageURL', 'imageURLHighRes', 'details'],\n",
      "      dtype='object')\n",
      "<class 'pandas.core.frame.DataFrame'>\n"
     ]
    }
   ],
   "source": [
    "# drop columns that are not needed because the products are not in asin.cv\n",
    "asins = pd.read_csv('Dataset/asin.csv')\n",
    "df = df[df['asin'].isin(asins['asin'])]\n",
    "\n",
    "print(df.columns)\n",
    "print(type(df))"
   ]
  },
  {
   "cell_type": "markdown",
   "metadata": {},
   "source": [
    "# Data pre-processing"
   ]
  },
  {
   "cell_type": "markdown",
   "metadata": {},
   "source": [
    "- Remove empty description\n",
    "- Remove HTML tag\n",
    "- Remove URLs\n",
    "- Remove HTML hidden carachters\n",
    "- Remove punctuation\n",
    "- Remove numbers\n",
    "- Transform every word into lowercase\n",
    "- Remove stop words\n",
    "- Perform stemming "
   ]
  },
  {
   "cell_type": "code",
   "execution_count": 373,
   "metadata": {},
   "outputs": [],
   "source": [
    "# Drop rows with no description (description is empty)\n",
    "df = df[df['description'].map(lambda d: len(d)) > 0]\n",
    "# df2.head()"
   ]
  },
  {
   "cell_type": "code",
   "execution_count": 374,
   "metadata": {},
   "outputs": [
    {
     "data": {
      "text/html": [
       "<div>\n",
       "<style scoped>\n",
       "    .dataframe tbody tr th:only-of-type {\n",
       "        vertical-align: middle;\n",
       "    }\n",
       "\n",
       "    .dataframe tbody tr th {\n",
       "        vertical-align: top;\n",
       "    }\n",
       "\n",
       "    .dataframe thead th {\n",
       "        text-align: right;\n",
       "    }\n",
       "</style>\n",
       "<table border=\"1\" class=\"dataframe\">\n",
       "  <thead>\n",
       "    <tr style=\"text-align: right;\">\n",
       "      <th></th>\n",
       "      <th>category</th>\n",
       "      <th>tech1</th>\n",
       "      <th>description</th>\n",
       "      <th>fit</th>\n",
       "      <th>title</th>\n",
       "      <th>also_buy</th>\n",
       "      <th>tech2</th>\n",
       "      <th>brand</th>\n",
       "      <th>feature</th>\n",
       "      <th>rank</th>\n",
       "      <th>also_view</th>\n",
       "      <th>main_cat</th>\n",
       "      <th>similar_item</th>\n",
       "      <th>date</th>\n",
       "      <th>price</th>\n",
       "      <th>asin</th>\n",
       "      <th>imageURL</th>\n",
       "      <th>imageURLHighRes</th>\n",
       "      <th>details</th>\n",
       "    </tr>\n",
       "  </thead>\n",
       "  <tbody>\n",
       "    <tr>\n",
       "      <th>4</th>\n",
       "      <td>[]</td>\n",
       "      <td></td>\n",
       "      <td>[1. Losing Game 2. I Can't Wait 3. Didn't He Shine 4. Never Seen...Righteous... 5. A Broken Heart 6. Looking Back 7. Here We Are 8. I Saw The Lord 9. Jesus Is A River Of Love 10. Hittin' The Road 11. I've Never Been Out Of... 12. Jesus Gotta Hold Of My Life 13. Saved- Saved- Saved 14. What Will ...</td>\n",
       "      <td></td>\n",
       "      <td>Early Works - Dallas Holm</td>\n",
       "      <td>[B0002N4JP2, 0760131694, B00002EQ79, B00150K8JC, B00007E8SE, B00000387A, B000I0QKB0, B000025Q0M, B000008QP3, B000FAMYIG, B0009WA252, B0016CP2GS, B016E9NE9Y, B000002UEN, B000T5MJN2, B003H8F4NA, B00004RC05, B000A0GP04, B00004RC01, B00004YNA4, B016E9NEN0, B00BS96UG0, B00BS96XJY, B00BS96Y9S, B00BS96...</td>\n",
       "      <td></td>\n",
       "      <td>Dallas Holm</td>\n",
       "      <td>[]</td>\n",
       "      <td>399,269 in CDs &amp; Vinyl (</td>\n",
       "      <td>[B0002N4JP2, 0760131694, B00150K8JC, B003MTXNVE, B00007E8SE, B00000DPJN, B00000387A, B0009WA252, B000008QP3, B00KYVH4VI]</td>\n",
       "      <td>&lt;img src=\"https://images-na.ssl-images-amazon.com/images/G/01/digital/music/logos/amzn_music_logo_subnav._CB471835632_.png\" class=\"nav-categ-image\" alt=\"Digital Music\"/&gt;</td>\n",
       "      <td></td>\n",
       "      <td></td>\n",
       "      <td></td>\n",
       "      <td>0001526146</td>\n",
       "      <td>[]</td>\n",
       "      <td>[]</td>\n",
       "      <td>NaN</td>\n",
       "    </tr>\n",
       "    <tr>\n",
       "      <th>12</th>\n",
       "      <td>[]</td>\n",
       "      <td></td>\n",
       "      <td>[Spanish Before You Know It - Gold Edition. Learn Spanish in a Flash!, , ]</td>\n",
       "      <td></td>\n",
       "      <td>Spanish Before You Know It - Gold Edition</td>\n",
       "      <td>[]</td>\n",
       "      <td></td>\n",
       "      <td>Transparent Language</td>\n",
       "      <td>[]</td>\n",
       "      <td>1,153,345 in CDs &amp;amp; Vinyl (</td>\n",
       "      <td>[]</td>\n",
       "      <td>&lt;img src=\"https://images-na.ssl-images-amazon.com/images/G/01/digital/music/logos/amzn_music_logo_subnav._CB471835632_.png\" class=\"nav-categ-image\" alt=\"Digital Music\" /&gt;</td>\n",
       "      <td></td>\n",
       "      <td></td>\n",
       "      <td>$9,600.61</td>\n",
       "      <td>0545069882</td>\n",
       "      <td>[https://images-na.ssl-images-amazon.com/images/I/510aGyfLO5L._SS40_.jpg]</td>\n",
       "      <td>[https://images-na.ssl-images-amazon.com/images/I/510aGyfLO5L.jpg]</td>\n",
       "      <td>NaN</td>\n",
       "    </tr>\n",
       "    <tr>\n",
       "      <th>13</th>\n",
       "      <td>[]</td>\n",
       "      <td></td>\n",
       "      <td>[Just the CD. The Book has long since vanished. I great condition and it is a classic., , ]</td>\n",
       "      <td></td>\n",
       "      <td>Puff the Magic Dragon</td>\n",
       "      <td>[]</td>\n",
       "      <td></td>\n",
       "      <td></td>\n",
       "      <td>[]</td>\n",
       "      <td>242,922 in CDs &amp;amp; Vinyl (</td>\n",
       "      <td>[B00YZ82TPW, B0009YA39U, 1402747829, B00U1CES3M, B000051NSZ, B00514KN3E]</td>\n",
       "      <td>&lt;img src=\"https://images-na.ssl-images-amazon.com/images/G/01/digital/music/logos/amzn_music_logo_subnav._CB471835632_.png\" class=\"nav-categ-image\" alt=\"Digital Music\" /&gt;</td>\n",
       "      <td></td>\n",
       "      <td></td>\n",
       "      <td>$6.14</td>\n",
       "      <td>0545109620</td>\n",
       "      <td>[https://images-na.ssl-images-amazon.com/images/I/51n5-HdJCCL._SS40_.jpg]</td>\n",
       "      <td>[https://images-na.ssl-images-amazon.com/images/I/51n5-HdJCCL.jpg]</td>\n",
       "      <td>NaN</td>\n",
       "    </tr>\n",
       "    <tr>\n",
       "      <th>19</th>\n",
       "      <td>[]</td>\n",
       "      <td></td>\n",
       "      <td>[The seasons are changing and life slows down in the forest. Or does it? Join Mindy and her friends in Bluebell Woods as they scrabble for the biggest, juiciest blackberries ... carve the silliest and scariest jack-o-lanterns ... and share the true spirit of giving when they're snowed in for thr...</td>\n",
       "      <td></td>\n",
       "      <td>The Tales of Mindy Mousekins: Adventures Through the Seasons, Autumn - Winter</td>\n",
       "      <td>[0692384251, B004HVKAAI]</td>\n",
       "      <td></td>\n",
       "      <td>Jacqueline Houston</td>\n",
       "      <td>[]</td>\n",
       "      <td>200,626 in CDs &amp;amp; Vinyl (</td>\n",
       "      <td>[0692384251]</td>\n",
       "      <td>&lt;img src=\"https://images-na.ssl-images-amazon.com/images/G/01/digital/music/logos/amzn_music_logo_subnav._CB471835632_.png\" class=\"nav-categ-image\" alt=\"Digital Music\" /&gt;</td>\n",
       "      <td></td>\n",
       "      <td></td>\n",
       "      <td></td>\n",
       "      <td>0615897398</td>\n",
       "      <td>[https://images-na.ssl-images-amazon.com/images/I/610CCoHtMyL._SS40_.jpg, https://images-na.ssl-images-amazon.com/images/I/619zvyeoqwL._SS40_.jpg, https://images-na.ssl-images-amazon.com/images/I/61d0wtGHDZL._SS40_.jpg, https://images-na.ssl-images-amazon.com/images/I/516OvXY0TdL._SS40_.jpg]</td>\n",
       "      <td>[https://images-na.ssl-images-amazon.com/images/I/610CCoHtMyL.jpg, https://images-na.ssl-images-amazon.com/images/I/619zvyeoqwL.jpg, https://images-na.ssl-images-amazon.com/images/I/61d0wtGHDZL.jpg, https://images-na.ssl-images-amazon.com/images/I/516OvXY0TdL.jpg]</td>\n",
       "      <td>NaN</td>\n",
       "    </tr>\n",
       "    <tr>\n",
       "      <th>20</th>\n",
       "      <td>[]</td>\n",
       "      <td></td>\n",
       "      <td>[The Msica del mundo hispano Audio CD includes authentic music from around the Spanish-speaking world. Lyrics are included in the liner notes., , ]</td>\n",
       "      <td></td>\n",
       "      <td>Avancemos! Musica del mundo hispano</td>\n",
       "      <td>[0618753222]</td>\n",
       "      <td></td>\n",
       "      <td>Various Artists</td>\n",
       "      <td>[]</td>\n",
       "      <td>521,475 in CDs &amp;amp; Vinyl (</td>\n",
       "      <td>[]</td>\n",
       "      <td>&lt;img src=\"https://images-na.ssl-images-amazon.com/images/G/01/digital/music/logos/amzn_music_logo_subnav._CB471835632_.png\" class=\"nav-categ-image\" alt=\"Digital Music\" /&gt;</td>\n",
       "      <td></td>\n",
       "      <td></td>\n",
       "      <td>$1.00</td>\n",
       "      <td>0618866760</td>\n",
       "      <td>[https://images-na.ssl-images-amazon.com/images/I/512M0WP5tNL._SS40_.jpg]</td>\n",
       "      <td>[https://images-na.ssl-images-amazon.com/images/I/512M0WP5tNL.jpg]</td>\n",
       "      <td>NaN</td>\n",
       "    </tr>\n",
       "  </tbody>\n",
       "</table>\n",
       "</div>"
      ],
      "text/plain": [
       "   category tech1  \\\n",
       "4        []         \n",
       "12       []         \n",
       "13       []         \n",
       "19       []         \n",
       "20       []         \n",
       "\n",
       "                                                                                                                                                                                                                                                                                                    description  \\\n",
       "4   [1. Losing Game 2. I Can't Wait 3. Didn't He Shine 4. Never Seen...Righteous... 5. A Broken Heart 6. Looking Back 7. Here We Are 8. I Saw The Lord 9. Jesus Is A River Of Love 10. Hittin' The Road 11. I've Never Been Out Of... 12. Jesus Gotta Hold Of My Life 13. Saved- Saved- Saved 14. What Will ...   \n",
       "12                                                                                                                                                                                                                                   [Spanish Before You Know It - Gold Edition. Learn Spanish in a Flash!, , ]   \n",
       "13                                                                                                                                                                                                                  [Just the CD. The Book has long since vanished. I great condition and it is a classic., , ]   \n",
       "19  [The seasons are changing and life slows down in the forest. Or does it? Join Mindy and her friends in Bluebell Woods as they scrabble for the biggest, juiciest blackberries ... carve the silliest and scariest jack-o-lanterns ... and share the true spirit of giving when they're snowed in for thr...   \n",
       "20                                                                                                                                                          [The Msica del mundo hispano Audio CD includes authentic music from around the Spanish-speaking world. Lyrics are included in the liner notes., , ]   \n",
       "\n",
       "   fit  \\\n",
       "4        \n",
       "12       \n",
       "13       \n",
       "19       \n",
       "20       \n",
       "\n",
       "                                                                            title  \\\n",
       "4                                                       Early Works - Dallas Holm   \n",
       "12                                      Spanish Before You Know It - Gold Edition   \n",
       "13                                                          Puff the Magic Dragon   \n",
       "19  The Tales of Mindy Mousekins: Adventures Through the Seasons, Autumn - Winter   \n",
       "20                                            Avancemos! Musica del mundo hispano   \n",
       "\n",
       "                                                                                                                                                                                                                                                                                                       also_buy  \\\n",
       "4   [B0002N4JP2, 0760131694, B00002EQ79, B00150K8JC, B00007E8SE, B00000387A, B000I0QKB0, B000025Q0M, B000008QP3, B000FAMYIG, B0009WA252, B0016CP2GS, B016E9NE9Y, B000002UEN, B000T5MJN2, B003H8F4NA, B00004RC05, B000A0GP04, B00004RC01, B00004YNA4, B016E9NEN0, B00BS96UG0, B00BS96XJY, B00BS96Y9S, B00BS96...   \n",
       "12                                                                                                                                                                                                                                                                                                           []   \n",
       "13                                                                                                                                                                                                                                                                                                           []   \n",
       "19                                                                                                                                                                                                                                                                                     [0692384251, B004HVKAAI]   \n",
       "20                                                                                                                                                                                                                                                                                                 [0618753222]   \n",
       "\n",
       "   tech2                 brand feature                            rank  \\\n",
       "4                  Dallas Holm      []        399,269 in CDs & Vinyl (   \n",
       "12        Transparent Language      []  1,153,345 in CDs &amp; Vinyl (   \n",
       "13                                  []    242,922 in CDs &amp; Vinyl (   \n",
       "19          Jacqueline Houston      []    200,626 in CDs &amp; Vinyl (   \n",
       "20             Various Artists      []    521,475 in CDs &amp; Vinyl (   \n",
       "\n",
       "                                                                                                                   also_view  \\\n",
       "4   [B0002N4JP2, 0760131694, B00150K8JC, B003MTXNVE, B00007E8SE, B00000DPJN, B00000387A, B0009WA252, B000008QP3, B00KYVH4VI]   \n",
       "12                                                                                                                        []   \n",
       "13                                                  [B00YZ82TPW, B0009YA39U, 1402747829, B00U1CES3M, B000051NSZ, B00514KN3E]   \n",
       "19                                                                                                              [0692384251]   \n",
       "20                                                                                                                        []   \n",
       "\n",
       "                                                                                                                                                                      main_cat  \\\n",
       "4    <img src=\"https://images-na.ssl-images-amazon.com/images/G/01/digital/music/logos/amzn_music_logo_subnav._CB471835632_.png\" class=\"nav-categ-image\" alt=\"Digital Music\"/>   \n",
       "12  <img src=\"https://images-na.ssl-images-amazon.com/images/G/01/digital/music/logos/amzn_music_logo_subnav._CB471835632_.png\" class=\"nav-categ-image\" alt=\"Digital Music\" />   \n",
       "13  <img src=\"https://images-na.ssl-images-amazon.com/images/G/01/digital/music/logos/amzn_music_logo_subnav._CB471835632_.png\" class=\"nav-categ-image\" alt=\"Digital Music\" />   \n",
       "19  <img src=\"https://images-na.ssl-images-amazon.com/images/G/01/digital/music/logos/amzn_music_logo_subnav._CB471835632_.png\" class=\"nav-categ-image\" alt=\"Digital Music\" />   \n",
       "20  <img src=\"https://images-na.ssl-images-amazon.com/images/G/01/digital/music/logos/amzn_music_logo_subnav._CB471835632_.png\" class=\"nav-categ-image\" alt=\"Digital Music\" />   \n",
       "\n",
       "   similar_item date      price        asin  \\\n",
       "4                                0001526146   \n",
       "12                    $9,600.61  0545069882   \n",
       "13                        $6.14  0545109620   \n",
       "19                               0615897398   \n",
       "20                        $1.00  0618866760   \n",
       "\n",
       "                                                                                                                                                                                                                                                                                                imageURL  \\\n",
       "4                                                                                                                                                                                                                                                                                                     []   \n",
       "12                                                                                                                                                                                                                             [https://images-na.ssl-images-amazon.com/images/I/510aGyfLO5L._SS40_.jpg]   \n",
       "13                                                                                                                                                                                                                             [https://images-na.ssl-images-amazon.com/images/I/51n5-HdJCCL._SS40_.jpg]   \n",
       "19  [https://images-na.ssl-images-amazon.com/images/I/610CCoHtMyL._SS40_.jpg, https://images-na.ssl-images-amazon.com/images/I/619zvyeoqwL._SS40_.jpg, https://images-na.ssl-images-amazon.com/images/I/61d0wtGHDZL._SS40_.jpg, https://images-na.ssl-images-amazon.com/images/I/516OvXY0TdL._SS40_.jpg]   \n",
       "20                                                                                                                                                                                                                             [https://images-na.ssl-images-amazon.com/images/I/512M0WP5tNL._SS40_.jpg]   \n",
       "\n",
       "                                                                                                                                                                                                                                                             imageURLHighRes  \\\n",
       "4                                                                                                                                                                                                                                                                         []   \n",
       "12                                                                                                                                                                                                        [https://images-na.ssl-images-amazon.com/images/I/510aGyfLO5L.jpg]   \n",
       "13                                                                                                                                                                                                        [https://images-na.ssl-images-amazon.com/images/I/51n5-HdJCCL.jpg]   \n",
       "19  [https://images-na.ssl-images-amazon.com/images/I/610CCoHtMyL.jpg, https://images-na.ssl-images-amazon.com/images/I/619zvyeoqwL.jpg, https://images-na.ssl-images-amazon.com/images/I/61d0wtGHDZL.jpg, https://images-na.ssl-images-amazon.com/images/I/516OvXY0TdL.jpg]   \n",
       "20                                                                                                                                                                                                        [https://images-na.ssl-images-amazon.com/images/I/512M0WP5tNL.jpg]   \n",
       "\n",
       "   details  \n",
       "4      NaN  \n",
       "12     NaN  \n",
       "13     NaN  \n",
       "19     NaN  \n",
       "20     NaN  "
      ]
     },
     "execution_count": 374,
     "metadata": {},
     "output_type": "execute_result"
    }
   ],
   "source": [
    "df.head()"
   ]
  },
  {
   "cell_type": "code",
   "execution_count": 375,
   "metadata": {},
   "outputs": [
    {
     "data": {
      "text/plain": [
       "\"1. Losing Game 2. I Can't Wait 3. Didn't He Shine 4. Never Seen...Righteous... 5. A Broken Heart 6. Looking Back 7. Here We Are 8. I Saw The Lord 9. Jesus Is A River Of Love 10. Hittin' The Road 11. I've Never Been Out Of... 12. Jesus Gotta Hold Of My Life 13. Saved- Saved- Saved 14. What Will You Do? 15. Rise Again\""
      ]
     },
     "execution_count": 375,
     "metadata": {},
     "output_type": "execute_result"
    }
   ],
   "source": [
    "# each description is a list of strings,we want to remove the empty strings, and join the list of strings into one string\n",
    "df.description = df.description.apply(lambda x: [string for string in x if string != \"\"])\n",
    "df.description = df.description.apply(lambda x: \" \".join(x))\n",
    "df.iloc[0].description\n"
   ]
  },
  {
   "cell_type": "code",
   "execution_count": 376,
   "metadata": {},
   "outputs": [
    {
     "name": "stdout",
     "output_type": "stream",
     "text": [
      "Example of description before preprocessing: \n",
      "4    1. Losing Game 2. I Can't Wait 3. Didn't He Shine 4. Never Seen...Righteous... 5. A Broken Heart 6. Looking Back 7. Here We Are 8. I Saw The Lord 9. Jesus Is A River Of Love 10. Hittin' The Road 11. I've Never Been Out Of... 12. Jesus Gotta Hold Of My Life 13. Saved- Saved- Saved 14. What Will Y...\n",
      "Name: description, dtype: object\n"
     ]
    },
    {
     "name": "stdout",
     "output_type": "stream",
     "text": [
      "\n",
      "Example of description after preprocessing: \n",
      "4    losing game wait shine never seen righteous broken heart looking back saw lord jesus river love hittin road never jesus got ta hold life saved saved saved rise\n",
      "Name: description, dtype: object\n"
     ]
    }
   ],
   "source": [
    "df_similarity_scores = df.copy()\n",
    "\n",
    "print(\"Example of description before preprocessing: \")\n",
    "print(df.description.iloc[0:1])\n",
    "df.description = df.description.apply(lambda x: pre_process_data.user_description_sentiment_analysis(x))\n",
    "print()\n",
    "print(\"Example of description after preprocessing: \")\n",
    "print(df.description.iloc[0:1])\n"
   ]
  },
  {
   "cell_type": "markdown",
   "metadata": {},
   "source": [
    "## Does any product contain different descriptions?  \n",
    "There exists products which are not unique. The asin and the descriptions are duplicated. \n",
    "We process the data in order to have unique products."
   ]
  },
  {
   "cell_type": "markdown",
   "metadata": {},
   "source": [
    "Removing the duplicates products -> now each product is unique"
   ]
  },
  {
   "cell_type": "code",
   "execution_count": 377,
   "metadata": {},
   "outputs": [
    {
     "data": {
      "text/html": [
       "<div>\n",
       "<style scoped>\n",
       "    .dataframe tbody tr th:only-of-type {\n",
       "        vertical-align: middle;\n",
       "    }\n",
       "\n",
       "    .dataframe tbody tr th {\n",
       "        vertical-align: top;\n",
       "    }\n",
       "\n",
       "    .dataframe thead th {\n",
       "        text-align: right;\n",
       "    }\n",
       "</style>\n",
       "<table border=\"1\" class=\"dataframe\">\n",
       "  <thead>\n",
       "    <tr style=\"text-align: right;\">\n",
       "      <th></th>\n",
       "      <th>asin</th>\n",
       "      <th>description</th>\n",
       "    </tr>\n",
       "  </thead>\n",
       "  <tbody>\n",
       "    <tr>\n",
       "      <th>4</th>\n",
       "      <td>0001526146</td>\n",
       "      <td>losing game wait shine never seen righteous broken heart looking back saw lord jesus river love hittin road never jesus got ta hold life saved saved saved rise</td>\n",
       "    </tr>\n",
       "    <tr>\n",
       "      <th>12</th>\n",
       "      <td>0545069882</td>\n",
       "      <td>spanish know gold edition learn spanish flash</td>\n",
       "    </tr>\n",
       "    <tr>\n",
       "      <th>13</th>\n",
       "      <td>0545109620</td>\n",
       "      <td>cd book long since vanished great condition classic</td>\n",
       "    </tr>\n",
       "    <tr>\n",
       "      <th>19</th>\n",
       "      <td>0615897398</td>\n",
       "      <td>seasons changing life slows forest join mindy friends bluebell woods scrabble biggest juiciest blackberries carve silliest scariest jack lanterns share true spirit giving snowed three whole days master storyteller jacqueline houston brings mindy mousekins world alive heartwarming tales fun adven...</td>\n",
       "    </tr>\n",
       "    <tr>\n",
       "      <th>20</th>\n",
       "      <td>0618866760</td>\n",
       "      <td>msica del mundo hispano audio cd includes authentic music around spanish speaking world lyrics included liner notes</td>\n",
       "    </tr>\n",
       "    <tr>\n",
       "      <th>...</th>\n",
       "      <td>...</td>\n",
       "      <td>...</td>\n",
       "    </tr>\n",
       "    <tr>\n",
       "      <th>74333</th>\n",
       "      <td>B01HDZM264</td>\n",
       "      <td>dub infused post punk nyu punk professor music label staubgold</td>\n",
       "    </tr>\n",
       "    <tr>\n",
       "      <th>74336</th>\n",
       "      <td>B01HG2DW1I</td>\n",
       "      <td>track listing butter ball zaq attack zona walk like guv sentimental pacific daylight trombone institute technology san jose fog city show crbs trombones giant</td>\n",
       "    </tr>\n",
       "    <tr>\n",
       "      <th>74338</th>\n",
       "      <td>B01HH5R7LK</td>\n",
       "      <td>coldplay head full dreams tour live etihad stadium manchester england june th cd intro head full dreams yellow every teardrop waterfall scientist birds paradise everglow lovers japan magic clocks midnight charlie brown hymn weekend fix heroes viva la vida cd adventure lifetime kaleidoscope troub...</td>\n",
       "    </tr>\n",
       "    <tr>\n",
       "      <th>74339</th>\n",
       "      <td>B01HH68B96</td>\n",
       "      <td>known live versions thats way life goes steam blacktop witha demo version superficial love sang hughie instead chris hicks</td>\n",
       "    </tr>\n",
       "    <tr>\n",
       "      <th>74342</th>\n",
       "      <td>B01HH7D5KU</td>\n",
       "      <td>free last southside never gon lose purple coming southside diamonds africa southside southside compadre southside march madness tarentino trap niggas southside da fam da gram skit southside nights southside total length</td>\n",
       "    </tr>\n",
       "  </tbody>\n",
       "</table>\n",
       "<p>16116 rows × 2 columns</p>\n",
       "</div>"
      ],
      "text/plain": [
       "             asin  \\\n",
       "4      0001526146   \n",
       "12     0545069882   \n",
       "13     0545109620   \n",
       "19     0615897398   \n",
       "20     0618866760   \n",
       "...           ...   \n",
       "74333  B01HDZM264   \n",
       "74336  B01HG2DW1I   \n",
       "74338  B01HH5R7LK   \n",
       "74339  B01HH68B96   \n",
       "74342  B01HH7D5KU   \n",
       "\n",
       "                                                                                                                                                                                                                                                                                                       description  \n",
       "4                                                                                                                                                  losing game wait shine never seen righteous broken heart looking back saw lord jesus river love hittin road never jesus got ta hold life saved saved saved rise  \n",
       "12                                                                                                                                                                                                                                                                   spanish know gold edition learn spanish flash  \n",
       "13                                                                                                                                                                                                                                                             cd book long since vanished great condition classic  \n",
       "19     seasons changing life slows forest join mindy friends bluebell woods scrabble biggest juiciest blackberries carve silliest scariest jack lanterns share true spirit giving snowed three whole days master storyteller jacqueline houston brings mindy mousekins world alive heartwarming tales fun adven...  \n",
       "20                                                                                                                                                                                             msica del mundo hispano audio cd includes authentic music around spanish speaking world lyrics included liner notes  \n",
       "...                                                                                                                                                                                                                                                                                                            ...  \n",
       "74333                                                                                                                                                                                                                                               dub infused post punk nyu punk professor music label staubgold  \n",
       "74336                                                                                                                                               track listing butter ball zaq attack zona walk like guv sentimental pacific daylight trombone institute technology san jose fog city show crbs trombones giant  \n",
       "74338  coldplay head full dreams tour live etihad stadium manchester england june th cd intro head full dreams yellow every teardrop waterfall scientist birds paradise everglow lovers japan magic clocks midnight charlie brown hymn weekend fix heroes viva la vida cd adventure lifetime kaleidoscope troub...  \n",
       "74339                                                                                                                                                                                   known live versions thats way life goes steam blacktop witha demo version superficial love sang hughie instead chris hicks  \n",
       "74342                                                                                  free last southside never gon lose purple coming southside diamonds africa southside southside compadre southside march madness tarentino trap niggas southside da fam da gram skit southside nights southside total length  \n",
       "\n",
       "[16116 rows x 2 columns]"
      ]
     },
     "execution_count": 377,
     "metadata": {},
     "output_type": "execute_result"
    }
   ],
   "source": [
    "df_asin_description = df[[\"asin\",\"description\"]].copy()\n",
    "df_asin_description.drop_duplicates(subset = \"description\", inplace=True)\n",
    "\n",
    "df_asin_description"
   ]
  },
  {
   "cell_type": "markdown",
   "metadata": {},
   "source": [
    "# Sentiment Analysis"
   ]
  },
  {
   "cell_type": "code",
   "execution_count": 378,
   "metadata": {},
   "outputs": [
    {
     "data": {
      "text/html": [
       "<div>\n",
       "<style scoped>\n",
       "    .dataframe tbody tr th:only-of-type {\n",
       "        vertical-align: middle;\n",
       "    }\n",
       "\n",
       "    .dataframe tbody tr th {\n",
       "        vertical-align: top;\n",
       "    }\n",
       "\n",
       "    .dataframe thead th {\n",
       "        text-align: right;\n",
       "    }\n",
       "</style>\n",
       "<table border=\"1\" class=\"dataframe\">\n",
       "  <thead>\n",
       "    <tr style=\"text-align: right;\">\n",
       "      <th></th>\n",
       "      <th>asin</th>\n",
       "      <th>description</th>\n",
       "    </tr>\n",
       "  </thead>\n",
       "  <tbody>\n",
       "    <tr>\n",
       "      <th>4</th>\n",
       "      <td>0001526146</td>\n",
       "      <td>losing game wait shine never seen righteous broken heart looking back saw lord jesus river love hittin road never jesus got ta hold life saved saved saved rise</td>\n",
       "    </tr>\n",
       "    <tr>\n",
       "      <th>12</th>\n",
       "      <td>0545069882</td>\n",
       "      <td>spanish know gold edition learn spanish flash</td>\n",
       "    </tr>\n",
       "    <tr>\n",
       "      <th>13</th>\n",
       "      <td>0545109620</td>\n",
       "      <td>cd book long since vanished great condition classic</td>\n",
       "    </tr>\n",
       "    <tr>\n",
       "      <th>19</th>\n",
       "      <td>0615897398</td>\n",
       "      <td>seasons changing life slows forest join mindy friends bluebell woods scrabble biggest juiciest blackberries carve silliest scariest jack lanterns share true spirit giving snowed three whole days master storyteller jacqueline houston brings mindy mousekins world alive heartwarming tales fun adven...</td>\n",
       "    </tr>\n",
       "    <tr>\n",
       "      <th>20</th>\n",
       "      <td>0618866760</td>\n",
       "      <td>msica del mundo hispano audio cd includes authentic music around spanish speaking world lyrics included liner notes</td>\n",
       "    </tr>\n",
       "  </tbody>\n",
       "</table>\n",
       "</div>"
      ],
      "text/plain": [
       "          asin  \\\n",
       "4   0001526146   \n",
       "12  0545069882   \n",
       "13  0545109620   \n",
       "19  0615897398   \n",
       "20  0618866760   \n",
       "\n",
       "                                                                                                                                                                                                                                                                                                    description  \n",
       "4                                                                                                                                               losing game wait shine never seen righteous broken heart looking back saw lord jesus river love hittin road never jesus got ta hold life saved saved saved rise  \n",
       "12                                                                                                                                                                                                                                                                spanish know gold edition learn spanish flash  \n",
       "13                                                                                                                                                                                                                                                          cd book long since vanished great condition classic  \n",
       "19  seasons changing life slows forest join mindy friends bluebell woods scrabble biggest juiciest blackberries carve silliest scariest jack lanterns share true spirit giving snowed three whole days master storyteller jacqueline houston brings mindy mousekins world alive heartwarming tales fun adven...  \n",
       "20                                                                                                                                                                                          msica del mundo hispano audio cd includes authentic music around spanish speaking world lyrics included liner notes  "
      ]
     },
     "execution_count": 378,
     "metadata": {},
     "output_type": "execute_result"
    }
   ],
   "source": [
    "df_process = df_asin_description\n",
    "df_process.head()"
   ]
  },
  {
   "cell_type": "code",
   "execution_count": 379,
   "metadata": {},
   "outputs": [],
   "source": [
    "# Suppressing warning about old version of spacy\n",
    "with warnings.catch_warnings():\n",
    "    warnings.simplefilter(\"ignore\")\n",
    "    # Applying Spacy affect model emotions\n",
    "    nlp_affect = spacy.load('Spacy-Affect-Model/affect_ner')\n",
    "\n",
    "    \n",
    "df_process['emotion_spacy'] = df_process.description.apply(lambda x: Counter([item.label_.lower() for item in nlp_affect(x).ents]))"
   ]
  },
  {
   "cell_type": "code",
   "execution_count": 380,
   "metadata": {},
   "outputs": [],
   "source": [
    "\n",
    "# Extracting most significant emotion of a particular description\n",
    "def get_most_significant_emotion(emotions):\n",
    "    try:\n",
    "        sign_emotion = max(emotions, key=emotions.get)\n",
    "    except ValueError:\n",
    "        sign_emotion = None\n",
    "    return sign_emotion\n",
    "\n",
    "df_process['most_significant_emotion_spacy'] = df_process.emotion_spacy.apply(lambda x: get_most_significant_emotion(x))\n",
    "\n",
    "df_process.head(100)\n",
    "save_csv = True\n",
    "if save_csv:\n",
    "    df_process.to_csv('digital_music.csv')\n",
    "\n"
   ]
  },
  {
   "cell_type": "code",
   "execution_count": 381,
   "metadata": {},
   "outputs": [
    {
     "name": "stderr",
     "output_type": "stream",
     "text": [
      "/Users/ariannabianchi/anaconda3/envs/myenv/lib/python3.10/site-packages/spacy/util.py:887: UserWarning: [W095] Model 'en_affect_ner' (0.0.0) was trained with spaCy v3.4 and may not be 100% compatible with the current version (3.5.3). If you see errors or degraded performance, download a newer compatible model or retrain your custom model with the current spaCy version. For more details and available updates, run: python -m spacy validate\n",
      "  warnings.warn(warn_msg)\n"
     ]
    },
    {
     "name": "stdout",
     "output_type": "stream",
     "text": [
      "trust\n"
     ]
    }
   ],
   "source": [
    "\n",
    "# Output of user emotion based on input.txt\n",
    "file_input = open(\"input.txt\", \"r\")\n",
    "text = file_input.read()\n",
    "nlp_affect = spacy.load('Spacy-Affect-Model/affect_ner')\n",
    "\n",
    "def measure_affect_score(sentence : str, nlp_affect):\n",
    "    affect_percent = {'fear': 0.0, 'anger': 0.0, 'anticipation': 0.0, 'trust': 0.0, 'surprise': 0.0, 'positive': 0.0,\n",
    "                      'negative': 0.0, 'sadness': 0.0, 'disgust': 0.0, 'joy': 0.0}\n",
    "    emotions = []\n",
    "    doc = nlp_affect(sentence)\n",
    "    if len(doc.ents) != 0:\n",
    "        for ent in doc.ents:\n",
    "            emotions.append(ent.label_.lower())\n",
    "        affect_counts = Counter()\n",
    "        for emotion in emotions:\n",
    "            affect_counts[emotion] += 1\n",
    "        sum_values = sum(affect_counts.values())\n",
    "        for key in affect_counts.keys():\n",
    "            affect_percent.update({key: float(affect_counts[key]) / float(sum_values)})\n",
    "    return affect_percent\n",
    "\n",
    "user_emotion_scores = measure_affect_score(text,nlp_affect)\n",
    "max_emotion = max(user_emotion_scores, key=user_emotion_scores.get)\n",
    "user_emotion = max_emotion\n",
    "\n",
    "print(user_emotion)"
   ]
  },
  {
   "cell_type": "code",
   "execution_count": 382,
   "metadata": {},
   "outputs": [],
   "source": [
    "# Find all items with the emotion \"anticipation\"\n",
    "import pandas as pd\n",
    "\n",
    "# read file with all emotions \n",
    "df_emotion = pd.read_csv('digital_music.csv')  \n",
    "# filter satisfied lines（emotion == anticipation）\n",
    "filtered_df = df_emotion[df_emotion['most_significant_emotion_spacy'] == user_emotion]\n",
    "\n",
    "# generated new lines \n",
    "filtered_df.to_csv('grouped_emotion.csv', index=False) \n",
    "\n"
   ]
  },
  {
   "cell_type": "code",
   "execution_count": 383,
   "metadata": {},
   "outputs": [
    {
     "data": {
      "text/plain": [
       "Index(['Unnamed: 0', 'asin', 'description', 'emotion_spacy',\n",
       "       'most_significant_emotion_spacy'],\n",
       "      dtype='object')"
      ]
     },
     "execution_count": 383,
     "metadata": {},
     "output_type": "execute_result"
    }
   ],
   "source": [
    "df_emotion.columns"
   ]
  },
  {
   "cell_type": "markdown",
   "metadata": {},
   "source": [
    "# Similar Items System\n",
    "Program that reads the dataset, preprocess the data and output the most similar items based on a user description of a product."
   ]
  },
  {
   "cell_type": "code",
   "execution_count": 384,
   "metadata": {},
   "outputs": [
    {
     "name": "stderr",
     "output_type": "stream",
     "text": [
      "[nltk_data] Downloading package stopwords to\n",
      "[nltk_data]     /Users/ariannabianchi/nltk_data...\n",
      "[nltk_data]   Package stopwords is already up-to-date!\n",
      "[nltk_data] Downloading package punkt to\n",
      "[nltk_data]     /Users/ariannabianchi/nltk_data...\n",
      "[nltk_data]   Package punkt is already up-to-date!\n"
     ]
    },
    {
     "data": {
      "text/plain": [
       "True"
      ]
     },
     "execution_count": 384,
     "metadata": {},
     "output_type": "execute_result"
    }
   ],
   "source": [
    "import json\n",
    "from collections import defaultdict\n",
    "import gzip\n",
    "import pandas as pd\n",
    "from lxml import html,etree\n",
    "import numpy as np\n",
    "import ipywidgets as widgets\n",
    "import re\n",
    "from nltk.tokenize import word_tokenize\n",
    "from nltk.corpus import stopwords\n",
    "import nltk\n",
    "from nltk.stem import PorterStemmer\n",
    "from mlxtend.preprocessing import TransactionEncoder\n",
    "from mlxtend.frequent_patterns import apriori\n",
    "import os\n",
    "from preprocess_data import preprocess_data\n",
    "\n",
    "\n",
    "# set stopwords vocabulary\n",
    "nltk.download('stopwords')\n",
    "\n",
    "# set tokenizer\n",
    "nltk.download('punkt')"
   ]
  },
  {
   "cell_type": "code",
   "execution_count": 385,
   "metadata": {},
   "outputs": [
    {
     "data": {
      "text/html": [
       "<div>\n",
       "<style scoped>\n",
       "    .dataframe tbody tr th:only-of-type {\n",
       "        vertical-align: middle;\n",
       "    }\n",
       "\n",
       "    .dataframe tbody tr th {\n",
       "        vertical-align: top;\n",
       "    }\n",
       "\n",
       "    .dataframe thead th {\n",
       "        text-align: right;\n",
       "    }\n",
       "</style>\n",
       "<table border=\"1\" class=\"dataframe\">\n",
       "  <thead>\n",
       "    <tr style=\"text-align: right;\">\n",
       "      <th></th>\n",
       "      <th>asin</th>\n",
       "      <th>description</th>\n",
       "    </tr>\n",
       "  </thead>\n",
       "  <tbody>\n",
       "    <tr>\n",
       "      <th>0</th>\n",
       "      <td>0001526146</td>\n",
       "      <td>losing game wait shine never seen righteous broken heart looking back saw lord jesus river love hittin road never jesus got ta hold life saved saved saved rise</td>\n",
       "    </tr>\n",
       "    <tr>\n",
       "      <th>1</th>\n",
       "      <td>0545069882</td>\n",
       "      <td>spanish know gold edition learn spanish flash</td>\n",
       "    </tr>\n",
       "    <tr>\n",
       "      <th>2</th>\n",
       "      <td>0545109620</td>\n",
       "      <td>cd book long since vanished great condition classic</td>\n",
       "    </tr>\n",
       "    <tr>\n",
       "      <th>3</th>\n",
       "      <td>0615897398</td>\n",
       "      <td>seasons changing life slows forest join mindy friends bluebell woods scrabble biggest juiciest blackberries carve silliest scariest jack lanterns share true spirit giving snowed three whole days master storyteller jacqueline houston brings mindy mousekins world alive heartwarming tales fun adven...</td>\n",
       "    </tr>\n",
       "    <tr>\n",
       "      <th>4</th>\n",
       "      <td>0618866760</td>\n",
       "      <td>msica del mundo hispano audio cd includes authentic music around spanish speaking world lyrics included liner notes</td>\n",
       "    </tr>\n",
       "    <tr>\n",
       "      <th>...</th>\n",
       "      <td>...</td>\n",
       "      <td>...</td>\n",
       "    </tr>\n",
       "    <tr>\n",
       "      <th>16111</th>\n",
       "      <td>B01HDZM264</td>\n",
       "      <td>dub infused post punk nyu punk professor music label staubgold</td>\n",
       "    </tr>\n",
       "    <tr>\n",
       "      <th>16112</th>\n",
       "      <td>B01HG2DW1I</td>\n",
       "      <td>track listing butter ball zaq attack zona walk like guv sentimental pacific daylight trombone institute technology san jose fog city show crbs trombones giant</td>\n",
       "    </tr>\n",
       "    <tr>\n",
       "      <th>16113</th>\n",
       "      <td>B01HH5R7LK</td>\n",
       "      <td>coldplay head full dreams tour live etihad stadium manchester england june th cd intro head full dreams yellow every teardrop waterfall scientist birds paradise everglow lovers japan magic clocks midnight charlie brown hymn weekend fix heroes viva la vida cd adventure lifetime kaleidoscope troub...</td>\n",
       "    </tr>\n",
       "    <tr>\n",
       "      <th>16114</th>\n",
       "      <td>B01HH68B96</td>\n",
       "      <td>known live versions thats way life goes steam blacktop witha demo version superficial love sang hughie instead chris hicks</td>\n",
       "    </tr>\n",
       "    <tr>\n",
       "      <th>16115</th>\n",
       "      <td>B01HH7D5KU</td>\n",
       "      <td>free last southside never gon lose purple coming southside diamonds africa southside southside compadre southside march madness tarentino trap niggas southside da fam da gram skit southside nights southside total length</td>\n",
       "    </tr>\n",
       "  </tbody>\n",
       "</table>\n",
       "<p>16115 rows × 2 columns</p>\n",
       "</div>"
      ],
      "text/plain": [
       "             asin  \\\n",
       "0      0001526146   \n",
       "1      0545069882   \n",
       "2      0545109620   \n",
       "3      0615897398   \n",
       "4      0618866760   \n",
       "...           ...   \n",
       "16111  B01HDZM264   \n",
       "16112  B01HG2DW1I   \n",
       "16113  B01HH5R7LK   \n",
       "16114  B01HH68B96   \n",
       "16115  B01HH7D5KU   \n",
       "\n",
       "                                                                                                                                                                                                                                                                                                       description  \n",
       "0                                                                                                                                                  losing game wait shine never seen righteous broken heart looking back saw lord jesus river love hittin road never jesus got ta hold life saved saved saved rise  \n",
       "1                                                                                                                                                                                                                                                                    spanish know gold edition learn spanish flash  \n",
       "2                                                                                                                                                                                                                                                              cd book long since vanished great condition classic  \n",
       "3      seasons changing life slows forest join mindy friends bluebell woods scrabble biggest juiciest blackberries carve silliest scariest jack lanterns share true spirit giving snowed three whole days master storyteller jacqueline houston brings mindy mousekins world alive heartwarming tales fun adven...  \n",
       "4                                                                                                                                                                                              msica del mundo hispano audio cd includes authentic music around spanish speaking world lyrics included liner notes  \n",
       "...                                                                                                                                                                                                                                                                                                            ...  \n",
       "16111                                                                                                                                                                                                                                               dub infused post punk nyu punk professor music label staubgold  \n",
       "16112                                                                                                                                               track listing butter ball zaq attack zona walk like guv sentimental pacific daylight trombone institute technology san jose fog city show crbs trombones giant  \n",
       "16113  coldplay head full dreams tour live etihad stadium manchester england june th cd intro head full dreams yellow every teardrop waterfall scientist birds paradise everglow lovers japan magic clocks midnight charlie brown hymn weekend fix heroes viva la vida cd adventure lifetime kaleidoscope troub...  \n",
       "16114                                                                                                                                                                                   known live versions thats way life goes steam blacktop witha demo version superficial love sang hughie instead chris hicks  \n",
       "16115                                                                                  free last southside never gon lose purple coming southside diamonds africa southside southside compadre southside march madness tarentino trap niggas southside da fam da gram skit southside nights southside total length  \n",
       "\n",
       "[16115 rows x 2 columns]"
      ]
     },
     "execution_count": 385,
     "metadata": {},
     "output_type": "execute_result"
    }
   ],
   "source": [
    "df_asin_description = df_emotion[[\"asin\",\"description\"]].copy()\n",
    "df_asin_description.drop_duplicates(subset = \"description\", inplace=True)\n",
    "df_asin_description.dropna(subset=['description'], inplace=True)\n",
    "\n",
    "df_asin_description"
   ]
  },
  {
   "cell_type": "code",
   "execution_count": 386,
   "metadata": {},
   "outputs": [
    {
     "data": {
      "text/html": [
       "<div>\n",
       "<style scoped>\n",
       "    .dataframe tbody tr th:only-of-type {\n",
       "        vertical-align: middle;\n",
       "    }\n",
       "\n",
       "    .dataframe tbody tr th {\n",
       "        vertical-align: top;\n",
       "    }\n",
       "\n",
       "    .dataframe thead th {\n",
       "        text-align: right;\n",
       "    }\n",
       "</style>\n",
       "<table border=\"1\" class=\"dataframe\">\n",
       "  <thead>\n",
       "    <tr style=\"text-align: right;\">\n",
       "      <th></th>\n",
       "      <th>asin</th>\n",
       "      <th>description</th>\n",
       "    </tr>\n",
       "  </thead>\n",
       "  <tbody>\n",
       "    <tr>\n",
       "      <th>0</th>\n",
       "      <td>0001526146</td>\n",
       "      <td>losing game wait shine never seen righteous broken heart looking back saw lord jesus river love hittin road never jesus got ta hold life saved saved saved rise</td>\n",
       "    </tr>\n",
       "    <tr>\n",
       "      <th>1</th>\n",
       "      <td>0545069882</td>\n",
       "      <td>spanish know gold edition learn spanish flash</td>\n",
       "    </tr>\n",
       "    <tr>\n",
       "      <th>2</th>\n",
       "      <td>0545109620</td>\n",
       "      <td>cd book long since vanished great condition classic</td>\n",
       "    </tr>\n",
       "    <tr>\n",
       "      <th>3</th>\n",
       "      <td>0615897398</td>\n",
       "      <td>seasons changing life slows forest join mindy friends bluebell woods scrabble biggest juiciest blackberries carve silliest scariest jack lanterns share true spirit giving snowed three whole days master storyteller jacqueline houston brings mindy mousekins world alive heartwarming tales fun adven...</td>\n",
       "    </tr>\n",
       "    <tr>\n",
       "      <th>4</th>\n",
       "      <td>0618866760</td>\n",
       "      <td>msica del mundo hispano audio cd includes authentic music around spanish speaking world lyrics included liner notes</td>\n",
       "    </tr>\n",
       "  </tbody>\n",
       "</table>\n",
       "</div>"
      ],
      "text/plain": [
       "         asin  \\\n",
       "0  0001526146   \n",
       "1  0545069882   \n",
       "2  0545109620   \n",
       "3  0615897398   \n",
       "4  0618866760   \n",
       "\n",
       "                                                                                                                                                                                                                                                                                                   description  \n",
       "0                                                                                                                                              losing game wait shine never seen righteous broken heart looking back saw lord jesus river love hittin road never jesus got ta hold life saved saved saved rise  \n",
       "1                                                                                                                                                                                                                                                                spanish know gold edition learn spanish flash  \n",
       "2                                                                                                                                                                                                                                                          cd book long since vanished great condition classic  \n",
       "3  seasons changing life slows forest join mindy friends bluebell woods scrabble biggest juiciest blackberries carve silliest scariest jack lanterns share true spirit giving snowed three whole days master storyteller jacqueline houston brings mindy mousekins world alive heartwarming tales fun adven...  \n",
       "4                                                                                                                                                                                          msica del mundo hispano audio cd includes authentic music around spanish speaking world lyrics included liner notes  "
      ]
     },
     "execution_count": 386,
     "metadata": {},
     "output_type": "execute_result"
    }
   ],
   "source": [
    "df_asin_description.head()"
   ]
  },
  {
   "cell_type": "markdown",
   "metadata": {},
   "source": [
    "### Last step of preprocessing: stemming. \n",
    "Stemming is useful for comparing similar words."
   ]
  },
  {
   "cell_type": "code",
   "execution_count": 387,
   "metadata": {},
   "outputs": [],
   "source": [
    "df_asin_description.description = df_asin_description.description.apply(lambda x: preprocess_data(x))"
   ]
  },
  {
   "cell_type": "markdown",
   "metadata": {},
   "source": [
    "## Creating shingles"
   ]
  },
  {
   "cell_type": "code",
   "execution_count": 388,
   "metadata": {},
   "outputs": [],
   "source": [
    "# Given a string input, return the list of shingles\n",
    "def shingle(s, q, delimiter=' '):\n",
    "    all_shingles = []\n",
    "    if isinstance(s, float):\n",
    "        print(s)\n",
    "    if delimiter != '':\n",
    "        words_list = s.split(delimiter)\n",
    "    else:\n",
    "        words_list = s\n",
    "    for i in range (len(words_list)-q+1):\n",
    "        all_shingles.append(delimiter.join(words_list[i:i+q]))\n",
    "    return list(set(all_shingles))"
   ]
  },
  {
   "cell_type": "code",
   "execution_count": 389,
   "metadata": {},
   "outputs": [],
   "source": [
    "# Apply shingles to the df_asin_description\n",
    "df_asin_description[\"shingles\"] = df_asin_description[\"description\"].apply(lambda x: shingle(x, 3))\n",
    "# aaa = df_asin_description[\"description\"].apply(lambda x: shingle(x, 3))\n",
    "# df_asin_description"
   ]
  },
  {
   "cell_type": "markdown",
   "metadata": {},
   "source": [
    "### Similarity of sets\n",
    "Computing Jaccuard similarity"
   ]
  },
  {
   "cell_type": "code",
   "execution_count": 390,
   "metadata": {},
   "outputs": [],
   "source": [
    "# function that takes an intersection set and a union set and returns the Jaccard similarity\n",
    "def similarity(intersection_set, union_set):\n",
    "    return len(intersection_set)/len(union_set)"
   ]
  },
  {
   "cell_type": "code",
   "execution_count": 391,
   "metadata": {},
   "outputs": [],
   "source": [
    "# input = \"In the dynamic landscape of higher education, universities are continually redefining the traditional boundaries of learning. The integration of arts, music, and literature has become a cornerstone in fostering a holistic educational experience. At the heart of this transformation is the commitment to connect students with a diverse range of disciplines, preparing them not only for academic success but also for a life enriched by creativity and cultural understanding. In this context, universities such as New School are pioneering integrated learning models that transcend conventional subject silos. Their innovative approach, backed by cutting-edge teaching methodologies, empowers students to explore the intersections of arts, music, and literature. The vision goes beyond a mere confluence of disciplines; it seeks to create an immersive educational environment where students can seamlessly weave their academic pursuits into the fabric of their daily lives. One key player in this educational evolution is McGraw, a renowned arts author whose work has become a guiding light for both educators and students alike. McGraw's contributions extend beyond the conventional boundaries of a university classroom, resonating with a global audience. His writings not only inspire a love for the arts but also emphasize the transformative power of integrated learning in shaping well-rounded individuals. The concept of an integrated learning environment transcends the boundaries of time and space. It is not confined to the four walls of a classroom; rather, it permeates every facet of a student's journey. In this dynamic world, students are no longer passive recipients of knowledge but active participants in a vibrant community of learners. The university becomes a nexus where diverse ideas converge, fostering a collaborative spirit that extends far beyond graduation. In this interconnected world, the New School's commitment to integrated learning is a beacon of innovation. Students are not just acquiring knowledge; they are forging connections between seemingly disparate fields, discovering the harmonies between arts and sciences, and navigating the rhythms of a multicultural world. This transformative journey prepares them to navigate the complexities of the modern world with a deep appreciation for diversity and a keen sense of intellectual curiosity. As we stand at the intersection of arts, music, and literature, the integrated learning paradigm championed by universities like New School, guided by visionary authors such as McGraw, is shaping the future of education. It is a testament to the idea that learning is not a compartmentalized experience but a symphony of knowledge, where every note, every discipline, plays a crucial role in the harmonious melody of life.\"\n",
    "\n",
    "file_input = open(\"input.txt\", \"r\")\n",
    "input = file_input.read()\n",
    "# print(input)\n",
    "user_description = preprocess_data(input)\n",
    "user_description = shingle(user_description, 3)  \n",
    "# intersection_set = set(user_description).intersection(set(df_asin_description.shingles.iloc[0]))\n",
    "# union_set = set(user_description).union(set(df_asin_description.shingles.iloc[0]))\n",
    "# # perform similarity\n",
    "# sim = similarity(intersection_set, union_set)\n",
    "# print(sim)\n"
   ]
  },
  {
   "cell_type": "code",
   "execution_count": 392,
   "metadata": {},
   "outputs": [
    {
     "data": {
      "text/html": [
       "<div>\n",
       "<style scoped>\n",
       "    .dataframe tbody tr th:only-of-type {\n",
       "        vertical-align: middle;\n",
       "    }\n",
       "\n",
       "    .dataframe tbody tr th {\n",
       "        vertical-align: top;\n",
       "    }\n",
       "\n",
       "    .dataframe thead th {\n",
       "        text-align: right;\n",
       "    }\n",
       "</style>\n",
       "<table border=\"1\" class=\"dataframe\">\n",
       "  <thead>\n",
       "    <tr style=\"text-align: right;\">\n",
       "      <th></th>\n",
       "      <th>asin</th>\n",
       "      <th>description</th>\n",
       "      <th>shingles</th>\n",
       "      <th>similarity</th>\n",
       "    </tr>\n",
       "  </thead>\n",
       "  <tbody>\n",
       "    <tr>\n",
       "      <th>0</th>\n",
       "      <td>0001526146</td>\n",
       "      <td>lose game wait shine never seen righteou broken heart look back saw lord jesu river love hittin road never jesu got ta hold life save save save rise</td>\n",
       "      <td>[look back saw, never jesu got, river love hittin, never seen righteou, righteou broken heart, jesu river love, back saw lord, love hittin road, heart look back, lord jesu river, broken heart look, seen righteou broken, life save save, game wait shine, save save rise, ta hold life, road never je...</td>\n",
       "      <td>0.0</td>\n",
       "    </tr>\n",
       "    <tr>\n",
       "      <th>1</th>\n",
       "      <td>0545069882</td>\n",
       "      <td>spanish know gold edit learn spanish flash</td>\n",
       "      <td>[know gold edit, edit learn spanish, spanish know gold, learn spanish flash, gold edit learn]</td>\n",
       "      <td>0.0</td>\n",
       "    </tr>\n",
       "    <tr>\n",
       "      <th>2</th>\n",
       "      <td>0545109620</td>\n",
       "      <td>cd book long sinc vanish great condit classic</td>\n",
       "      <td>[sinc vanish great, long sinc vanish, cd book long, great condit classic, book long sinc, vanish great condit]</td>\n",
       "      <td>0.0</td>\n",
       "    </tr>\n",
       "    <tr>\n",
       "      <th>3</th>\n",
       "      <td>0615897398</td>\n",
       "      <td>season chang life slow forest join mindi friend bluebel wood scrabbl biggest juiciest blackberri carv silliest scariest jack lantern share true spirit give snow three whole day master storytel jacquelin houston bring mindi mousekin world aliv heartwarm tale fun adventur</td>\n",
       "      <td>[spirit give snow, give snow three, slow forest join, houston bring mindi, three whole day, true spirit give, day master storytel, jacquelin houston bring, snow three whole, silliest scariest jack, mousekin world aliv, mindi mousekin world, chang life slow, jack lantern share, bring mindi mousek...</td>\n",
       "      <td>0.0</td>\n",
       "    </tr>\n",
       "    <tr>\n",
       "      <th>4</th>\n",
       "      <td>0618866760</td>\n",
       "      <td>msica del mundo hispano audio cd includ authent music around spanish speak world lyric includ liner note</td>\n",
       "      <td>[includ authent music, music around spanish, around spanish speak, del mundo hispano, world lyric includ, lyric includ liner, speak world lyric, includ liner note, spanish speak world, audio cd includ, hispano audio cd, authent music around, msica del mundo, cd includ authent, mundo hispano audio]</td>\n",
       "      <td>0.0</td>\n",
       "    </tr>\n",
       "    <tr>\n",
       "      <th>...</th>\n",
       "      <td>...</td>\n",
       "      <td>...</td>\n",
       "      <td>...</td>\n",
       "      <td>...</td>\n",
       "    </tr>\n",
       "    <tr>\n",
       "      <th>16111</th>\n",
       "      <td>B01HDZM264</td>\n",
       "      <td>dub infus post punk nyu punk professor music label staubgold</td>\n",
       "      <td>[music label staubgold, punk nyu punk, punk professor music, professor music label, post punk nyu, infus post punk, nyu punk professor, dub infus post]</td>\n",
       "      <td>0.0</td>\n",
       "    </tr>\n",
       "    <tr>\n",
       "      <th>16112</th>\n",
       "      <td>B01HG2DW1I</td>\n",
       "      <td>track list butter ball zaq attack zona walk like guv sentiment pacif daylight trombon institut technolog san jose fog citi show crb trombon giant</td>\n",
       "      <td>[guv sentiment pacif, san jose fog, show crb trombon, walk like guv, track list butter, fog citi show, technolog san jose, jose fog citi, citi show crb, like guv sentiment, crb trombon giant, zaq attack zona, pacif daylight trombon, attack zona walk, institut technolog san, trombon institut tech...</td>\n",
       "      <td>0.0</td>\n",
       "    </tr>\n",
       "    <tr>\n",
       "      <th>16113</th>\n",
       "      <td>B01HH5R7LK</td>\n",
       "      <td>coldplay head full dream tour live etihad stadium manchest england june th cd intro head full dream yellow everi teardrop waterfal scientist bird paradis everglow lover japan magic clock midnight charli brown hymn weekend fix hero viva la vida cd adventur lifetim kaleidoscop troubl see soon amaz...</td>\n",
       "      <td>[manchest england june, lover japan magic, day sky full, nme award viva, cd intro head, weekend fix hero, teardrop waterfal scientist, viva la vida, midnight charli brown, paradis everglow lover, head full dream, live etihad stadium, troubl see soon, vida charli brown, magic clock midnight, etih...</td>\n",
       "      <td>0.0</td>\n",
       "    </tr>\n",
       "    <tr>\n",
       "      <th>16114</th>\n",
       "      <td>B01HH68B96</td>\n",
       "      <td>known live version that way life goe steam blacktop witha demo version superfici love sang hughi instead chri hick</td>\n",
       "      <td>[that way life, love sang hughi, demo version superfici, steam blacktop witha, superfici love sang, sang hughi instead, version superfici love, way life goe, instead chri hick, goe steam blacktop, blacktop witha demo, known live version, witha demo version, life goe steam, hughi instead chri, ve...</td>\n",
       "      <td>0.0</td>\n",
       "    </tr>\n",
       "    <tr>\n",
       "      <th>16115</th>\n",
       "      <td>B01HH7D5KU</td>\n",
       "      <td>free last southsid never gon lose purpl come southsid diamond africa southsid southsid compadr southsid march mad tarentino trap nigga southsid da fam da gram skit southsid night southsid total length</td>\n",
       "      <td>[mad tarentino trap, gram skit southsid, march mad tarentino, come southsid diamond, gon lose purpl, night southsid total, purpl come southsid, trap nigga southsid, lose purpl come, southsid total length, diamond africa southsid, da fam da, tarentino trap nigga, free last southsid, southsid diam...</td>\n",
       "      <td>0.0</td>\n",
       "    </tr>\n",
       "  </tbody>\n",
       "</table>\n",
       "<p>16115 rows × 4 columns</p>\n",
       "</div>"
      ],
      "text/plain": [
       "             asin  \\\n",
       "0      0001526146   \n",
       "1      0545069882   \n",
       "2      0545109620   \n",
       "3      0615897398   \n",
       "4      0618866760   \n",
       "...           ...   \n",
       "16111  B01HDZM264   \n",
       "16112  B01HG2DW1I   \n",
       "16113  B01HH5R7LK   \n",
       "16114  B01HH68B96   \n",
       "16115  B01HH7D5KU   \n",
       "\n",
       "                                                                                                                                                                                                                                                                                                       description  \\\n",
       "0                                                                                                                                                             lose game wait shine never seen righteou broken heart look back saw lord jesu river love hittin road never jesu got ta hold life save save save rise   \n",
       "1                                                                                                                                                                                                                                                                       spanish know gold edit learn spanish flash   \n",
       "2                                                                                                                                                                                                                                                                    cd book long sinc vanish great condit classic   \n",
       "3                                   season chang life slow forest join mindi friend bluebel wood scrabbl biggest juiciest blackberri carv silliest scariest jack lantern share true spirit give snow three whole day master storytel jacquelin houston bring mindi mousekin world aliv heartwarm tale fun adventur   \n",
       "4                                                                                                                                                                                                         msica del mundo hispano audio cd includ authent music around spanish speak world lyric includ liner note   \n",
       "...                                                                                                                                                                                                                                                                                                            ...   \n",
       "16111                                                                                                                                                                                                                                                 dub infus post punk nyu punk professor music label staubgold   \n",
       "16112                                                                                                                                                            track list butter ball zaq attack zona walk like guv sentiment pacif daylight trombon institut technolog san jose fog citi show crb trombon giant   \n",
       "16113  coldplay head full dream tour live etihad stadium manchest england june th cd intro head full dream yellow everi teardrop waterfal scientist bird paradis everglow lover japan magic clock midnight charli brown hymn weekend fix hero viva la vida cd adventur lifetim kaleidoscop troubl see soon amaz...   \n",
       "16114                                                                                                                                                                                           known live version that way life goe steam blacktop witha demo version superfici love sang hughi instead chri hick   \n",
       "16115                                                                                                     free last southsid never gon lose purpl come southsid diamond africa southsid southsid compadr southsid march mad tarentino trap nigga southsid da fam da gram skit southsid night southsid total length   \n",
       "\n",
       "                                                                                                                                                                                                                                                                                                          shingles  \\\n",
       "0      [look back saw, never jesu got, river love hittin, never seen righteou, righteou broken heart, jesu river love, back saw lord, love hittin road, heart look back, lord jesu river, broken heart look, seen righteou broken, life save save, game wait shine, save save rise, ta hold life, road never je...   \n",
       "1                                                                                                                                                                                                                    [know gold edit, edit learn spanish, spanish know gold, learn spanish flash, gold edit learn]   \n",
       "2                                                                                                                                                                                                   [sinc vanish great, long sinc vanish, cd book long, great condit classic, book long sinc, vanish great condit]   \n",
       "3      [spirit give snow, give snow three, slow forest join, houston bring mindi, three whole day, true spirit give, day master storytel, jacquelin houston bring, snow three whole, silliest scariest jack, mousekin world aliv, mindi mousekin world, chang life slow, jack lantern share, bring mindi mousek...   \n",
       "4       [includ authent music, music around spanish, around spanish speak, del mundo hispano, world lyric includ, lyric includ liner, speak world lyric, includ liner note, spanish speak world, audio cd includ, hispano audio cd, authent music around, msica del mundo, cd includ authent, mundo hispano audio]   \n",
       "...                                                                                                                                                                                                                                                                                                            ...   \n",
       "16111                                                                                                                                                      [music label staubgold, punk nyu punk, punk professor music, professor music label, post punk nyu, infus post punk, nyu punk professor, dub infus post]   \n",
       "16112  [guv sentiment pacif, san jose fog, show crb trombon, walk like guv, track list butter, fog citi show, technolog san jose, jose fog citi, citi show crb, like guv sentiment, crb trombon giant, zaq attack zona, pacif daylight trombon, attack zona walk, institut technolog san, trombon institut tech...   \n",
       "16113  [manchest england june, lover japan magic, day sky full, nme award viva, cd intro head, weekend fix hero, teardrop waterfal scientist, viva la vida, midnight charli brown, paradis everglow lover, head full dream, live etihad stadium, troubl see soon, vida charli brown, magic clock midnight, etih...   \n",
       "16114  [that way life, love sang hughi, demo version superfici, steam blacktop witha, superfici love sang, sang hughi instead, version superfici love, way life goe, instead chri hick, goe steam blacktop, blacktop witha demo, known live version, witha demo version, life goe steam, hughi instead chri, ve...   \n",
       "16115  [mad tarentino trap, gram skit southsid, march mad tarentino, come southsid diamond, gon lose purpl, night southsid total, purpl come southsid, trap nigga southsid, lose purpl come, southsid total length, diamond africa southsid, da fam da, tarentino trap nigga, free last southsid, southsid diam...   \n",
       "\n",
       "       similarity  \n",
       "0             0.0  \n",
       "1             0.0  \n",
       "2             0.0  \n",
       "3             0.0  \n",
       "4             0.0  \n",
       "...           ...  \n",
       "16111         0.0  \n",
       "16112         0.0  \n",
       "16113         0.0  \n",
       "16114         0.0  \n",
       "16115         0.0  \n",
       "\n",
       "[16115 rows x 4 columns]"
      ]
     },
     "execution_count": 392,
     "metadata": {},
     "output_type": "execute_result"
    }
   ],
   "source": [
    "# df_asin_description\n",
    "df_asin_description[\"similarity\"] = df_asin_description[\"shingles\"].apply(lambda x: similarity(set(user_description).intersection(set(x)), set(user_description).union(set(x))))\n",
    "df_asin_description\n"
   ]
  },
  {
   "cell_type": "markdown",
   "metadata": {},
   "source": [
    "Dataframe sorted by similarity"
   ]
  },
  {
   "cell_type": "code",
   "execution_count": 393,
   "metadata": {},
   "outputs": [
    {
     "data": {
      "text/html": [
       "<div>\n",
       "<style scoped>\n",
       "    .dataframe tbody tr th:only-of-type {\n",
       "        vertical-align: middle;\n",
       "    }\n",
       "\n",
       "    .dataframe tbody tr th {\n",
       "        vertical-align: top;\n",
       "    }\n",
       "\n",
       "    .dataframe thead th {\n",
       "        text-align: right;\n",
       "    }\n",
       "</style>\n",
       "<table border=\"1\" class=\"dataframe\">\n",
       "  <thead>\n",
       "    <tr style=\"text-align: right;\">\n",
       "      <th></th>\n",
       "      <th>asin</th>\n",
       "      <th>description</th>\n",
       "      <th>shingles</th>\n",
       "      <th>similarity</th>\n",
       "    </tr>\n",
       "  </thead>\n",
       "  <tbody>\n",
       "    <tr>\n",
       "      <th>12370</th>\n",
       "      <td>B006OFE6DM</td>\n",
       "      <td>let sound citi drown worri fall asleep symphoni taxi train muffl chatter passersbi sooth flow river breez citi sleep sound compil high qualiti audio track record live digit refin seamless minut peac background nois play loop sleep sound night long urban altern white nois machin make great gift c...</td>\n",
       "      <td>[com standard return, remind citi call, track record live, standard return polici, gift colleg student, urban altern white, citi call home, nois play loop, digit refin seamless, audio track record, white nois machin, flow river breez, peac background nois, make great gift, night long urban, taxi...</td>\n",
       "      <td>0.006579</td>\n",
       "    </tr>\n",
       "    <tr>\n",
       "      <th>10749</th>\n",
       "      <td>B00403MAFQ</td>\n",
       "      <td>koda kumi sing masterpiec love forev</td>\n",
       "      <td>[masterpiec love forev, koda kumi sing, kumi sing masterpiec, sing masterpiec love]</td>\n",
       "      <td>0.000000</td>\n",
       "    </tr>\n",
       "    <tr>\n",
       "      <th>10736</th>\n",
       "      <td>B003ZMJ7L8</td>\n",
       "      <td>cold brain electr music summer peopl altern version halo gold runner dial zero diamond bollock</td>\n",
       "      <td>[peopl altern version, summer peopl altern, version halo gold, music summer peopl, halo gold runner, dial zero diamond, brain electr music, electr music summer, altern version halo, gold runner dial, cold brain electr, runner dial zero, zero diamond bollock]</td>\n",
       "      <td>0.000000</td>\n",
       "    </tr>\n",
       "    <tr>\n",
       "      <th>10737</th>\n",
       "      <td>B003ZRDMI2</td>\n",
       "      <td>r want r like tom thumb blue live liverpool hawk may b side list record live liverpool england live perform never releas regular columbia album full color origin pictur sleev</td>\n",
       "      <td>[full color origin, liverpool hawk may, like tom thumb, want r like, list record live, tom thumb blue, liverpool england live, live perform never, releas regular columbia, regular columbia album, color origin pictur, side list record, never releas regular, album full color, live liverpool hawk, ...</td>\n",
       "      <td>0.000000</td>\n",
       "    </tr>\n",
       "    <tr>\n",
       "      <th>10738</th>\n",
       "      <td>B003ZTNT2O</td>\n",
       "      <td>three previou effort return grammi win israel houghton content rest accolad lift new banner love god love peopl record london legendari abbey road studio beatl pink floyd grammi award win produc tommi simm aaron lindsay houghton wave new banner profess quest see person love god love peopl</td>\n",
       "      <td>[studio beatl pink, road studio beatl, simm aaron lindsay, grammi win israel, pink floyd grammi, profess quest see, new banner profess, beatl pink floyd, quest see person, rest accolad lift, london legendari abbey, abbey road studio, houghton wave new, floyd grammi award, grammi award win, win i...</td>\n",
       "      <td>0.000000</td>\n",
       "    </tr>\n",
       "    <tr>\n",
       "      <th>...</th>\n",
       "      <td>...</td>\n",
       "      <td>...</td>\n",
       "      <td>...</td>\n",
       "      <td>...</td>\n",
       "    </tr>\n",
       "    <tr>\n",
       "      <th>5377</th>\n",
       "      <td>B000QW6EU2</td>\n",
       "      <td>audio cd nate huss</td>\n",
       "      <td>[cd nate huss, audio cd nate]</td>\n",
       "      <td>0.000000</td>\n",
       "    </tr>\n",
       "    <tr>\n",
       "      <th>5378</th>\n",
       "      <td>B000QW5SJK</td>\n",
       "      <td>old peopl whisper bossi man hit girl renaiss fair knock knock bug thrift store blue last time car flora fauna devil slow danc cat know place go sweet understand dragon pirat heart winter true delici</td>\n",
       "      <td>[girl renaiss fair, bug thrift store, knock knock bug, old peopl whisper, fauna devil slow, heart winter true, man hit girl, thrift store blue, winter true delici, peopl whisper bossi, bossi man hit, fair knock knock, time car flora, devil slow danc, place go sweet, sweet understand dragon, car ...</td>\n",
       "      <td>0.000000</td>\n",
       "    </tr>\n",
       "    <tr>\n",
       "      <th>5379</th>\n",
       "      <td>B000QWC89I</td>\n",
       "      <td>contain song like avalon look love mood indigo want littl girl</td>\n",
       "      <td>[look love mood, avalon look love, song like avalon, contain song like, love mood indigo, mood indigo want, indigo want littl, want littl girl, like avalon look]</td>\n",
       "      <td>0.000000</td>\n",
       "    </tr>\n",
       "    <tr>\n",
       "      <th>5380</th>\n",
       "      <td>B000QWBXNU</td>\n",
       "      <td>includ navi hymn day holi holi holi lead kindli light prais god bless flow fairest lord jesu nearer god thee onward christian soldier mighti fortress stand jesu old rug cross abid rock age friend jesu</td>\n",
       "      <td>[light prais god, age friend jesu, flow fairest lord, day holi holi, prais god bless, onward christian soldier, fortress stand jesu, nearer god thee, god bless flow, rug cross abid, cross abid rock, kindli light prais, christian soldier mighti, mighti fortress stand, includ navi hymn, hymn day h...</td>\n",
       "      <td>0.000000</td>\n",
       "    </tr>\n",
       "    <tr>\n",
       "      <th>16115</th>\n",
       "      <td>B01HH7D5KU</td>\n",
       "      <td>free last southsid never gon lose purpl come southsid diamond africa southsid southsid compadr southsid march mad tarentino trap nigga southsid da fam da gram skit southsid night southsid total length</td>\n",
       "      <td>[mad tarentino trap, gram skit southsid, march mad tarentino, come southsid diamond, gon lose purpl, night southsid total, purpl come southsid, trap nigga southsid, lose purpl come, southsid total length, diamond africa southsid, da fam da, tarentino trap nigga, free last southsid, southsid diam...</td>\n",
       "      <td>0.000000</td>\n",
       "    </tr>\n",
       "  </tbody>\n",
       "</table>\n",
       "<p>16115 rows × 4 columns</p>\n",
       "</div>"
      ],
      "text/plain": [
       "             asin  \\\n",
       "12370  B006OFE6DM   \n",
       "10749  B00403MAFQ   \n",
       "10736  B003ZMJ7L8   \n",
       "10737  B003ZRDMI2   \n",
       "10738  B003ZTNT2O   \n",
       "...           ...   \n",
       "5377   B000QW6EU2   \n",
       "5378   B000QW5SJK   \n",
       "5379   B000QWC89I   \n",
       "5380   B000QWBXNU   \n",
       "16115  B01HH7D5KU   \n",
       "\n",
       "                                                                                                                                                                                                                                                                                                       description  \\\n",
       "12370  let sound citi drown worri fall asleep symphoni taxi train muffl chatter passersbi sooth flow river breez citi sleep sound compil high qualiti audio track record live digit refin seamless minut peac background nois play loop sleep sound night long urban altern white nois machin make great gift c...   \n",
       "10749                                                                                                                                                                                                                                                                         koda kumi sing masterpiec love forev   \n",
       "10736                                                                                                                                                                                                               cold brain electr music summer peopl altern version halo gold runner dial zero diamond bollock   \n",
       "10737                                                                                                                               r want r like tom thumb blue live liverpool hawk may b side list record live liverpool england live perform never releas regular columbia album full color origin pictur sleev   \n",
       "10738            three previou effort return grammi win israel houghton content rest accolad lift new banner love god love peopl record london legendari abbey road studio beatl pink floyd grammi award win produc tommi simm aaron lindsay houghton wave new banner profess quest see person love god love peopl   \n",
       "...                                                                                                                                                                                                                                                                                                            ...   \n",
       "5377                                                                                                                                                                                                                                                                                            audio cd nate huss   \n",
       "5378                                                                                                        old peopl whisper bossi man hit girl renaiss fair knock knock bug thrift store blue last time car flora fauna devil slow danc cat know place go sweet understand dragon pirat heart winter true delici   \n",
       "5379                                                                                                                                                                                                                                                contain song like avalon look love mood indigo want littl girl   \n",
       "5380                                                                                                      includ navi hymn day holi holi holi lead kindli light prais god bless flow fairest lord jesu nearer god thee onward christian soldier mighti fortress stand jesu old rug cross abid rock age friend jesu   \n",
       "16115                                                                                                     free last southsid never gon lose purpl come southsid diamond africa southsid southsid compadr southsid march mad tarentino trap nigga southsid da fam da gram skit southsid night southsid total length   \n",
       "\n",
       "                                                                                                                                                                                                                                                                                                          shingles  \\\n",
       "12370  [com standard return, remind citi call, track record live, standard return polici, gift colleg student, urban altern white, citi call home, nois play loop, digit refin seamless, audio track record, white nois machin, flow river breez, peac background nois, make great gift, night long urban, taxi...   \n",
       "10749                                                                                                                                                                                                                          [masterpiec love forev, koda kumi sing, kumi sing masterpiec, sing masterpiec love]   \n",
       "10736                                           [peopl altern version, summer peopl altern, version halo gold, music summer peopl, halo gold runner, dial zero diamond, brain electr music, electr music summer, altern version halo, gold runner dial, cold brain electr, runner dial zero, zero diamond bollock]   \n",
       "10737  [full color origin, liverpool hawk may, like tom thumb, want r like, list record live, tom thumb blue, liverpool england live, live perform never, releas regular columbia, regular columbia album, color origin pictur, side list record, never releas regular, album full color, live liverpool hawk, ...   \n",
       "10738  [studio beatl pink, road studio beatl, simm aaron lindsay, grammi win israel, pink floyd grammi, profess quest see, new banner profess, beatl pink floyd, quest see person, rest accolad lift, london legendari abbey, abbey road studio, houghton wave new, floyd grammi award, grammi award win, win i...   \n",
       "...                                                                                                                                                                                                                                                                                                            ...   \n",
       "5377                                                                                                                                                                                                                                                                                 [cd nate huss, audio cd nate]   \n",
       "5378   [girl renaiss fair, bug thrift store, knock knock bug, old peopl whisper, fauna devil slow, heart winter true, man hit girl, thrift store blue, winter true delici, peopl whisper bossi, bossi man hit, fair knock knock, time car flora, devil slow danc, place go sweet, sweet understand dragon, car ...   \n",
       "5379                                                                                                                                             [look love mood, avalon look love, song like avalon, contain song like, love mood indigo, mood indigo want, indigo want littl, want littl girl, like avalon look]   \n",
       "5380   [light prais god, age friend jesu, flow fairest lord, day holi holi, prais god bless, onward christian soldier, fortress stand jesu, nearer god thee, god bless flow, rug cross abid, cross abid rock, kindli light prais, christian soldier mighti, mighti fortress stand, includ navi hymn, hymn day h...   \n",
       "16115  [mad tarentino trap, gram skit southsid, march mad tarentino, come southsid diamond, gon lose purpl, night southsid total, purpl come southsid, trap nigga southsid, lose purpl come, southsid total length, diamond africa southsid, da fam da, tarentino trap nigga, free last southsid, southsid diam...   \n",
       "\n",
       "       similarity  \n",
       "12370    0.006579  \n",
       "10749    0.000000  \n",
       "10736    0.000000  \n",
       "10737    0.000000  \n",
       "10738    0.000000  \n",
       "...           ...  \n",
       "5377     0.000000  \n",
       "5378     0.000000  \n",
       "5379     0.000000  \n",
       "5380     0.000000  \n",
       "16115    0.000000  \n",
       "\n",
       "[16115 rows x 4 columns]"
      ]
     },
     "execution_count": 393,
     "metadata": {},
     "output_type": "execute_result"
    }
   ],
   "source": [
    "\n",
    "df_asin_description.sort_values(by=\"similarity\", ascending=False, inplace=True)\n",
    "df_asin_description"
   ]
  },
  {
   "cell_type": "code",
   "execution_count": 394,
   "metadata": {},
   "outputs": [
    {
     "name": "stdout",
     "output_type": "stream",
     "text": [
      "Similarity of items\n",
      "12370    0.006579\n",
      "10749    0.000000\n",
      "10736    0.000000\n",
      "10737    0.000000\n",
      "10738    0.000000\n",
      "10739    0.000000\n",
      "10740    0.000000\n",
      "10741    0.000000\n",
      "10742    0.000000\n",
      "10743    0.000000\n",
      "10744    0.000000\n",
      "10745    0.000000\n",
      "10746    0.000000\n",
      "10747    0.000000\n",
      "10748    0.000000\n",
      "10750    0.000000\n",
      "10734    0.000000\n",
      "10751    0.000000\n",
      "10752    0.000000\n",
      "10753    0.000000\n",
      "Name: similarity, dtype: float64\n"
     ]
    }
   ],
   "source": [
    "print(\"Similarity of items\")\n",
    "print(df_asin_description.iloc[:20].similarity)"
   ]
  },
  {
   "cell_type": "markdown",
   "metadata": {},
   "source": [
    "### Create csv file with asin, description, emotion and similarity"
   ]
  },
  {
   "cell_type": "code",
   "execution_count": 395,
   "metadata": {},
   "outputs": [
    {
     "data": {
      "text/plain": [
       "Index(['asin', 'description', 'similarity'], dtype='object')"
      ]
     },
     "execution_count": 395,
     "metadata": {},
     "output_type": "execute_result"
    }
   ],
   "source": [
    "# from preprocess_data import html_url_hidden_chars\n",
    "df_similarity_scores.description = df_similarity_scores.description.apply(lambda x: html_url_hidden_chars(x))\n",
    "# df_similarity_scores.iloc[:2].description\n",
    "# (pd.merge(df1, df2, on='company')\n",
    "df_1 = df_similarity_scores[[\"asin\",\"description\"]].copy()\n",
    "df_2 = df_asin_description[[\"asin\",\"similarity\"]].copy()\n",
    "similarity_df = pd.merge(df_1, df_2, on='asin')\n",
    "# similarity_df = pd.merge(df_similarity_scores, df_asin_description, on='asin')\n",
    "similarity_df.columns\n",
    "# similarity_df.sort_values(by=\"similarity\", ascending=False, inplace=True)\n",
    "# similarity_df.head()"
   ]
  },
  {
   "cell_type": "code",
   "execution_count": 396,
   "metadata": {},
   "outputs": [
    {
     "data": {
      "text/html": [
       "<div>\n",
       "<style scoped>\n",
       "    .dataframe tbody tr th:only-of-type {\n",
       "        vertical-align: middle;\n",
       "    }\n",
       "\n",
       "    .dataframe tbody tr th {\n",
       "        vertical-align: top;\n",
       "    }\n",
       "\n",
       "    .dataframe thead th {\n",
       "        text-align: right;\n",
       "    }\n",
       "</style>\n",
       "<table border=\"1\" class=\"dataframe\">\n",
       "  <thead>\n",
       "    <tr style=\"text-align: right;\">\n",
       "      <th></th>\n",
       "      <th>asin</th>\n",
       "      <th>description</th>\n",
       "      <th>similarity</th>\n",
       "    </tr>\n",
       "  </thead>\n",
       "  <tbody>\n",
       "    <tr>\n",
       "      <th>0</th>\n",
       "      <td>0001526146</td>\n",
       "      <td>1. Losing Game 2. I Can't Wait 3. Didn't He Shine 4. Never Seen...Righteous... 5. A Broken Heart 6. Looking Back 7. Here We Are 8. I Saw The Lord 9. Jesus Is A River Of Love 10. Hittin' The Road 11. I've Never Been Out Of... 12. Jesus Gotta Hold Of My Life 13. Saved- Saved- Saved 14. What Will Y...</td>\n",
       "      <td>0.0</td>\n",
       "    </tr>\n",
       "    <tr>\n",
       "      <th>1</th>\n",
       "      <td>0545069882</td>\n",
       "      <td>Spanish Before You Know It - Gold Edition. Learn Spanish in a Flash!</td>\n",
       "      <td>0.0</td>\n",
       "    </tr>\n",
       "    <tr>\n",
       "      <th>2</th>\n",
       "      <td>0545109620</td>\n",
       "      <td>Just the CD. The Book has long since vanished. I great condition and it is a classic.</td>\n",
       "      <td>0.0</td>\n",
       "    </tr>\n",
       "    <tr>\n",
       "      <th>3</th>\n",
       "      <td>0615897398</td>\n",
       "      <td>The seasons are changing and life slows down in the forest. Or does it? Join Mindy and her friends in Bluebell Woods as they scrabble for the biggest, juiciest blackberries ... carve the silliest and scariest jack-o-lanterns ... and share the true spirit of giving when they're snowed in for thre...</td>\n",
       "      <td>0.0</td>\n",
       "    </tr>\n",
       "    <tr>\n",
       "      <th>4</th>\n",
       "      <td>0618866760</td>\n",
       "      <td>The Msica del mundo hispano Audio CD includes authentic music from around the Spanish-speaking world. Lyrics are included in the liner notes.</td>\n",
       "      <td>0.0</td>\n",
       "    </tr>\n",
       "  </tbody>\n",
       "</table>\n",
       "</div>"
      ],
      "text/plain": [
       "         asin  \\\n",
       "0  0001526146   \n",
       "1  0545069882   \n",
       "2  0545109620   \n",
       "3  0615897398   \n",
       "4  0618866760   \n",
       "\n",
       "                                                                                                                                                                                                                                                                                                   description  \\\n",
       "0  1. Losing Game 2. I Can't Wait 3. Didn't He Shine 4. Never Seen...Righteous... 5. A Broken Heart 6. Looking Back 7. Here We Are 8. I Saw The Lord 9. Jesus Is A River Of Love 10. Hittin' The Road 11. I've Never Been Out Of... 12. Jesus Gotta Hold Of My Life 13. Saved- Saved- Saved 14. What Will Y...   \n",
       "1                                                                                                                                                                                                                                         Spanish Before You Know It - Gold Edition. Learn Spanish in a Flash!   \n",
       "2                                                                                                                                                                                                                        Just the CD. The Book has long since vanished. I great condition and it is a classic.   \n",
       "3  The seasons are changing and life slows down in the forest. Or does it? Join Mindy and her friends in Bluebell Woods as they scrabble for the biggest, juiciest blackberries ... carve the silliest and scariest jack-o-lanterns ... and share the true spirit of giving when they're snowed in for thre...   \n",
       "4                                                                                                                                                                The Msica del mundo hispano Audio CD includes authentic music from around the Spanish-speaking world. Lyrics are included in the liner notes.   \n",
       "\n",
       "   similarity  \n",
       "0         0.0  \n",
       "1         0.0  \n",
       "2         0.0  \n",
       "3         0.0  \n",
       "4         0.0  "
      ]
     },
     "execution_count": 396,
     "metadata": {},
     "output_type": "execute_result"
    }
   ],
   "source": [
    "similarity_df.head()"
   ]
  },
  {
   "cell_type": "code",
   "execution_count": 397,
   "metadata": {},
   "outputs": [
    {
     "data": {
      "text/html": [
       "<div>\n",
       "<style scoped>\n",
       "    .dataframe tbody tr th:only-of-type {\n",
       "        vertical-align: middle;\n",
       "    }\n",
       "\n",
       "    .dataframe tbody tr th {\n",
       "        vertical-align: top;\n",
       "    }\n",
       "\n",
       "    .dataframe thead th {\n",
       "        text-align: right;\n",
       "    }\n",
       "</style>\n",
       "<table border=\"1\" class=\"dataframe\">\n",
       "  <thead>\n",
       "    <tr style=\"text-align: right;\">\n",
       "      <th></th>\n",
       "      <th>asin</th>\n",
       "      <th>description</th>\n",
       "      <th>similarity</th>\n",
       "    </tr>\n",
       "  </thead>\n",
       "  <tbody>\n",
       "    <tr>\n",
       "      <th>13932</th>\n",
       "      <td>B006OFE6DM</td>\n",
       "      <td>Let the sounds of the city drown out your worries, and fall asleep to the symphony of taxis and trains, the muffled chatter of passersby, and the soothing flow of rivers and the breeze.City Sleep Sounds is a compilation of 10 high-quality audio tracks recorded live and digitally refined for a se...</td>\n",
       "      <td>0.006579</td>\n",
       "    </tr>\n",
       "    <tr>\n",
       "      <th>11783</th>\n",
       "      <td>B00347DMN8</td>\n",
       "      <td>LP - The Lettermen She Cried 1964 T 2142 Capitol Records Label; Mono version</td>\n",
       "      <td>0.000000</td>\n",
       "    </tr>\n",
       "    <tr>\n",
       "      <th>11789</th>\n",
       "      <td>B0034Z3AZ0</td>\n",
       "      <td>RELEASED 2009. TONY IS ONE OF IRELAND'S COUNTRY LEGENDS,</td>\n",
       "      <td>0.000000</td>\n",
       "    </tr>\n",
       "    <tr>\n",
       "      <th>11788</th>\n",
       "      <td>B0034V1WPY</td>\n",
       "      <td>The Best Of Judy Garland  This mono 2-LP Record album was released as MCA Records MCA2-4003 in 1980...this album is a reissue of the original released as Decca DXP 7172 and the set with same MCA number in 1973.  Judy Garland (vocals) sings on these tracks recorded between 1937 and 1945.  The tra...</td>\n",
       "      <td>0.000000</td>\n",
       "    </tr>\n",
       "    <tr>\n",
       "      <th>11787</th>\n",
       "      <td>B0034UOSJC</td>\n",
       "      <td>This 45 record includes the songs \"One and The Prince\" performed by Metallica part of their And Justice For All album. Released in 1988.</td>\n",
       "      <td>0.000000</td>\n",
       "    </tr>\n",
       "  </tbody>\n",
       "</table>\n",
       "</div>"
      ],
      "text/plain": [
       "             asin  \\\n",
       "13932  B006OFE6DM   \n",
       "11783  B00347DMN8   \n",
       "11789  B0034Z3AZ0   \n",
       "11788  B0034V1WPY   \n",
       "11787  B0034UOSJC   \n",
       "\n",
       "                                                                                                                                                                                                                                                                                                       description  \\\n",
       "13932  Let the sounds of the city drown out your worries, and fall asleep to the symphony of taxis and trains, the muffled chatter of passersby, and the soothing flow of rivers and the breeze.City Sleep Sounds is a compilation of 10 high-quality audio tracks recorded live and digitally refined for a se...   \n",
       "11783                                                                                                                                                                                                                                 LP - The Lettermen She Cried 1964 T 2142 Capitol Records Label; Mono version   \n",
       "11789                                                                                                                                                                                                                                                     RELEASED 2009. TONY IS ONE OF IRELAND'S COUNTRY LEGENDS,   \n",
       "11788  The Best Of Judy Garland  This mono 2-LP Record album was released as MCA Records MCA2-4003 in 1980...this album is a reissue of the original released as Decca DXP 7172 and the set with same MCA number in 1973.  Judy Garland (vocals) sings on these tracks recorded between 1937 and 1945.  The tra...   \n",
       "11787                                                                                                                                                                     This 45 record includes the songs \"One and The Prince\" performed by Metallica part of their And Justice For All album. Released in 1988.   \n",
       "\n",
       "       similarity  \n",
       "13932    0.006579  \n",
       "11783    0.000000  \n",
       "11789    0.000000  \n",
       "11788    0.000000  \n",
       "11787    0.000000  "
      ]
     },
     "execution_count": 397,
     "metadata": {},
     "output_type": "execute_result"
    }
   ],
   "source": [
    "similarity_dfd = similarity_df.sort_values(by=\"similarity\", ascending=False, inplace=False)\n",
    "similarity_dfd.head()"
   ]
  },
  {
   "cell_type": "code",
   "execution_count": 398,
   "metadata": {},
   "outputs": [],
   "source": [
    "similarity_dfd.iloc[:30].to_csv(\"similarity_results.csv\", sep='\\t')"
   ]
  },
  {
   "cell_type": "markdown",
   "metadata": {},
   "source": [
    "## Adding clustering based on users reviews"
   ]
  },
  {
   "cell_type": "code",
   "execution_count": 402,
   "metadata": {},
   "outputs": [],
   "source": [
    "# Imports\n",
    "import json\n",
    "import gzip\n",
    "import os\n",
    "import pandas as pd\n",
    "from scipy.sparse import dok_matrix\n",
    "from sklearn.decomposition import NMF\n",
    "from sklearn.metrics.pairwise import cosine_similarity\n",
    "from collections import Counter"
   ]
  },
  {
   "cell_type": "code",
   "execution_count": 403,
   "metadata": {},
   "outputs": [
    {
     "ename": "TypeError",
     "evalue": "issubclass() arg 1 must be a class",
     "output_type": "error",
     "traceback": [
      "\u001b[0;31m---------------------------------------------------------------------------\u001b[0m",
      "\u001b[0;31mTypeError\u001b[0m                                 Traceback (most recent call last)",
      "File \u001b[0;32m~/anaconda3/envs/myenv/lib/python3.10/site-packages/pandas/io/pickle.py:206\u001b[0m, in \u001b[0;36mread_pickle\u001b[0;34m(filepath_or_buffer, compression, storage_options)\u001b[0m\n\u001b[1;32m    205\u001b[0m         warnings\u001b[39m.\u001b[39msimplefilter(\u001b[39m\"\u001b[39m\u001b[39mignore\u001b[39m\u001b[39m\"\u001b[39m, \u001b[39mWarning\u001b[39;00m)\n\u001b[0;32m--> 206\u001b[0m         \u001b[39mreturn\u001b[39;00m pickle\u001b[39m.\u001b[39;49mload(handles\u001b[39m.\u001b[39;49mhandle)\n\u001b[1;32m    207\u001b[0m \u001b[39mexcept\u001b[39;00m excs_to_catch:\n\u001b[1;32m    208\u001b[0m     \u001b[39m# e.g.\u001b[39;00m\n\u001b[1;32m    209\u001b[0m     \u001b[39m#  \"No module named 'pandas.core.sparse.series'\"\u001b[39;00m\n\u001b[1;32m    210\u001b[0m     \u001b[39m#  \"Can't get attribute '__nat_unpickle' on <module 'pandas._libs.tslib\"\u001b[39;00m\n",
      "File \u001b[0;32m~/anaconda3/envs/myenv/lib/python3.10/site-packages/pandas/core/internals/blocks.py:2400\u001b[0m, in \u001b[0;36mnew_block\u001b[0;34m(values, placement, ndim, refs)\u001b[0m\n\u001b[1;32m   2399\u001b[0m klass \u001b[39m=\u001b[39m get_block_type(values\u001b[39m.\u001b[39mdtype)\n\u001b[0;32m-> 2400\u001b[0m \u001b[39mreturn\u001b[39;00m klass(values, ndim\u001b[39m=\u001b[39;49mndim, placement\u001b[39m=\u001b[39;49mplacement, refs\u001b[39m=\u001b[39;49mrefs)\n",
      "\u001b[0;31mTypeError\u001b[0m: Argument 'placement' has incorrect type (expected pandas._libs.internals.BlockPlacement, got slice)",
      "\nDuring handling of the above exception, another exception occurred:\n",
      "\u001b[0;31mTypeError\u001b[0m                                 Traceback (most recent call last)",
      "File \u001b[0;32m~/anaconda3/envs/myenv/lib/python3.10/site-packages/pandas/compat/pickle_compat.py:35\u001b[0m, in \u001b[0;36mload_reduce\u001b[0;34m(self)\u001b[0m\n\u001b[1;32m     34\u001b[0m \u001b[39mtry\u001b[39;00m:\n\u001b[0;32m---> 35\u001b[0m     stack[\u001b[39m-\u001b[39m\u001b[39m1\u001b[39m] \u001b[39m=\u001b[39m func(\u001b[39m*\u001b[39;49margs)\n\u001b[1;32m     36\u001b[0m     \u001b[39mreturn\u001b[39;00m\n",
      "File \u001b[0;32m~/anaconda3/envs/myenv/lib/python3.10/site-packages/pandas/core/internals/blocks.py:2400\u001b[0m, in \u001b[0;36mnew_block\u001b[0;34m(values, placement, ndim, refs)\u001b[0m\n\u001b[1;32m   2399\u001b[0m klass \u001b[39m=\u001b[39m get_block_type(values\u001b[39m.\u001b[39mdtype)\n\u001b[0;32m-> 2400\u001b[0m \u001b[39mreturn\u001b[39;00m klass(values, ndim\u001b[39m=\u001b[39;49mndim, placement\u001b[39m=\u001b[39;49mplacement, refs\u001b[39m=\u001b[39;49mrefs)\n",
      "\u001b[0;31mTypeError\u001b[0m: Argument 'placement' has incorrect type (expected pandas._libs.internals.BlockPlacement, got slice)",
      "\nDuring handling of the above exception, another exception occurred:\n",
      "\u001b[0;31mTypeError\u001b[0m                                 Traceback (most recent call last)",
      "\u001b[1;32m/Users/ariannabianchi/Desktop/Group7-DataScience/main_updated.ipynb Cell 49\u001b[0m line \u001b[0;36m2\n\u001b[1;32m      <a href='vscode-notebook-cell:/Users/ariannabianchi/Desktop/Group7-DataScience/main_updated.ipynb#Y321sZmlsZQ%3D%3D?line=0'>1</a>\u001b[0m \u001b[39m# Loading the df example\u001b[39;00m\n\u001b[0;32m----> <a href='vscode-notebook-cell:/Users/ariannabianchi/Desktop/Group7-DataScience/main_updated.ipynb#Y321sZmlsZQ%3D%3D?line=1'>2</a>\u001b[0m df \u001b[39m=\u001b[39m pd\u001b[39m.\u001b[39;49mread_pickle(\u001b[39m'\u001b[39;49m\u001b[39mdf_example.pkl\u001b[39;49m\u001b[39m'\u001b[39;49m)\n",
      "File \u001b[0;32m~/anaconda3/envs/myenv/lib/python3.10/site-packages/pandas/io/pickle.py:211\u001b[0m, in \u001b[0;36mread_pickle\u001b[0;34m(filepath_or_buffer, compression, storage_options)\u001b[0m\n\u001b[1;32m    206\u001b[0m             \u001b[39mreturn\u001b[39;00m pickle\u001b[39m.\u001b[39mload(handles\u001b[39m.\u001b[39mhandle)\n\u001b[1;32m    207\u001b[0m     \u001b[39mexcept\u001b[39;00m excs_to_catch:\n\u001b[1;32m    208\u001b[0m         \u001b[39m# e.g.\u001b[39;00m\n\u001b[1;32m    209\u001b[0m         \u001b[39m#  \"No module named 'pandas.core.sparse.series'\"\u001b[39;00m\n\u001b[1;32m    210\u001b[0m         \u001b[39m#  \"Can't get attribute '__nat_unpickle' on <module 'pandas._libs.tslib\"\u001b[39;00m\n\u001b[0;32m--> 211\u001b[0m         \u001b[39mreturn\u001b[39;00m pc\u001b[39m.\u001b[39;49mload(handles\u001b[39m.\u001b[39;49mhandle, encoding\u001b[39m=\u001b[39;49m\u001b[39mNone\u001b[39;49;00m)\n\u001b[1;32m    212\u001b[0m \u001b[39mexcept\u001b[39;00m \u001b[39mUnicodeDecodeError\u001b[39;00m:\n\u001b[1;32m    213\u001b[0m     \u001b[39m# e.g. can occur for files written in py27; see GH#28645 and GH#31988\u001b[39;00m\n\u001b[1;32m    214\u001b[0m     \u001b[39mreturn\u001b[39;00m pc\u001b[39m.\u001b[39mload(handles\u001b[39m.\u001b[39mhandle, encoding\u001b[39m=\u001b[39m\u001b[39m\"\u001b[39m\u001b[39mlatin-1\u001b[39m\u001b[39m\"\u001b[39m)\n",
      "File \u001b[0;32m~/anaconda3/envs/myenv/lib/python3.10/site-packages/pandas/compat/pickle_compat.py:225\u001b[0m, in \u001b[0;36mload\u001b[0;34m(fh, encoding, is_verbose)\u001b[0m\n\u001b[1;32m    222\u001b[0m     \u001b[39m# \"Unpickler\" has no attribute \"is_verbose\"  [attr-defined]\u001b[39;00m\n\u001b[1;32m    223\u001b[0m     up\u001b[39m.\u001b[39mis_verbose \u001b[39m=\u001b[39m is_verbose  \u001b[39m# type: ignore[attr-defined]\u001b[39;00m\n\u001b[0;32m--> 225\u001b[0m     \u001b[39mreturn\u001b[39;00m up\u001b[39m.\u001b[39;49mload()\n\u001b[1;32m    226\u001b[0m \u001b[39mexcept\u001b[39;00m (\u001b[39mValueError\u001b[39;00m, \u001b[39mTypeError\u001b[39;00m):\n\u001b[1;32m    227\u001b[0m     \u001b[39mraise\u001b[39;00m\n",
      "File \u001b[0;32m~/anaconda3/envs/myenv/lib/python3.10/pickle.py:1213\u001b[0m, in \u001b[0;36m_Unpickler.load\u001b[0;34m(self)\u001b[0m\n\u001b[1;32m   1211\u001b[0m             \u001b[39mraise\u001b[39;00m \u001b[39mEOFError\u001b[39;00m\n\u001b[1;32m   1212\u001b[0m         \u001b[39massert\u001b[39;00m \u001b[39misinstance\u001b[39m(key, bytes_types)\n\u001b[0;32m-> 1213\u001b[0m         dispatch[key[\u001b[39m0\u001b[39;49m]](\u001b[39mself\u001b[39;49m)\n\u001b[1;32m   1214\u001b[0m \u001b[39mexcept\u001b[39;00m _Stop \u001b[39mas\u001b[39;00m stopinst:\n\u001b[1;32m   1215\u001b[0m     \u001b[39mreturn\u001b[39;00m stopinst\u001b[39m.\u001b[39mvalue\n",
      "File \u001b[0;32m~/anaconda3/envs/myenv/lib/python3.10/site-packages/pandas/compat/pickle_compat.py:55\u001b[0m, in \u001b[0;36mload_reduce\u001b[0;34m(self)\u001b[0m\n\u001b[1;32m     53\u001b[0m     stack[\u001b[39m-\u001b[39m\u001b[39m1\u001b[39m] \u001b[39m=\u001b[39m \u001b[39mcls\u001b[39m\u001b[39m.\u001b[39m\u001b[39m__new__\u001b[39m(\u001b[39m*\u001b[39margs)\n\u001b[1;32m     54\u001b[0m     \u001b[39mreturn\u001b[39;00m\n\u001b[0;32m---> 55\u001b[0m \u001b[39melif\u001b[39;00m args \u001b[39mand\u001b[39;00m \u001b[39missubclass\u001b[39;49m(args[\u001b[39m0\u001b[39;49m], PeriodArray):\n\u001b[1;32m     56\u001b[0m     \u001b[39mcls\u001b[39m \u001b[39m=\u001b[39m args[\u001b[39m0\u001b[39m]\n\u001b[1;32m     57\u001b[0m     stack[\u001b[39m-\u001b[39m\u001b[39m1\u001b[39m] \u001b[39m=\u001b[39m NDArrayBacked\u001b[39m.\u001b[39m\u001b[39m__new__\u001b[39m(\u001b[39m*\u001b[39margs)\n",
      "\u001b[0;31mTypeError\u001b[0m: issubclass() arg 1 must be a class"
     ]
    }
   ],
   "source": [
    "# Loading the df example\n",
    "df = pd.read_pickle('df_example.pkl')"
   ]
  },
  {
   "cell_type": "code",
   "execution_count": null,
   "metadata": {},
   "outputs": [],
   "source": [
    "import numpy as np\n",
    "\n",
    "# Download dataset if it is not downloaded yet\n",
    "if not os.path.exists('Dataset/Digital_Music.json.gz'):\n",
    "    !wget https://datarepo.eng.ucsd.edu/mcauley_group/data/amazon_v2/categoryFilesSmall/Digital_Music.json.gz -P ./Dataset\n",
    "else:\n",
    "    print('Dataset already downloaded.')"
   ]
  },
  {
   "cell_type": "markdown",
   "metadata": {},
   "source": [
    "### Unpacking the reviews dataset and getting only the ratings"
   ]
  },
  {
   "cell_type": "code",
   "execution_count": null,
   "metadata": {},
   "outputs": [],
   "source": [
    "data = []\n",
    "with gzip.open('Dataset/Digital_Music.json.gz') as f:\n",
    "    for l in f:\n",
    "        data.append(json.loads(l.strip()))\n",
    "    \n",
    "# Total length of list, this number equals total number of products\n",
    "print(\"Total number of items in the dataset: \", len(data))\n",
    "# Convert list into pandas dataframe\n",
    "df_rating = pd.DataFrame.from_dict(data)\n",
    "df_rating = df_rating[['overall', 'reviewerID', 'asin']]"
   ]
  },
  {
   "cell_type": "markdown",
   "metadata": {},
   "source": [
    "### Filters used for narrowing down the user reviews\n",
    "* Using only products from the previous parts (they must have defined the description, etc.)\n",
    "* Using only 'positive' reviews (overall rating > 3)\n",
    "* Using only users with more than 1 review"
   ]
  },
  {
   "cell_type": "code",
   "execution_count": null,
   "metadata": {},
   "outputs": [],
   "source": [
    "# Get all of the used products 'asin' (unique identifier)\n",
    "unique_asin = set(df.asin)\n",
    "# Filter out only products which are used in previous parts\n",
    "idxs = [df_rating.asin[i] in unique_asin for i in range(len(df_rating))]\n",
    "# Filter out only 'positive' reviews (overall >= 3)\n",
    "positive_ratings = df_rating.overall >= 3\n",
    "# Filter out only users with more than 1 review\n",
    "unique_user = [key for key, value in Counter(df_rating.reviewerID).items() if value > 1]\n",
    "experienced_users = df_rating.reviewerID.isin(unique_user)\n",
    "# Putting all filters together\n",
    "all_filters = idxs * np.array(positive_ratings) * np.array(experienced_users)\n",
    "\n",
    "# Applying the filters\n",
    "df_rating = df_rating[all_filters]\n",
    "\n",
    "# Update the set of rated products\n",
    "unique_asin = set(df_rating.asin)\n",
    "unique_user = set(df_rating.reviewerID)\n",
    "print('Number of users: ', len(unique_user))\n",
    "print('Number of products: ', len(unique_asin))"
   ]
  },
  {
   "cell_type": "code",
   "execution_count": null,
   "metadata": {},
   "outputs": [],
   "source": [
    "# Create dicts, which maps user id (product asin) -> number (index in matrix) and the other way around\n",
    "product2idx = {}\n",
    "idx2product = []\n",
    "user2idx = {}\n",
    "idx2user = []\n",
    "for idx, product in enumerate(unique_asin):\n",
    "    product2idx[product] = idx\n",
    "    idx2product.append(product)\n",
    "for idx, user in enumerate(unique_user):\n",
    "    user2idx[user] = idx\n",
    "    idx2user.append(user)\n",
    "# Create sparse matrix, where rows contain users and each column represents one product\n",
    "product_user_matrix = dok_matrix((len(user2idx), len(product2idx)), dtype=np.float16)\n",
    "for _, row in df_rating.iterrows():\n",
    "    product_user_matrix[user2idx[row.reviewerID], product2idx[row.asin]] = 1\n",
    "print('Matrix size: ', product_user_matrix.shape)"
   ]
  },
  {
   "cell_type": "markdown",
   "metadata": {},
   "source": [
    "### Applying clustering algo"
   ]
  },
  {
   "cell_type": "code",
   "execution_count": null,
   "metadata": {},
   "outputs": [],
   "source": [
    "# Perform NMF to get clusters\n",
    "model = NMF(n_components=10, verbose=True, max_iter=1000, random_state=42)\n",
    "W = model.fit_transform(product_user_matrix)\n",
    "H = model.components_"
   ]
  },
  {
   "cell_type": "code",
   "execution_count": null,
   "metadata": {},
   "outputs": [],
   "source": [
    "# Check that there is not a product which is not assigned to any cluster\n",
    "non_zeros_cols = np.count_nonzero(H, axis=0)\n",
    "print((non_zeros_cols > 0).sum() == len(unique_asin))\n",
    "# Transposing the H matrix\n",
    "H = H.transpose()"
   ]
  },
  {
   "cell_type": "code",
   "execution_count": null,
   "metadata": {},
   "outputs": [],
   "source": [
    "# Normalizing the H matrix and applying cosine similarity\n",
    "row_sums = H.sum(axis=1)\n",
    "H_normalized = H / row_sums[:, np.newaxis]\n",
    "similarities = cosine_similarity(H_normalized)"
   ]
  },
  {
   "cell_type": "code",
   "execution_count": null,
   "metadata": {},
   "outputs": [],
   "source": [
    "n = 5\n",
    "suggested_product_idx = 42\n",
    "suggested_product = idx2product[suggested_product_idx]\n",
    "# Getting the index of 5 nearest neighbors\n",
    "ind = np.argpartition(similarities[:, suggested_product_idx], -n)[-n:]\n",
    "# Check for the same product\n",
    "if suggested_product_idx in ind:\n",
    "    ind = np.argpartition(similarities[:, suggested_product_idx], -n-1)[-n-1:]\n",
    "    ind = np.delete(ind, np.where(ind == suggested_product_idx))"
   ]
  },
  {
   "cell_type": "code",
   "execution_count": null,
   "metadata": {},
   "outputs": [],
   "source": [
    "# Suggested product description\n",
    "df.loc[df.asin == idx2product[suggested_product_idx]].description"
   ]
  },
  {
   "cell_type": "code",
   "execution_count": null,
   "metadata": {},
   "outputs": [],
   "source": [
    "# 5 nearest neighbors description\n",
    "df.loc[df.asin.isin([idx2product[i] for i in ind])].description"
   ]
  }
 ],
 "metadata": {
  "kernelspec": {
   "display_name": "computationaltool",
   "language": "python",
   "name": "python3"
  },
  "language_info": {
   "codemirror_mode": {
    "name": "ipython",
    "version": 3
   },
   "file_extension": ".py",
   "mimetype": "text/x-python",
   "name": "python",
   "nbconvert_exporter": "python",
   "pygments_lexer": "ipython3",
   "version": "3.10.0"
  }
 },
 "nbformat": 4,
 "nbformat_minor": 2
}
